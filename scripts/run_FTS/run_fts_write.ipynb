{
 "cells": [
  {
   "cell_type": "code",
<<<<<<< .mine
   "execution_count": 1,
=======
   "execution_count": 29,
>>>>>>> .r562
   "metadata": {},
   "outputs": [
    {
     "name": "stdout",
     "output_type": "stream",
     "text": [
      "Using matplotlib backend: MacOSX\n",
      "Populating the interactive namespace from numpy and matplotlib\n"
     ]
    }
   ],
   "source": [
    "%reload_ext autoreload\n",
    "%autoreload 2\n",
    "%pylab\n",
    "import serial\n",
    "import time\n",
    "import pickle\n",
    "import sys\n",
    "import matplotlib.pyplot as plt\n",
    "import zaber_commands as zc\n",
    "import labjack_commands as lj\n",
    "from fts_scan import fts_scan\n",
    "import numpy as np"
   ]
  },
  {
   "cell_type": "markdown",
   "metadata": {},
   "source": [
    "Initialize LabJack ADC"
   ]
  },
  {
   "cell_type": "code",
<<<<<<< .mine
   "execution_count": 2,
=======
   "execution_count": 30,
>>>>>>> .r562
   "metadata": {},
   "outputs": [
    {
     "data": {
      "text/plain": [
<<<<<<< .mine
       "<u6.U6 at 0x106861e90>"
=======
       "<u6.U6 at 0x11f8f6f50>"
>>>>>>> .r562
      ]
     },
<<<<<<< .mine
     "execution_count": 2,
=======
     "execution_count": 30,
>>>>>>> .r562
     "metadata": {},
     "output_type": "execute_result"
    }
   ],
   "source": [
    "d = lj.init_labjack()\n",
    "d"
   ]
  },
  {
   "cell_type": "markdown",
   "metadata": {},
   "source": [
    "Open serial port for Zaber stage"
   ]
  },
  {
   "cell_type": "code",
   "execution_count": 31,
   "metadata": {},
   "outputs": [
    {
     "name": "stdout",
     "output_type": "stream",
     "text": [
<<<<<<< .mine
      "('Serial port ', '/dev/tty.usbmodem1411', ' was opened')\n"
=======
      "Serial port  /dev/tty.usbmodem1411  was opened\n",
      "Device serial number: 44248\n"
>>>>>>> .r562
     ]
    }
   ],
   "source": [
    "#dev = '/dev/tty.usbmodem1421'\n",
    "dev = '/dev/tty.usbmodem1411'\n",
    "#dev = \"COM4\"\n",
    "ser,err = zc.init_zaber(dev)"
   ]
  },
  {
   "cell_type": "markdown",
   "metadata": {},
   "source": [
    "Set scan parameters and run name"
   ]
  },
  {
   "cell_type": "code",
<<<<<<< .mine
   "execution_count": 4,
   "metadata": {
    "collapsed": true
   },
=======
   "execution_count": 32,
   "metadata": {
    "collapsed": true
   },
>>>>>>> .r562
   "outputs": [],
   "source": [
    "run_name = 'FTS2_shimmed_septum_chopped_ref3'\n",
    "niter = 1\n",
    "max_d = 50. #mm\n",
    "speed = 20. #mm/s\n",
    "max_nu = 300. # GHz\n",
    "accel = 10000. # mm/s^2\n",
    "oversample = 16\n",
    "gain = 1    # 0 is -10V to 10V\n",
    "            # 1 is -1V to 1V\n",
    "            # 2 is -0.1V to 0.1V\n",
    "            # 3 is -10 mV to 10 mV"
   ]
  },
  {
   "cell_type": "markdown",
   "metadata": {},
   "source": [
    "Run the scan and write file"
   ]
  },
  {
   "cell_type": "code",
<<<<<<< .mine
   "execution_count": 5,
   "metadata": {
    "collapsed": true
   },
=======
   "execution_count": 33,
   "metadata": {
    "collapsed": true
   },
>>>>>>> .r562
   "outputs": [],
   "source": [
    "err,data=fts_scan(run_name,\n",
    "                  niter,\n",
    "                  max_d,\n",
    "                  speed,\n",
    "                  max_nu,\n",
    "                  oversample,\n",
    "                  gain,\n",
    "                  ser,\n",
    "                  d)"
   ]
  },
  {
   "cell_type": "code",
<<<<<<< .mine
   "execution_count": 7,
=======
   "execution_count": 34,
>>>>>>> .r562
   "metadata": {},
<<<<<<< .mine
   "outputs": [
    {
     "data": {
      "text/plain": [
       "['wlf0R',\n",
       " 'run',\n",
       " 'iterations',\n",
       " 'wlf0F',\n",
       " 'oversample',\n",
       " 'ADC gain',\n",
       " 'delay0F',\n",
       " 'scan time',\n",
       " 'dx',\n",
       " 'delay0R',\n",
       " 'scan start struct_time',\n",
       " 'speed',\n",
       " 'acceleration',\n",
       " 'max_d',\n",
       " 'sample freq',\n",
       " 'sig0R',\n",
       " 'scan0F',\n",
       " 'acc time',\n",
       " 'max_nu',\n",
       " 'samples requested',\n",
       " 'sig0F',\n",
       " 'scan0R']"
      ]
     },
     "execution_count": 7,
     "metadata": {},
     "output_type": "execute_result"
    }
   ],
=======
   "outputs": [
    {
     "data": {
      "text/plain": [
       "['wlf0R',\n",
       " 'run',\n",
       " 'iterations',\n",
       " 'wlf0F',\n",
       " 'oversample',\n",
       " 'ADC gain',\n",
       " 'delay0F',\n",
       " 'scan time',\n",
       " 'dx',\n",
       " 'delay0R',\n",
       " 'scan start struct_time',\n",
       " 'speed',\n",
       " 'acceleration',\n",
       " 'max_d',\n",
       " 'sample freq',\n",
       " 'sig0R',\n",
       " 'scan0F',\n",
       " 'acc time',\n",
       " 'max_nu',\n",
       " 'samples requested',\n",
       " 'sig0F',\n",
       " 'scan0R']"
      ]
     },
     "execution_count": 34,
     "metadata": {},
     "output_type": "execute_result"
    }
   ],
>>>>>>> .r562
   "source": [
    "data.keys()"
   ]
  },
  {
   "cell_type": "markdown",
   "metadata": {},
   "source": [
    "Plot the interferogram of the first forward scan"
   ]
  },
  {
   "cell_type": "code",
<<<<<<< .mine
   "execution_count": 6,
   "metadata": {
    "collapsed": true
   },
=======
   "execution_count": 35,
   "metadata": {
    "collapsed": true
   },
>>>>>>> .r562
   "outputs": [],
   "source": [
    "'Forward Scan Interferogram'\n",
    "fig1=figure(1,figsize=(15.,9.))\n",
    "#fig1.subplots_adjust(bottom=0.13,top=0.95,left=0.09,right=.98)\n",
    "ax1=fig1.add_subplot(211)\n",
    "ax2=fig1.add_subplot(212)\n",
    "ax1.plot(data['sig0F'])\n",
    "ax1.set_title('Run '+ data['run'] +' Signal vs data index')\n",
    "ax1.set_ylabel('Signal (V)')\n",
    "ax1.set_xlabel('Sample Number')\n",
    "ax1.grid()\n",
    "ax2.plot(data['delay0F'],data['sig0F'],label='Signal')\n",
    "ax2.plot(data['delay0F'],data['scan0F']/45.,label='Scan')\n",
    "ax2.plot(data['delay0F'],data['wlf0F']/45.,label='WLF')\n",
    "ax2.set_title('Run '+ data['run'] +' Signal vs Delay')\n",
    "ax2.set_ylabel('Signal (V)')\n",
    "ax2.set_xlabel('Delay (mm)')\n",
    "ax2.legend(loc='upper right')\n",
    "ax2.grid()"
   ]
  },
  {
   "cell_type": "code",
<<<<<<< .mine
   "execution_count": 9,
   "metadata": {
    "collapsed": true
   },
=======
   "execution_count": null,
   "metadata": {
    "collapsed": true
   },
>>>>>>> .r562
   "outputs": [],
   "source": [
    "'Backward Scan Interferogram'\n",
    "fig2=figure(2,figsize=(15.,9.))\n",
    "#fig1.subplots_adjust(bottom=0.13,top=0.95,left=0.09,right=.98)\n",
    "ax1=fig2.add_subplot(211)\n",
    "ax2=fig2.add_subplot(212)\n",
    "ax1.plot(data['sig0R'])\n",
    "ax1.set_title('Run '+ data['run'] +' Signal vs data index')\n",
    "ax1.set_ylabel('Signal (V)')\n",
    "ax1.set_xlabel('Sample Number')\n",
    "ax1.grid()\n",
    "ax2.plot(data['delay0R'],data['sig0R'],label='Signal')\n",
    "ax2.plot(data['delay0R'],data['scan0R']/45.,label='Scan')\n",
    "ax2.plot(data['delay0R'],data['wlf0R']/45.,label='WLF')\n",
    "ax2.set_title('Run '+ data['run'] +' Signal vs Delay')\n",
    "ax2.set_ylabel('Signal (V)')\n",
    "ax2.set_xlabel('Delay (mm)')\n",
    "ax2.legend(loc='upper right')\n",
    "ax2.grid()"
   ]
  },
  {
   "cell_type": "code",
   "execution_count": 10,
   "metadata": {
    "collapsed": true
   },
   "outputs": [],
   "source": [
    "ser.close()"
   ]
  },
  {
   "cell_type": "code",
<<<<<<< .mine
   "execution_count": 11,
   "metadata": {
    "collapsed": true
   },
=======
   "execution_count": null,
   "metadata": {
    "collapsed": true
   },
>>>>>>> .r562
   "outputs": [],
   "source": [
    "'Compare forward and backward scan spectra'\n",
    "plt.plot(np.abs(np.fft.rfft(data['sig0F'])))\n",
    "plt.plot(np.abs(np.fft.rfft(data['sig0R'])))\n",
    "plt.yscale('log')\n",
    "plt.show()"
   ]
  },
  {
   "cell_type": "code",
   "execution_count": null,
   "metadata": {
    "collapsed": true
   },
   "outputs": [],
   "source": [
    "plt.plot(data['sig0F'])\n",
    "\n",
    "plt.plot(np.flipud(data['sig0R']))\n",
    "plt.show()"
   ]
  },
  {
   "cell_type": "code",
   "execution_count": null,
   "metadata": {
    "collapsed": true
   },
   "outputs": [],
   "source": []
  },
  {
   "cell_type": "code",
   "execution_count": null,
   "metadata": {
    "collapsed": true
   },
   "outputs": [],
   "source": []
  }
 ],
 "metadata": {
  "anaconda-cloud": {},
  "kernelspec": {
   "display_name": "Python 2",
   "language": "python",
   "name": "python2"
  },
  "language_info": {
   "codemirror_mode": {
    "name": "ipython",
    "version": 2
   },
   "file_extension": ".py",
   "mimetype": "text/x-python",
   "name": "python",
   "nbconvert_exporter": "python",
   "pygments_lexer": "ipython2",
   "version": "2.7.13"
  }
 },
 "nbformat": 4,
 "nbformat_minor": 1
}
