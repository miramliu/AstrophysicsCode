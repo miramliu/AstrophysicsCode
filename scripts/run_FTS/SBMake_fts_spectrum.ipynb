{
 "cells": [
  {
   "cell_type": "code",
   "execution_count": 11,
   "metadata": {
    "collapsed": false
   },
   "outputs": [
    {
     "name": "stdout",
     "output_type": "stream",
     "text": [
      "Using matplotlib backend: Qt4Agg\n",
      "Populating the interactive namespace from numpy and matplotlib\n"
     ]
    }
   ],
   "source": [
    "%reload_ext autoreload\n",
    "%autoreload 2\n",
    "%pylab\n",
    "import serial\n",
    "import time\n",
    "import pickle as pk\n",
    "import sys\n",
    "import zaber_commands as zc\n",
    "import labjack_commands as lj\n",
    "from fts_scan import fts_scan\n",
    "from numpy.fft import rfft\n",
    "import seaborn as sns"
   ]
  },
  {
   "cell_type": "code",
   "execution_count": 12,
   "metadata": {
    "collapsed": false
   },
   "outputs": [
    {
     "name": "stdout",
     "output_type": "stream",
     "text": [
      "Type filter file nameDHW90_10mmpersec70mm.pkl\n",
      "Type reference file name20160218_1651_8Blocked_LargeAperture_test2.pkl\n"
     ]
    }
   ],
   "source": [
    "s=raw_input('Type filter file name')\n",
    "dsig=pk.load(open(s,'rb'))\n",
    "s=raw_input('Type reference file name')\n",
    "dref=pk.load(open(s,'rb'))"
   ]
  },
  {
   "cell_type": "code",
   "execution_count": 13,
   "metadata": {
    "collapsed": false
   },
   "outputs": [],
   "source": [
    "xsig=dsig['delay0F']/1.6384\n",
    "dxsig=xsig[2]-xsig[1]\n",
    "ysig=dsig['sig0F']\n",
    "iis=xsig.size\n",
    "ns=int(log(float(iis))/log(2.))\n",
    "isstart=iis/2-2**(ns-1)\n",
    "isstop=iis/2+2**(ns-1)\n",
    "iiis=arange(isstart,isstop)\n",
    "ysig=array(ysig[iiis])\n",
    "ysig = ysig - ysig.mean()\n",
    "xsig=array(xsig[iiis])"
   ]
  },
  {
   "cell_type": "code",
   "execution_count": 14,
   "metadata": {
    "collapsed": false
   },
   "outputs": [],
   "source": [
    "xref=dref['delay0F']/1.6384\n",
    "dxref=xref[2]-xref[1]\n",
    "yref=dref['sig0F']\n",
    "iir=xref.size\n",
    "nr=int(log(float(iir))/log(2.))\n",
    "irstart=iir/2-2**(nr-1)\n",
    "irstop=iir/2+2**(nr-1)\n",
    "iiir=arange(irstart,irstop)\n",
    "yref=array(yref[iiir])\n",
    "yref = yref - yref.mean()\n",
    "xref=array(xref[iiir])"
   ]
  },
  {
   "cell_type": "code",
   "execution_count": 15,
   "metadata": {
    "collapsed": false
   },
   "outputs": [
    {
     "data": {
      "text/plain": [
       "<function matplotlib.pyplot.show>"
      ]
     },
     "execution_count": 15,
     "metadata": {},
     "output_type": "execute_result"
    }
   ],
   "source": [
    "sns.set(style=\"whitegrid\")\n",
    "\n",
    "plt.plot((xref),yref, lw=0.5)\n",
    "\n",
    "plt.ylabel('Sig [mV]')\n",
    "plt.xlabel('Delay [s]')\n",
    "plt.show\n"
   ]
  },
  {
   "cell_type": "code",
   "execution_count": 8,
   "metadata": {
    "collapsed": false
   },
   "outputs": [
    {
     "data": {
      "text/plain": [
       "(0.0, 2.0)"
      ]
     },
     "execution_count": 8,
     "metadata": {},
     "output_type": "execute_result"
    }
   ],
   "source": [
    "zs = abs(rfft(ysig))\n",
    "zs=zs[1:]\n",
    "zr = abs(rfft(yref))\n",
    "zr=zr[1:]\n",
    "ratio=zs/zr\n",
    "dx = dxref\n",
    "n=min(nr,ns)\n",
    "xtot=2**n*dx#total length of scan\n",
    "df=1/xtot\n",
    "f=arange(2**(n-1)+1)*df\n",
    "f=f[1:]\n",
    "fig1=figure(1,figsize=[10.5,5])\n",
    "ax1=fig1.add_subplot(111)\n",
    "ax1.plot(f*300.,ratio)\n",
    "ax1.set_title('FIRS 9.0 icm DQW filter')\n",
    "ax1.set_xlabel('Frequency (GHz)')\n",
    "ax1.set_ylabel('Filter Transmission')\n",
    "ax1.set_xlim((0.,800.))\n",
    "ax1.set_ylim((0.,2.))"
   ]
  },
  {
   "cell_type": "code",
   "execution_count": 9,
   "metadata": {
    "collapsed": false
   },
   "outputs": [
    {
     "data": {
      "text/plain": [
       "<matplotlib.legend.Legend at 0x10cd74b10>"
      ]
     },
     "execution_count": 9,
     "metadata": {},
     "output_type": "execute_result"
    }
   ],
   "source": [
    "fig2=figure(2,figsize=[10.5,5])\n",
    "ax2=fig2.add_subplot(111)\n",
    "ax2.plot(f*300.,zr,label='Reference')\n",
    "ax2.plot(f*300.,zs,label='DQW90 Filter')\n",
    "ax2.set_xlim((0.,800.))\n",
    "ax2.set_xlabel('Frequency (GHz)')\n",
    "ax2.set_ylabel('Power (arbitrary)')\n",
    "ax2.legend()"
   ]
  },
  {
   "cell_type": "code",
   "execution_count": 7,
   "metadata": {
    "collapsed": false
   },
   "outputs": [
    {
     "ename": "IOError",
     "evalue": "[Errno 2] No such file or directory: 'Model90dhw.txt'",
     "output_type": "error",
     "traceback": [
      "\u001b[0;31m---------------------------------------------------------------------------\u001b[0m",
      "\u001b[0;31mIOError\u001b[0m                                   Traceback (most recent call last)",
      "\u001b[0;32m<ipython-input-7-735adf9aa7c4>\u001b[0m in \u001b[0;36m<module>\u001b[0;34m()\u001b[0m\n\u001b[0;32m----> 1\u001b[0;31m \u001b[0mx\u001b[0m\u001b[0;34m,\u001b[0m\u001b[0my\u001b[0m\u001b[0;34m=\u001b[0m\u001b[0mloadtxt\u001b[0m\u001b[0;34m(\u001b[0m\u001b[0;34m'Model90dhw.txt'\u001b[0m\u001b[0;34m,\u001b[0m\u001b[0munpack\u001b[0m\u001b[0;34m=\u001b[0m\u001b[0mTrue\u001b[0m\u001b[0;34m)\u001b[0m\u001b[0;34m\u001b[0m\u001b[0m\n\u001b[0m",
      "\u001b[0;32m/Users/Lab/Library/Enthought/Canopy_64bit/User/lib/python2.7/site-packages/numpy/lib/npyio.pyc\u001b[0m in \u001b[0;36mloadtxt\u001b[0;34m(fname, dtype, comments, delimiter, converters, skiprows, usecols, unpack, ndmin)\u001b[0m\n\u001b[1;32m    736\u001b[0m                 \u001b[0mfh\u001b[0m \u001b[0;34m=\u001b[0m \u001b[0miter\u001b[0m\u001b[0;34m(\u001b[0m\u001b[0mbz2\u001b[0m\u001b[0;34m.\u001b[0m\u001b[0mBZ2File\u001b[0m\u001b[0;34m(\u001b[0m\u001b[0mfname\u001b[0m\u001b[0;34m)\u001b[0m\u001b[0;34m)\u001b[0m\u001b[0;34m\u001b[0m\u001b[0m\n\u001b[1;32m    737\u001b[0m             \u001b[0;32melif\u001b[0m \u001b[0msys\u001b[0m\u001b[0;34m.\u001b[0m\u001b[0mversion_info\u001b[0m\u001b[0;34m[\u001b[0m\u001b[0;36m0\u001b[0m\u001b[0;34m]\u001b[0m \u001b[0;34m==\u001b[0m \u001b[0;36m2\u001b[0m\u001b[0;34m:\u001b[0m\u001b[0;34m\u001b[0m\u001b[0m\n\u001b[0;32m--> 738\u001b[0;31m                 \u001b[0mfh\u001b[0m \u001b[0;34m=\u001b[0m \u001b[0miter\u001b[0m\u001b[0;34m(\u001b[0m\u001b[0mopen\u001b[0m\u001b[0;34m(\u001b[0m\u001b[0mfname\u001b[0m\u001b[0;34m,\u001b[0m \u001b[0;34m'U'\u001b[0m\u001b[0;34m)\u001b[0m\u001b[0;34m)\u001b[0m\u001b[0;34m\u001b[0m\u001b[0m\n\u001b[0m\u001b[1;32m    739\u001b[0m             \u001b[0;32melse\u001b[0m\u001b[0;34m:\u001b[0m\u001b[0;34m\u001b[0m\u001b[0m\n\u001b[1;32m    740\u001b[0m                 \u001b[0mfh\u001b[0m \u001b[0;34m=\u001b[0m \u001b[0miter\u001b[0m\u001b[0;34m(\u001b[0m\u001b[0mopen\u001b[0m\u001b[0;34m(\u001b[0m\u001b[0mfname\u001b[0m\u001b[0;34m)\u001b[0m\u001b[0;34m)\u001b[0m\u001b[0;34m\u001b[0m\u001b[0m\n",
      "\u001b[0;31mIOError\u001b[0m: [Errno 2] No such file or directory: 'Model90dhw.txt'"
     ]
    }
   ],
   "source": [
    "x,y=loadtxt('Model90dhw.txt',unpack=True)"
   ]
  },
  {
   "cell_type": "code",
   "execution_count": 10,
   "metadata": {
    "collapsed": false
   },
   "outputs": [
    {
     "data": {
      "text/plain": [
       "[<matplotlib.lines.Line2D at 0x10435e4d0>]"
      ]
     },
     "execution_count": 10,
     "metadata": {},
     "output_type": "execute_result"
    }
   ],
   "source": [
    "ax1.plot(30.*x,y)"
   ]
  },
  {
   "cell_type": "code",
   "execution_count": 11,
   "metadata": {
    "collapsed": false
   },
   "outputs": [
    {
     "data": {
      "text/plain": [
       "<matplotlib.legend.Legend at 0x119549d90>"
      ]
     },
     "execution_count": 11,
     "metadata": {},
     "output_type": "execute_result"
    }
   ],
   "source": [
    "fig3=figure(3,figsize=[10.5,5])\n",
    "ax3=fig3.add_subplot(111)\n",
    "ax3.plot(xref,yref,label='Reference')\n",
    "ax3.plot(xsig,ysig,label='DQW90 Filter')\n",
    "#ax3.set_xlim((0.,600.))\n",
    "ax3.set_xlabel('Delay (mm)')\n",
    "ax3.set_ylabel('Output (Volts)')\n",
    "ax3.legend()"
   ]
  },
  {
   "cell_type": "code",
   "execution_count": null,
   "metadata": {
    "collapsed": false
   },
   "outputs": [],
   "source": [
    "l"
   ]
  }
 ],
 "metadata": {
  "kernelspec": {
   "display_name": "Python 2",
   "language": "python",
   "name": "python2"
  },
  "language_info": {
   "codemirror_mode": {
    "name": "ipython",
    "version": 2
   },
   "file_extension": ".py",
   "mimetype": "text/x-python",
   "name": "python",
   "nbconvert_exporter": "python",
   "pygments_lexer": "ipython2",
   "version": "2.7.9"
  }
 },
 "nbformat": 4,
 "nbformat_minor": 0
}
