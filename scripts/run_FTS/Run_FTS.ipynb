{
 "cells": [
  {
   "cell_type": "code",
<<<<<<< .mine
   "execution_count": 1,
   "metadata": {},
   "outputs": [
    {
     "name": "stdout",
     "output_type": "stream",
     "text": [
      "Using matplotlib backend: Qt4Agg\n",
      "Populating the interactive namespace from numpy and matplotlib\n"
     ]
    }
   ],
=======
   "execution_count": null,
   "metadata": {},
   "outputs": [],
>>>>>>> .r562
   "source": [
    "%pylab\n",
    "import serial\n",
    "import time\n",
    "import pickle\n",
    "import sys\n",
    "import zaber_commands as zc\n",
    "import labjack_commands as lj"
   ]
  },
  {
   "cell_type": "code",
   "execution_count": null,
   "metadata": {},
   "outputs": [],
   "source": [
    "d = lj.init_labjack()\n",
    "d"
   ]
  },
  {
   "cell_type": "code",
   "execution_count": null,
   "metadata": {},
   "outputs": [],
   "source": [
    "#dev = '/dev/tty.usbmodem1421'\n",
    "dev = '/dev/tty.usbmodem1411'\n",
    "#dev = \"COM3\"\n",
    "ser,err = zc.init_zaber(dev)"
   ]
  },
  {
   "cell_type": "code",
   "execution_count": 4,
   "metadata": {},
   "outputs": [],
   "source": [
    "#phy_to_optical = 4.0 * np.cos(17.*np.pi/180.)# conversion from physical to optical delay\n",
    "#mm_per_step = 1.905e-4# stepper motor mm/step\n",
    "#acc_conversion = 1.6384/1.e4\n",
    "#white_light_fringe = 99.55# Position of white light fringe in optical mm\n",
    "#max_speed = 104.# maximum speed (mm/s physical) given by manufacturer\n",
    "#max_speed_o = max_speed * phy_to_optical# conversion to optical units\n",
    "phy_to_optical=zc.opt_per_physical\n",
    "mm_per_step=zc.mm_per_step\n",
    "acc_conversion=zc.acc_conversion\n",
    "white_light_fringe=zc.white_light_fringe\n",
    "max_speed=zc.max_speed\n",
    "max_speed_o=zc.max_speed_o"
   ]
  },
  {
   "cell_type": "code",
<<<<<<< .mine
   "execution_count": 3,
   "metadata": {},
   "outputs": [
    {
     "data": {
      "text/plain": [
       "<u6.U6 at 0x10c12f190>"
      ]
     },
     "execution_count": 3,
     "metadata": {},
     "output_type": "execute_result"
    }
   ],
   "source": [
    "d = lj.init_labjack()\n",
    "d"
   ]
  },
  {
   "cell_type": "code",
   "execution_count": 4,
   "metadata": {},
   "outputs": [
    {
     "name": "stdout",
     "output_type": "stream",
     "text": [
      "Serial port  /dev/tty.usbmodem1421  was opened\n"
     ]
    }
   ],
   "source": [
    "dev = '/dev/tty.usbmodem1421'\n",
    "#dev = '/dev/tty.usbmodem1411'\n",
    "#dev = \"COM3\"\n",
    "ser,err = zc.init_zaber(dev)"
   ]
  },
  {
   "cell_type": "code",
=======
>>>>>>> .r562
   "execution_count": 5,
<<<<<<< .mine
   "metadata": {},
=======
   "metadata": {
    "collapsed": true
   },
>>>>>>> .r562
   "outputs": [],
   "source": [
    "niter = 1\n",
    "max_d = 70. #mm\n",
    "speed = 10. #mm/s\n",
    "max_nu = 1000. # GHz\n",
    "accel = 10000. # mm/s^2\n",
    "oversample = 16\n",
    "zc.clear_trigger_do_pos(ser,1)\n",
    "zc.clear_trigger_do_pos(ser,3)\n",
    "t=zc.clear_trigger_do_pos(ser,5)"
   ]
  },
  {
   "cell_type": "markdown",
   "metadata": {},
   "source": [
    "###Calculate scan parameters###"
   ]
  },
  {
   "cell_type": "code",
   "execution_count": 6,
   "metadata": {},
   "outputs": [],
   "source": [
    "d_accel=speed**2/(2.*accel)\n",
    "startscan = white_light_fringe - max_d\n",
    "stopscan = white_light_fringe + max_d\n",
    "startpos = startscan - d_accel\n",
    "stoppos = stopscan + d_accel"
   ]
  },
  {
   "cell_type": "markdown",
   "metadata": {},
   "source": [
    "###Home the stage, move to start position###"
   ]
  },
  {
   "cell_type": "code",
   "execution_count": 7,
<<<<<<< .mine
   "metadata": {},
=======
   "metadata": {
    "collapsed": true
   },
>>>>>>> .r562
   "outputs": [],
   "source": [
    "zc.unpark(ser)\n",
    "zc.set_do(ser,1,0)\n",
    "zc.set_do(ser,2,0)\n",
    "zc.set_accel(ser,2000.)\n",
    "zc.set_max_speed(ser,max_speed_o)\n",
    "zc.move_abs_wait(ser,0.2)\n",
    "zc.home(ser)\n",
    "zc.set_max_speed(ser,max_speed_o)\n",
    "zc.move_abs_wait(ser,startpos)\n",
    "zc.set_trigger_do_pos(ser,white_light_fringe,2,1,1)# set digital channel 2 with trigger 1\n",
    "zc.set_trigger_do_pos(ser,startscan,1,3,1)\n",
    "zc.set_trigger_do_pos(ser,stopscan,1,5,0)\n",
    "zc.set_accel(ser,accel)\n",
    "#zc.set_max_speed(ser,speed)\n",
    "zc.set_lim_max(ser,stoppos)\n",
    "zc.set_lim_min(ser,startpos)\n",
    "zc.set_do(ser,1,0)\n",
    "t=zc.set_do(ser,2,0)"
   ]
  },
  {
   "cell_type": "markdown",
   "metadata": {},
   "source": [
    "###Do scans###"
   ]
  },
  {
   "cell_type": "code",
   "execution_count": 8,
   "metadata": {},
   "outputs": [
    {
     "name": "stdout",
     "output_type": "stream",
     "text": [
      "freq =  1066.66666667  scan time =  14.0\n",
      "travel time =  14.0  acc time =  0.002\n",
      "num samples requested =  24878\n",
      "max_nu in mm*-1 =  3.33333333333\n",
      " \n",
      "Iteration  0\n",
      "size going forward =  25199\n",
      "size going reverse =  25199\n"
     ]
    }
   ],
   "source": [
    "freq = lj.setup_scan(d,speed,max_nu,oversample,2)\n",
    "scan_time = 2 * max_d/speed + 2 * speed/accel\n",
    "n = int((1.68*scan_time - .2) * freq)\n",
    "dx = speed / freq\n",
    "print 'freq = ',freq, ' scan time = ',2*max_d/speed\n",
    "print 'travel time = ',2 * max_d/speed, ' acc time = ',2 * speed/accel\n",
    "print 'num samples requested = ',n\n",
    "print 'max_nu in mm*-1 = ', max_nu/300.\n",
    "data={'run':'test run'}\n",
    "for iiter in np.arange(niter):\n",
    "    #zc.move_abs(ser,stoppos)\n",
    "    key=str(iiter)+'F'\n",
    "    zc.move_vel(ser,speed)\n",
    "    lj.start_adc_one(d,n,dx,data,key)\n",
    "    print ' '\n",
    "    print 'Iteration ',str(iiter)\n",
    "    print 'size going forward = ',data['sig'+key].size\n",
    "    time.sleep(.1)\n",
    "    #zc.move_abs(ser,startpos)\n",
    "    key=str(iiter)+'R'\n",
    "    zc.move_vel(ser,-speed)\n",
    "    lj.start_adc_one(d,n,-dx,data,key)\n",
    "    print 'size going reverse = ',data['sig'+key].size\n",
    "    time.sleep(.1)\n",
    "zc.set_do(ser,1,0)\n",
    "zc.set_do(ser,2,0)\n",
    "zc.clear_trigger_do_pos(ser,1)\n",
    "zc.clear_trigger_do_pos(ser,3)\n",
    "zc.clear_trigger_do_pos(ser,5)\n",
    "zc.set_accel(ser,2000.)\n",
    "zc.set_max_speed(ser,max_speed_o)\n",
    "zc.move_abs_wait(ser,white_light_fringe)\n",
    "t=zc.park(ser)"
   ]
  },
  {
   "cell_type": "code",
   "execution_count": 9,
   "metadata": {},
   "outputs": [
    {
     "name": "stdout",
     "output_type": "stream",
     "text": [
      "25199\n",
      "25199\n"
     ]
    }
   ],
   "source": [
    "print data['delay0F'].size\n",
    "print data['sig0F'].size"
   ]
  },
  {
   "cell_type": "code",
   "execution_count": 10,
   "metadata": {},
   "outputs": [
    {
     "data": {
      "text/plain": [
       "[<matplotlib.lines.Line2D at 0x11649dc90>]"
      ]
     },
     "execution_count": 10,
     "metadata": {},
     "output_type": "execute_result"
    }
   ],
   "source": [
    "figure(2)\n",
    "#plot(data['delay0F'],data['scan0F'])\n",
    "#plot(data['delay0F'],data['wlf0F'])\n",
    "plot(data['sig0F'])\n",
    "#plot(data['sig0R'])\n",
    "#plot(data['delay0F'],data['sig0F'])\n",
    "#plot(data['delay0R'],data['sig0R'])"
   ]
  },
  {
   "cell_type": "code",
   "execution_count": 11,
   "metadata": {},
   "outputs": [
    {
     "ename": "SystemExit",
     "evalue": "",
     "output_type": "error",
     "traceback": [
      "An exception has occurred, use %tb to see the full traceback.\n",
      "\u001b[0;31mSystemExit\u001b[0m\n"
     ]
    },
    {
     "name": "stderr",
     "output_type": "stream",
     "text": [
      "/Users/elerath/anaconda/envs/py27/lib/python2.7/site-packages/IPython/core/interactiveshell.py:2889: UserWarning: To exit: use 'exit', 'quit', or Ctrl-D.\n",
      "  warn(\"To exit: use 'exit', 'quit', or Ctrl-D.\", stacklevel=1)\n"
     ]
    }
   ],
   "source": [
    "sys.exit()"
   ]
  },
  {
   "cell_type": "code",
<<<<<<< .mine
   "execution_count": 12,
   "metadata": {},
   "outputs": [
    {
     "data": {
      "text/plain": [
       "[<matplotlib.lines.Line2D at 0x10baeb410>]"
      ]
     },
     "execution_count": 12,
     "metadata": {},
     "output_type": "execute_result"
    }
   ],
=======
   "execution_count": null,
   "metadata": {},
   "outputs": [],
>>>>>>> .r562
   "source": [
    "figure(2)\n",
    "#plot(data['delay0R'],data['scan0R'])\n",
    "#plot(data['delay0R'],data['wlf0R'])\n",
    "plot(data['delay0R'],data['sig0R'])"
   ]
  },
  {
   "cell_type": "code",
<<<<<<< .mine
   "execution_count": 13,
   "metadata": {},
   "outputs": [
    {
     "data": {
      "text/plain": [
       "[<matplotlib.lines.Line2D at 0x10c02f750>]"
      ]
     },
     "execution_count": 13,
     "metadata": {},
     "output_type": "execute_result"
    }
   ],
=======
   "execution_count": null,
   "metadata": {},
   "outputs": [],
>>>>>>> .r562
   "source": [
    "figure(3)\n",
    "plot(data['wlf0F'])\n",
    "plot(data['scan0F'])\n",
    "plot(data['delay0R'],data['delay0F'])"
   ]
  },
  {
   "cell_type": "code",
<<<<<<< .mine
   "execution_count": 14,
   "metadata": {},
   "outputs": [
    {
     "data": {
      "text/plain": [
       "42"
      ]
     },
     "execution_count": 14,
     "metadata": {},
     "output_type": "execute_result"
    }
   ],
=======
   "execution_count": null,
   "metadata": {},
   "outputs": [],
>>>>>>> .r562
   "source": [
    "d.packetsPerRequest"
   ]
  },
  {
   "cell_type": "code",
<<<<<<< .mine
   "execution_count": 15,
   "metadata": {},
   "outputs": [
    {
     "data": {
      "text/plain": [
       "(25199,)"
      ]
     },
     "execution_count": 15,
     "metadata": {},
     "output_type": "execute_result"
    }
   ],
=======
   "execution_count": null,
   "metadata": {},
   "outputs": [],
>>>>>>> .r562
   "source": [
    "data['sig0F'].shape"
   ]
  },
  {
   "cell_type": "code",
   "execution_count": null,
<<<<<<< .mine
   "metadata": {},
=======
   "metadata": {
    "collapsed": true
   },
>>>>>>> .r562
   "outputs": [],
   "source": [
    "d.close()"
   ]
  },
  {
   "cell_type": "code",
   "execution_count": null,
   "metadata": {
    "collapsed": true
   },
   "outputs": [],
   "source": [
    "ser.close()"
   ]
  },
  {
   "cell_type": "code",
   "execution_count": null,
<<<<<<< .mine
   "metadata": {},
=======
   "metadata": {
    "collapsed": true
   },
>>>>>>> .r562
   "outputs": [],
   "source": []
  },
  {
   "cell_type": "code",
<<<<<<< .mine
   "execution_count": null,
   "metadata": {},
   "outputs": [],
=======
   "execution_count": 12,
   "metadata": {},
   "outputs": [
    {
     "data": {
      "text/plain": [
       "['wlf0R',\n",
       " 'run',\n",
       " 'sig0R',\n",
       " 'scan0F',\n",
       " 'delay0F',\n",
       " 'wlf0F',\n",
       " 'delay0R',\n",
       " 'sig0F',\n",
       " 'scan0R']"
      ]
     },
     "execution_count": 12,
     "metadata": {},
     "output_type": "execute_result"
    }
   ],
>>>>>>> .r562
   "source": [
    "data.keys()"
   ]
  },
  {
   "cell_type": "code",
<<<<<<< .mine
   "execution_count": null,
   "metadata": {},
   "outputs": [],
=======
   "execution_count": 13,
   "metadata": {},
   "outputs": [
    {
     "data": {
      "text/plain": [
       "(0, (0, '@01 0 RJ IDLE -- PARKED\\r\\n'))"
      ]
     },
     "execution_count": 13,
     "metadata": {},
     "output_type": "execute_result"
    }
   ],
>>>>>>> .r562
   "source": [
    "zc.move_abs_wait(ser,white_light_fringe+20.)"
   ]
  },
  {
   "cell_type": "code",
<<<<<<< .mine
   "execution_count": null,
   "metadata": {},
   "outputs": [],
=======
   "execution_count": 14,
   "metadata": {},
   "outputs": [
    {
     "data": {
      "text/plain": [
       "(0, (0, '@01 0 OK IDLE -- 0\\r\\n'))"
      ]
     },
     "execution_count": 14,
     "metadata": {},
     "output_type": "execute_result"
    }
   ],
>>>>>>> .r562
   "source": [
    "zc.unpark(ser)"
   ]
  },
  {
   "cell_type": "code",
<<<<<<< .mine
   "execution_count": null,
   "metadata": {},
   "outputs": [],
=======
   "execution_count": 15,
   "metadata": {},
   "outputs": [
    {
     "data": {
      "text/plain": [
       "(0, (0, '@01 0 OK IDLE -- 0\\r\\n'))"
      ]
     },
     "execution_count": 15,
     "metadata": {},
     "output_type": "execute_result"
    }
   ],
>>>>>>> .r562
   "source": [
    "zc.set_max_speed(ser,1.)\n"
   ]
  },
  {
   "cell_type": "code",
   "execution_count": 16,
<<<<<<< .mine
   "metadata": {},
=======
   "metadata": {
    "collapsed": true
   },
>>>>>>> .r562
   "outputs": [],
   "source": [
    "import pickle"
   ]
  },
  {
   "cell_type": "code",
   "execution_count": 17,
<<<<<<< .mine
   "metadata": {},
=======
   "metadata": {
    "collapsed": true
   },
>>>>>>> .r562
   "outputs": [],
   "source": [
    "file = open('no_absorber_on_septum_p6apertureandfoam2.pkl', 'wb') "
   ]
  },
  {
   "cell_type": "code",
   "execution_count": 18,
<<<<<<< .mine
   "metadata": {},
=======
   "metadata": {
    "collapsed": true
   },
>>>>>>> .r562
   "outputs": [],
   "source": [
    "pickle.dump(data, file)\n",
    "file.close()"
   ]
  },
  {
   "cell_type": "code",
   "execution_count": null,
<<<<<<< .mine
   "metadata": {},
=======
   "metadata": {
    "collapsed": true
   },
>>>>>>> .r562
   "outputs": [],
   "source": []
  },
  {
   "cell_type": "code",
   "execution_count": 19,
<<<<<<< .mine
   "metadata": {},
=======
   "metadata": {
    "collapsed": true
   },
>>>>>>> .r562
   "outputs": [],
   "source": [
    "ref = open('right_sideup.pkl','w')"
   ]
  },
  {
   "cell_type": "code",
   "execution_count": 20,
<<<<<<< .mine
   "metadata": {},
=======
   "metadata": {
    "collapsed": true
   },
>>>>>>> .r562
   "outputs": [],
   "source": [
    "pickle.dump(data, ref)"
   ]
  },
  {
   "cell_type": "code",
<<<<<<< .mine
   "execution_count": null,
   "metadata": {},
   "outputs": [],
=======
   "execution_count": 21,
   "metadata": {},
   "outputs": [
    {
     "data": {
      "text/plain": [
       "(0, (18, '@01 0 OK IDLE -- 1\\r\\n'))"
      ]
     },
     "execution_count": 21,
     "metadata": {},
     "output_type": "execute_result"
    }
   ],
>>>>>>> .r562
   "source": [
    "zc.home(ser)"
   ]
  },
  {
   "cell_type": "code",
<<<<<<< .mine
   "execution_count": null,
   "metadata": {},
   "outputs": [],
=======
   "execution_count": 22,
   "metadata": {},
   "outputs": [
    {
     "data": {
      "text/plain": [
       "(20, '@01 0 OK BUSY -- 0\\r\\n')"
      ]
     },
     "execution_count": 22,
     "metadata": {},
     "output_type": "execute_result"
    }
   ],
>>>>>>> .r562
   "source": [
    "zc.move_abs(ser,zc.white_light_fringe)"
   ]
  },
  {
   "cell_type": "code",
<<<<<<< .mine
   "execution_count": null,
   "metadata": {},
   "outputs": [],
=======
   "execution_count": 23,
   "metadata": {},
   "outputs": [
    {
     "data": {
      "text/plain": [
       "(0, (18, '@01 0 OK IDLE NC 1\\r\\n'))"
      ]
     },
     "execution_count": 23,
     "metadata": {},
     "output_type": "execute_result"
    }
   ],
>>>>>>> .r562
   "source": [
    "zc.unpark(ser)"
   ]
  },
  {
   "cell_type": "code",
<<<<<<< .mine
   "execution_count": 35,
   "metadata": {},
=======
   "execution_count": 24,
   "metadata": {},
>>>>>>> .r562
   "outputs": [
    {
     "data": {
      "text/plain": [
       "'Fri Aug 18 11:28:08 2017'"
      ]
     },
     "execution_count": 24,
     "metadata": {},
     "output_type": "execute_result"
    }
   ],
   "source": [
    "time.asctime(time.localtime())"
   ]
  },
  {
   "cell_type": "code",
<<<<<<< .mine
   "execution_count": 40,
   "metadata": {},
=======
   "execution_count": 25,
   "metadata": {},
>>>>>>> .r562
   "outputs": [
    {
     "data": {
      "text/plain": [
       "'2017818'"
      ]
     },
     "execution_count": 25,
     "metadata": {},
     "output_type": "execute_result"
    }
   ],
   "source": [
    "str(time.localtime().tm_year)+str(time.localtime().tm_mon)+str(time.localtime().tm_mday)"
   ]
  },
  {
   "cell_type": "code",
   "execution_count": 26,
<<<<<<< .mine
   "metadata": {},
=======
   "metadata": {
    "collapsed": true
   },
>>>>>>> .r562
   "outputs": [],
   "source": [
    "import datetime"
   ]
  },
  {
   "cell_type": "code",
   "execution_count": 27,
<<<<<<< .mine
   "metadata": {},
=======
   "metadata": {
    "collapsed": true
   },
>>>>>>> .r562
   "outputs": [],
   "source": [
    "now=datetime.datetime.now()"
   ]
  },
  {
   "cell_type": "code",
<<<<<<< .mine
   "execution_count": 49,
   "metadata": {},
=======
   "execution_count": 28,
   "metadata": {},
>>>>>>> .r562
   "outputs": [
    {
     "data": {
      "text/plain": [
       "'20170818.1128'"
      ]
     },
     "execution_count": 28,
     "metadata": {},
     "output_type": "execute_result"
    }
   ],
   "source": [
    "now.strftime(\"%Y%m%d.%H%M\")"
   ]
  },
  {
   "cell_type": "code",
   "execution_count": null,
<<<<<<< .mine
   "metadata": {},
=======
   "metadata": {
    "collapsed": true
   },
>>>>>>> .r562
   "outputs": [],
   "source": []
  },
  {
   "cell_type": "code",
   "execution_count": null,
   "metadata": {
    "collapsed": true
   },
   "outputs": [],
   "source": []
  },
  {
   "cell_type": "code",
   "execution_count": null,
   "metadata": {
    "collapsed": true
   },
   "outputs": [],
   "source": []
  },
  {
   "cell_type": "code",
   "execution_count": null,
   "metadata": {
    "collapsed": true
   },
   "outputs": [],
   "source": []
  }
 ],
 "metadata": {
  "anaconda-cloud": {},
  "kernelspec": {
   "display_name": "Python 2",
   "language": "python",
   "name": "python2"
  },
  "language_info": {
   "codemirror_mode": {
    "name": "ipython",
    "version": 2
   },
   "file_extension": ".py",
   "mimetype": "text/x-python",
   "name": "python",
   "nbconvert_exporter": "python",
   "pygments_lexer": "ipython2",
   "version": "2.7.13"
  }
 },
 "nbformat": 4,
 "nbformat_minor": 1
}
