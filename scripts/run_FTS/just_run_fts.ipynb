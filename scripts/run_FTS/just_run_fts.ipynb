{
 "cells": [
  {
   "cell_type": "code",
   "execution_count": 1,
   "metadata": {},
   "outputs": [
    {
     "name": "stdout",
     "output_type": "stream",
     "text": [
      "Using matplotlib backend: MacOSX\n",
      "Populating the interactive namespace from numpy and matplotlib\n"
     ]
    }
   ],
   "source": [
    "%reload_ext autoreload\n",
    "%autoreload 2\n",
    "%pylab\n",
    "import serial\n",
    "import time\n",
    "#import pickle\n",
    "import sys\n",
    "import zaber_commands as zc\n",
    "#import labjack_commands as lj\n",
    "#from fts_scan import fts_scan\n",
    "from fts_scan_zc import fts_scan_zc"
   ]
  },
  {
   "cell_type": "markdown",
   "metadata": {},
   "source": [
    "Initialize LabJack ADC"
   ]
  },
  {
   "cell_type": "code",
   "execution_count": 2,
   "metadata": {
    "collapsed": true
   },
   "outputs": [],
   "source": [
    "#d = lj.init_labjack()\n",
    "#d"
   ]
  },
  {
   "cell_type": "markdown",
   "metadata": {},
   "source": [
    "Open serial port for Zaber stage"
   ]
  },
  {
   "cell_type": "code",
   "execution_count": 3,
   "metadata": {},
   "outputs": [
    {
     "name": "stdout",
     "output_type": "stream",
     "text": [
      "Serial port  /dev/tty.usbmodem1411  was opened\n",
      "Device serial number: 44248\n"
     ]
    }
   ],
   "source": [
    "#dev = '/dev/ttyACM1'\n",
    "dev = '/dev/tty.usbmodem1411'\n",
    "#dev = \"COM2\"\n",
    "ser,err = zc.init_zaber(dev)"
   ]
  },
  {
   "cell_type": "markdown",
   "metadata": {},
   "source": [
    "Set scan parameters and run name"
   ]
  },
  {
   "cell_type": "code",
   "execution_count": 4,
   "metadata": {
    "collapsed": true
   },
   "outputs": [],
   "source": [
    "run_name = 'run_fts_fnal_1'\n",
    "niter = 6\n",
    "max_d = 75. #mm\n",
    "speed = 5. #mm/s\n",
    "max_nu = 300. # GHz\n",
    "accel = 10000. # mm/s^2\n",
    "oversample = 16\n",
    "gain = 2    # 0 is -10V to 10V\n",
    "            # 1 is -1V to 1V\n",
    "            # 2 is -0.1V to 0.1V\n",
    "            # 3 is -10 mV to 10 mV"
   ]
  },
  {
   "cell_type": "markdown",
   "metadata": {},
   "source": [
    "Run the scan and write file"
   ]
  },
  {
   "cell_type": "code",
   "execution_count": 5,
   "metadata": {
    "collapsed": true
   },
   "outputs": [],
   "source": [
    "fts_scan_zc(niter,max_d,speed,ser)"
   ]
  },
  {
   "cell_type": "code",
   "execution_count": null,
   "metadata": {
    "collapsed": true
   },
   "outputs": [],
   "source": [
    "err,data=fts_scan(run_name,\n",
    "                  niter,\n",
    "                  max_d,\n",
    "                  speed,\n",
    "                  max_nu,\n",
    "                  oversample,\n",
    "                  gain,\n",
    "                  ser,\n",
    "                  d)"
   ]
  },
  {
   "cell_type": "code",
   "execution_count": null,
   "metadata": {
    "collapsed": true
   },
   "outputs": [],
   "source": [
    "data.keys()"
   ]
  },
  {
   "cell_type": "markdown",
   "metadata": {},
   "source": [
    "Plot the interferogram of the first forward scan"
   ]
  },
  {
   "cell_type": "code",
   "execution_count": null,
   "metadata": {
    "collapsed": true
   },
   "outputs": [],
   "source": [
    "ser.close()"
   ]
  },
  {
   "cell_type": "code",
   "execution_count": null,
   "metadata": {},
   "outputs": [],
   "source": [
    "zc.unpark(ser)"
   ]
  },
  {
   "cell_type": "code",
   "execution_count": null,
   "metadata": {},
   "outputs": [],
   "source": [
    "zc.move_abs_wait(ser, 40.)\n",
    "zc.move_abs_wait(ser, 120.)\n",
    "zc.move_abs_wait(ser, 40.)\n",
    "zc.move_abs_wait(ser, 120.)\n",
    "zc.move_abs_wait(ser, 40.)\n",
    "zc.move_abs_wait(ser, 120.)"
   ]
  },
  {
   "cell_type": "code",
   "execution_count": null,
   "metadata": {},
   "outputs": [],
   "source": [
    "zc.move_abs_wait(ser, 112.5)"
   ]
  },
  {
   "cell_type": "code",
   "execution_count": null,
   "metadata": {},
   "outputs": [],
   "source": [
    "zc.move_abs_wait(ser, 140.)"
   ]
  },
  {
   "cell_type": "code",
   "execution_count": null,
   "metadata": {},
   "outputs": [],
   "source": [
    "zc.home(ser)"
   ]
  },
  {
   "cell_type": "code",
   "execution_count": null,
   "metadata": {},
   "outputs": [],
   "source": [
    "zc.move_abs_wait(ser, 113.58)"
   ]
  },
  {
   "cell_type": "code",
   "execution_count": null,
   "metadata": {
    "collapsed": true
   },
   "outputs": [],
   "source": []
  }
 ],
 "metadata": {
  "anaconda-cloud": {},
  "kernelspec": {
   "display_name": "Python 2",
   "language": "python",
   "name": "python2"
  },
  "language_info": {
   "codemirror_mode": {
    "name": "ipython",
    "version": 2
   },
   "file_extension": ".py",
   "mimetype": "text/x-python",
   "name": "python",
   "nbconvert_exporter": "python",
   "pygments_lexer": "ipython2",
   "version": "2.7.13"
  }
 },
 "nbformat": 4,
 "nbformat_minor": 1
}
