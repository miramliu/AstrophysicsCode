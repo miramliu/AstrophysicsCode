{
 "metadata": {
  "kernelspec": {
   "display_name": "Python 2",
   "language": "python",
   "name": "python2"
  },
  "language_info": {
   "codemirror_mode": {
    "name": "ipython",
    "version": 2
   },
   "file_extension": ".py",
   "mimetype": "text/x-python",
   "name": "python",
   "nbconvert_exporter": "python",
   "pygments_lexer": "ipython2",
   "version": "2.7.6"
  },
  "name": ""
 },
 "nbformat": 3,
 "nbformat_minor": 0,
 "worksheets": [
  {
   "cells": [
    {
     "cell_type": "code",
     "collapsed": false,
     "input": [
      "%reload_ext autoreload\n",
      "%autoreload 2\n",
      "%pylab\n",
      "import serial\n",
      "import time\n",
      "import pickle as pk\n",
      "import sys\n",
      "import zaber_commands as zc\n",
      "import labjack_commands as lj\n",
      "from fts_scan import fts_scan\n",
      "from numpy.fft import rfft"
     ],
     "language": "python",
     "metadata": {},
     "outputs": [
      {
       "output_type": "stream",
       "stream": "stdout",
       "text": [
        "Using matplotlib backend: Qt4Agg\n",
        "Populating the interactive namespace from numpy and matplotlib\n"
       ]
      },
      {
       "output_type": "stream",
       "stream": "stderr",
       "text": [
        "/Users/meyer/Library/Enthought/Canopy_64bit/User/lib/python2.7/site-packages/matplotlib/font_manager.py:273: UserWarning: Matplotlib is building the font cache using fc-list. This may take a moment.\n",
        "  warnings.warn('Matplotlib is building the font cache using fc-list. This may take a moment.')\n"
       ]
      }
     ],
     "prompt_number": 1
    },
    {
     "cell_type": "code",
     "collapsed": false,
     "input": [
      "s=raw_input('Type filter file name')\n",
      "dsig=pk.load(open(s,'rb'))\n",
      "s=raw_input('Type reference file name')\n",
      "dref=pk.load(open(s,'rb'))"
     ],
     "language": "python",
     "metadata": {},
     "outputs": [
      {
       "output_type": "stream",
       "stream": "stdout",
       "text": [
        "Type filter file name20160218_1231_test.pkl\n",
        "Type reference file name20160218_1231_test.pkl\n"
       ]
      }
     ],
     "prompt_number": 2
    },
    {
     "cell_type": "code",
     "collapsed": false,
     "input": [
      "xsig=dsig['delay0F']/1.6384\n",
      "dxsig=xsig[2]-xsig[1]\n",
      "ysig=dsig['sig0F']\n",
      "iis=xsig.size\n",
      "ns=int(log(float(iis))/log(2.))\n",
      "isstart=iis/2-2**(ns-1)\n",
      "isstop=iis/2+2**(ns-1)\n",
      "iiis=arange(isstart,isstop)\n",
      "ysig=array(ysig[iiis])\n",
      "ysig = ysig - ysig.mean()\n",
      "xsig=array(xsig[iiis])"
     ],
     "language": "python",
     "metadata": {},
     "outputs": [],
     "prompt_number": 3
    },
    {
     "cell_type": "code",
     "collapsed": false,
     "input": [
      "xref=dref['delay0F']/1.6384\n",
      "dxref=xref[2]-xref[1]\n",
      "yref=dref['sig0F']\n",
      "iir=xref.size\n",
      "nr=int(log(float(iir))/log(2.))\n",
      "irstart=iir/2-2**(nr-1)\n",
      "irstop=iir/2+2**(nr-1)\n",
      "iiir=arange(irstart,irstop)\n",
      "yref=array(yref[iiir])\n",
      "yref = yref - yref.mean()\n",
      "xref=array(xref[iiir])"
     ],
     "language": "python",
     "metadata": {},
     "outputs": [],
     "prompt_number": 4
    },
    {
     "cell_type": "code",
     "collapsed": false,
     "input": [
      "zs = abs(rfft(ysig))\n",
      "zs=zs[1:]\n",
      "zr = abs(rfft(yref))\n",
      "zr=zr[1:]\n",
      "ratio=zs/zr\n",
      "dx = dxref\n",
      "n=min(nr,ns)\n",
      "xtot=2**n*dx#total length of scan\n",
      "df=1/xtot\n",
      "f=arange(2**(n-1)+1)*df\n",
      "f=f[1:]\n",
      "fig1=figure(1,figsize=[10.5,5])\n",
      "ax1=fig1.add_subplot(111)\n",
      "ax1.plot(f*300.,ratio)\n",
      "ax1.set_title('FIRS 9.0 icm DQW filter')\n",
      "ax1.set_xlabel('Frequency (GHz)')\n",
      "ax1.set_ylabel('Filter Transmission')\n",
      "ax1.set_xlim((0.,800.))\n",
      "ax1.set_ylim((0.,2.))"
     ],
     "language": "python",
     "metadata": {},
     "outputs": [
      {
       "metadata": {},
       "output_type": "pyout",
       "prompt_number": 7,
       "text": [
        "(0.0, 2.0)"
       ]
      }
     ],
     "prompt_number": 7
    },
    {
     "cell_type": "code",
     "collapsed": false,
     "input": [
      "fig2=figure(2,figsize=[10.5,5])\n",
      "ax2=fig2.add_subplot(111)\n",
      "ax2.plot(f*300.,zr,label='Reference')\n",
      "ax2.plot(f*300.,zs,label='DQW90 Filter')\n",
      "ax2.set_xlim((0.,800.))\n",
      "ax2.set_xlabel('Frequency (GHz)')\n",
      "ax2.set_ylabel('Power (arbitrary)')\n",
      "ax2.legend()"
     ],
     "language": "python",
     "metadata": {},
     "outputs": [
      {
       "metadata": {},
       "output_type": "pyout",
       "prompt_number": 8,
       "text": [
        "<matplotlib.legend.Legend at 0x1185d11d0>"
       ]
      }
     ],
     "prompt_number": 8
    },
    {
     "cell_type": "code",
     "collapsed": false,
     "input": [
      "x,y=loadtxt('Model90dhw.txt',unpack=True)"
     ],
     "language": "python",
     "metadata": {},
     "outputs": [],
     "prompt_number": 9
    },
    {
     "cell_type": "code",
     "collapsed": false,
     "input": [
      "ax1.plot(30.*x,y)"
     ],
     "language": "python",
     "metadata": {},
     "outputs": [
      {
       "metadata": {},
       "output_type": "pyout",
       "prompt_number": 10,
       "text": [
        "[<matplotlib.lines.Line2D at 0x10435e4d0>]"
       ]
      }
     ],
     "prompt_number": 10
    },
    {
     "cell_type": "code",
     "collapsed": false,
     "input": [
      "fig3=figure(3,figsize=[10.5,5])\n",
      "ax3=fig3.add_subplot(111)\n",
      "ax3.plot(xref,yref,label='Reference')\n",
      "ax3.plot(xsig,ysig,label='DQW90 Filter')\n",
      "#ax3.set_xlim((0.,600.))\n",
      "ax3.set_xlabel('Delay (mm)')\n",
      "ax3.set_ylabel('Output (Volts)')\n",
      "ax3.legend()"
     ],
     "language": "python",
     "metadata": {},
     "outputs": [
      {
       "metadata": {},
       "output_type": "pyout",
       "prompt_number": 11,
       "text": [
        "<matplotlib.legend.Legend at 0x119549d90>"
       ]
      }
     ],
     "prompt_number": 11
    },
    {
     "cell_type": "code",
     "collapsed": false,
     "input": [
      "l"
     ],
     "language": "python",
     "metadata": {},
     "outputs": [],
     "prompt_number": null
    }
   ],
   "metadata": {}
  }
 ]
}