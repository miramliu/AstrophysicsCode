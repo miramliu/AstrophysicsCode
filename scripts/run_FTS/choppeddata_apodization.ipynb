{
 "cells": [
  {
   "cell_type": "code",
   "execution_count": 1,
   "metadata": {
    "collapsed": false
   },
   "outputs": [
    {
     "name": "stdout",
     "output_type": "stream",
     "text": [
      "Using matplotlib backend: Qt5Agg\n",
      "Populating the interactive namespace from numpy and matplotlib\n"
     ]
    }
   ],
   "source": [
    "%pylab\n",
    "import matplotlib.pyplot as pl\n",
    "import pickle\n",
    "import numpy as np\n",
    "import sys\n",
    "from scipy.signal import argrelextrema\n",
    "#%matplotlib inline\n",
    "# %matplotlib qt\n",
    "\n",
    "file1=open( '../../data/raw_data/20160330_1835_90A5DHW_filter_chopped_13Hz.pkl' , 'rb')\n",
    "d1=pickle.load(file1)\n",
    "file1.close()\n",
    " \n",
    "file2=open( '../../data/raw_data/20160330_1849_90A5DHW_ref_chopped_13Hz.pkl' , 'rb')\n",
    "d2=pickle.load(file2)\n",
    "file2.close()\n",
    "\n",
    "#file3=open( '../../data/raw_data/AP025_chop.pkl' , 'rb')\n",
    "#d3=pickle.load(file3)\n",
    "#file3.close()"
   ]
  },
  {
   "cell_type": "code",
   "execution_count": 2,
   "metadata": {
    "collapsed": true
   },
   "outputs": [],
   "source": [
    "#Flat mirror new septum\n",
    "X1=d1['delay0F']\n",
    "Y1=d1['sig0F']\n",
    "\n",
    "X2=d2['delay0F']\n",
    "Y2=d2['sig0F']\n",
    "\n",
    "# X3=d3['delay0F']\n",
    "# Y3=d3['sig0F']"
   ]
  },
  {
   "cell_type": "code",
   "execution_count": 3,
   "metadata": {
    "collapsed": false
   },
   "outputs": [
    {
     "data": {
      "text/plain": [
       "<matplotlib.legend.Legend at 0xa45ffd0>"
      ]
     },
     "execution_count": 3,
     "metadata": {},
     "output_type": "execute_result"
    }
   ],
   "source": [
    "fig1=figure()\n",
    "pl.plot(X1,Y1,label='line', color='k')\n",
    "\n",
    "#pl.xlim(-30,30)\n",
    "pl.title('Interferogram with Filter')\n",
    "pl.ylabel('Signal')\n",
    "pl.xlabel('Delay')\n",
    "pl.legend(loc='lower right')\n",
    "#pl.show()\n",
    "\n",
    "fig2=figure()\n",
    "pl.plot(X2,Y2,label='line', color='k')\n",
    "\n",
    "#pl.xlim(-1,1)\n",
    "pl.title('Interferogram no Filter')\n",
    "pl.ylabel('Signal')\n",
    "pl.xlabel('Delay')\n",
    "pl.legend(loc='lower right')\n",
    "#pl.show()\n",
    "\n",
    "# fig3=figure()\n",
    "# pl.plot(X3,Y3,label='line', color='k')\n",
    "\n",
    "# #pl.xlim(-5,5)\n",
    "# pl.title('Interferogram with Filter')\n",
    "# pl.ylabel('Signal')\n",
    "# pl.xlabel('Delay')\n",
    "# pl.legend(loc='lower right')\n",
    "# #pl.show()\n"
   ]
  },
  {
   "cell_type": "code",
   "execution_count": 4,
   "metadata": {
    "collapsed": false
   },
   "outputs": [
    {
     "data": {
      "text/plain": [
       "<matplotlib.text.Text at 0xddeb278>"
      ]
     },
     "execution_count": 4,
     "metadata": {},
     "output_type": "execute_result"
    }
   ],
   "source": [
    "xmax = X1[-1]\n",
    "xmin = X1[0]\n",
    "delta_nu = 300./(xmax-xmin)\n",
    "nu = np.arange(Y1.size)*(delta_nu)\n",
    "\n",
    "fig4 =figure()\n",
    "pl.plot(nu, np.abs(np.fft.fft(Y1))/4,label='spectrum', color='k')\n",
    "#pl.xlim(3600, 4800)\n",
    "#pl.ylim(0,1.5)\n",
    "pl.title('Chopped Spectrum, filter')\n",
    "pl.legend()\n",
    "pl.xlabel('Frequency (GHz)')\n",
    "#pl.show()\n",
    "\n",
    "\n",
    "xmax = X2[-1]\n",
    "xmin = X2[0]\n",
    "delta_nu = 300./(xmax-xmin)\n",
    "nu = np.arange(Y2.size)*(delta_nu)\n",
    "fig5 = figure()\n",
    "pl.plot(nu, np.abs(np.fft.fft(Y2))/4,label='spectrum', color='k')\n",
    "#pl.xlim(3200, 5000)\n",
    "#pl.ylim(0,50)\n",
    "pl.title('Chopped Spectrum, no filter')\n",
    "pl.legend()\n",
    "pl.xlabel('Frequency (GHz)')\n",
    "#pl.show()\n",
    "\n",
    "\n",
    "# xmax = X3[-1]\n",
    "# xmin = X3[0]\n",
    "# delta_nu = 300./(xmax-xmin)\n",
    "# nu = np.arange(Y3.size)*(delta_nu)\n",
    "# fig6= figure()\n",
    "# pl.plot(nu, np.abs(np.fft.fft(Y3))/4,label='spectrum', color='k')\n",
    "# #pl.xlim(500, 1500)\n",
    "# #pl.ylim(0,50)\n",
    "# pl.title('Chopped Spectrum, no filter')\n",
    "# pl.legend()\n",
    "# pl.xlabel('Frequency (GHz)')\n",
    "# #pl.show()"
   ]
  },
  {
   "cell_type": "code",
   "execution_count": null,
   "metadata": {
    "collapsed": true
   },
   "outputs": [],
   "source": [
    "'Cyclic Shift such that wlf is in middle'\n"
   ]
  }
 ],
 "metadata": {
  "anaconda-cloud": {},
  "kernelspec": {
   "display_name": "Python [conda root]",
   "language": "python",
   "name": "conda-root-py"
  },
  "language_info": {
   "codemirror_mode": {
    "name": "ipython",
    "version": 2
   },
   "file_extension": ".py",
   "mimetype": "text/x-python",
   "name": "python",
   "nbconvert_exporter": "python",
   "pygments_lexer": "ipython2",
   "version": "2.7.12"
  }
 },
 "nbformat": 4,
 "nbformat_minor": 0
}
