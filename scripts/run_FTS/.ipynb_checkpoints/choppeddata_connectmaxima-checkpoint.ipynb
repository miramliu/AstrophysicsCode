{
 "cells": [
  {
   "cell_type": "code",
   "execution_count": 1,
   "metadata": {
    "collapsed": false
   },
   "outputs": [
    {
     "name": "stdout",
     "output_type": "stream",
     "text": [
      "Using matplotlib backend: Qt5Agg\n",
      "Populating the interactive namespace from numpy and matplotlib\n"
     ]
    }
   ],
   "source": [
    "%pylab\n",
    "import matplotlib.pyplot as pl\n",
    "import pickle\n",
    "import numpy as np\n",
    "import sys\n",
    "from scipy.signal import argrelextrema\n",
    "#%matplotlib inline\n",
    "# %matplotlib qt\n",
    "\n",
    "file1=open( '../../data/raw_data/20160330_1835_90A5DHW_filter_chopped_13Hz.pkl' , 'rb')\n",
    "d1=pickle.load(file1)\n",
    "file1.close()\n",
    " \n",
    "file2=open( '../../data/raw_data/20160330_1849_90A5DHW_ref_chopped_13Hz.pkl' , 'rb')\n",
    "d2=pickle.load(file2)\n",
    "file2.close()\n",
    "\n",
    "#file3=open( '../../data/raw_data/AP025_chop.pkl' , 'rb')\n",
    "#d3=pickle.load(file3)\n",
    "#file3.close()"
   ]
  },
  {
   "cell_type": "code",
   "execution_count": 2,
   "metadata": {
    "collapsed": true
   },
   "outputs": [],
   "source": [
    "#Flat mirror new septum\n",
    "X1=d1['delay0F']\n",
    "Y1=d1['sig0F']\n",
    "\n",
    "X2=d2['delay0F']\n",
    "Y2=d2['sig0F']\n",
    "\n",
    "# X3=d3['delay0F']\n",
    "# Y3=d3['sig0F']"
   ]
  },
  {
   "cell_type": "code",
   "execution_count": 3,
   "metadata": {
    "collapsed": false
   },
   "outputs": [
    {
     "data": {
      "text/plain": [
       "<matplotlib.legend.Legend at 0xa6b7550>"
      ]
     },
     "execution_count": 3,
     "metadata": {},
     "output_type": "execute_result"
    }
   ],
   "source": [
    "'Interferograms'\n",
    "\n",
    "# #fig1=figure()\n",
    "# pl.plot(X1,abs(Y1),label='line', color='k')\n",
    "\n",
    "# #pl.xlim(-30,30)\n",
    "# pl.title('Interferogram with Filter')\n",
    "# pl.ylabel('Signal')\n",
    "# pl.xlabel('Delay')\n",
    "# pl.legend(loc='lower right')\n",
    "# pl.show()\n",
    "\n",
    "fig2=figure()\n",
    "pl.plot(X2,abs(Y2),label='line', color='k')\n",
    "\n",
    "#pl.xlim(-1,1)\n",
    "pl.title('Interferogram no Filter')\n",
    "pl.ylabel('Signal')\n",
    "pl.xlabel('Delay')\n",
    "pl.legend(loc='lower right')\n",
    "#pl.show()\n",
    "\n",
    "# fig3=figure()\n",
    "# pl.plot(X3,Y3,label='line', color='k')\n",
    "\n",
    "# #pl.xlim(-5,5)\n",
    "# pl.title('Interferogram with Filter')\n",
    "# pl.ylabel('Signal')\n",
    "# pl.xlabel('Delay')\n",
    "# pl.legend(loc='lower right')\n",
    "# #pl.show()\n"
   ]
  },
  {
   "cell_type": "code",
   "execution_count": 5,
   "metadata": {
    "collapsed": false
   },
   "outputs": [],
   "source": [
    "'Find and connect all local maxima and minima'\n",
    "\n",
    "maxm2 = argrelextrema(Y2, np.greater)\n",
    "#min2 = argrelextrema(Y2, np.less)\n",
    "pl.plot(X2[maxm2],Y2[maxm2],label='line', color='k')\n",
    "\n",
    "fig3=figure()\n",
    "#pl.xlim(-30,30)\n",
    "pl.title('maxima')\n",
    "pl.ylabel('Signal')\n",
    "pl.xlabel('Delay')\n",
    "pl.legend(loc='lower right')\n",
    "\n",
    "#pl.show()\n",
    "\n",
    "# pl.plot(X1[min1],Y1[min1],label='line', color='k')\n",
    "\n",
    "# #pl.xlim(-30,30)\n",
    "# pl.title('minima')\n",
    "# pl.ylabel('Signal')\n",
    "# pl.xlabel('Delay')\n",
    "# pl.legend(loc='lower right')\n",
    "# pl.show()\n"
   ]
  },
  {
   "cell_type": "code",
   "execution_count": 32,
   "metadata": {
    "collapsed": false
   },
   "outputs": [
    {
     "data": {
      "text/plain": [
       "[<matplotlib.lines.Line2D at 0x19cce710>]"
      ]
     },
     "execution_count": 32,
     "metadata": {},
     "output_type": "execute_result"
    }
   ],
   "source": [
    "'ignore central part of the maxima, fit into a cosine series'\n",
    "xmax=np.array(X2[maxm2])\n",
    "ymax=np.array(Y2[maxm2])\n",
    "ind= np.concatenate([np.where(xmax<-1.1)[0], np.where(xmax>1.1)[0]])\n",
    "#plot(xmax[ind][15:], ymax[ind][15:])\n",
    "from scipy.interpolate import UnivariateSpline\n",
    "spl= UnivariateSpline(xmax[ind][15:], ymax[ind][15:], s=0.1)\n",
    "x=np.linspace(-24,24,200)\n",
    "y=spl(x)\n",
    "pl.plot(x,y)"
   ]
  },
  {
   "cell_type": "code",
   "execution_count": 30,
   "metadata": {
    "collapsed": false
   },
   "outputs": [
    {
     "data": {
      "text/plain": [
       "[<matplotlib.lines.Line2D at 0x14a54b70>]"
      ]
     },
     "execution_count": 30,
     "metadata": {},
     "output_type": "execute_result"
    }
   ],
   "source": []
  },
  {
   "cell_type": "code",
   "execution_count": null,
   "metadata": {
    "collapsed": true
   },
   "outputs": [],
   "source": []
  }
 ],
 "metadata": {
  "anaconda-cloud": {},
  "kernelspec": {
   "display_name": "Python [default]",
   "language": "python",
   "name": "python2"
  },
  "language_info": {
   "codemirror_mode": {
    "name": "ipython",
    "version": 2
   },
   "file_extension": ".py",
   "mimetype": "text/x-python",
   "name": "python",
   "nbconvert_exporter": "python",
   "pygments_lexer": "ipython2",
   "version": "2.7.12"
  }
 },
 "nbformat": 4,
 "nbformat_minor": 1
}
