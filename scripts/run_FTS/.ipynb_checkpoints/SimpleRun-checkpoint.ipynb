{
 "cells": [
  {
   "cell_type": "markdown",
   "metadata": {},
   "source": [
    "This is a simple combination of XY stage moving and FTS running. \n",
    "Choose x and y coordinates and set cosntants. \n",
    "\n",
    "Mira"
   ]
  },
  {
   "cell_type": "code",
   "execution_count": 4,
   "metadata": {},
   "outputs": [
    {
     "name": "stdout",
     "output_type": "stream",
     "text": [
      "Using matplotlib backend: MacOSX\n",
      "Populating the interactive namespace from numpy and matplotlib\n"
     ]
    }
   ],
   "source": [
    "%pylab\n",
    "import serial\n",
    "import time\n",
    "import pickle\n",
    "import sys\n",
    "import zaber_commands as zc\n",
    "import labjack_commands as lj\n",
    "from XYStage import XYStage"
   ]
  },
  {
   "cell_type": "code",
   "execution_count": 5,
   "metadata": {
    "collapsed": true
   },
   "outputs": [],
   "source": [
    "phy_to_optical=zc.opt_per_physical\n",
    "mm_per_step=zc.mm_per_step\n",
    "acc_conversion=zc.acc_conversion\n",
    "white_light_fringe=zc.white_light_fringe\n",
    "max_speed=zc.max_speed\n",
    "max_speed_o=zc.max_speed_o"
   ]
  },
  {
   "cell_type": "code",
   "execution_count": 3,
   "metadata": {},
   "outputs": [
    {
     "name": "stdout",
     "output_type": "stream",
     "text": [
      "X-coordinate: 1\n",
      "Y-coordinate: 2\n"
     ]
    }
   ],
   "source": [
    "x = raw_input('X-coordinate: ')\n",
    "y = raw_input('Y-coordinate: ')\n",
    "x = int(x)\n",
    "y = int(y)\n",
    "xy = XYStage()\n",
    "xy.move(x,y)\n",
    "#Make a note about coordinates/units?"
   ]
  },
  {
   "cell_type": "code",
   "execution_count": 6,
   "metadata": {},
   "outputs": [
    {
     "name": "stdout",
     "output_type": "stream",
     "text": [
      "handle: None\n"
     ]
    },
    {
     "ename": "NullHandleException",
     "evalue": "Couldn't open device. Please check that the device you are trying to open is connected.",
     "output_type": "error",
     "traceback": [
      "\u001b[0;31m---------------------------------------------------------------------------\u001b[0m",
      "\u001b[0;31mNullHandleException\u001b[0m                       Traceback (most recent call last)",
      "\u001b[0;32m<ipython-input-6-be471b87f145>\u001b[0m in \u001b[0;36m<module>\u001b[0;34m()\u001b[0m\n\u001b[0;32m----> 1\u001b[0;31m \u001b[0md\u001b[0m \u001b[0;34m=\u001b[0m \u001b[0mlj\u001b[0m\u001b[0;34m.\u001b[0m\u001b[0minit_labjack\u001b[0m\u001b[0;34m(\u001b[0m\u001b[0;34m)\u001b[0m\u001b[0;34m\u001b[0m\u001b[0m\n\u001b[0m\u001b[1;32m      2\u001b[0m \u001b[0md\u001b[0m\u001b[0;34m\u001b[0m\u001b[0m\n",
      "\u001b[0;32m/Users/Lab/software/scripts/run_FTS/labjack_commands.pyc\u001b[0m in \u001b[0;36minit_labjack\u001b[0;34m()\u001b[0m\n\u001b[1;32m     13\u001b[0m \u001b[0;34m\u001b[0m\u001b[0m\n\u001b[1;32m     14\u001b[0m \u001b[0;32mdef\u001b[0m \u001b[0minit_labjack\u001b[0m\u001b[0;34m(\u001b[0m\u001b[0;34m)\u001b[0m\u001b[0;34m:\u001b[0m \u001b[0;31m#initialize the U6 and return the handle\u001b[0m\u001b[0;34m\u001b[0m\u001b[0m\n\u001b[0;32m---> 15\u001b[0;31m     \u001b[0md\u001b[0m \u001b[0;34m=\u001b[0m \u001b[0mu6\u001b[0m\u001b[0;34m.\u001b[0m\u001b[0mU6\u001b[0m\u001b[0;34m(\u001b[0m\u001b[0;34m)\u001b[0m\u001b[0;34m\u001b[0m\u001b[0m\n\u001b[0m\u001b[1;32m     16\u001b[0m     \u001b[0md\u001b[0m\u001b[0;34m.\u001b[0m\u001b[0mgetCalibrationData\u001b[0m\u001b[0;34m(\u001b[0m\u001b[0;34m)\u001b[0m\u001b[0;34m\u001b[0m\u001b[0m\n\u001b[1;32m     17\u001b[0m     \u001b[0;32mreturn\u001b[0m \u001b[0md\u001b[0m\u001b[0;34m\u001b[0m\u001b[0m\n",
      "\u001b[0;32m/Users/Lab/anaconda2/lib/python2.7/site-packages/u6.pyc\u001b[0m in \u001b[0;36m__init__\u001b[0;34m(self, debug, autoOpen, **kargs)\u001b[0m\n\u001b[1;32m    210\u001b[0m \u001b[0;34m\u001b[0m\u001b[0m\n\u001b[1;32m    211\u001b[0m         \u001b[0;32mif\u001b[0m \u001b[0mautoOpen\u001b[0m\u001b[0;34m:\u001b[0m\u001b[0;34m\u001b[0m\u001b[0m\n\u001b[0;32m--> 212\u001b[0;31m             \u001b[0mself\u001b[0m\u001b[0;34m.\u001b[0m\u001b[0mopen\u001b[0m\u001b[0;34m(\u001b[0m\u001b[0;34m**\u001b[0m\u001b[0mkargs\u001b[0m\u001b[0;34m)\u001b[0m\u001b[0;34m\u001b[0m\u001b[0m\n\u001b[0m\u001b[1;32m    213\u001b[0m \u001b[0;34m\u001b[0m\u001b[0m\n\u001b[1;32m    214\u001b[0m     \u001b[0;32mdef\u001b[0m \u001b[0mopen\u001b[0m\u001b[0;34m(\u001b[0m\u001b[0mself\u001b[0m\u001b[0;34m,\u001b[0m \u001b[0mlocalId\u001b[0m \u001b[0;34m=\u001b[0m \u001b[0mNone\u001b[0m\u001b[0;34m,\u001b[0m \u001b[0mfirstFound\u001b[0m \u001b[0;34m=\u001b[0m \u001b[0mTrue\u001b[0m\u001b[0;34m,\u001b[0m \u001b[0mserial\u001b[0m \u001b[0;34m=\u001b[0m \u001b[0mNone\u001b[0m\u001b[0;34m,\u001b[0m \u001b[0mdevNumber\u001b[0m \u001b[0;34m=\u001b[0m \u001b[0mNone\u001b[0m\u001b[0;34m,\u001b[0m \u001b[0mhandleOnly\u001b[0m \u001b[0;34m=\u001b[0m \u001b[0mFalse\u001b[0m\u001b[0;34m,\u001b[0m \u001b[0mLJSocket\u001b[0m \u001b[0;34m=\u001b[0m \u001b[0mNone\u001b[0m\u001b[0;34m)\u001b[0m\u001b[0;34m:\u001b[0m\u001b[0;34m\u001b[0m\u001b[0m\n",
      "\u001b[0;32m/Users/Lab/anaconda2/lib/python2.7/site-packages/u6.pyc\u001b[0m in \u001b[0;36mopen\u001b[0;34m(self, localId, firstFound, serial, devNumber, handleOnly, LJSocket)\u001b[0m\n\u001b[1;32m    227\u001b[0m         \u001b[0;34m>>\u001b[0m\u001b[0;34m>\u001b[0m \u001b[0mmyU6\u001b[0m\u001b[0;34m.\u001b[0m\u001b[0mopen\u001b[0m\u001b[0;34m(\u001b[0m\u001b[0;34m)\u001b[0m\u001b[0;34m\u001b[0m\u001b[0m\n\u001b[1;32m    228\u001b[0m         \"\"\"\n\u001b[0;32m--> 229\u001b[0;31m         \u001b[0mDevice\u001b[0m\u001b[0;34m.\u001b[0m\u001b[0mopen\u001b[0m\u001b[0;34m(\u001b[0m\u001b[0mself\u001b[0m\u001b[0;34m,\u001b[0m \u001b[0;36m6\u001b[0m\u001b[0;34m,\u001b[0m \u001b[0mfirstFound\u001b[0m \u001b[0;34m=\u001b[0m \u001b[0mfirstFound\u001b[0m\u001b[0;34m,\u001b[0m \u001b[0mserial\u001b[0m \u001b[0;34m=\u001b[0m \u001b[0mserial\u001b[0m\u001b[0;34m,\u001b[0m \u001b[0mlocalId\u001b[0m \u001b[0;34m=\u001b[0m \u001b[0mlocalId\u001b[0m\u001b[0;34m,\u001b[0m \u001b[0mdevNumber\u001b[0m \u001b[0;34m=\u001b[0m \u001b[0mdevNumber\u001b[0m\u001b[0;34m,\u001b[0m \u001b[0mhandleOnly\u001b[0m \u001b[0;34m=\u001b[0m \u001b[0mhandleOnly\u001b[0m\u001b[0;34m,\u001b[0m \u001b[0mLJSocket\u001b[0m \u001b[0;34m=\u001b[0m \u001b[0mLJSocket\u001b[0m \u001b[0;34m)\u001b[0m\u001b[0;34m\u001b[0m\u001b[0m\n\u001b[0m\u001b[1;32m    230\u001b[0m \u001b[0;34m\u001b[0m\u001b[0m\n\u001b[1;32m    231\u001b[0m     \u001b[0;32mdef\u001b[0m \u001b[0mconfigU6\u001b[0m\u001b[0;34m(\u001b[0m\u001b[0mself\u001b[0m\u001b[0;34m,\u001b[0m \u001b[0mLocalID\u001b[0m \u001b[0;34m=\u001b[0m \u001b[0mNone\u001b[0m\u001b[0;34m)\u001b[0m\u001b[0;34m:\u001b[0m\u001b[0;34m\u001b[0m\u001b[0m\n",
      "\u001b[0;32m/Users/Lab/software/scripts/run_FTS/LabJackPython.pyc\u001b[0m in \u001b[0;36mopen\u001b[0;34m(self, devType, Ethernet, firstFound, serial, localId, devNumber, ipAddress, handleOnly, LJSocket)\u001b[0m\n\u001b[1;32m    637\u001b[0m             \u001b[0md\u001b[0m \u001b[0;34m=\u001b[0m \u001b[0mopenLabJack\u001b[0m\u001b[0;34m(\u001b[0m\u001b[0mdevType\u001b[0m\u001b[0;34m,\u001b[0m \u001b[0mct\u001b[0m\u001b[0;34m,\u001b[0m \u001b[0mhandleOnly\u001b[0m \u001b[0;34m=\u001b[0m \u001b[0mhandleOnly\u001b[0m\u001b[0;34m,\u001b[0m \u001b[0mLJSocket\u001b[0m \u001b[0;34m=\u001b[0m \u001b[0mLJSocket\u001b[0m\u001b[0;34m)\u001b[0m\u001b[0;34m\u001b[0m\u001b[0m\n\u001b[1;32m    638\u001b[0m         \u001b[0;32melif\u001b[0m \u001b[0mfirstFound\u001b[0m\u001b[0;34m:\u001b[0m\u001b[0;34m\u001b[0m\u001b[0m\n\u001b[0;32m--> 639\u001b[0;31m             \u001b[0md\u001b[0m \u001b[0;34m=\u001b[0m \u001b[0mopenLabJack\u001b[0m\u001b[0;34m(\u001b[0m\u001b[0mdevType\u001b[0m\u001b[0;34m,\u001b[0m \u001b[0mct\u001b[0m\u001b[0;34m,\u001b[0m \u001b[0mfirstFound\u001b[0m \u001b[0;34m=\u001b[0m \u001b[0mTrue\u001b[0m\u001b[0;34m,\u001b[0m \u001b[0mhandleOnly\u001b[0m \u001b[0;34m=\u001b[0m \u001b[0mhandleOnly\u001b[0m\u001b[0;34m,\u001b[0m \u001b[0mLJSocket\u001b[0m \u001b[0;34m=\u001b[0m \u001b[0mLJSocket\u001b[0m\u001b[0;34m)\u001b[0m\u001b[0;34m\u001b[0m\u001b[0m\n\u001b[0m\u001b[1;32m    640\u001b[0m         \u001b[0;32melse\u001b[0m\u001b[0;34m:\u001b[0m\u001b[0;34m\u001b[0m\u001b[0m\n\u001b[1;32m    641\u001b[0m             \u001b[0;32mraise\u001b[0m \u001b[0mLabJackException\u001b[0m\u001b[0;34m(\u001b[0m\u001b[0;34m\"You must use first found, or give a localId, devNumber, or IP Address\"\u001b[0m\u001b[0;34m)\u001b[0m\u001b[0;34m\u001b[0m\u001b[0m\n",
      "\u001b[0;32m/Users/Lab/software/scripts/run_FTS/LabJackPython.pyc\u001b[0m in \u001b[0;36mopenLabJack\u001b[0;34m(deviceType, connectionType, firstFound, pAddress, devNumber, handleOnly, LJSocket)\u001b[0m\n\u001b[1;32m   1467\u001b[0m     \u001b[0;32melif\u001b[0m \u001b[0m_os_name\u001b[0m \u001b[0;34m==\u001b[0m \u001b[0;34m'posix'\u001b[0m \u001b[0;32mand\u001b[0m \u001b[0mconnectionType\u001b[0m \u001b[0;34m==\u001b[0m \u001b[0mLJ_ctUSB\u001b[0m\u001b[0;34m:\u001b[0m\u001b[0;34m\u001b[0m\u001b[0m\n\u001b[1;32m   1468\u001b[0m         \u001b[0;31m# Linux/Mac need to work in the low level driver.\u001b[0m\u001b[0;34m\u001b[0m\u001b[0;34m\u001b[0m\u001b[0m\n\u001b[0;32m-> 1469\u001b[0;31m         \u001b[0mhandle\u001b[0m \u001b[0;34m=\u001b[0m \u001b[0m_openLabJackUsingExodriver\u001b[0m\u001b[0;34m(\u001b[0m\u001b[0mdeviceType\u001b[0m\u001b[0;34m,\u001b[0m \u001b[0mfirstFound\u001b[0m\u001b[0;34m,\u001b[0m \u001b[0mpAddress\u001b[0m\u001b[0;34m,\u001b[0m \u001b[0mdevNumber\u001b[0m\u001b[0;34m)\u001b[0m\u001b[0;34m\u001b[0m\u001b[0m\n\u001b[0m\u001b[1;32m   1470\u001b[0m         \u001b[0;32mif\u001b[0m \u001b[0misinstance\u001b[0m\u001b[0;34m(\u001b[0m \u001b[0mhandle\u001b[0m\u001b[0;34m,\u001b[0m \u001b[0mDevice\u001b[0m \u001b[0;34m)\u001b[0m\u001b[0;34m:\u001b[0m\u001b[0;34m\u001b[0m\u001b[0m\n\u001b[1;32m   1471\u001b[0m             \u001b[0;32mreturn\u001b[0m \u001b[0mhandle\u001b[0m\u001b[0;34m\u001b[0m\u001b[0m\n",
      "\u001b[0;32m/Users/Lab/software/scripts/run_FTS/LabJackPython.pyc\u001b[0m in \u001b[0;36m_openLabJackUsingExodriver\u001b[0;34m(deviceType, firstFound, pAddress, devNumber)\u001b[0m\n\u001b[1;32m   1340\u001b[0m         \u001b[0;32mif\u001b[0m \u001b[0mhandle\u001b[0m \u001b[0;34m<=\u001b[0m \u001b[0;36m0\u001b[0m\u001b[0;34m:\u001b[0m\u001b[0;34m\u001b[0m\u001b[0m\n\u001b[1;32m   1341\u001b[0m             \u001b[0;32mprint\u001b[0m \u001b[0;34m\"handle: %s\"\u001b[0m \u001b[0;34m%\u001b[0m \u001b[0mhandle\u001b[0m\u001b[0;34m\u001b[0m\u001b[0m\n\u001b[0;32m-> 1342\u001b[0;31m             \u001b[0;32mraise\u001b[0m \u001b[0mNullHandleException\u001b[0m\u001b[0;34m(\u001b[0m\u001b[0;34m)\u001b[0m\u001b[0;34m\u001b[0m\u001b[0m\n\u001b[0m\u001b[1;32m   1343\u001b[0m         \u001b[0;32mreturn\u001b[0m \u001b[0mhandle\u001b[0m\u001b[0;34m\u001b[0m\u001b[0m\n\u001b[1;32m   1344\u001b[0m     \u001b[0;32melse\u001b[0m\u001b[0;34m:\u001b[0m\u001b[0;34m\u001b[0m\u001b[0m\n",
      "\u001b[0;31mNullHandleException\u001b[0m: Couldn't open device. Please check that the device you are trying to open is connected."
     ]
    }
   ],
   "source": [
    "d = lj.init_labjack()\n",
    "d"
   ]
  },
  {
   "cell_type": "code",
   "execution_count": 7,
   "metadata": {},
   "outputs": [
    {
     "ename": "OSError",
     "evalue": "[Errno 2] No such file or directory: '/dev/tty.usbmodem1421'",
     "output_type": "error",
     "traceback": [
      "\u001b[0;31m---------------------------------------------------------------------------\u001b[0m",
      "\u001b[0;31mOSError\u001b[0m                                   Traceback (most recent call last)",
      "\u001b[0;32m<ipython-input-7-4db3fc8d90b7>\u001b[0m in \u001b[0;36m<module>\u001b[0;34m()\u001b[0m\n\u001b[1;32m      3\u001b[0m \u001b[0;31m#dev = '/dev/tty.usbmodem1411'\u001b[0m\u001b[0;34m\u001b[0m\u001b[0;34m\u001b[0m\u001b[0m\n\u001b[1;32m      4\u001b[0m \u001b[0;31m#dev = \"COM3\"\u001b[0m\u001b[0;34m\u001b[0m\u001b[0;34m\u001b[0m\u001b[0m\n\u001b[0;32m----> 5\u001b[0;31m \u001b[0mser\u001b[0m\u001b[0;34m,\u001b[0m\u001b[0merr\u001b[0m \u001b[0;34m=\u001b[0m \u001b[0mzc\u001b[0m\u001b[0;34m.\u001b[0m\u001b[0minit_zaber\u001b[0m\u001b[0;34m(\u001b[0m\u001b[0mdev\u001b[0m\u001b[0;34m)\u001b[0m\u001b[0;34m\u001b[0m\u001b[0m\n\u001b[0m",
      "\u001b[0;32m/Users/Lab/software/scripts/run_FTS/zaber_commands.pyc\u001b[0m in \u001b[0;36minit_zaber\u001b[0;34m(dev)\u001b[0m\n\u001b[1;32m     30\u001b[0m         \u001b[0mparity\u001b[0m \u001b[0;34m=\u001b[0m \u001b[0mserial\u001b[0m\u001b[0;34m.\u001b[0m\u001b[0mPARITY_NONE\u001b[0m\u001b[0;34m,\u001b[0m\u001b[0;34m\u001b[0m\u001b[0m\n\u001b[1;32m     31\u001b[0m         \u001b[0mstopbits\u001b[0m \u001b[0;34m=\u001b[0m \u001b[0mserial\u001b[0m\u001b[0;34m.\u001b[0m\u001b[0mSTOPBITS_ONE\u001b[0m\u001b[0;34m,\u001b[0m\u001b[0;34m\u001b[0m\u001b[0m\n\u001b[0;32m---> 32\u001b[0;31m         bytesize = serial.EIGHTBITS)\n\u001b[0m\u001b[1;32m     33\u001b[0m     \u001b[0;32mif\u001b[0m \u001b[0mser\u001b[0m\u001b[0;34m.\u001b[0m\u001b[0misOpen\u001b[0m\u001b[0;34m(\u001b[0m\u001b[0;34m)\u001b[0m\u001b[0;34m:\u001b[0m\u001b[0;34m\u001b[0m\u001b[0m\n\u001b[1;32m     34\u001b[0m         \u001b[0;32mprint\u001b[0m \u001b[0;34m'Serial port '\u001b[0m\u001b[0;34m,\u001b[0m \u001b[0mdev\u001b[0m\u001b[0;34m,\u001b[0m \u001b[0;34m' was opened'\u001b[0m\u001b[0;34m\u001b[0m\u001b[0m\n",
      "\u001b[0;32m/Users/Lab/anaconda2/lib/python2.7/site-packages/serial/serialutil.pyc\u001b[0m in \u001b[0;36m__init__\u001b[0;34m(self, port, baudrate, bytesize, parity, stopbits, timeout, xonxoff, rtscts, writeTimeout, dsrdtr, interCharTimeout)\u001b[0m\n\u001b[1;32m    280\u001b[0m \u001b[0;34m\u001b[0m\u001b[0m\n\u001b[1;32m    281\u001b[0m         \u001b[0;32mif\u001b[0m \u001b[0mport\u001b[0m \u001b[0;32mis\u001b[0m \u001b[0;32mnot\u001b[0m \u001b[0mNone\u001b[0m\u001b[0;34m:\u001b[0m\u001b[0;34m\u001b[0m\u001b[0m\n\u001b[0;32m--> 282\u001b[0;31m             \u001b[0mself\u001b[0m\u001b[0;34m.\u001b[0m\u001b[0mopen\u001b[0m\u001b[0;34m(\u001b[0m\u001b[0;34m)\u001b[0m\u001b[0;34m\u001b[0m\u001b[0m\n\u001b[0m\u001b[1;32m    283\u001b[0m \u001b[0;34m\u001b[0m\u001b[0m\n\u001b[1;32m    284\u001b[0m     \u001b[0;32mdef\u001b[0m \u001b[0misOpen\u001b[0m\u001b[0;34m(\u001b[0m\u001b[0mself\u001b[0m\u001b[0;34m)\u001b[0m\u001b[0;34m:\u001b[0m\u001b[0;34m\u001b[0m\u001b[0m\n",
      "\u001b[0;32m/Users/Lab/anaconda2/lib/python2.7/site-packages/serial/serialposix.pyc\u001b[0m in \u001b[0;36mopen\u001b[0;34m(self)\u001b[0m\n\u001b[1;32m    287\u001b[0m         \u001b[0;31m# open\u001b[0m\u001b[0;34m\u001b[0m\u001b[0;34m\u001b[0m\u001b[0m\n\u001b[1;32m    288\u001b[0m         \u001b[0;32mtry\u001b[0m\u001b[0;34m:\u001b[0m\u001b[0;34m\u001b[0m\u001b[0m\n\u001b[0;32m--> 289\u001b[0;31m             \u001b[0mself\u001b[0m\u001b[0;34m.\u001b[0m\u001b[0mfd\u001b[0m \u001b[0;34m=\u001b[0m \u001b[0mos\u001b[0m\u001b[0;34m.\u001b[0m\u001b[0mopen\u001b[0m\u001b[0;34m(\u001b[0m\u001b[0mself\u001b[0m\u001b[0;34m.\u001b[0m\u001b[0mportstr\u001b[0m\u001b[0;34m,\u001b[0m \u001b[0mos\u001b[0m\u001b[0;34m.\u001b[0m\u001b[0mO_RDWR\u001b[0m\u001b[0;34m|\u001b[0m\u001b[0mos\u001b[0m\u001b[0;34m.\u001b[0m\u001b[0mO_NOCTTY\u001b[0m\u001b[0;34m|\u001b[0m\u001b[0mos\u001b[0m\u001b[0;34m.\u001b[0m\u001b[0mO_NONBLOCK\u001b[0m\u001b[0;34m)\u001b[0m\u001b[0;34m\u001b[0m\u001b[0m\n\u001b[0m\u001b[1;32m    290\u001b[0m         \u001b[0;32mexcept\u001b[0m \u001b[0mIOError\u001b[0m\u001b[0;34m,\u001b[0m \u001b[0mmsg\u001b[0m\u001b[0;34m:\u001b[0m\u001b[0;34m\u001b[0m\u001b[0m\n\u001b[1;32m    291\u001b[0m             \u001b[0mself\u001b[0m\u001b[0;34m.\u001b[0m\u001b[0mfd\u001b[0m \u001b[0;34m=\u001b[0m \u001b[0mNone\u001b[0m\u001b[0;34m\u001b[0m\u001b[0m\n",
      "\u001b[0;31mOSError\u001b[0m: [Errno 2] No such file or directory: '/dev/tty.usbmodem1421'"
     ]
    }
   ],
   "source": [
    "#choose appropriate modem\n",
    "dev = '/dev/tty.usbmodem1421'\n",
    "#dev = '/dev/tty.usbmodem1411'\n",
    "#dev = \"COM3\"\n",
    "ser,err = zc.init_zaber(dev)"
   ]
  },
  {
   "cell_type": "code",
   "execution_count": null,
   "metadata": {
    "collapsed": true
   },
   "outputs": [],
   "source": [
    "niter = 1\n",
    "max_d = raw_input('Max_d: ') #mm\n",
    "max_d = int(max_d)\n",
    "speed = raw_input('Speed: ') #mm/s\n",
    "speed = int(speed)\n",
    "max_nu = 1000. # GHz\n",
    "accel = 10000. # mm/s^2\n",
    "oversample = 16\n",
    "zc.clear_trigger_do_pos(ser,1)\n",
    "zc.clear_trigger_do_pos(ser,3)\n",
    "t=zc.clear_trigger_do_pos(ser,5)"
   ]
  },
  {
   "cell_type": "code",
   "execution_count": 10,
   "metadata": {},
   "outputs": [
    {
     "ename": "TypeError",
     "evalue": "unsupported operand type(s) for ** or pow(): 'str' and 'int'",
     "output_type": "error",
     "traceback": [
      "\u001b[0;31m---------------------------------------------------------------------------\u001b[0m",
      "\u001b[0;31mTypeError\u001b[0m                                 Traceback (most recent call last)",
      "\u001b[0;32m<ipython-input-10-68db1f607d76>\u001b[0m in \u001b[0;36m<module>\u001b[0;34m()\u001b[0m\n\u001b[0;32m----> 1\u001b[0;31m \u001b[0md_accel\u001b[0m\u001b[0;34m=\u001b[0m\u001b[0mspeed\u001b[0m\u001b[0;34m**\u001b[0m\u001b[0;36m2\u001b[0m\u001b[0;34m/\u001b[0m\u001b[0;34m(\u001b[0m\u001b[0;36m2.\u001b[0m\u001b[0;34m*\u001b[0m\u001b[0maccel\u001b[0m\u001b[0;34m)\u001b[0m\u001b[0;34m\u001b[0m\u001b[0m\n\u001b[0m\u001b[1;32m      2\u001b[0m \u001b[0mstartscan\u001b[0m \u001b[0;34m=\u001b[0m \u001b[0mwhite_light_fringe\u001b[0m \u001b[0;34m-\u001b[0m \u001b[0mmax_d\u001b[0m\u001b[0;34m\u001b[0m\u001b[0m\n\u001b[1;32m      3\u001b[0m \u001b[0mstopscan\u001b[0m \u001b[0;34m=\u001b[0m \u001b[0mwhite_light_fringe\u001b[0m \u001b[0;34m+\u001b[0m \u001b[0mmax_d\u001b[0m\u001b[0;34m\u001b[0m\u001b[0m\n\u001b[1;32m      4\u001b[0m \u001b[0mstartpos\u001b[0m \u001b[0;34m=\u001b[0m \u001b[0mstartscan\u001b[0m \u001b[0;34m-\u001b[0m \u001b[0md_accel\u001b[0m\u001b[0;34m\u001b[0m\u001b[0m\n\u001b[1;32m      5\u001b[0m \u001b[0mstoppos\u001b[0m \u001b[0;34m=\u001b[0m \u001b[0mstopscan\u001b[0m \u001b[0;34m+\u001b[0m \u001b[0md_accel\u001b[0m\u001b[0;34m\u001b[0m\u001b[0m\n",
      "\u001b[0;31mTypeError\u001b[0m: unsupported operand type(s) for ** or pow(): 'str' and 'int'"
     ]
    }
   ],
   "source": [
    "d_accel=speed**2/(2.*accel)\n",
    "startscan = white_light_fringe - max_d\n",
    "stopscan = white_light_fringe + max_d\n",
    "startpos = startscan - d_accel\n",
    "stoppos = stopscan + d_accel"
   ]
  },
  {
   "cell_type": "code",
   "execution_count": 11,
   "metadata": {},
   "outputs": [
    {
     "ename": "NameError",
     "evalue": "name 'ser' is not defined",
     "output_type": "error",
     "traceback": [
      "\u001b[0;31m---------------------------------------------------------------------------\u001b[0m",
      "\u001b[0;31mNameError\u001b[0m                                 Traceback (most recent call last)",
      "\u001b[0;32m<ipython-input-11-e23817334226>\u001b[0m in \u001b[0;36m<module>\u001b[0;34m()\u001b[0m\n\u001b[0;32m----> 1\u001b[0;31m \u001b[0mzc\u001b[0m\u001b[0;34m.\u001b[0m\u001b[0munpark\u001b[0m\u001b[0;34m(\u001b[0m\u001b[0mser\u001b[0m\u001b[0;34m)\u001b[0m\u001b[0;34m\u001b[0m\u001b[0m\n\u001b[0m\u001b[1;32m      2\u001b[0m \u001b[0mzc\u001b[0m\u001b[0;34m.\u001b[0m\u001b[0mset_do\u001b[0m\u001b[0;34m(\u001b[0m\u001b[0mser\u001b[0m\u001b[0;34m,\u001b[0m\u001b[0;36m1\u001b[0m\u001b[0;34m,\u001b[0m\u001b[0;36m0\u001b[0m\u001b[0;34m)\u001b[0m\u001b[0;34m\u001b[0m\u001b[0m\n\u001b[1;32m      3\u001b[0m \u001b[0mzc\u001b[0m\u001b[0;34m.\u001b[0m\u001b[0mset_do\u001b[0m\u001b[0;34m(\u001b[0m\u001b[0mser\u001b[0m\u001b[0;34m,\u001b[0m\u001b[0;36m2\u001b[0m\u001b[0;34m,\u001b[0m\u001b[0;36m0\u001b[0m\u001b[0;34m)\u001b[0m\u001b[0;34m\u001b[0m\u001b[0m\n\u001b[1;32m      4\u001b[0m \u001b[0mzc\u001b[0m\u001b[0;34m.\u001b[0m\u001b[0mset_accel\u001b[0m\u001b[0;34m(\u001b[0m\u001b[0mser\u001b[0m\u001b[0;34m,\u001b[0m\u001b[0;36m2000.\u001b[0m\u001b[0;34m)\u001b[0m\u001b[0;34m\u001b[0m\u001b[0m\n\u001b[1;32m      5\u001b[0m \u001b[0mzc\u001b[0m\u001b[0;34m.\u001b[0m\u001b[0mset_max_speed\u001b[0m\u001b[0;34m(\u001b[0m\u001b[0mser\u001b[0m\u001b[0;34m,\u001b[0m\u001b[0mmax_speed_o\u001b[0m\u001b[0;34m)\u001b[0m\u001b[0;34m\u001b[0m\u001b[0m\n",
      "\u001b[0;31mNameError\u001b[0m: name 'ser' is not defined"
     ]
    }
   ],
   "source": [
    "zc.unpark(ser)\n",
    "zc.set_do(ser,1,0)\n",
    "zc.set_do(ser,2,0)\n",
    "zc.set_accel(ser,2000.)\n",
    "zc.set_max_speed(ser,max_speed_o)\n",
    "zc.move_abs_wait(ser,0.2)\n",
    "zc.home(ser)\n",
    "zc.set_max_speed(ser,max_speed_o)\n",
    "zc.move_abs_wait(ser,startpos)\n",
    "zc.set_trigger_do_pos(ser,white_light_fringe,2,1,1)# set digital channel 2 with trigger 1\n",
    "zc.set_trigger_do_pos(ser,startscan,1,3,1)\n",
    "zc.set_trigger_do_pos(ser,stopscan,1,5,0)\n",
    "zc.set_accel(ser,accel)\n",
    "#zc.set_max_speed(ser,speed)\n",
    "zc.set_lim_max(ser,stoppos)\n",
    "zc.set_lim_min(ser,startpos)\n",
    "zc.set_do(ser,1,0)\n",
    "t=zc.set_do(ser,2,0)"
   ]
  },
  {
   "cell_type": "code",
   "execution_count": 12,
   "metadata": {},
   "outputs": [
    {
     "ename": "NameError",
     "evalue": "name 'd' is not defined",
     "output_type": "error",
     "traceback": [
      "\u001b[0;31m---------------------------------------------------------------------------\u001b[0m",
      "\u001b[0;31mNameError\u001b[0m                                 Traceback (most recent call last)",
      "\u001b[0;32m<ipython-input-12-bdfb94a34f43>\u001b[0m in \u001b[0;36m<module>\u001b[0;34m()\u001b[0m\n\u001b[0;32m----> 1\u001b[0;31m \u001b[0mfreq\u001b[0m \u001b[0;34m=\u001b[0m \u001b[0mlj\u001b[0m\u001b[0;34m.\u001b[0m\u001b[0msetup_scan\u001b[0m\u001b[0;34m(\u001b[0m\u001b[0md\u001b[0m\u001b[0;34m,\u001b[0m\u001b[0mspeed\u001b[0m\u001b[0;34m,\u001b[0m\u001b[0mmax_nu\u001b[0m\u001b[0;34m,\u001b[0m\u001b[0moversample\u001b[0m\u001b[0;34m,\u001b[0m\u001b[0;36m2\u001b[0m\u001b[0;34m)\u001b[0m\u001b[0;34m\u001b[0m\u001b[0m\n\u001b[0m\u001b[1;32m      2\u001b[0m \u001b[0mscan_time\u001b[0m \u001b[0;34m=\u001b[0m \u001b[0;36m2\u001b[0m \u001b[0;34m*\u001b[0m \u001b[0mmax_d\u001b[0m\u001b[0;34m/\u001b[0m\u001b[0mspeed\u001b[0m \u001b[0;34m+\u001b[0m \u001b[0;36m2\u001b[0m \u001b[0;34m*\u001b[0m \u001b[0mspeed\u001b[0m\u001b[0;34m/\u001b[0m\u001b[0maccel\u001b[0m\u001b[0;34m\u001b[0m\u001b[0m\n\u001b[1;32m      3\u001b[0m \u001b[0mn\u001b[0m \u001b[0;34m=\u001b[0m \u001b[0mint\u001b[0m\u001b[0;34m(\u001b[0m\u001b[0;34m(\u001b[0m\u001b[0;36m1.68\u001b[0m\u001b[0;34m*\u001b[0m\u001b[0mscan_time\u001b[0m \u001b[0;34m-\u001b[0m \u001b[0;36m.2\u001b[0m\u001b[0;34m)\u001b[0m \u001b[0;34m*\u001b[0m \u001b[0mfreq\u001b[0m\u001b[0;34m)\u001b[0m\u001b[0;34m\u001b[0m\u001b[0m\n\u001b[1;32m      4\u001b[0m \u001b[0mdx\u001b[0m \u001b[0;34m=\u001b[0m \u001b[0mspeed\u001b[0m \u001b[0;34m/\u001b[0m \u001b[0mfreq\u001b[0m\u001b[0;34m\u001b[0m\u001b[0m\n\u001b[1;32m      5\u001b[0m \u001b[0;32mprint\u001b[0m \u001b[0;34m'freq = '\u001b[0m\u001b[0;34m,\u001b[0m\u001b[0mfreq\u001b[0m\u001b[0;34m,\u001b[0m \u001b[0;34m' scan time = '\u001b[0m\u001b[0;34m,\u001b[0m\u001b[0;36m2\u001b[0m\u001b[0;34m*\u001b[0m\u001b[0mmax_d\u001b[0m\u001b[0;34m/\u001b[0m\u001b[0mspeed\u001b[0m\u001b[0;34m\u001b[0m\u001b[0m\n",
      "\u001b[0;31mNameError\u001b[0m: name 'd' is not defined"
     ]
    }
   ],
   "source": [
    "freq = lj.setup_scan(d,speed,max_nu,oversample,2)\n",
    "scan_time = 2 * max_d/speed + 2 * speed/accel\n",
    "n = int((1.68*scan_time - .2) * freq)\n",
    "dx = speed / freq\n",
    "print 'freq = ',freq, ' scan time = ',2*max_d/speed\n",
    "print 'travel time = ',2 * max_d/speed, ' acc time = ',2 * speed/accel\n",
    "print 'num samples requested = ',n\n",
    "print 'max_nu in mm*-1 = ', max_nu/300.\n",
    "data={'run':'test run'}\n",
    "for iiter in np.arange(niter):\n",
    "    #zc.move_abs(ser,stoppos)\n",
    "    key=str(iiter)+'F'\n",
    "    zc.move_vel(ser,speed)\n",
    "    lj.start_adc_one(d,n,dx,data,key)\n",
    "    print ' '\n",
    "    print 'Iteration ',str(iiter)\n",
    "    print 'size going forward = ',data['sig'+key].size\n",
    "    time.sleep(.1)\n",
    "    #zc.move_abs(ser,startpos)\n",
    "    key=str(iiter)+'R'\n",
    "    zc.move_vel(ser,-speed)\n",
    "    lj.start_adc_one(d,n,-dx,data,key)\n",
    "    print 'size going reverse = ',data['sig'+key].size\n",
    "    time.sleep(.1)\n",
    "zc.set_do(ser,1,0)\n",
    "zc.set_do(ser,2,0)\n",
    "zc.clear_trigger_do_pos(ser,1)\n",
    "zc.clear_trigger_do_pos(ser,3)\n",
    "zc.clear_trigger_do_pos(ser,5)\n",
    "zc.set_accel(ser,2000.)\n",
    "zc.set_max_speed(ser,max_speed_o)\n",
    "zc.move_abs_wait(ser,white_light_fringe)\n",
    "t=zc.park(ser)"
   ]
  },
  {
   "cell_type": "code",
   "execution_count": 13,
   "metadata": {},
   "outputs": [
    {
     "ename": "NameError",
     "evalue": "name 'data' is not defined",
     "output_type": "error",
     "traceback": [
      "\u001b[0;31m---------------------------------------------------------------------------\u001b[0m",
      "\u001b[0;31mNameError\u001b[0m                                 Traceback (most recent call last)",
      "\u001b[0;32m<ipython-input-13-22c16cd384ef>\u001b[0m in \u001b[0;36m<module>\u001b[0;34m()\u001b[0m\n\u001b[0;32m----> 1\u001b[0;31m \u001b[0;32mprint\u001b[0m \u001b[0mdata\u001b[0m\u001b[0;34m[\u001b[0m\u001b[0;34m'delay0F'\u001b[0m\u001b[0;34m]\u001b[0m\u001b[0;34m.\u001b[0m\u001b[0msize\u001b[0m\u001b[0;34m\u001b[0m\u001b[0m\n\u001b[0m\u001b[1;32m      2\u001b[0m \u001b[0;32mprint\u001b[0m \u001b[0mdata\u001b[0m\u001b[0;34m[\u001b[0m\u001b[0;34m'sig0F'\u001b[0m\u001b[0;34m]\u001b[0m\u001b[0;34m.\u001b[0m\u001b[0msize\u001b[0m\u001b[0;34m\u001b[0m\u001b[0m\n",
      "\u001b[0;31mNameError\u001b[0m: name 'data' is not defined"
     ]
    }
   ],
   "source": [
    "print data['delay0F'].size\n",
    "print data['sig0F'].size"
   ]
  },
  {
   "cell_type": "code",
   "execution_count": 14,
   "metadata": {},
   "outputs": [
    {
     "ename": "NameError",
     "evalue": "name 'data' is not defined",
     "output_type": "error",
     "traceback": [
      "\u001b[0;31m---------------------------------------------------------------------------\u001b[0m",
      "\u001b[0;31mNameError\u001b[0m                                 Traceback (most recent call last)",
      "\u001b[0;32m<ipython-input-14-9d0fe035b7e7>\u001b[0m in \u001b[0;36m<module>\u001b[0;34m()\u001b[0m\n\u001b[1;32m      2\u001b[0m \u001b[0;31m#plot(data['delay0F'],data['scan0F'])\u001b[0m\u001b[0;34m\u001b[0m\u001b[0;34m\u001b[0m\u001b[0m\n\u001b[1;32m      3\u001b[0m \u001b[0;31m#plot(data['delay0F'],data['wlf0F'])\u001b[0m\u001b[0;34m\u001b[0m\u001b[0;34m\u001b[0m\u001b[0m\n\u001b[0;32m----> 4\u001b[0;31m \u001b[0mplot\u001b[0m\u001b[0;34m(\u001b[0m\u001b[0mdata\u001b[0m\u001b[0;34m[\u001b[0m\u001b[0;34m'sig0F'\u001b[0m\u001b[0;34m]\u001b[0m\u001b[0;34m)\u001b[0m\u001b[0;34m\u001b[0m\u001b[0m\n\u001b[0m\u001b[1;32m      5\u001b[0m \u001b[0;31m#plot(data['sig0R'])\u001b[0m\u001b[0;34m\u001b[0m\u001b[0;34m\u001b[0m\u001b[0m\n\u001b[1;32m      6\u001b[0m \u001b[0;31m#plot(data['delay0F'],data['sig0F'])\u001b[0m\u001b[0;34m\u001b[0m\u001b[0;34m\u001b[0m\u001b[0m\n",
      "\u001b[0;31mNameError\u001b[0m: name 'data' is not defined"
     ]
    }
   ],
   "source": [
    "figure(2)\n",
    "#plot(data['delay0F'],data['scan0F'])\n",
    "#plot(data['delay0F'],data['wlf0F'])\n",
    "plot(data['sig0F'])\n",
    "#plot(data['sig0R'])\n",
    "#plot(data['delay0F'],data['sig0F'])\n",
    "#plot(data['delay0R'],data['sig0R'])\n",
    "\n",
    "figure(2)\n",
    "#plot(data['delay0R'],data['scan0R'])\n",
    "#plot(data['delay0R'],data['wlf0R'])\n",
    "plot(data['delay0R'],data['sig0R'])\n",
    "\n",
    "figure(3)\n",
    "plot(data['wlf0F'])\n",
    "plot(data['scan0F'])\n",
    "plot(data['delay0R'],data['delay0F'])"
   ]
  },
  {
   "cell_type": "code",
   "execution_count": 15,
   "metadata": {},
   "outputs": [
    {
     "ename": "SystemExit",
     "evalue": "",
     "output_type": "error",
     "traceback": [
      "An exception has occurred, use %tb to see the full traceback.\n",
      "\u001b[0;31mSystemExit\u001b[0m\n"
     ]
    },
    {
     "name": "stderr",
     "output_type": "stream",
     "text": [
      "To exit: use 'exit', 'quit', or Ctrl-D.\n"
     ]
    }
   ],
   "source": [
    "sys.exit()"
   ]
  },
  {
   "cell_type": "code",
   "execution_count": null,
   "metadata": {
    "collapsed": true
   },
   "outputs": [],
   "source": []
  }
 ],
 "metadata": {
  "anaconda-cloud": {},
  "kernelspec": {
   "display_name": "Python 2",
   "language": "python",
   "name": "python2"
  },
  "language_info": {
   "codemirror_mode": {
    "name": "ipython",
    "version": 2
   },
   "file_extension": ".py",
   "mimetype": "text/x-python",
   "name": "python",
   "nbconvert_exporter": "python",
   "pygments_lexer": "ipython2",
   "version": "2.7.13"
  }
 },
 "nbformat": 4,
 "nbformat_minor": 1
}
