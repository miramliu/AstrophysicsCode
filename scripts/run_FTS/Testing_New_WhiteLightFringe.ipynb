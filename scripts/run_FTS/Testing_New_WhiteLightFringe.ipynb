{
 "cells": [
  {
   "cell_type": "code",
   "execution_count": 1,
   "metadata": {},
   "outputs": [],
   "source": [
    "import zaber_commands as zc\n",
    "from fts_scan_zc import fts_scan_zc\n",
    "import numpy as np\n",
    "import serial\n",
    "import time"
   ]
  },
  {
   "cell_type": "code",
   "execution_count": 2,
   "metadata": {},
   "outputs": [
    {
     "name": "stdout",
     "output_type": "stream",
     "text": [
      "Serial port  /dev/tty.usbmodem1411  was opened\n",
      "118\n"
     ]
    }
   ],
   "source": [
    "#dev = '/dev/tty.usbmodem1421'\n",
    "dev = '/dev/tty.usbmodem1411'\n",
    "#dev = \"COM4\"\n",
    "ser,err = zc.init_zaber(dev)"
   ]
  },
  {
   "cell_type": "code",
   "execution_count": 3,
   "metadata": {
    "collapsed": true
   },
   "outputs": [],
   "source": [
    "run_name = 'run_fts_fnal_1'\n",
    "niter = 0\n",
    "max_d = 0. #mm\n",
    "speed = 5. #mm/s\n",
    "max_nu = 300. # GHz\n",
    "accel = 10000. # mm/s^2\n",
    "oversample = 16\n",
    "gain = 2    # 0 is -10V to 10V\n",
    "            # 1 is -1V to 1V\n",
    "            # 2 is -0.1V to 0.1V\n",
    "            # 3 is -10 mV to 10 mV"
   ]
  },
  {
   "cell_type": "code",
   "execution_count": 4,
   "metadata": {},
   "outputs": [],
   "source": [
    "err,response = zc.get_device_ser(ser)"
   ]
  },
  {
   "cell_type": "code",
   "execution_count": 5,
   "metadata": {},
   "outputs": [
    {
     "name": "stdout",
     "output_type": "stream",
     "text": [
      "22 44248\n"
     ]
    }
   ],
   "source": [
    "print err,response"
   ]
  },
  {
   "cell_type": "code",
   "execution_count": null,
   "metadata": {
    "collapsed": true
   },
   "outputs": [],
   "source": []
  },
  {
   "cell_type": "code",
   "execution_count": null,
   "metadata": {
    "collapsed": true
   },
   "outputs": [],
   "source": []
  }
 ],
 "metadata": {
  "kernelspec": {
   "display_name": "Python 2",
   "language": "python",
   "name": "python2"
  },
  "language_info": {
   "codemirror_mode": {
    "name": "ipython",
    "version": 2
   },
   "file_extension": ".py",
   "mimetype": "text/x-python",
   "name": "python",
   "nbconvert_exporter": "python",
   "pygments_lexer": "ipython2",
   "version": "2.7.13"
  }
 },
 "nbformat": 4,
 "nbformat_minor": 2
}
