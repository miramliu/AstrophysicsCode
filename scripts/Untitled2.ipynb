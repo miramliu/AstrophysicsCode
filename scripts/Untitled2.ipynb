{
 "cells": [
  {
   "cell_type": "code",
   "execution_count": 11,
   "metadata": {
    "collapsed": false
   },
   "outputs": [],
   "source": [
    "def Analysis():\n",
    "\n",
    "    import pickle\n",
    "    import numpy as np\n",
    "    import glob\n",
    "    import matplotlib.pyplot as plt\n",
    "    \n",
    "    for name in glob.glob('../software/*.pkl'): \n",
    "        print name\n",
    "    \n",
    "    f = raw_input ('Pickle File Name: ')\n",
    "    X = str(f)\n",
    "\n",
    "    file=open( X , 'rb')\n",
    "    d=pickle.load(file)\n",
    "    file.close()\n",
    "\n",
    "\n",
    "    g = raw_input('Signal(0F or 0R): ')\n",
    "    Y = str(g)\n",
    "\n",
    "    a = d['delay'+Y]\n",
    "    b = d['sig'+Y]\n",
    "    plt.figure(1)\n",
    "    plt.subplot(211)\n",
    "    \n",
    "    plt.plot(a, b)\n",
    "    plt.xlabel(\"Delay0F\")\n",
    "    plt.ylabel(\"Sig0F\")\n",
    "    \n",
    "    plt.show\n",
    "\n",
    "   "
   ]
  },
  {
   "cell_type": "code",
   "execution_count": 12,
   "metadata": {
    "collapsed": false
   },
   "outputs": [
    {
     "name": "stdout",
     "output_type": "stream",
     "text": [
      "../software/10mmpersec70mm.pkl\n",
      "../software/10mmpersec70mm_2.pkl\n",
      "../software/20160119_1021_Reference_1.pkl\n",
      "../software/20160119_1023_Reference_1.pkl\n",
      "../software/20160119_1109_2_Hz_function_generator.pkl\n",
      "../software/20160119_1114_2_Hz_square.pkl\n",
      "../software/20160119_1149_2_Hz_square_new_vel.pkl\n",
      "../software/ap0125.pkl\n",
      "../software/AP0125_chop.pkl\n",
      "../software/ap025.pkl\n",
      "../software/AP025_chop.pkl\n",
      "../software/ap050.pkl\n",
      "../software/apo25_2.pkl\n",
      "../software/apo25_3.pkl\n",
      "../software/apo25_with_baffle.pkl\n",
      "../software/DHW90_10mmpersec70mm.pkl\n",
      "../software/no_absorber_on_septum.pkl\n",
      "../software/no_absorber_on_septum_chopped.pkl\n",
      "../software/no_absorber_on_septum_chopped_p2aperture.pkl\n",
      "../software/no_absorber_on_septum_p1aperture.pkl\n",
      "../software/no_absorber_on_septum_p2aperture.pkl\n",
      "../software/no_absorber_on_septum_p2apertureandfoam.pkl\n",
      "../software/no_absorber_on_septum_p2apertureandfoam2.pkl\n",
      "../software/no_absorber_on_septum_p2apertureandfoam_chopped.pkl\n",
      "../software/no_absorber_on_septum_p6apertureandfoam2.pkl\n",
      "../software/no_absorber_on_septum_p6apertureandfoam_chopped.pkl\n",
      "../software/right_sideup.pkl\n",
      "../software/Second_set_of_absorbers.pkl\n",
      "../software/Second_set_of_absorbers_2.pkl\n",
      "../software/third_set_of_absorbers.pkl\n",
      "../software/third_set_of_absorbers_2.pkl\n",
      "Pickle File Name: 20160119_1149_2_Hz_square_new_vel.pkl\n",
      "Signal(0F or 0R): 0F\n"
     ]
    }
   ],
   "source": [
    "Analysis()"
   ]
  },
  {
   "cell_type": "code",
   "execution_count": null,
   "metadata": {
    "collapsed": false
   },
   "outputs": [],
   "source": []
  },
  {
   "cell_type": "code",
   "execution_count": null,
   "metadata": {
    "collapsed": true
   },
   "outputs": [],
   "source": []
  }
 ],
 "metadata": {
  "kernelspec": {
   "display_name": "Python 2",
   "language": "python",
   "name": "python2"
  },
  "language_info": {
   "codemirror_mode": {
    "name": "ipython",
    "version": 2
   },
   "file_extension": ".py",
   "mimetype": "text/x-python",
   "name": "python",
   "nbconvert_exporter": "python",
   "pygments_lexer": "ipython2",
   "version": "2.7.9"
  }
 },
 "nbformat": 4,
 "nbformat_minor": 0
}
