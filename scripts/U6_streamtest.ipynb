{
 "metadata": {
  "kernelspec": {
   "display_name": "Python 2",
   "language": "python",
   "name": "python2"
  },
  "language_info": {
   "codemirror_mode": {
    "name": "ipython",
    "version": 2
   },
   "file_extension": ".py",
   "mimetype": "text/x-python",
   "name": "python",
   "nbconvert_exporter": "python",
   "pygments_lexer": "ipython2",
   "version": "2.7.6"
  },
  "name": ""
 },
 "nbformat": 3,
 "nbformat_minor": 0,
 "worksheets": [
  {
   "cells": [
    {
     "cell_type": "code",
     "collapsed": true,
     "input": [
      "import traceback\n",
      "from datetime import datetime\n",
      "import u6"
     ],
     "language": "python",
     "metadata": {},
     "outputs": [],
     "prompt_number": 1
    },
    {
     "cell_type": "code",
     "collapsed": true,
     "input": [
      "# MAX_REQUESTS is the number of packets to be read.\n",
      "MAX_REQUESTS = 20"
     ],
     "language": "python",
     "metadata": {},
     "outputs": [],
     "prompt_number": 6
    },
    {
     "cell_type": "code",
     "collapsed": false,
     "input": [
      "################################################################################\n",
      "## U6\n",
      "################################################################################\n",
      "## At high frequencies ( >5 kHz), the number of samples will be MAX_REQUESTS times 48\n",
      "## (packets per request) times 25 (samples per packet).\n",
      "d = u6.U6()\n",
      "#\n",
      "## For applying the proper calibration to readings.\n",
      "#d.getCalibrationData()\n",
      "#\n",
      "print \"configuring U6 stream\"\n",
      "#\n",
      "d.streamConfig( NumChannels = 2, ChannelNumbers = [ 0, 1 ],\n",
      "               ChannelOptions = [ 0, 0 ], SettlingFactor = 1,\n",
      "               ResolutionIndex = 1, ScanFrequency = 1000 )\n"
     ],
     "language": "python",
     "metadata": {},
     "outputs": [
      {
       "output_type": "stream",
       "stream": "stdout",
       "text": [
        "configuring U6 stream\n"
       ]
      }
     ],
     "prompt_number": 7
    },
    {
     "cell_type": "code",
     "collapsed": false,
     "input": [
      "try:\n",
      "    print \"start stream\",\n",
      "    d.streamStart()\n",
      "    start = datetime.now()\n",
      "    print start\n",
      "    \n",
      "    missed = 0\n",
      "    dataCount = 0\n",
      "    packetCount = 0\n",
      "\n",
      "    for r in d.streamData():\n",
      "        if r is not None:\n",
      "            # Our stop condition\n",
      "            if dataCount >= MAX_REQUESTS:\n",
      "                break\n",
      "            \n",
      "            if r['errors'] != 0:\n",
      "                print \"Error: %s ; \" % r['errors'], datetime.now()\n",
      "\n",
      "            if r['numPackets'] != d.packetsPerRequest:\n",
      "                print \"----- UNDERFLOW : %s : \" % r['numPackets'], datetime.now()\n",
      "\n",
      "            if r['missed'] != 0:\n",
      "                missed += r['missed']\n",
      "                print \"+++ Missed \", r['missed']\n",
      "\n",
      "            # Comment out these prints and do something with r\n",
      "            print \"Average of\" , len(r['AIN0']), \"AIN0,\" , len(r['AIN1']) , \"AIN1 reading(s):\", \n",
      "            print sum(r['AIN0'])/len(r['AIN0']) , \",\" , sum(r['AIN1'])/len(r['AIN1'])\n",
      "\n",
      "            dataCount += 1\n",
      "            packetCount += r['numPackets']\n",
      "        else:\n",
      "            # Got no data back from our read.\n",
      "            # This only happens if your stream isn't faster than the \n",
      "            # the USB read timeout, ~1 sec.\n",
      "            print \"No data\", datetime.now()\n",
      "except:\n",
      "    print \"\".join(i for i in traceback.format_exc())\n",
      "finally:\n",
      "    stop = datetime.now()\n",
      "    d.streamStop()\n",
      "    print \"stream stopped.\"\n",
      "    d.close()\n",
      "\n",
      "    sampleTotal = packetCount * d.streamSamplesPerPacket\n",
      "\n",
      "    scanTotal = sampleTotal / 2 #sampleTotal / NumChannels\n",
      "    print \"%s requests with %s packets per request with %s samples per packet = %s samples total.\" % ( dataCount, (float(packetCount) / dataCount), d.streamSamplesPerPacket, sampleTotal )\n",
      "    print \"%s samples were lost due to errors.\" % missed\n",
      "    sampleTotal -= missed\n",
      "    print \"Adjusted number of samples = %s\" % sampleTotal\n",
      "\n",
      "    runTime = (stop-start).seconds + float((stop-start).microseconds)/1000000\n",
      "    print \"The experiment took %s seconds.\" % runTime\n",
      "    print \"Scan Rate : %s scans / %s seconds = %s Hz\" % ( scanTotal, runTime, float(scanTotal)/runTime )\n",
      "    print \"Sample Rate : %s samples / %s seconds = %s Hz\" % ( sampleTotal, runTime, float(sampleTotal)/runTime )\n"
     ],
     "language": "python",
     "metadata": {},
     "outputs": [
      {
       "output_type": "stream",
       "stream": "stdout",
       "text": [
        "start stream 2015-12-10 11:01:38.425657\n",
        "Average of 500 AIN0, 500 AIN1 reading(s): -10.5861710662 , -10.5818540009\n",
        "Average of 500 AIN0, 500 AIN1 reading(s): -10.5861956991 , -10.5861963307\n",
        "Average of 500 AIN0, 500 AIN1 reading(s): -10.5861836985 , -10.5861862249\n",
        "Average of 500 AIN0, 500 AIN1 reading(s): -10.586200752 , -10.5861988571\n",
        "Average of 500 AIN0, 500 AIN1 reading(s): -10.5861748559 , -10.5861868565\n",
        "Average of 500 AIN0, 500 AIN1 reading(s): -10.5861855933 , -10.5861988571\n",
        "Average of 500 AIN0, 500 AIN1 reading(s): -10.5861735927 , -10.5861874881\n",
        "Average of 500 AIN0, 500 AIN1 reading(s): -10.5861906462 , -10.5861881197\n",
        "Average of 500 AIN0, 500 AIN1 reading(s): -10.5861824352 , -10.5862102261\n",
        "Average of 500 AIN0, 500 AIN1 reading(s): -10.5862045416 , -10.5862070681\n",
        "Average of 500 AIN0, 500 AIN1 reading(s): -10.5861843301 , -10.5861900146\n",
        "Average of 500 AIN0, 500 AIN1 reading(s): -10.5861704346 , -10.5861994887\n",
        "Average of 500 AIN0, 500 AIN1 reading(s): -10.5861931726 , -10.5862045416\n",
        "Average of 500 AIN0, 500 AIN1 reading(s): -10.5861843301 , -10.5861931726\n",
        "Average of 500 AIN0, 500 AIN1 reading(s): -10.5861773823 , -10.5861956991\n",
        "Average of 500 AIN0, 500 AIN1 reading(s): -10.5861754875 , -10.5861963307\n",
        "Average of 500 AIN0, 500 AIN1 reading(s): -10.5861710662 , -10.5861994887\n",
        "Average of 500 AIN0, 500 AIN1 reading(s): -10.5861792772 , -10.5862001204\n",
        "Average of 500 AIN0, 500 AIN1 reading(s): -10.5861824352 , -10.586192541\n",
        "Average of 500 AIN0, 500 AIN1 reading(s): -10.5861754875 , -10.5861887513\n",
        "stream stopped.\n",
        "20 requests with 40.0 packets per request with 25 samples per packet = 20000 samples total.\n",
        "0 samples were lost due to errors.\n",
        "Adjusted number of samples = 20000\n",
        "The experiment took 10.518448 seconds.\n",
        "Scan Rate : 10000 scans / 10.518448 seconds = 950.71059913 Hz\n",
        "Sample Rate : 20000 samples / 10.518448 seconds = 1901.42119826 Hz\n"
       ]
      }
     ],
     "prompt_number": 8
    },
    {
     "cell_type": "code",
     "collapsed": false,
     "input": [
      "d.packetsPerRequest"
     ],
     "language": "python",
     "metadata": {},
     "outputs": [
      {
       "metadata": {},
       "output_type": "pyout",
       "prompt_number": 5,
       "text": [
        "48"
       ]
      }
     ],
     "prompt_number": 5
    },
    {
     "cell_type": "code",
     "collapsed": true,
     "input": [],
     "language": "python",
     "metadata": {},
     "outputs": [],
     "prompt_number": null
    }
   ],
   "metadata": {}
  }
 ]
}