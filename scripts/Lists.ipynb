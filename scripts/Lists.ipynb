{
 "cells": [
  {
   "cell_type": "code",
   "execution_count": 17,
   "metadata": {
    "collapsed": true
   },
   "outputs": [],
   "source": [
    "import numpy as np\n",
    "import matplotlib.pyplot as pl"
   ]
  },
  {
   "cell_type": "code",
   "execution_count": 2,
   "metadata": {
    "collapsed": false
   },
   "outputs": [
    {
     "data": {
      "text/plain": [
       "['a', 'b', 'c']"
      ]
     },
     "execution_count": 2,
     "metadata": {},
     "output_type": "execute_result"
    }
   ],
   "source": [
    "FL = ['a','b','c']\n",
    "FL"
   ]
  },
  {
   "cell_type": "code",
   "execution_count": 3,
   "metadata": {
    "collapsed": false
   },
   "outputs": [
    {
     "data": {
      "text/plain": [
       "['e', 'f', 'g']"
      ]
     },
     "execution_count": 3,
     "metadata": {},
     "output_type": "execute_result"
    }
   ],
   "source": [
    "SL = ['e','f','g']\n",
    "SL"
   ]
  },
  {
   "cell_type": "code",
   "execution_count": 4,
   "metadata": {
    "collapsed": false
   },
   "outputs": [
    {
     "data": {
      "text/plain": [
       "[['a', 'b', 'c'], ['e', 'f', 'g']]"
      ]
     },
     "execution_count": 4,
     "metadata": {},
     "output_type": "execute_result"
    }
   ],
   "source": [
    "TL = [FL,SL]\n",
    "TL"
   ]
  },
  {
   "cell_type": "code",
   "execution_count": 5,
   "metadata": {
    "collapsed": false
   },
   "outputs": [
    {
     "name": "stdout",
     "output_type": "stream",
     "text": [
      "b\n"
     ]
    }
   ],
   "source": [
    "print TL[0][1] #First list, second element"
   ]
  },
  {
   "cell_type": "code",
   "execution_count": 2,
   "metadata": {
    "collapsed": false
   },
   "outputs": [],
   "source": [
    "fignum=1\n",
    "fig = pl.figure(fignum)\n",
    "ax1 = pl.subplot2grid((2,1), (0,0))\n",
    "ax2 = pl.subplot2grid((2,1), (1,0))\n",
    "figattr=[fignum,fig,ax1, ax2]"
   ]
  },
  {
   "cell_type": "code",
   "execution_count": 2,
   "metadata": {
    "collapsed": true
   },
   "outputs": [],
   "source": [
    "fignum = 2\n",
    "fig = pl.figure(fignum)\n",
    "ax1 = pl.subplot2grid((2,1), (0,0))\n",
    "ax2 = pl.subplot2grid((2,1), (1,0))\n",
    "figattr2=[fignum,fig,ax1, ax2]\n"
   ]
  },
  {
   "cell_type": "code",
   "execution_count": 11,
   "metadata": {
    "collapsed": false
   },
   "outputs": [
    {
     "name": "stdout",
     "output_type": "stream",
     "text": [
      "[1, 4]\n"
     ]
    }
   ],
   "source": [
    "r = []\n",
    "figlist = [[1,2,3],[4,5,6]]\n",
    "for i in np.arange(len(figlist)):\n",
    "    r.append(figlist[i][0]) \n",
    "    figmarker = i\n",
    "print r"
   ]
  },
  {
   "cell_type": "code",
   "execution_count": 18,
   "metadata": {
    "collapsed": false
   },
   "outputs": [
    {
     "name": "stdout",
     "output_type": "stream",
     "text": [
      "[1, 2, 3]\n",
      "[[1, 2, 3]]\n"
     ]
    }
   ],
   "source": [
    "B = [1,2,3]\n",
    "C = B\n",
    "print C\n",
    "d = []\n",
    "d.append(B)\n",
    "print d\n"
   ]
  },
  {
   "cell_type": "code",
   "execution_count": 2,
   "metadata": {
    "collapsed": false
   },
   "outputs": [
    {
     "name": "stdout",
     "output_type": "stream",
     "text": [
      "number: 1\n",
      "[]\n",
      "this is figattr: \n",
      "['1', 1, 2, 3]\n",
      "this is figlist: \n",
      "[['1', 1, 2, 3]]\n"
     ]
    },
    {
     "ename": "NameError",
     "evalue": "name 'figmarker' is not defined",
     "output_type": "error",
     "traceback": [
      "\u001b[0;31m---------------------------------------------------------------------------\u001b[0m",
      "\u001b[0;31mNameError\u001b[0m                                 Traceback (most recent call last)",
      "\u001b[0;32m<ipython-input-2-480e1e1fd150>\u001b[0m in \u001b[0;36m<module>\u001b[0;34m()\u001b[0m\n\u001b[1;32m     18\u001b[0m         \u001b[0mfiglist\u001b[0m\u001b[0;34m.\u001b[0m\u001b[0mappend\u001b[0m\u001b[0;34m(\u001b[0m\u001b[0mfigattr\u001b[0m\u001b[0;34m)\u001b[0m\u001b[0;34m\u001b[0m\u001b[0m\n\u001b[1;32m     19\u001b[0m         \u001b[0;32mprint\u001b[0m \u001b[0mfiglist\u001b[0m\u001b[0;34m\u001b[0m\u001b[0m\n\u001b[0;32m---> 20\u001b[0;31m         \u001b[0;32mprint\u001b[0m \u001b[0;34m'this is '\u001b[0m \u001b[0;34m+\u001b[0m \u001b[0mfigmarker\u001b[0m\u001b[0;34m\u001b[0m\u001b[0m\n\u001b[0m\u001b[1;32m     21\u001b[0m     \u001b[0;32melse\u001b[0m\u001b[0;34m:\u001b[0m\u001b[0;34m\u001b[0m\u001b[0m\n\u001b[1;32m     22\u001b[0m         \u001b[0mfigattr\u001b[0m \u001b[0;34m=\u001b[0m \u001b[0mfiglist\u001b[0m\u001b[0;34m[\u001b[0m\u001b[0mi\u001b[0m\u001b[0;34m]\u001b[0m\u001b[0;34m\u001b[0m\u001b[0m\n",
      "\u001b[0;31mNameError\u001b[0m: name 'figmarker' is not defined"
     ]
    }
   ],
   "source": [
    "figlist = []\n",
    "while True:\n",
    "    k = raw_input('number: ')\n",
    "    if len(k)==0:\n",
    "        break\n",
    "    r = []\n",
    "    if len(figlist)>0:\n",
    "        for i in np.arange(len(figlist)):\n",
    "            r.append(figlist[i][0])\n",
    "            figmarker = i\n",
    "    new = k not in r\n",
    "    print r\n",
    "    if new: \n",
    "        figattr = [k,1,2,3]\n",
    "        print 'this is figattr: '\n",
    "        print figattr\n",
    "        print 'this is figlist: '\n",
    "        figlist.append(figattr)\n",
    "        print figlist\n",
    "        print 'this is ' + figmarker\n",
    "    else:\n",
    "        figattr = figlist[i]\n",
    "        print 'this is figattr: '\n",
    "        print figattr\n",
    "        print 'this is ' + figmarker\n",
    "        "
   ]
  },
  {
   "cell_type": "code",
   "execution_count": 14,
   "metadata": {
    "collapsed": false
   },
   "outputs": [
    {
     "name": "stdout",
     "output_type": "stream",
     "text": [
      "k: 7\n",
      "[7, 8, 9]\n"
     ]
    }
   ],
   "source": [
    "k = raw_input ('k: ')\n",
    "K = int(k)\n",
    "e = [[1,2,3], [4,5,6], [7,8,9]]\n",
    "this = e[2]\n",
    "if K in this:\n",
    "    print e[2]"
   ]
  },
  {
   "cell_type": "code",
   "execution_count": 12,
   "metadata": {
    "collapsed": false
   },
   "outputs": [
    {
     "name": "stdout",
     "output_type": "stream",
     "text": [
      "k: 1\n",
      "yes\n"
     ]
    }
   ],
   "source": [
    "k = raw_input('k: ')\n",
    "K = int(k)\n",
    "e = [1,2,3,]\n",
    "if K in e:\n",
    "    print 'yes'"
   ]
  },
  {
   "cell_type": "code",
   "execution_count": 18,
   "metadata": {
    "collapsed": false
   },
   "outputs": [
    {
     "name": "stdout",
     "output_type": "stream",
     "text": [
      "[1, <matplotlib.figure.Figure object at 0x10bbca710>, <matplotlib.axes._subplots.AxesSubplot object at 0x10ddc5d10>, <matplotlib.axes._subplots.AxesSubplot object at 0x10bbcac10>]\n"
     ]
    }
   ],
   "source": [
    "fignum = 1\n",
    "fig = pl.figure(fignum)\n",
    "        \n",
    "ax2 = pl.subplot2grid((2,1), (0,0), colspan=1,)\n",
    "ax1 = pl.subplot2grid((2,1), (1,0),colspan =1)\n",
    "        \n",
    "figattr = [fignum,fig,ax1,ax2]\n",
    "print figattr"
   ]
  },
  {
   "cell_type": "code",
   "execution_count": 27,
   "metadata": {
    "collapsed": false
   },
   "outputs": [
    {
     "name": "stdout",
     "output_type": "stream",
     "text": [
      "number: 3\n",
      "3\n",
      "yes\n",
      "[3, 2, 4, 5]\n"
     ]
    }
   ],
   "source": [
    "k = raw_input ('number: ')\n",
    "K = int(k)\n",
    "r = []\n",
    "figlist = [[1,2,3,4], [2,2,3,4], [3,2,4,5], [4,2,3,4]]\n",
    "if len(figlist)>0: #figlist = list of list of attributes\n",
    "    for i in np.arange(len(figlist)):\n",
    "        r.append(figlist[i][0]) \n",
    "        figmarker = i\n",
    "print i\n",
    "if K in r:\n",
    "    print 'yes'\n",
    "t = r.index(K)\n",
    "x = figlist[t]\n",
    "print x\n",
    "    "
   ]
  },
  {
   "cell_type": "code",
   "execution_count": 3,
   "metadata": {
    "collapsed": false
   },
   "outputs": [
    {
     "name": "stdout",
     "output_type": "stream",
     "text": [
      "no_absorber_on_septum_p1aperture\n"
     ]
    }
   ],
   "source": [
    "f = str('../software/no_absorber_on_septum_p1aperture.pkl')\n",
    "g = f[12:-4]\n",
    "print g"
   ]
  },
  {
   "cell_type": "code",
   "execution_count": null,
   "metadata": {
    "collapsed": true
   },
   "outputs": [],
   "source": []
  }
 ],
 "metadata": {
  "kernelspec": {
   "display_name": "Python 2",
   "language": "python",
   "name": "python2"
  },
  "language_info": {
   "codemirror_mode": {
    "name": "ipython",
    "version": 2
   },
   "file_extension": ".py",
   "mimetype": "text/x-python",
   "name": "python",
   "nbconvert_exporter": "python",
   "pygments_lexer": "ipython2",
   "version": "2.7.9"
  }
 },
 "nbformat": 4,
 "nbformat_minor": 0
}
