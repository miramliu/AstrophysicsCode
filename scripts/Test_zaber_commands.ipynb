{
 "cells": [
  {
   "cell_type": "markdown",
   "metadata": {},
   "source": [
    "##Test Zaber Commands##\n",
    "\n",
    "This is a notebook that illustrates how to use the commands in \"zaber_commands.py\" The required sequence is to import the serial and the zabor_command modules, initialize the serial port, and run a set of scans"
   ]
  },
  {
   "cell_type": "code",
   "execution_count": 1,
   "metadata": {
    "collapsed": false
   },
   "outputs": [
    {
     "name": "stdout",
     "output_type": "stream",
     "text": [
      "Using matplotlib backend: Qt4Agg\n",
      "Populating the interactive namespace from numpy and matplotlib\n"
     ]
    }
   ],
   "source": [
    "%pylab\n",
    "import serial\n",
    "import os\n",
    "import zaber_commands as zc"
   ]
  },
  {
   "cell_type": "markdown",
   "metadata": {},
   "source": [
    "###Open a Serial Port###\n",
    "here we open a serial port to communicate with the Zaber stage. For Windows computers this is usually something like \"COM3\". For macs its is something like \"/dev/usbmodem1143\". Here we setup the serial connection according to the Zaber requirements. We also check if the port is open."
   ]
  },
  {
   "cell_type": "code",
   "execution_count": 2,
   "metadata": {
    "collapsed": false
   },
   "outputs": [
    {
     "data": {
      "text/plain": [
       "True"
      ]
     },
     "execution_count": 2,
     "metadata": {},
     "output_type": "execute_result"
    }
   ],
   "source": [
    "ser=serial.Serial(\n",
    "    port=\"/dev/tty.usbmodem1421\"\n",
    "    #port=\"COM3\"\n",
    "    ,baudrate=115200\n",
    "    ,parity=serial.PARITY_NONE\n",
    "    ,stopbits=serial.STOPBITS_ONE\n",
    "    ,bytesize=serial.EIGHTBITS)\n",
    "ser.isOpen()"
   ]
  },
  {
   "cell_type": "markdown",
   "metadata": {},
   "source": [
    "###Run a set of scans###\n",
    "Here we run a set of scans. The first input is the maximum delay in mm (optical), the second is the scan speed in mm/s (optical), and the third is the number orf cycles to run."
   ]
  },
  {
   "cell_type": "code",
   "execution_count": 5,
   "metadata": {
    "collapsed": false
   },
   "outputs": [
    {
     "data": {
      "text/plain": [
       "(0, (0, '@01 0 OK IDLE WR 0\\r\\n'))"
      ]
     },
     "execution_count": 5,
     "metadata": {},
     "output_type": "execute_result"
    }
   ],
   "source": [
    "zc.set_accel(ser,1000.)"
   ]
  },
  {
   "cell_type": "code",
   "execution_count": 9,
   "metadata": {
    "collapsed": false
   },
   "outputs": [
    {
     "data": {
      "text/plain": [
       "(0, (18, '@01 0 OK IDLE -- 1\\r\\n'))"
      ]
     },
     "execution_count": 9,
     "metadata": {},
     "output_type": "execute_result"
    }
   ],
   "source": [
    "zc.move_abs_wait(ser,20.)"
   ]
  },
  {
   "cell_type": "code",
   "execution_count": null,
   "metadata": {
    "collapsed": false
   },
   "outputs": [],
   "source": [
    "zc.run_scans(ser,40.,20.,2)"
   ]
  },
  {
   "cell_type": "code",
   "execution_count": 10,
   "metadata": {
    "collapsed": true
   },
   "outputs": [],
   "source": [
    "ser.close()"
   ]
  },
  {
   "cell_type": "code",
   "execution_count": null,
   "metadata": {
    "collapsed": false
   },
   "outputs": [],
   "source": [
    "zc.unpark(ser)"
   ]
  },
  {
   "cell_type": "code",
   "execution_count": 11,
   "metadata": {
    "collapsed": false
   },
   "outputs": [
    {
     "data": {
      "text/plain": [
       "False"
      ]
     },
     "execution_count": 11,
     "metadata": {},
     "output_type": "execute_result"
    }
   ],
   "source": [
    "ser.isOpen()"
   ]
  },
  {
   "cell_type": "code",
   "execution_count": null,
   "metadata": {
    "collapsed": true
   },
   "outputs": [],
   "source": []
  }
 ],
 "metadata": {
  "kernelspec": {
   "display_name": "Python 2",
   "language": "python",
   "name": "python2"
  },
  "language_info": {
   "codemirror_mode": {
    "name": "ipython",
    "version": 2
   },
   "file_extension": ".py",
   "mimetype": "text/x-python",
   "name": "python",
   "nbconvert_exporter": "python",
   "pygments_lexer": "ipython2",
   "version": "2.7.6"
  }
 },
 "nbformat": 4,
 "nbformat_minor": 0
}
