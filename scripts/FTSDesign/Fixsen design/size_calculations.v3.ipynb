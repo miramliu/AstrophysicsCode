{
 "metadata": {
  "kernelspec": {
   "display_name": "Python 2",
   "language": "python",
   "name": "python2"
  },
  "language_info": {
   "codemirror_mode": {
    "name": "ipython",
    "version": 2
   },
   "file_extension": ".py",
   "mimetype": "text/x-python",
   "name": "python",
   "nbconvert_exporter": "python",
   "pygments_lexer": "ipython2",
   "version": "2.7.6"
  },
  "name": "size_calculations.v3.ipynb"
 },
 "nbformat": 3,
 "nbformat_minor": 0,
 "worksheets": [
  {
   "cells": [
    {
     "cell_type": "heading",
     "level": 2,
     "metadata": {
      "deletable": true,
      "editable": true
     },
     "source": [
      "Notebook to find the size of the Fixsen FTS bix given the max frequency, the resolution and the etendu."
     ]
    },
    {
     "cell_type": "code",
     "collapsed": false,
     "input": [
      "%pylab"
     ],
     "language": "python",
     "metadata": {
      "deletable": true,
      "editable": true
     },
     "outputs": [
      {
       "output_type": "stream",
       "stream": "stdout",
       "text": [
        "Using matplotlib backend: Qt4Agg\n",
        "Populating the interactive namespace from numpy and matplotlib\n"
       ]
      }
     ],
     "prompt_number": 1
    },
    {
     "cell_type": "markdown",
     "metadata": {
      "deletable": true,
      "editable": true
     },
     "source": [
      "### The resolution limits the size of the box\n",
      "The solid angle of the beam at the moving mirror limits the resolution of the interferometer due to the dechoherence of the various modes at different angles. The modes high angles suffer a different delay than the central parts of the beam. Constraining the solid angle at the mirror together with the required $A\\Omega$ sets the size of the box. To completly self-apodize the interferogram, choose the contrast to be zero at the shortest wavelength which is set by the desired highest frequency. The approximate calculation here assumes that the angle $\\phi=0$ in the second figure below. The maximum mechanical shift in the figure below assumes that the optical delay is 4 times the mechanical mirror motion and is set by the desired resolution, $\\Delta f$.\n",
      "![FTS](delay_calc_notebook.pdf)\n",
      "From the figure above and below we can find the relationship between the size of the box, $x, y, z$ and the properties of the FTS, $A\\Omega, \\Delta f, f_{\\rm max}$. \n",
      "\n",
      "$$\\cos\\theta=x_{\\rm max}/a\\\\\n",
      "\\tan\\theta=b/x_{\\rm max}\\\\\n",
      "c=2b\\sin\\theta=2x_{\\rm max}\\tan\\theta\\sin\\theta\\\\\n",
      "\\delta=2x_{\\rm max}\\left(1-\\frac{1}{\\cos\\theta}+\\tan\\theta\\sin\\theta\\right)\\\\\n",
      "\\delta\\sim 2x_{\\rm max}\\left(1-1-\\theta^2/2+\\theta^2\\right)\\\\$$\n",
      "so with the given values of $A\\Omega, \\Delta f, f_{\\rm max}$ we can find the size of the box.\n",
      "$$\\theta=\\sqrt{4\\Delta f/f_{\\rm max}}\\\\\n",
      "A\\Omega=(\\pi r\\theta)^2\\\\\n",
      "r=\\frac{1}{\\pi}\\sqrt{\\frac{f_{\\rm max}\\,A\\Omega}{4\\Delta f}}\\\\\n",
      "\\phi\\sim2\\theta\\\\\n",
      "x=2r/\\tan\\phi\\\\\n",
      "z=12r\\\\\n",
      "y=2r$$"
     ]
    },
    {
     "cell_type": "markdown",
     "metadata": {
      "deletable": true,
      "editable": true
     },
     "source": [
      "### A figure of the FTS layout shows the angles and lengths used in the calculation of the box dimensions.\n",
      "![FTS](size_calculations_notebook.pdf)"
     ]
    },
    {
     "cell_type": "code",
     "collapsed": true,
     "input": [
      "ao=100\n",
      "df=1.\n",
      "fmax=330"
     ],
     "language": "python",
     "metadata": {
      "deletable": true,
      "editable": true
     },
     "outputs": [],
     "prompt_number": 2
    },
    {
     "cell_type": "code",
     "collapsed": false,
     "input": [
      "disp=sqrt(4*df/fmax)"
     ],
     "language": "python",
     "metadata": {
      "deletable": true,
      "editable": true
     },
     "outputs": [],
     "prompt_number": 3
    },
    {
     "cell_type": "code",
     "collapsed": false,
     "input": [
      "disp*180/pi"
     ],
     "language": "python",
     "metadata": {
      "deletable": true,
      "editable": true
     },
     "outputs": [
      {
       "metadata": {},
       "output_type": "pyout",
       "prompt_number": 4,
       "text": [
        "6.3080577138572913"
       ]
      }
     ],
     "prompt_number": 4
    },
    {
     "cell_type": "code",
     "collapsed": false,
     "input": [
      "r=sqrt(fmax*ao/(4*df))/pi\n",
      "r"
     ],
     "language": "python",
     "metadata": {
      "deletable": true,
      "editable": true
     },
     "outputs": [
      {
       "metadata": {},
       "output_type": "pyout",
       "prompt_number": 5,
       "text": [
        "28.911931188512582"
       ]
      }
     ],
     "prompt_number": 5
    },
    {
     "cell_type": "code",
     "collapsed": true,
     "input": [
      "offa=disp"
     ],
     "language": "python",
     "metadata": {
      "deletable": true,
      "editable": true
     },
     "outputs": [],
     "prompt_number": 6
    },
    {
     "cell_type": "code",
     "collapsed": false,
     "input": [
      "f=r/sin(offa)"
     ],
     "language": "python",
     "metadata": {
      "deletable": true,
      "editable": true
     },
     "outputs": [],
     "prompt_number": 7
    },
    {
     "cell_type": "code",
     "collapsed": true,
     "input": [
      "b=r/tan(offa)"
     ],
     "language": "python",
     "metadata": {
      "deletable": true,
      "editable": true
     },
     "outputs": [],
     "prompt_number": 8
    },
    {
     "cell_type": "code",
     "collapsed": false,
     "input": [
      "disp"
     ],
     "language": "python",
     "metadata": {
      "deletable": true,
      "editable": true
     },
     "outputs": [
      {
       "metadata": {},
       "output_type": "pyout",
       "prompt_number": 9,
       "text": [
        "0.11009637651263605"
       ]
      }
     ],
     "prompt_number": 9
    },
    {
     "cell_type": "code",
     "collapsed": false,
     "input": [
      "boxx=b/25.4\n",
      "boxx"
     ],
     "language": "python",
     "metadata": {
      "deletable": true,
      "editable": true
     },
     "outputs": [
      {
       "metadata": {},
       "output_type": "pyout",
       "prompt_number": 10,
       "text": [
        "10.296998612453914"
       ]
      }
     ],
     "prompt_number": 10
    },
    {
     "cell_type": "code",
     "collapsed": false,
     "input": [
      "boxy=2*r/25.4\n",
      "boxy"
     ],
     "language": "python",
     "metadata": {
      "deletable": true,
      "editable": true
     },
     "outputs": [
      {
       "metadata": {},
       "output_type": "pyout",
       "prompt_number": 11,
       "text": [
        "2.2765300148435106"
       ]
      }
     ],
     "prompt_number": 11
    },
    {
     "cell_type": "code",
     "collapsed": false,
     "input": [
      "boxz=6*boxy\n",
      "boxz"
     ],
     "language": "python",
     "metadata": {
      "deletable": true,
      "editable": true
     },
     "outputs": [
      {
       "metadata": {},
       "output_type": "pyout",
       "prompt_number": 12,
       "text": [
        "13.659180089061064"
       ]
      }
     ],
     "prompt_number": 12
    }
   ],
   "metadata": {}
  }
 ]
}