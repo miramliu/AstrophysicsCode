{
 "cells": [
  {
   "cell_type": "markdown",
   "metadata": {
    "deletable": true,
    "editable": true
   },
   "source": [
    "## Notebook to find the size of the Fixsen FTS bix given the max frequency, the resolution and the etendu."
   ]
  },
  {
   "cell_type": "code",
   "execution_count": 1,
   "metadata": {
    "collapsed": false,
    "deletable": true,
    "editable": true
   },
   "outputs": [
    {
     "name": "stdout",
     "output_type": "stream",
     "text": [
      "Using matplotlib backend: MacOSX\n",
      "Populating the interactive namespace from numpy and matplotlib\n"
     ]
    }
   ],
   "source": [
    "%pylab"
   ]
  },
  {
   "cell_type": "markdown",
   "metadata": {
    "deletable": true,
    "editable": true
   },
   "source": [
    "### The resolution limits the size of the box\n",
    "The solid angle of the beam at the moving mirror limits the resolution of the interferometer due to the dechoherence of the various modes at different angles. The modes high angles suffer a different delay than the central parts of the beam. Constraining the solid angle at the mirror together with the required $A\\Omega$ sets the size of the box. To completly self-apodize the interferogram, choose the contrast to be zero at the shortest wavelength which is set by the desired highest frequency. The approximate calculation here assumes that the angle $\\phi=0$ in the second figure below. The maximum mechanical shift in the figure below assumes that the optical delay is 4 times the mechanical mirror motion and is set by the desired resolution, $\\Delta f$.\n",
    "![FTS](delay_calc_notebook.pdf)\n",
    "From the figure above and below we can find the relationship between the size of the box, $x, y, z$ and the properties of the FTS, $A\\Omega, \\Delta f, f_{\\rm max}$. \n",
    "\n",
    "$$\\cos\\theta=x_{\\rm max}/a\\\\\n",
    "\\tan\\theta=b/x_{\\rm max}\\\\\n",
    "c=2b\\sin\\theta=2x_{\\rm max}\\tan\\theta\\sin\\theta\\\\\n",
    "\\delta=2x_{\\rm max}\\left(1-\\frac{1}{\\cos\\theta}+\\tan\\theta\\sin\\theta\\right)\\\\\n",
    "\\delta\\sim 2x_{\\rm max}\\left(1-1-\\theta^2/2+\\theta^2\\right)\\\\$$\n",
    "so with the given values of $A\\Omega, \\Delta f, f_{\\rm max}$ we can find the size of the box.\n",
    "$$\\theta=\\sqrt{4\\Delta f/f_{\\rm max}}\\\\\n",
    "A\\Omega=(\\pi r\\theta)^2\\\\\n",
    "r=\\frac{1}{\\pi}\\sqrt{\\frac{f_{\\rm max}/,A\\Omega}{4\\Delta f}}\\\\\n",
    "\\phi\\sim2\\theta\\\\\n",
    "x=2r/\\tan\\phi\\\\\n",
    "z=12r\\\\\n",
    "y=2r$$"
   ]
  },
  {
   "cell_type": "markdown",
   "metadata": {
    "deletable": true,
    "editable": true
   },
   "source": [
    "### A figure of the FTS layout shows the angles and lengths used in the calculation of the box dimensions.\n",
    "![FTS](size_calculations_notebook.pdf)"
   ]
  },
  {
   "cell_type": "code",
   "execution_count": 2,
   "metadata": {
    "collapsed": true,
    "deletable": true,
    "editable": true
   },
   "outputs": [],
   "source": [
    "ao=100\n",
    "df=1.\n",
    "fmax=330"
   ]
  },
  {
   "cell_type": "code",
   "execution_count": 3,
   "metadata": {
    "collapsed": false,
    "deletable": true,
    "editable": true
   },
   "outputs": [],
   "source": [
    "#disp=arccos(1.-(2.*df/fmax))\n",
    "disp=sqrt(4*df/fmax)"
   ]
  },
  {
   "cell_type": "code",
   "execution_count": 4,
   "metadata": {
    "collapsed": false,
    "deletable": true,
    "editable": true
   },
   "outputs": [
    {
     "data": {
      "text/plain": [
       "6.3080577138572913"
      ]
     },
     "execution_count": 4,
     "metadata": {},
     "output_type": "execute_result"
    }
   ],
   "source": [
    "disp*180/pi"
   ]
  },
  {
   "cell_type": "code",
   "execution_count": 5,
   "metadata": {
    "collapsed": false,
    "deletable": true,
    "editable": true
   },
   "outputs": [
    {
     "data": {
      "text/plain": [
       "28.911931188512582"
      ]
     },
     "execution_count": 5,
     "metadata": {},
     "output_type": "execute_result"
    }
   ],
   "source": [
    "#r=sqrt(ao)/(pi*sin(disp))\n",
    "r=sqrt(fmax*ao/(4*df))/pi\n",
    "r"
   ]
  },
  {
   "cell_type": "code",
   "execution_count": 6,
   "metadata": {
    "collapsed": true,
    "deletable": true,
    "editable": true
   },
   "outputs": [],
   "source": [
    "offa=disp"
   ]
  },
  {
   "cell_type": "code",
   "execution_count": 7,
   "metadata": {
    "collapsed": false,
    "deletable": true,
    "editable": true
   },
   "outputs": [],
   "source": [
    "f=r/sin(offa)"
   ]
  },
  {
   "cell_type": "code",
   "execution_count": 8,
   "metadata": {
    "collapsed": true,
    "deletable": true,
    "editable": true
   },
   "outputs": [],
   "source": [
    "b=r/tan(offa)"
   ]
  },
  {
   "cell_type": "code",
   "execution_count": 9,
   "metadata": {
    "collapsed": false,
    "deletable": true,
    "editable": true
   },
   "outputs": [
    {
     "data": {
      "text/plain": [
       "0.11009637651263605"
      ]
     },
     "execution_count": 9,
     "metadata": {},
     "output_type": "execute_result"
    }
   ],
   "source": [
    "disp"
   ]
  },
  {
   "cell_type": "code",
   "execution_count": 10,
   "metadata": {
    "collapsed": false,
    "deletable": true,
    "editable": true
   },
   "outputs": [
    {
     "data": {
      "text/plain": [
       "10.296998612453914"
      ]
     },
     "execution_count": 10,
     "metadata": {},
     "output_type": "execute_result"
    }
   ],
   "source": [
    "boxx=b/25.4\n",
    "boxx"
   ]
  },
  {
   "cell_type": "code",
   "execution_count": 11,
   "metadata": {
    "collapsed": false,
    "deletable": true,
    "editable": true
   },
   "outputs": [
    {
     "data": {
      "text/plain": [
       "2.2765300148435106"
      ]
     },
     "execution_count": 11,
     "metadata": {},
     "output_type": "execute_result"
    }
   ],
   "source": [
    "boxy=2*r/25.4\n",
    "boxy"
   ]
  },
  {
   "cell_type": "code",
   "execution_count": 12,
   "metadata": {
    "collapsed": false,
    "deletable": true,
    "editable": true
   },
   "outputs": [
    {
     "data": {
      "text/plain": [
       "13.659180089061064"
      ]
     },
     "execution_count": 12,
     "metadata": {},
     "output_type": "execute_result"
    }
   ],
   "source": [
    "boxz=6*boxy\n",
    "boxz"
   ]
  }
 ],
 "metadata": {
  "anaconda-cloud": {},
  "kernelspec": {
   "display_name": "Python [default]",
   "language": "python",
   "name": "python3"
  },
  "language_info": {
   "codemirror_mode": {
    "name": "ipython",
    "version": 3
   },
   "file_extension": ".py",
   "mimetype": "text/x-python",
   "name": "python",
   "nbconvert_exporter": "python",
   "pygments_lexer": "ipython3",
   "version": "3.5.3"
  }
 },
 "nbformat": 4,
 "nbformat_minor": 0
}
