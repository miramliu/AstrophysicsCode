{
 "cells": [
  {
   "cell_type": "code",
   "execution_count": 1,
   "metadata": {
    "collapsed": true
   },
   "outputs": [],
   "source": [
    "import numpy as np\n",
    "import matplotlib.pyplot as pl\n",
    "import itertools\n",
    "from mpl_toolkits.mplot3d import Axes3D\n",
    "from RayTraceFunCleaner import *\n",
    "from random import uniform"
   ]
  },
  {
   "cell_type": "code",
   "execution_count": 2,
   "metadata": {},
   "outputs": [
    {
     "ename": "NameError",
     "evalue": "name 'transform' is not defined",
     "output_type": "error",
     "traceback": [
      "\u001b[0;31m---------------------------------------------------------------------------\u001b[0m",
      "\u001b[0;31mNameError\u001b[0m                                 Traceback (most recent call last)",
      "\u001b[0;32m<ipython-input-2-6cbc93770b4f>\u001b[0m in \u001b[0;36m<module>\u001b[0;34m()\u001b[0m\n\u001b[1;32m     34\u001b[0m \u001b[0;34m\u001b[0m\u001b[0m\n\u001b[1;32m     35\u001b[0m \u001b[0;31m#ellipse 1\u001b[0m\u001b[0;34m\u001b[0m\u001b[0;34m\u001b[0m\u001b[0m\n\u001b[0;32m---> 36\u001b[0;31m \u001b[0mX1i\u001b[0m\u001b[0;34m,\u001b[0m\u001b[0mY1i\u001b[0m\u001b[0;34m,\u001b[0m\u001b[0mZ1i\u001b[0m \u001b[0;34m=\u001b[0m \u001b[0mtransform\u001b[0m\u001b[0;34m(\u001b[0m\u001b[0mXset1\u001b[0m\u001b[0;34m,\u001b[0m\u001b[0mYset1\u001b[0m\u001b[0;34m,\u001b[0m\u001b[0mZset1\u001b[0m\u001b[0;34m,\u001b[0m\u001b[0morigin1\u001b[0m\u001b[0;34m,\u001b[0m\u001b[0mthet\u001b[0m\u001b[0;34m)\u001b[0m\u001b[0;34m\u001b[0m\u001b[0m\n\u001b[0m\u001b[1;32m     37\u001b[0m \u001b[0mX2i\u001b[0m\u001b[0;34m,\u001b[0m\u001b[0mY2i\u001b[0m\u001b[0;34m,\u001b[0m\u001b[0mZ2i\u001b[0m \u001b[0;34m=\u001b[0m \u001b[0mtransform\u001b[0m\u001b[0;34m(\u001b[0m\u001b[0mXset2\u001b[0m\u001b[0;34m,\u001b[0m\u001b[0mYset2\u001b[0m\u001b[0;34m,\u001b[0m\u001b[0mZset2\u001b[0m\u001b[0;34m,\u001b[0m\u001b[0morigin1\u001b[0m\u001b[0;34m,\u001b[0m\u001b[0mthet\u001b[0m\u001b[0;34m)\u001b[0m\u001b[0;34m\u001b[0m\u001b[0m\n\u001b[1;32m     38\u001b[0m \u001b[0;34m\u001b[0m\u001b[0m\n",
      "\u001b[0;31mNameError\u001b[0m: name 'transform' is not defined"
     ]
    }
   ],
   "source": [
    "#GLOBAL ORIGINS\n",
    "originG = [0,0,0] #literally the global origin\n",
    "origin1 = [0,-128,0] #x,y (ellipse1)\n",
    "origin2 = [64.15,-128,0] #x,y (ellipse2)\n",
    "origin3 = [0,128,0] #x,y (ellipse3)\n",
    "origin4 = [64.15,128,0] #x,y  (ellipse4)\n",
    "origin5 = [128.3,-120.501,0] # (ellipse5)\n",
    "origin6 = [128.3,120.501,0] # (ellipse6)\n",
    "origin7 = [192.45,0,40] # (ellipse7)\n",
    "origin8 = [-64.15,-120.501,0]\n",
    "origin9 = [-64.15,120.501,0]\n",
    "origin10 = [-128.3,0,-40]\n",
    "\n",
    "coeffellipse = [263.9,256,64.15] #for center ellipses\n",
    "coeffellipse56 = [256.65,248.39,64.58]  #for ellipses 5&6\n",
    "coeffellipse7 = [153,95.07,119.87] #for ellipse 7\n",
    "\n",
    "thet = [0,0,0]\n",
    "thet5 = [0,0,-.1164] \n",
    "thet6 = [0,0,.1164]\n",
    "thet7 = [0,.3402,-np.pi/2] #rotated around z axis and y axis\n",
    "thet10 = [0,-.3402,+np.pi/2] #negative of thet7?\n",
    "\n",
    "#center ellipses\n",
    "X1,Y1,Z1,X2,Y2,Z2 = FTSEC(50,np.pi/8, coeffellipse, 64.15, 'pos')\n",
    "X1n,Y1n,Z1n,X2n,Y2n,Z2n = FTSEC(50,np.pi/8, coeffellipse, 64.15, 'neg')\n",
    "\n",
    "#center ellipses\n",
    "Xset1, Yset1, Zset1 = SR2(32.07, X1,Y1,Z1, originG)\n",
    "Xset2, Yset2, Zset2 = SR2(32.07, X2, Y2, Z2, originG)\n",
    "Xset1n, Yset1n, Zset1n = SR2(32.07, X1n,Y1n,Z1n, originG)\n",
    "Xset2n, Yset2n, Zset2n = SR2(32.07, X2n, Y2n, Z2n, originG)\n",
    "\n",
    "\n",
    "#ellipse 1\n",
    "X1i,Y1i,Z1i = transform(Xset1,Yset1,Zset1,origin1,thet)\n",
    "X2i,Y2i,Z2i = transform(Xset2,Yset2,Zset2,origin1,thet)\n",
    "\n",
    "#ellipse 3\n",
    "X1n,Y1n,Z1n = transform(Xset1n,Yset1n,Zset1n,origin3,thet)\n",
    "X2n,Y2n,Z2n = transform(Xset2n,Yset2n,Zset2n,origin3,thet)\n",
    "\n",
    "#ellipse 2\n",
    "X3i,Y3i,Z3i = transform(Xset1,Yset1,Zset1,origin2,thet)\n",
    "X4i,Y4i,Z4i = transform(Xset2,Yset2,Zset2,origin2,thet)\n",
    "\n",
    "#ellipse 4\n",
    "X3n,Y3n,Z3n = transform(Xset1n,Yset1n,Zset1n,origin4,thet)\n",
    "X4n,Y4n,Z4n = transform(Xset2n,Yset2n,Zset2n,origin4,thet)\n",
    "\n",
    "#ellipse 5&6\n",
    "X5,Y5,Z5,X6,Y6,Z6 = FTSEC(50,np.pi/8, coeffellipse56, 150, 'pos')\n",
    "X5n,Y5n,Z5n,X6n,Y6n,Z6n = FTSEC(50,np.pi/8, coeffellipse56, 150, 'neg')\n",
    "\n",
    "#ellipse5\n",
    "Xset5, Yset5, Zset5= transform(X5,Y5,Z5,origin5,thet5)\n",
    "Xset6, Yset6, Zset6 = transform(X6,Y6,Z6,origin5,thet5)\n",
    "\n",
    "X5,Y5,Z5 = SR2(32.07, Xset5,Yset5,Zset5, origin5)\n",
    "X6,Y6,Z6 = SR2(32.07, Xset6, Yset6, Zset6, origin5)\n",
    "\n",
    "#ellipse6\n",
    "Xset5n,Yset5n,Zset5n = transform(X5n,Y5n,Z5n,origin6,thet6)\n",
    "Xset6n,Yset6n,Zset6n = transform(X6n,Y6n,Z6n,origin6,thet6)\n",
    "\n",
    "X5n,Y5n,Z5n = SR2(32.07,Xset5n,Yset5n,Zset5n,origin6)\n",
    "X6n,Y6n,Z6n = SR2(32.07,Xset6n,Yset6n,Zset6n,origin6)\n",
    "\n",
    "#ellipse 7\n",
    "X7,Y7,Z7,X8,Y8,Z8 = FTSEC(50,np.pi*.99, coeffellipse7, 306, 'pos')\n",
    "X7n,Y7n,Z7n,X8n,Y8n,Z8n = FTSEC(50,np.pi*.99, coeffellipse7, 306, 'neg')\n",
    "\n",
    "#ellipse 7\n",
    "Xset7,Yset7,Zset7 = transform(X7,Y7,Z7,origin7,thet7)\n",
    "Xset8,Yset8,Zset8 = transform(X8,Y8,Z8,origin7,thet7)\n",
    "\n",
    "#ellipse 7 \n",
    "X7,Y7,Z7 = SR7(32.07,Xset7, Yset7, Zset7, origin7)\n",
    "X8,Y8,Z8 = SR7(32.07,Xset8, Yset8, Zset8, origin7)\n",
    "\n",
    "#ellipse 8&9\n",
    "X9,Y9,Z9,X10,Y10,Z10 = FTSEC(50,np.pi/8, coeffellipse56, 150, 'pos')\n",
    "X9n,Y9n,Z9n,X10n,Y10n,Z10n = FTSEC(50,np.pi/8, coeffellipse56, 150, 'neg')\n",
    "\n",
    "#ellipse 8\n",
    "Xset9,Yset9,Zset9 = transform(X9,Y9,Z9,origin8,thet6)\n",
    "Xset10,Yset10,Zset10 = transform(X10,Y10,Z10,origin8,thet6)\n",
    "\n",
    "X9,Y9,Z9 = SR2(32.07, Xset9,Yset9,Zset9, origin8)\n",
    "X10,Y10,Z10 = SR2(32.07, Xset10, Yset10, Zset10, origin8)\n",
    "\n",
    "#ellipse 9\n",
    "Xset9n,Yset9n,Zset9n = transform(X9n,Y9n,Z9n,origin9,thet5)\n",
    "Xset10n,Yset10n,Zset10n = transform(X10n,Y10n,Z10n,origin9,thet5)\n",
    "\n",
    "X9n,Y9n,Z9n = SR2(32.07, Xset9n,Yset9n,Zset9n, origin9)\n",
    "X10n,Y10n,Z10n = SR2(32.07, Xset10n, Yset10n, Zset10n, origin9)\n",
    "\n",
    "#ellipse 10\n",
    "Xset11,Yset11,Zset11 = transform(X7n,Y7n,Z7n,origin10,thet10)\n",
    "Xset12,Yset12,Zset12 = transform(X8n,Y8n,Z8n, origin10,thet10)\n",
    "X11,Y11,Z11 = SR10(32.07, Xset11,Yset11,Zset11, origin10)\n",
    "X12,Y12,Z12 = SR10(32.07, Xset12,Yset12,Zset12, origin10)"
   ]
  },
  {
   "cell_type": "code",
   "execution_count": null,
   "metadata": {
    "collapsed": true
   },
   "outputs": [],
   "source": [
    "pl3dsurf = pl.figure().gca(projection = '3d')\n",
    "#ellipse9\n",
    "pl3dsurf.plot_trisurf(X9n,Y9n,Z9n, linewidth = .2, antialiased=True, color = 'forestgreen',alpha=0.7) #GLOBAL\n",
    "pl3dsurf.plot_trisurf(X10n,Y10n,Z10n, linewidth = .2, antialiased=True, color = 'forestgreen',alpha=0.7) #GLOBAL\n",
    "\n",
    "#ELLIPSE 10?\n",
    "pl3dsurf.plot_trisurf(X11,Y11,Z11,linewidth = .2, antialiased=True, color = 'pink',alpha=0.7)\n",
    "pl.show()"
   ]
  },
  {
   "cell_type": "code",
   "execution_count": null,
   "metadata": {
    "collapsed": true
   },
   "outputs": [],
   "source": [
    "pl3dsurf = pl.figure().gca(projection = '3d')\n",
    "\n",
    "#ellipse5\n",
    "pl3dsurf.plot_trisurf(X5,Y5,Z5, linewidth = .2, antialiased=True, color = 'indigo',alpha=0.7) #GLOBAL\n",
    "pl3dsurf.plot_trisurf(X6,Y6,Z6, linewidth = .2, antialiased=True, color = 'indigo',alpha=0.7) #GLOBAL\n",
    "\n",
    "#ellipse 7\n",
    "pl3dsurf.plot_trisurf(X7,Y7,Z7,linewidth = .2, antialiased=True, color = 'magenta',alpha=0.7)\n",
    "\n",
    "pl.show()"
   ]
  },
  {
   "cell_type": "code",
   "execution_count": null,
   "metadata": {
    "collapsed": true
   },
   "outputs": [],
   "source": [
    "pl3dsurf = pl.figure().gca(projection = '3d')\n",
    "#ellipse 1\n",
    "pl3dsurf.plot_trisurf(X1i,Y1i,Z1i, linewidth = .2, antialiased=True, color = 'mediumseagreen',alpha=0.7) #GLOBAL\n",
    "pl3dsurf.plot_trisurf(X2i,Y2i,Z2i, linewidth = .2, antialiased=True, color = 'mediumseagreen',alpha=0.7) #GLOBAL\n",
    "\n",
    "#ellipse3\n",
    "pl3dsurf.plot_trisurf(X1n,Y1n,Z1n, linewidth = .2, antialiased=True, color = 'mediumturquoise',alpha=0.7) #GLOBAL\n",
    "pl3dsurf.plot_trisurf(X2n,Y2n,Z2n, linewidth = .2, antialiased=True, color = 'mediumturquoise',alpha=0.7) #GLOBAL\n",
    "\n",
    "#ellipse 2\n",
    "pl3dsurf.plot_trisurf(X3i,Y3i,Z3i, linewidth = .2, antialiased=True, color = 'c',alpha=0.7) #GLOBAL\n",
    "pl3dsurf.plot_trisurf(X4i,Y4i,Z4i, linewidth = .2, antialiased=True, color = 'c',alpha=0.7) #GLOBAL\n",
    "\n",
    "#ellipse 4\n",
    "pl3dsurf.plot_trisurf(X3n,Y3n,Z3n, linewidth = .2, antialiased=True, color = 'dodgerblue',alpha=0.7) #GLOBAL\n",
    "pl3dsurf.plot_trisurf(X4n,Y4n,Z4n, linewidth = .2, antialiased=True, color = 'dodgerblue',alpha=0.7) #GLOBAL\n",
    "\n",
    "#ellipse5\n",
    "pl3dsurf.plot_trisurf(X5,Y5,Z5, linewidth = .2, antialiased=True, color = 'indigo',alpha=0.7) #GLOBAL\n",
    "pl3dsurf.plot_trisurf(X6,Y6,Z6, linewidth = .2, antialiased=True, color = 'indigo',alpha=0.7) #GLOBAL\n",
    "\n",
    "#ellipse6\n",
    "pl3dsurf.plot_trisurf(X5n,Y5n,Z5n, linewidth = .2, antialiased=True, color = 'orchid',alpha=0.7) #GLOBAL\n",
    "pl3dsurf.plot_trisurf(X6n,Y6n,Z6n, linewidth = .2, antialiased=True, color = 'orchid',alpha=0.7) #GLOBAL\n",
    "\n",
    "#ellipse 7\n",
    "pl3dsurf.plot_trisurf(X7,Y7,Z7,linewidth = .2, antialiased=True, color = 'magenta',alpha=0.7)\n",
    "\n",
    "#ellipse8\n",
    "pl3dsurf.plot_trisurf(X9,Y9,Z9, linewidth = .2, antialiased=True, color = 'skyblue',alpha=0.7) #GLOBAL\n",
    "pl3dsurf.plot_trisurf(X10,Y10,Z10, linewidth = .2, antialiased=True, color = 'skyblue',alpha=0.7) #GLOBAL\n",
    "\n",
    "#ellipse9\n",
    "pl3dsurf.plot_trisurf(X9n,Y9n,Z9n, linewidth = .2, antialiased=True, color = 'forestgreen',alpha=0.7) #GLOBAL\n",
    "pl3dsurf.plot_trisurf(X10n,Y10n,Z10n, linewidth = .2, antialiased=True, color = 'forestgreen',alpha=0.7) #GLOBAL\n",
    "\n",
    "#ellipse10\n",
    "pl3dsurf.plot_trisurf(X11,Y11,Z11,linewidth = .2, antialiased=True, color = 'pink',alpha=0.7)\n",
    "\n",
    "pl.show()\n",
    "\n",
    "#well I'm messing up somewhere\n"
   ]
  },
  {
   "cell_type": "code",
   "execution_count": null,
   "metadata": {
    "collapsed": true
   },
   "outputs": [],
   "source": []
  },
  {
   "cell_type": "code",
   "execution_count": null,
   "metadata": {
    "collapsed": true
   },
   "outputs": [],
   "source": []
  }
 ],
 "metadata": {
  "kernelspec": {
   "display_name": "Python 3",
   "language": "python",
   "name": "python3"
  },
  "language_info": {
   "codemirror_mode": {
    "name": "ipython",
    "version": 3
   },
   "file_extension": ".py",
   "mimetype": "text/x-python",
   "name": "python",
   "nbconvert_exporter": "python",
   "pygments_lexer": "ipython3",
   "version": "3.6.1"
  }
 },
 "nbformat": 4,
 "nbformat_minor": 2
}
