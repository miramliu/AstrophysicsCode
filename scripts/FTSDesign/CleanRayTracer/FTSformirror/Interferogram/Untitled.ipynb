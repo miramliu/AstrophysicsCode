{
 "cells": [
  {
   "cell_type": "markdown",
   "metadata": {},
   "source": [
    "specifically to address question of how far before inaccurate focus\n",
    "all latest functions for raytrace path 1 for PURE GEOMETRY. \n",
    "\n",
    "NO POLARIZATION. LITERALLY JUST CHECKING FOCUS SIZE"
   ]
  },
  {
   "cell_type": "code",
   "execution_count": 7,
   "metadata": {
    "collapsed": true
   },
   "outputs": [],
   "source": [
    "import numpy as np\n",
    "import matplotlib.pyplot as pl\n",
    "import itertools\n",
    "from mpl_toolkits.mplot3d import Axes3D\n",
    "#from RayTraceFun_formir import *\n",
    "from RayTraceFun_forInt import *\n",
    "from Background import *\n",
    "from random import uniform\n",
    "import random\n",
    "import matplotlib\n",
    "%matplotlib inline"
   ]
  },
  {
   "cell_type": "code",
   "execution_count": 8,
   "metadata": {
    "collapsed": true
   },
   "outputs": [],
   "source": [
    "#TESTING ZHAODI STUFF\n",
    "def circularsource1(r): #radius\n",
    "    xpoint = []\n",
    "    ypoint = []\n",
    "    zpoint = []\n",
    "    x = np.asarray([r*random.uniform(-1,1) for a in np.random.rand(100)])\n",
    "    x=x.astype(float)\n",
    "    y = np.asarray([r*random.uniform(-1,1) for a in np.random.rand(100)])\n",
    "    y =y.astype(float)\n",
    "    for i in range(100):\n",
    "        d = (x[i]**2) + (y[i]**2)\n",
    "        if d < r**2: \n",
    "            xpoint.append(x[i])\n",
    "            ypoint.append(y[i])\n",
    "            zpoint.append(0.0)\n",
    "    return xpoint, ypoint, zpoint\n",
    "\n",
    "def specsource1(r,origin,thet):\n",
    "    x,y,z=circularsource1(r)\n",
    "    x1,y1,z1 = transformLG(x,y,z,origin,thet)\n",
    "    sourcepoint = [x1,y1,z1]\n",
    "    return sourcepoint\n",
    "#make this randomized\n",
    "\n",
    "def NormalP(pli,v1,coeffellipse):\n",
    "    xint1, yint1, zint1 = ELI2(pli,v1,coeffellipse)\n",
    "    cpos = [(2*xint1[0])/(coeffellipse[0]**2),(2*yint1[0])/(coeffellipse[1]**2),(2*zint1[0])/(coeffellipse[1]**2)]\n",
    "    cneg = [(2*xint1[1])/(coeffellipse[0]**2),(2*yint1[1])/(coeffellipse[1]**2),(2*zint1[1])/(coeffellipse[1]**2)]\n",
    "    cpos = np.array(cpos)\n",
    "    cneg = np.array(cneg)\n",
    "    return cpos,cneg\n",
    "\n",
    "def ELI2(p,v,coeffellipse):\n",
    "    x0,y0,z0,a,b,c,d,e = ELIorganize(p,v,coeffellipse)\n",
    "    A = (e**2)/(d**2) + (b**2)/(a**2) + (c**2)/(a**2)\n",
    "    B = (-2*x0*b**2)/(a**2) + (2*y0*b)/(a) + (-2*x0*c**2)/(a**2) + (2*z0*c)/(a)\n",
    "    C = ((x0**2)*(b**2))/(a**2) + (-2*y0*b*x0)/(a) + y0**2 + ((x0**2)*(c**2))/(a**2) + (-2*z0*c*x0)/(a) + z0**2 - e**2\n",
    "    xint = [(-B + np.sqrt((B**2) - 4*A*C))/(2*A),(-B - np.sqrt((B**2) - 4*A*C))/(2*A)]\n",
    "    t = [(xint[0]-x0)/a, (xint[1]-x0)/a]\n",
    "    yint = [y0 +t[0]*b, y0 + t[1]*b]\n",
    "    zint = [z0 + t[0]*c, z0 + t[1]*c]\n",
    "    return xint,yint,zint\n",
    "\n",
    "def REPCNi1(coeffellipse,pli,v):\n",
    "    Npos,Nneg = NormalP(pli,v,coeffellipse) #plane coefficients\n",
    "    VectLNorm = N(v) #incident unit vector\n",
    "    Npos = np.array([-x for x in Npos]) \n",
    "    Nneg = np.array([-x for x in Nneg])\n",
    "    vectpos = VectLNorm - 2*N(Npos)*(np.dot(VectLNorm,N(Npos)))\n",
    "    vectneg = VectLNorm - 2*N(Nneg)*(np.dot(VectLNorm,N(Nneg)))\n",
    "    xint,yint,zint = ELI2(pli,v,coeffellipse)\n",
    "    intpos = [float(xint[0]),float(yint[0]),float(zint[0])] #array and points of intersection\n",
    "    intneg = [float(xint[1]),float(yint[1]),float(zint[1])] #array and points of intersection\n",
    "    GoodInt,GoodVect = finddirec(pli,v,intpos,intneg,vectpos,vectneg)\n",
    "    return GoodInt, GoodVect\n",
    "\n",
    "#uses 3d ellipses for range, ellipse origin for center of DESIRED range, \n",
    "def RSEPCNi1(coeffellipse,pli,vectors, ranges, ellipseorigin):\n",
    "    Vect = []\n",
    "    pointints = []\n",
    "    if len(pli) == 0:\n",
    "        return [],[]\n",
    "    if type(pli[0]) is int or type(pli[0]) is float: #assuming it is a source from one point\n",
    "        for i in range (0,len(vectors)):\n",
    "            Gpoint,Gvect = REPCNi1(coeffellipse,pli,vectors[i])\n",
    "            if SR3B(ranges, Gpoint[0],Gpoint[1],Gpoint[2], ellipseorigin) == True:\n",
    "                pointints.append(Gpoint)\n",
    "                Vect.append(Gvect)\n",
    "    else:\n",
    "        for i in range (0, len(pli)):\n",
    "            Vi = vectors[i]\n",
    "            Pli = pli[i] #(or pli/original points of lines)\n",
    "            Gpoint,Gvect = REPCNi1(coeffellipse,Pli,Vi)\n",
    "            if SR3B(ranges, Gpoint[0],Gpoint[1],Gpoint[2], ellipseorigin) == True:\n",
    "                pointints.append(Gpoint)\n",
    "                Vect.append(Gvect)\n",
    "    return pointints, Vect\n",
    "def FS1(specnum,sourcepoint,sourcethet,origin):\n",
    "    originG = [0,0,0]\n",
    "    if type(sourcepoint[0]) is int or type(sourcepoint[0]) is float or type(sourcepoint[0]) is numpy.float64:\n",
    "        v1 = spec(specnum)\n",
    "        vx,vy,vz = sep(v1)\n",
    "        v1x,v1y,v1z = transformLG(vx,vy,vz,originG,sourcethet)\n",
    "        p1x,p1y,p1z = shift(sourcepoint,origin)\n",
    "        sp = [p1x,p1y,p1z]\n",
    "        v2 = sepop(v1x,v1y,v1z)\n",
    "    else: \n",
    "        v1 = spec(specnum)\n",
    "        vx,vy,vz = sep(v1)\n",
    "        v1x,v1y,v1z = transformLG(vx,vy,vz,originG,sourcethet)\n",
    "        v2 = sepop(v1x,v1y,v1z)\n",
    "        sp = []\n",
    "        for i in range (0,specnum):\n",
    "            j = random.randint(0,len(sourcepoint[0])-1)\n",
    "            spT = [sourcepoint[0][j],sourcepoint[1][j],sourcepoint[2][j]]\n",
    "            sp.append(spT)\n",
    "    return sp,v2\n",
    "\n",
    "coeffellipse7 = [164.54585247700001,99.690818975602866,130.9086635] #for ellipse 7\n",
    "def FS(specnum,sourcepoint,sourcethet,origin):\n",
    "    originG = [0,0,0]\n",
    "    if type(sourcepoint[0]) is int or type(sourcepoint[0]) is float or type(sourcepoint[0]) is numpy.float64:\n",
    "        v1 = spec(specnum)\n",
    "        vx,vy,vz = sep(v1)\n",
    "        v1x,v1y,v1z = transformLG(vx,vy,vz,originG,sourcethet)\n",
    "        p1x,p1y,p1z = shift(sourcepoint,origin)\n",
    "        sp = [p1x,p1y,p1z]\n",
    "        v2 = sepop(v1x,v1y,v1z)\n",
    "    else: \n",
    "        v1 = spec(specnum)\n",
    "        vx,vy,vz = sep(v1)\n",
    "        v1x,v1y,v1z = transformLG(vx,vy,vz,originG,sourcethet)\n",
    "        v2 = sepop(v1x,v1y,v1z)\n",
    "        sp = []\n",
    "        for i in range (0,specnum):\n",
    "            spx = random.choice(sourcepoint[0])\n",
    "            spy = random.choice(sourcepoint[1])\n",
    "            spz = random.choice(sourcepoint[2])\n",
    "            #sp1x,sp1y,sp1z = transformLG(spx,spy,spz,origin,sourcethet)\n",
    "            spT = [spx,spy,spz]\n",
    "            sp.append(spT)\n",
    "    return sp,v2\n",
    "def circle(c,r):\n",
    "    x = np.linspace((c[0]-r+.000000001),(c[0]+r-.000000001),50)\n",
    "    yp = []\n",
    "    yn = []\n",
    "    for i in range (50):\n",
    "        y1 = np.sqrt((r**2)-(x[i]-c[0])**2)+c[1]\n",
    "        y2 = -np.sqrt((r**2)-(x[i]-c[0])**2)+c[1]\n",
    "        yp.append(y1)\n",
    "        yn.append(y2)\n",
    "    return x,yp,yn\n",
    "def PLINTzS(z,p,v):\n",
    "    t = (z - p[2])/v[2]\n",
    "    xi = p[0] + t*v[0]\n",
    "    yi = p[1] + t*v[1]\n",
    "    point =[xi,yi,z]\n",
    "    return point"
   ]
  },
  {
   "cell_type": "code",
   "execution_count": 9,
   "metadata": {
    "collapsed": true
   },
   "outputs": [],
   "source": [
    "#testing just the FIRST LIL BIT in all LOCAL\n",
    "sourcepointorigin = [-130.9086635,0.,0.] #LOCAL \n",
    "sourcethet = [0.,0.,0.] #SHOT STRAIGHT UP\n",
    "sourcepoints = specsource1(.1,sourcepointorigin,sourcethet) #LOCAL\n",
    "sourcep1, sv1 = FS1(500,sourcepoints, sourcethet,origin10) #LOCAL\n",
    "points10, vects10 = RSEPCNi1(coeffellipse7,sourcep1,sv1, range10,center10)"
   ]
  },
  {
   "cell_type": "markdown",
   "metadata": {},
   "source": [
    "for i in range(len(sourcep1)):\n",
    "    x,y = sourcep1[i][0],sourcep1[i][1]\n",
    "    pl.scatter(x,y)\n",
    "x,y1,y2 = circle((-130.9086635,0),.1)\n",
    "pl.plot(x,y1, color = 'red', label = 'R= .1')\n",
    "pl.plot(x,y2,color = 'red')\n",
    "pl.title('source: r = .1', color = 'white')\n",
    "pl.legend()\n",
    "pl.axis('equal')\n",
    "pl.show()\n",
    "         \n",
    "IntPoints = PLINTz(0,points10,vects10)\n",
    "for i in range(len(IntPoints)):\n",
    "    x,y = IntPoints[i][0],IntPoints[i][1]\n",
    "    pl.scatter(x,y, s = 1, color = 'black')\n",
    "x,y1,y2 = circle((130.9086635,0),.1)\n",
    "pl.plot(x,y1, color = 'red')\n",
    "pl.plot(x,y2,color = 'red')\n",
    "pl.title('end intersection', color = 'white')\n",
    "pl.axis('equal')\n",
    "pl.show()"
   ]
  },
  {
   "cell_type": "code",
   "execution_count": 45,
   "metadata": {
    "collapsed": true
   },
   "outputs": [],
   "source": [
    "#testing SINGLE RAYS\n",
    "sourcepointorigin = [-130.9086635,0.,0.] #LOCAL \n",
    "sourcethet = [0.,0.,0.] #SHOT STRAIGHT UP\n",
    "sourcepoints = specsource1(.1,sourcepointorigin,sourcethet) #LOCAL\n",
    "sourcep1, sv1 = FS1(10,sourcepoints, sourcethet,origin10) #LOCAL\n",
    "sourcep1 = [-130.919,0.,0.] #change\n",
    "points10, vects10 = REPCNi1(coeffellipse7,sourcep1,sv1[0])#, range10,center10)"
   ]
  },
  {
   "cell_type": "code",
   "execution_count": 46,
   "metadata": {},
   "outputs": [
    {
     "data": {
      "image/png": "[encoded data removed]",
      "text/plain": [
       "<matplotlib.figure.Figure at 0x1186bd860>"
      ]
     },
     "metadata": {},
     "output_type": "display_data"
    },
    {
     "data": {
      "image/png": "[encoded data removed]",
      "text/plain": [
       "<matplotlib.figure.Figure at 0x114d2ce80>"
      ]
     },
     "metadata": {},
     "output_type": "display_data"
    }
   ],
   "source": [
    "x,y = sourcep1[0],sourcep1[1]\n",
    "pl.scatter(x,y)\n",
    "x,y1,y2 = circle((-130.9086635,0),.1)\n",
    "pl.plot(x,y1, color = 'red', label = 'R= .1')\n",
    "pl.plot(x,y2,color = 'red')\n",
    "pl.scatter(-130.9086636,0.,color = 'red',s=3)\n",
    "pl.title('source:+.01', color = 'white')\n",
    "pl.legend()\n",
    "pl.axis('equal')\n",
    "pl.show()\n",
    "         \n",
    "IntPoints = PLINTzS(0,points10,vects10)\n",
    "x,y = IntPoints[0],IntPoints[1]\n",
    "pl.scatter(x,y, color = 'black')\n",
    "x,y1,y2 = circle((130.9086635,0),.1)\n",
    "pl.plot(x,y1, color = 'red')\n",
    "pl.plot(x,y2,color = 'red')\n",
    "pl.scatter(130.9086636,0.,color = 'red',s=3)\n",
    "pl.title('end intersection', color = 'white')\n",
    "pl.axis('equal')\n",
    "pl.show()"
   ]
  },
  {
   "cell_type": "code",
   "execution_count": null,
   "metadata": {
    "collapsed": true
   },
   "outputs": [],
   "source": []
  }
 ],
 "metadata": {
  "kernelspec": {
   "display_name": "Python 3",
   "language": "python",
   "name": "python3"
  },
  "language_info": {
   "codemirror_mode": {
    "name": "ipython",
    "version": 3
   },
   "file_extension": ".py",
   "mimetype": "text/x-python",
   "name": "python",
   "nbconvert_exporter": "python",
   "pygments_lexer": "ipython3",
   "version": "3.6.1"
  }
 },
 "nbformat": 4,
 "nbformat_minor": 2
}
