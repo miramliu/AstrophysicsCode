{
 "cells": [
  {
   "cell_type": "markdown",
   "metadata": {},
   "source": [
    "Fixing from notes. See page 85. redoing order of summation. "
   ]
  },
  {
   "cell_type": "code",
   "execution_count": 1,
   "metadata": {},
   "outputs": [],
   "source": [
    "import numpy as np\n",
    "import matplotlib.pyplot as pl\n",
    "import itertools\n",
    "from mpl_toolkits.mplot3d import Axes3D\n",
    "from RayTraceFun_forDetTest import *\n",
    "from PossibleFunctionsDetTest import *\n",
    "from BackgroundDetTest import *\n",
    "from random import uniform\n",
    "import random\n",
    "import matplotlib\n",
    "import pickle\n",
    "import time #to save figs automatically time.strftime(\"%Y_%m_%d_%s\")\n",
    "#%matplotlib auto"
   ]
  },
  {
   "cell_type": "code",
   "execution_count": 14,
   "metadata": {
    "collapsed": true
   },
   "outputs": [],
   "source": [
    "def OFDM(Rays,y): #output from detector with mirror at Y\n",
    "    Rayf = []\n",
    "    for i in range(len(Rays)):\n",
    "        Paths = [TTTTioM,RRRRioM,TTRRioM,RTTRioM,RTRTioM,TRRTioM,RRTTioM,TRTRioM]\n",
    "        Ri = Rays[i]\n",
    "        for j in range(8):\n",
    "            origin = (0,y,0)\n",
    "            out = Paths[j](Ri,p1,p2,p3,p4,origin)\n",
    "            if out is not None:\n",
    "                Rayf.append(out)\n",
    "    return Rayf\n",
    "\n",
    "def checkoutraysM(Rays,center,r): #RAYS THAT HIT DETECTOR\n",
    "    GRays = []\n",
    "    for i in range(len(Rays)):\n",
    "        det = PLINTzS(80.,Rays[i][2],Rays[i][3])\n",
    "        Rays[i][2] = det\n",
    "        Rays[i][0] = Rays[i][0] + np.pi #reflection changes polarization\n",
    "        d = ((det[0]-center[0])**2) + ((det[1]-center[1])**2) #if it is within detector\n",
    "        if d <= r**2: \n",
    "            GRays.append(Rays[i])\n",
    "    return GRays\n",
    "\n",
    "def RunRaysMi(Rays,y): #just give number of rays to be run through this FTS at a specific y!\n",
    "    Rayf = OFDM(Rays,y)\n",
    "    G= checkoutraysM(Rayf,[160.375,-113],7.9375) # GOOD RAYS ONLY \n",
    "    Gtestsorted = sortgrid(G)\n",
    "    Regions = regionalize(Gtestsorted)\n",
    "    return Gtestsorted,Regions\n",
    "\n",
    "\n",
    "def makeraysiFIXED(n,r):\n",
    "    sourcepointorigin = [-160.375,-113.,-80.0] #LOCAL \n",
    "    sourcethet = [0.,0.,0.] #SHOT STRAIGHT UP\n",
    "    sourcepoints = specsource(r,sourcepointorigin,sourcethet,n) # SOURCE\n",
    "    Rays = FSRay(n,sourcepoints, sourcethet,origin10)\n",
    "    for i in range(n):\n",
    "        Rays[i][2] = sourcepointorigin\n",
    "        v1x,v1y,v1z = transformLG(0.,0.,1,originG,sourcethet)\n",
    "        v2 = sepop(v1x,v1y,v1z)\n",
    "        Rays[i][3]=v2\n",
    "    return Rays\n",
    "\n",
    "def SumjRegionsMi_TestG(Rays,y): #ALSO INCORPORATES PHASE\n",
    "    OutRays,regions=RunRaysMi(Rays,y)\n",
    "    Regions = list(regions)\n",
    "    jx,jy = gridlines(7.9375,[160.375,-113],200)\n",
    "    LamdAll = np.linspace(1, 10,300) #possible wavelengths (30-300 Ghz), steps of 1Ghz\n",
    "    DetTot = []\n",
    "    for j in range(len(regions)):\n",
    "        ExTot = []\n",
    "        EyTot = []\n",
    "        for i in range(len(Regions[j])): #All rays in region j\n",
    "            #ExTot = []\n",
    "            #EyTot = []\n",
    "            if i != 0 and i != 1:\n",
    "                JRegion = Regions[j]\n",
    "                o,p = JRegion[0],JRegion[1] # jx and jy defining the jth region\n",
    "                Raym = OutRays[JRegion[i]] #ith ray in the jth region\n",
    "                if o != len(jx)-1 and p !=len(jy)-1:\n",
    "                    #w = 1\n",
    "                    w = gaussian3d(Raym[2][0],Raym[2][1],.4,(jx[o]+jx[o+1])/2,(jy[p]+jy[p+1])/2)\n",
    "                else: \n",
    "                    w = 0 #(skipping gaussian)\n",
    "                #Raym[1] is intensity!!! #split into x and y components of AMPLITUDE field\n",
    "                #w = 1\n",
    "                I = Raym[1]\n",
    "                thet = Raym[0]\n",
    "                Ex1,Ey1 = w*np.sqrt(I)*np.cos(thet),w*np.sqrt(I)*np.sin(thet) #multiplied by gaussian\n",
    "                #only one frequency \n",
    "                Lamd = 3.3\n",
    "                phase = np.exp(1j*(Raym[4]%Lamd)*2*np.pi/Lamd)\n",
    "                #phase = np.exp(2*np.pi*1j*Raym[4]/Lamd)\n",
    "                Ex = Ex1*phase\n",
    "                Ey = Ey1*phase\n",
    "                ExTot.append(Ex)\n",
    "                EyTot.append(Ey)\n",
    "        Ij = (np.sum(ExTot)*np.sum(ExTot).conjugate()) + (np.sum(EyTot)*np.sum(EyTot).conjugate())\n",
    "        DetTot.append(Ij.real)\n",
    "    return np.sum(DetTot)\n",
    "\n",
    "def RunFTSLimiStraightTest(n,r,div,Lim):\n",
    "    Power = []\n",
    "    Delay = []\n",
    "    Rays = makeraysiFIXED(n,r)\n",
    "    for y in np.linspace(-int(Lim),int(Lim),div):\n",
    "        I = SumjRegionsMi_TestG(Rays,y)\n",
    "        Power.append(I)\n",
    "        Delay.append(y)\n",
    "    return Power,Delay \n",
    "\n",
    "#is normalized now\n",
    "def Airygaussian3dNORM(x,y,sig,mux,muy): #assuming is symmetric, making peak = 1\n",
    "   # A = 1\n",
    "    A = (1/((sig**3)*(2*np.pi)**(3/2)))\n",
    "    return A*np.exp(-(((x-mux)**2)/(2*sig**2) + ((y-muy)**2)/(2*sig**2)))\n",
    "\n",
    "def Airygaussian3d(x,y,sig,mux,muy): #assuming is symmetric, making peak = 1\n",
    "    A = 1\n",
    "    #A = (1/((sig**3)*(2*np.pi)**(3/2)))\n",
    "    return A*np.exp(-(((x-mux)**2)/(2*sig**2) + ((y-muy)**2)/(2*sig**2)))\n",
    "\n",
    "#given LAST ray and its wavelength, return sig, mux and muy to then be used in gaussian  \n",
    "#see pg 79 for more details(approx of airy func)\n",
    "def MakeGaussian(Ray,Lamd):\n",
    "    mux,muy = Ray[2][0],Ray[2][1] #center of gaussian is intersection point\n",
    "    width = 3.0988*Lamd\n",
    "    sig = width/3\n",
    "    return sig,mux,muy\n",
    "\n",
    "#given the two positions of the last rays and wavelength, returns percentage of overlap (out of 1)\n",
    "def gaussoverlap(Ray1,Ray2,Lamd):\n",
    "    sig1,mux1,muy1 = MakeGaussian(Ray1,Lamd)\n",
    "    sig2,mux2,muy2 = MakeGaussian(Ray2,Lamd)\n",
    "    p1 = [mux1,muy1,80.] #points in 3d in GLOBAL coordinates\n",
    "    p2 = [mux2,muy2,80.]\n",
    "    MDValue = dist(p1,p2)\n",
    "    MD = [0,.25,.5,.75,1,1.1,1.2,1.3,1.5,1.7,1.9,2.1,2.3,2.6,2.9,3.4,3.7,3.9] #mean difference\n",
    "    GP = [1,.9,.8,.7,.62,.6,.55,.5,.45,.4,.35,.3,.25,.2,.15,.1,.07,.05] #Gaussian Percent\n",
    "    idx = (np.abs(MD-MDValue)).argmin() #index number in array for closest value\n",
    "    return GP[idx]\n",
    "\n",
    "#find CENTER of each pixel now as [x,y]\n",
    "def MakePixels(jx,jy):\n",
    "    pix = []\n",
    "    for o in range(len(jx)-1):\n",
    "        for p in range(len(jy)-1):\n",
    "            r = 7.9375\n",
    "            xpix,ypix= (jx[o]+jx[o+1])/2,(jy[p]+jy[p+1])/2\n",
    "            d = np.sqrt((xpix-160.375)**2 + ((ypix-(-113))**2))\n",
    "            if d <= r: \n",
    "                pix.append([xpix,ypix])\n",
    "    return pix\n",
    "def makerays(sourcepointorigin,sourcethet,r,n):\n",
    "    #sourcepointorigin = [-160.375,-113.,-80.0] #LOCAL\n",
    "    #sourcethet = [0.,0.,0.] #SHOT STRAIGHT UP\n",
    "    sourcepoints = specsource(r,sourcepointorigin,sourcethet,n) # SOURCE\n",
    "    Rays = FSRay(n,sourcepoints, sourcethet,origin10)\n",
    "    for i in range(n):\n",
    "        Rays[i][2] = sourcepointorigin\n",
    "        v1x,v1y,v1z = transformLG(0.,0.,1,originG,sourcethet)\n",
    "        v2 = sepop(v1x,v1y,v1z)\n",
    "        Rays[i][3]=v2\n",
    "    return Rays"
   ]
  },
  {
   "cell_type": "code",
   "execution_count": 15,
   "metadata": {},
   "outputs": [
    {
     "data": {
      "text/plain": [
       "[[0.8443773169648228, 1.0, [-160.375, -113.0, -80.0], [0.0, 0.0, 1.0], 0],\n",
       " [5.7470723962609425, 1.0, [-160.375, -113.0, -80.0], [0.0, 0.0, 1.0], 0],\n",
       " [4.023438745391314, 1.0, [-160.375, -113.0, -80.0], [0.0, 0.0, 1.0], 0],\n",
       " [2.1488719846029256, 1.0, [-160.375, -113.0, -80.0], [0.0, 0.0, 1.0], 0],\n",
       " [5.008803061065298, 1.0, [-160.375, -113.0, -80.0], [0.0, 0.0, 1.0], 0],\n",
       " [4.572678118993854, 1.0, [-160.375, -113.0, -80.0], [0.0, 0.0, 1.0], 0],\n",
       " [2.633031457079143, 1.0, [-160.375, -113.0, -80.0], [0.0, 0.0, 1.0], 0],\n",
       " [5.466654936567131, 1.0, [-160.375, -113.0, -80.0], [0.0, 0.0, 1.0], 0],\n",
       " [1.7624220382790965, 1.0, [-160.375, -113.0, -80.0], [0.0, 0.0, 1.0], 0],\n",
       " [3.354498376128962, 1.0, [-160.375, -113.0, -80.0], [0.0, 0.0, 1.0], 0]]"
      ]
     },
     "execution_count": 15,
     "metadata": {},
     "output_type": "execute_result"
    }
   ],
   "source": [
    "n = 10\n",
    "r = 7.9375\n",
    "st = [0.,0.,0.] #SHOT STRAIGHT UP\n",
    "spo = [-160.375,-113.,-80.0]\n",
    "makerays(spo,st,r,n) "
   ]
  },
  {
   "cell_type": "code",
   "execution_count": 12,
   "metadata": {},
   "outputs": [
    {
     "ename": "IndexError",
     "evalue": "tuple index out of range",
     "output_type": "error",
     "traceback": [
      "\u001b[0;31m---------------------------------------------------------------------------\u001b[0m",
      "\u001b[0;31mIndexError\u001b[0m                                Traceback (most recent call last)",
      "\u001b[0;32m<ipython-input-12-b595a5ccb17a>\u001b[0m in \u001b[0;36m<module>\u001b[0;34m()\u001b[0m\n\u001b[1;32m      9\u001b[0m     \u001b[0mNsize\u001b[0m \u001b[0;34m=\u001b[0m \u001b[0;36m256\u001b[0m\u001b[0;34m\u001b[0m\u001b[0m\n\u001b[1;32m     10\u001b[0m     \u001b[0mspo\u001b[0m \u001b[0;34m=\u001b[0m \u001b[0;34m[\u001b[0m\u001b[0;34m-\u001b[0m\u001b[0;36m160.375\u001b[0m\u001b[0;34m,\u001b[0m\u001b[0;34m-\u001b[0m\u001b[0;36m113.\u001b[0m\u001b[0;34m,\u001b[0m\u001b[0;34m-\u001b[0m\u001b[0;36m80.0\u001b[0m\u001b[0;34m]\u001b[0m\u001b[0;34m\u001b[0m\u001b[0m\n\u001b[0;32m---> 11\u001b[0;31m     \u001b[0mRays\u001b[0m \u001b[0;34m=\u001b[0m \u001b[0mmakerays\u001b[0m\u001b[0;34m(\u001b[0m\u001b[0mspo\u001b[0m\u001b[0;34m,\u001b[0m\u001b[0mst\u001b[0m\u001b[0;34m,\u001b[0m\u001b[0mr\u001b[0m\u001b[0;34m,\u001b[0m\u001b[0mn\u001b[0m\u001b[0;34m)\u001b[0m\u001b[0;34m\u001b[0m\u001b[0m\n\u001b[0m\u001b[1;32m     12\u001b[0m     \u001b[0;32mfor\u001b[0m \u001b[0mi\u001b[0m \u001b[0;32min\u001b[0m \u001b[0mrange\u001b[0m\u001b[0;34m(\u001b[0m\u001b[0;36m10\u001b[0m\u001b[0;34m)\u001b[0m\u001b[0;34m:\u001b[0m\u001b[0;34m\u001b[0m\u001b[0m\n\u001b[1;32m     13\u001b[0m         \u001b[0mprint\u001b[0m\u001b[0;34m(\u001b[0m\u001b[0mRays\u001b[0m\u001b[0;34m[\u001b[0m\u001b[0mi\u001b[0m\u001b[0;34m]\u001b[0m\u001b[0;34m[\u001b[0m\u001b[0;36m2\u001b[0m\u001b[0;34m]\u001b[0m\u001b[0;34m)\u001b[0m\u001b[0;34m\u001b[0m\u001b[0m\n",
      "\u001b[0;32m<ipython-input-11-630bed360e2c>\u001b[0m in \u001b[0;36mmakerays\u001b[0;34m(sourcepointorigin, sourcethet, r, n)\u001b[0m\n\u001b[1;32m    138\u001b[0m     \u001b[0mRays\u001b[0m \u001b[0;34m=\u001b[0m \u001b[0mFS\u001b[0m\u001b[0;34m(\u001b[0m\u001b[0mn\u001b[0m\u001b[0;34m,\u001b[0m\u001b[0msourcepoints\u001b[0m\u001b[0;34m,\u001b[0m \u001b[0msourcethet\u001b[0m\u001b[0;34m,\u001b[0m\u001b[0morigin10\u001b[0m\u001b[0;34m)\u001b[0m\u001b[0;34m\u001b[0m\u001b[0m\n\u001b[1;32m    139\u001b[0m     \u001b[0;32mfor\u001b[0m \u001b[0mi\u001b[0m \u001b[0;32min\u001b[0m \u001b[0mrange\u001b[0m\u001b[0;34m(\u001b[0m\u001b[0mn\u001b[0m\u001b[0;34m)\u001b[0m\u001b[0;34m:\u001b[0m\u001b[0;34m\u001b[0m\u001b[0m\n\u001b[0;32m--> 140\u001b[0;31m         \u001b[0mRays\u001b[0m\u001b[0;34m[\u001b[0m\u001b[0mi\u001b[0m\u001b[0;34m]\u001b[0m\u001b[0;34m[\u001b[0m\u001b[0;36m2\u001b[0m\u001b[0;34m]\u001b[0m \u001b[0;34m=\u001b[0m \u001b[0msourcepointorigin\u001b[0m\u001b[0;34m\u001b[0m\u001b[0m\n\u001b[0m\u001b[1;32m    141\u001b[0m         \u001b[0mv1x\u001b[0m\u001b[0;34m,\u001b[0m\u001b[0mv1y\u001b[0m\u001b[0;34m,\u001b[0m\u001b[0mv1z\u001b[0m \u001b[0;34m=\u001b[0m \u001b[0mtransformLG\u001b[0m\u001b[0;34m(\u001b[0m\u001b[0;36m0.\u001b[0m\u001b[0;34m,\u001b[0m\u001b[0;36m0.\u001b[0m\u001b[0;34m,\u001b[0m\u001b[0;36m1\u001b[0m\u001b[0;34m,\u001b[0m\u001b[0moriginG\u001b[0m\u001b[0;34m,\u001b[0m\u001b[0msourcethet\u001b[0m\u001b[0;34m)\u001b[0m\u001b[0;34m\u001b[0m\u001b[0m\n\u001b[1;32m    142\u001b[0m         \u001b[0mv2\u001b[0m \u001b[0;34m=\u001b[0m \u001b[0msepop\u001b[0m\u001b[0;34m(\u001b[0m\u001b[0mv1x\u001b[0m\u001b[0;34m,\u001b[0m\u001b[0mv1y\u001b[0m\u001b[0;34m,\u001b[0m\u001b[0mv1z\u001b[0m\u001b[0;34m)\u001b[0m\u001b[0;34m\u001b[0m\u001b[0m\n",
      "\u001b[0;31mIndexError\u001b[0m: tuple index out of range"
     ]
    }
   ],
   "source": [
    "#TESTING OUTPUT/DECOHERENCE\n",
    "DetPoint= []\n",
    "Run=1\n",
    "if Run==1:\n",
    "    n = 10\n",
    "    r = 7.9375\n",
    "    st = [0.,0.,0.] #SHOT STRAIGHT UP\n",
    "    Lamd = 3.3\n",
    "    Nsize = 256\n",
    "    spo = [-160.375,-113.,-80.0]\n",
    "    Rays = makerays(spo,st,r,n) \n",
    "    for i in range(10):\n",
    "        print(Rays[i][2])\n",
    "    #jx,jy = gridlines(7.9375,[160.375,-113],200) #these are now the PIXELS\n",
    "    #Pix = MakePixels(jx,jy) #center of each pixel\n",
    "    #y = 18\n",
    "    #if y ==18:\n",
    "    #for y in np.linspace(-18,18,int(Nsize)):\n",
    "        #OutRays,regions=RunRaysMi(Rays,y) \n",
    "        #for i in range(len(OutRays)):\n",
    "            #DetPoint.append(PLINTzS(80.,OutRays[i][2],OutRays[i][3]))\n",
    "        \n",
    "\n",
    "#print('Done')"
   ]
  },
  {
   "cell_type": "code",
   "execution_count": 8,
   "metadata": {},
   "outputs": [
    {
     "data": {
      "image/png": "[encoded data removed]",
      "text/plain": [
       "<matplotlib.figure.Figure at 0x11bae79e8>"
      ]
     },
     "metadata": {},
     "output_type": "display_data"
    }
   ],
   "source": [
    "x,yp,yn = circle([160.375,-113],7.9375)\n",
    "pl.plot(x,yp, color = 'red')\n",
    "pl.plot(x,yn, color = 'red',label = 'r = 7.9375mm')\n",
    "for i in range(len(DetPoint)):\n",
    "    pl.scatter(DetPoint[i][0],DetPoint[i][1])\n",
    "pl.show()"
   ]
  },
  {
   "cell_type": "code",
   "execution_count": null,
   "metadata": {
    "collapsed": true
   },
   "outputs": [],
   "source": []
  }
 ],
 "metadata": {
  "kernelspec": {
   "display_name": "Python 3",
   "language": "python",
   "name": "python3"
  },
  "language_info": {
   "codemirror_mode": {
    "name": "ipython",
    "version": 3
   },
   "file_extension": ".py",
   "mimetype": "text/x-python",
   "name": "python",
   "nbconvert_exporter": "python",
   "pygments_lexer": "ipython3",
   "version": "3.6.1"
  }
 },
 "nbformat": 4,
 "nbformat_minor": 2
}
