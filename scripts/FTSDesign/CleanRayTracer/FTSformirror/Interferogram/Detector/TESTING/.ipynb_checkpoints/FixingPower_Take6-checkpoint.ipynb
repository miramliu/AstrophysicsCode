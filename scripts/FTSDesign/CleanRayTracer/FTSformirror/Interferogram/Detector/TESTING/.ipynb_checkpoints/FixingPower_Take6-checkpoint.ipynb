{
 "cells": [
  {
   "cell_type": "markdown",
   "metadata": {},
   "source": [
    "Fixing from notes. See page 85. redoing order of summation. "
   ]
  },
  {
   "cell_type": "code",
   "execution_count": 1,
   "metadata": {
    "collapsed": true
   },
   "outputs": [],
   "source": [
    "import numpy as np\n",
    "import matplotlib.pyplot as pl\n",
    "import itertools\n",
    "from mpl_toolkits.mplot3d import Axes3D\n",
    "from RayTraceFun_forDetTest import *\n",
    "from PossibleFunctionsDetTest import *\n",
    "from BackgroundDetTest import *\n",
    "from random import uniform\n",
    "import random\n",
    "import matplotlib\n",
    "import pickle\n",
    "import time #to save figs automatically time.strftime(\"%Y_%m_%d_%s\")\n",
    "#%matplotlib auto"
   ]
  },
  {
   "cell_type": "code",
   "execution_count": 2,
   "metadata": {
    "collapsed": true
   },
   "outputs": [],
   "source": [
    "def OFDM(Rays,y): #output from detector with mirror at Y\n",
    "    Rayf = []\n",
    "    for i in range(len(Rays)):\n",
    "        Paths = [TTTTioM,RRRRioM,TTRRioM,RTTRioM,RTRTioM,TRRTioM,RRTTioM,TRTRioM]\n",
    "        Ri = Rays[i]\n",
    "        for j in range(8):\n",
    "            origin = (0,y,0)\n",
    "            out = Paths[j](Ri,p1,p2,p3,p4,origin)\n",
    "            if out is not None:\n",
    "                Rayf.append(out)\n",
    "    return Rayf\n",
    "\n",
    "def checkoutraysM(Rays,center,r): #RAYS THAT HIT DETECTOR\n",
    "    GRays = []\n",
    "    for i in range(len(Rays)):\n",
    "        det = PLINTzS(80.,Rays[i][2],Rays[i][3])\n",
    "        Rays[i][2] = det\n",
    "        Rays[i][0] = Rays[i][0] + np.pi #reflection changes polarization\n",
    "        d = ((det[0]-center[0])**2) + ((det[1]-center[1])**2) #if it is within detector\n",
    "        if d <= r**2: \n",
    "            GRays.append(Rays[i])\n",
    "    return GRays\n",
    "\n",
    "def RunRaysMi(Rays,y): #just give number of rays to be run through this FTS at a specific y!\n",
    "    Rayf = OFDM(Rays,y)\n",
    "    G= checkoutraysM(Rayf,[160.375,-113],7.9375) # GOOD RAYS ONLY \n",
    "    Gtestsorted = sortgrid(G)\n",
    "    Regions = regionalize(Gtestsorted)\n",
    "    return Gtestsorted,Regions\n",
    "\n",
    "\n",
    "def makeraysiFIXED(n,r):\n",
    "    sourcepointorigin = [-160.375,-113.,-80.0] #LOCAL \n",
    "    sourcethet = [0.,0.,0.] #SHOT STRAIGHT UP\n",
    "    sourcepoints = specsource(r,sourcepointorigin,sourcethet,n) # SOURCE\n",
    "    Rays = FSRay(n,sourcepoints, sourcethet,origin10)\n",
    "    for i in range(n):\n",
    "        Rays[i][2] = sourcepointorigin\n",
    "        v1x,v1y,v1z = transformLG(0.,0.,1,originG,sourcethet)\n",
    "        v2 = sepop(v1x,v1y,v1z)\n",
    "        Rays[i][3]=v2\n",
    "    return Rays\n",
    "\n",
    "def SumjRegionsMi_TestG(Rays,y): #ALSO INCORPORATES PHASE\n",
    "    OutRays,regions=RunRaysMi(Rays,y)\n",
    "    Regions = list(regions)\n",
    "    jx,jy = gridlines(7.9375,[160.375,-113],200)\n",
    "    LamdAll = np.linspace(1, 10,300) #possible wavelengths (30-300 Ghz), steps of 1Ghz\n",
    "    DetTot = []\n",
    "    for j in range(len(regions)):\n",
    "        ExTot = []\n",
    "        EyTot = []\n",
    "        for i in range(len(Regions[j])): #All rays in region j\n",
    "            #ExTot = []\n",
    "            #EyTot = []\n",
    "            if i != 0 and i != 1:\n",
    "                JRegion = Regions[j]\n",
    "                o,p = JRegion[0],JRegion[1] # jx and jy defining the jth region\n",
    "                Raym = OutRays[JRegion[i]] #ith ray in the jth region\n",
    "                if o != len(jx)-1 and p !=len(jy)-1:\n",
    "                    #w = 1\n",
    "                    w = gaussian3d(Raym[2][0],Raym[2][1],.4,(jx[o]+jx[o+1])/2,(jy[p]+jy[p+1])/2)\n",
    "                else: \n",
    "                    w = 0 #(skipping gaussian)\n",
    "                #Raym[1] is intensity!!! #split into x and y components of AMPLITUDE field\n",
    "                #w = 1\n",
    "                I = Raym[1]\n",
    "                thet = Raym[0]\n",
    "                Ex1,Ey1 = w*np.sqrt(I)*np.cos(thet),w*np.sqrt(I)*np.sin(thet) #multiplied by gaussian\n",
    "                #only one frequency \n",
    "                Lamd = 3.3\n",
    "                phase = np.exp(1j*(Raym[4]%Lamd)*2*np.pi/Lamd)\n",
    "                #phase = np.exp(2*np.pi*1j*Raym[4]/Lamd)\n",
    "                Ex = Ex1*phase\n",
    "                Ey = Ey1*phase\n",
    "                ExTot.append(Ex)\n",
    "                EyTot.append(Ey)\n",
    "        Ij = (np.sum(ExTot)*np.sum(ExTot).conjugate()) + (np.sum(EyTot)*np.sum(EyTot).conjugate())\n",
    "        DetTot.append(Ij.real)\n",
    "    return np.sum(DetTot)\n",
    "\n",
    "def RunFTSLimiStraightTest(n,r,div,Lim):\n",
    "    Power = []\n",
    "    Delay = []\n",
    "    Rays = makeraysiFIXED(n,r)\n",
    "    for y in np.linspace(-int(Lim),int(Lim),div):\n",
    "        I = SumjRegionsMi_TestG(Rays,y)\n",
    "        Power.append(I)\n",
    "        Delay.append(y)\n",
    "    return Power,Delay \n",
    "\n",
    "#is normalized now\n",
    "def Airygaussian3dNORM(x,y,sig,mux,muy): #assuming is symmetric, making peak = 1\n",
    "   # A = 1\n",
    "    A = (1/((sig**3)*(2*np.pi)**(3/2)))\n",
    "    return A*np.exp(-(((x-mux)**2)/(2*sig**2) + ((y-muy)**2)/(2*sig**2)))\n",
    "\n",
    "def Airygaussian3d(x,y,sig,mux,muy): #assuming is symmetric, making peak = 1\n",
    "    A = 1\n",
    "    #A = (1/((sig**3)*(2*np.pi)**(3/2)))\n",
    "    return A*np.exp(-(((x-mux)**2)/(2*sig**2) + ((y-muy)**2)/(2*sig**2)))\n",
    "\n",
    "#given LAST ray and its wavelength, return sig, mux and muy to then be used in gaussian  \n",
    "#see pg 79 for more details(approx of airy func)\n",
    "def MakeGaussian(Ray,Lamd):\n",
    "    mux,muy = Ray[2][0],Ray[2][1] #center of gaussian is intersection point\n",
    "    width = 3.0988*Lamd\n",
    "    sig = width/3\n",
    "    return sig,mux,muy\n",
    "\n",
    "#given the two positions of the last rays and wavelength, returns percentage of overlap (out of 1)\n",
    "def gaussoverlap(Ray1,Ray2,Lamd):\n",
    "    sig1,mux1,muy1 = MakeGaussian(Ray1,Lamd)\n",
    "    sig2,mux2,muy2 = MakeGaussian(Ray2,Lamd)\n",
    "    p1 = [mux1,muy1,80.] #points in 3d in GLOBAL coordinates\n",
    "    p2 = [mux2,muy2,80.]\n",
    "    MDValue = dist(p1,p2)\n",
    "    MD = [0,.25,.5,.75,1,1.1,1.2,1.3,1.5,1.7,1.9,2.1,2.3,2.6,2.9,3.4,3.7,3.9] #mean difference\n",
    "    GP = [1,.9,.8,.7,.62,.6,.55,.5,.45,.4,.35,.3,.25,.2,.15,.1,.07,.05] #Gaussian Percent\n",
    "    idx = (np.abs(MD-MDValue)).argmin() #index number in array for closest value\n",
    "    return GP[idx]\n",
    "\n",
    "#find CENTER of each pixel now as [x,y]\n",
    "def MakePixels(jx,jy):\n",
    "    pix = []\n",
    "    for o in range(len(jx)-1):\n",
    "        for p in range(len(jy)-1):\n",
    "            r = 7.9375\n",
    "            xpix,ypix= (jx[o]+jx[o+1])/2,(jy[p]+jy[p+1])/2\n",
    "            d = np.sqrt((xpix-160.375)**2 + ((ypix-(-113))**2))\n",
    "            if d <= r: \n",
    "                pix.append([xpix,ypix])\n",
    "    return pix"
   ]
  },
  {
   "cell_type": "code",
   "execution_count": 13,
   "metadata": {},
   "outputs": [
    {
     "name": "stdout",
     "output_type": "stream",
     "text": [
      "Done\n"
     ]
    }
   ],
   "source": [
    "def RunOneRay(Lamd,Nsize): \n",
    "    n = 1\n",
    "    r = 0\n",
    "    Rays = makeraysiFIXED(n,r) \n",
    "    jx,jy = gridlines(7.9375,[160.375,-113],200) #these are now the PIXELS\n",
    "    Pix = MakePixels(jx,jy) #center of each pixel\n",
    "    Ij = []\n",
    "    Delay = []\n",
    "    for y in np.linspace(-18,18,int(Nsize)):\n",
    "        PTot=0\n",
    "        OutRays,regions=RunRaysMi(Rays,y) #eight each\n",
    "        #Overlap = gaussoverlap(OutRays[0],OutRays[5],3.3) #two paths that hit two different spots \n",
    "        for j in range(len(Pix)): #per PIXEL\n",
    "            Ex4i = 0 #adding PER PIXEL from parts of RAYS in this PIXEL\n",
    "            Ey4i = 0 #THIS IS WHERE THEY WILL INTERFERE\n",
    "            for i in range(len(OutRays)): #per ray IN THIS PIXEL\n",
    "                I = OutRays[i][1]\n",
    "                thet = OutRays[i][0]\n",
    "                phase = np.exp(1j*(OutRays[i][4]*2*np.pi/Lamd)) #factor of 2??\n",
    "                Ex1 = np.sqrt(I)*np.cos(thet)\n",
    "                Ey1 = np.sqrt(I)*np.sin(thet)\n",
    "                Ex = Ex1*phase\n",
    "                Ey = Ey1*phase\n",
    "                #doing summation over entire detector\n",
    "                sig,mux,muy = MakeGaussian(OutRays[i],Lamd)\n",
    "                Gr = Airygaussian3dNORM(Pix[j][0],Pix[j][1],sig,mux,muy)\n",
    "                Ex4i = Ex4i + Gr*Ex\n",
    "                Ey4i = Ey4i + Gr*Ey\n",
    "            PTot = PTot + (Ex4i*Ex4i.conjugate()).real + (Ey4i*Ey4i.conjugate()).real\n",
    "        Delay.append(y*0.95630475596*4)\n",
    "        Ij.append(PTot)\n",
    "    return Delay,Ij\n",
    "#Delay,Ij = RunOneRay()        \n",
    "#pl.plot(Delay,Ij) #treating detector like one pixel\n",
    "#pl.tick_params(colors = 'white')\n",
    "#pl.title('No Overlap\\n$\\lambda$='+str(Lamd),color = 'white')\n",
    "#pl.xlabel('Path Difference (mm)', color = 'white')\n",
    "#pl.show() \n",
    "\n",
    "print('Done')"
   ]
  },
  {
   "cell_type": "code",
   "execution_count": 28,
   "metadata": {
    "collapsed": true
   },
   "outputs": [],
   "source": [
    "Lamd = 1.1\n",
    "Nsize = 512\n",
    "Freq = float(300/Lamd)\n",
    "Delay,Ij = RunOneRay(Lamd,Nsize)"
   ]
  },
  {
   "cell_type": "code",
   "execution_count": 29,
   "metadata": {},
   "outputs": [
    {
     "data": {
      "image/png": "[encoded data removed]",
      "text/plain": [
       "<matplotlib.figure.Figure at 0x11252e6a0>"
      ]
     },
     "metadata": {},
     "output_type": "display_data"
    },
    {
     "data": {
      "image/png": "[encoded data removed]",
      "text/plain": [
       "<matplotlib.figure.Figure at 0x11252e4e0>"
      ]
     },
     "metadata": {},
     "output_type": "display_data"
    },
    {
     "name": "stdout",
     "output_type": "stream",
     "text": [
      "Done!\n"
     ]
    }
   ],
   "source": [
    "#f,u = spectrum(Ij,Nsize)\n",
    "d1 = Ij\n",
    "D = np.hanning(int(np.shape(d1)[0]))*d1\n",
    "S = np.fft.rfft(D)\n",
    "S = S[1:]\n",
    "u = np.abs(S)\n",
    "xtot = 36*0.95630475596*4 #total length of the scan\n",
    "df = 1/xtot\n",
    "f = df*np.arange(1+Nsize/2)\n",
    "\n",
    "pl.plot(Delay,Ij) #treating detector like one pixel\n",
    "pl.tick_params(colors = 'white')\n",
    "pl.title('$\\lambda$='+str(Lamd),color = 'white')\n",
    "pl.xlabel('Path Difference (mm)', color = 'white')\n",
    "pl.show() \n",
    "pl.plot(300*f[1:],u)\n",
    "pl.title('FFT of above',color = 'white')\n",
    "pl.xlabel('GHz', color = 'white')\n",
    "pl.tick_params(colors = 'white')\n",
    "#pl.xlim(0,500)\n",
    "pl.axvline(x =float(Freq), color = 'green', label = str(Freq)+'GHz')\n",
    "\n",
    "pl.legend()\n",
    "pl.show()\n",
    "\n",
    "print('Done!')"
   ]
  },
  {
   "cell_type": "code",
   "execution_count": 25,
   "metadata": {
    "collapsed": true
   },
   "outputs": [],
   "source": [
    "def checkpathdif(Lamd,Nsize):\n",
    "    n = 1\n",
    "    r = 0\n",
    "    Rays = makeraysiFIXED(n,r) \n",
    "    jx,jy = gridlines(7.9375,[160.375,-113],200) #these are now the PIXELS\n",
    "    Pix = MakePixels(jx,jy) #center of each pixel\n",
    "    Yposition = []\n",
    "    PathDifference = []\n",
    "    for y in np.linspace(-18,18,int(Nsize)):\n",
    "        PTot=0\n",
    "        OutRays,regions=RunRaysMi(Rays,y) #eight each\n",
    "        D = np.abs(float(OutRays[0][4])-float(OutRays[5][4]))\n",
    "        Yposition.append(y)\n",
    "        PathDifference.append(D)\n",
    "    return Yposition,PathDifference\n",
    "        \n",
    "    "
   ]
  },
  {
   "cell_type": "code",
   "execution_count": 26,
   "metadata": {
    "collapsed": true
   },
   "outputs": [],
   "source": [
    "Y11,D11 = checkpathdif(1.1,256)\n",
    "#Y22,D22 =checkpathdif(2.2)\n",
    "#Y33,D33 = checkpathdif(3.3)\n",
    "#calculating geometric by myself\n",
    "def pathdif(y):\n",
    "    Dfix = np.sqrt((128)**2 + 32.075**2)\n",
    "    Dnew = np.sqrt((128+y)**2 + 32.075**2)\n",
    "    dd = 4*np.abs(Dfix-Dnew)\n",
    "    return dd"
   ]
  },
  {
   "cell_type": "code",
   "execution_count": 27,
   "metadata": {},
   "outputs": [
    {
     "data": {
      "image/png": "[encoded data removed]",
      "text/plain": [
       "<matplotlib.figure.Figure at 0x112537780>"
      ]
     },
     "metadata": {},
     "output_type": "display_data"
    }
   ],
   "source": [
    "pl.plot(Y11,D11, color = 'red', label ='Simulation')\n",
    "#pl.plot(Y22,D22, color = 'orange', label ='Simulation: $\\lambda$=2.2mm')\n",
    "#pl.plot(Y33,D33,color = 'blue', label ='Simulation: $\\lambda$=3.3mm')\n",
    "pl.title('Path Difference Vs. Mirror Position', color = 'white')\n",
    "pl.xlabel('Mirror Position (mm)', color = 'white')\n",
    "pl.ylabel('Path Difference (mm)', color = 'white')\n",
    "YGeom = np.linspace(-18,18,256)\n",
    "dd = np.abs(YGeom*0.95630475596*4)\n",
    "pl.plot(YGeom,dd, linestyle = '--', label = 'Geometric Approx')\n",
    "pl.plot(YGeom,pathdif(YGeom), linestyle = ':',label = 'Geometric Approx. 2')\n",
    "pl.tick_params(colors = 'white')\n",
    "pl.legend()\n",
    "pl.show()"
   ]
  },
  {
   "cell_type": "code",
   "execution_count": null,
   "metadata": {
    "collapsed": true
   },
   "outputs": [],
   "source": []
  }
 ],
 "metadata": {
  "kernelspec": {
   "display_name": "Python 3",
   "language": "python",
   "name": "python3"
  },
  "language_info": {
   "codemirror_mode": {
    "name": "ipython",
    "version": 3
   },
   "file_extension": ".py",
   "mimetype": "text/x-python",
   "name": "python",
   "nbconvert_exporter": "python",
   "pygments_lexer": "ipython3",
   "version": "3.6.1"
  }
 },
 "nbformat": 4,
 "nbformat_minor": 2
}
