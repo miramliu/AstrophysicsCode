{
 "cells": [
  {
   "cell_type": "code",
   "execution_count": 1,
   "metadata": {
    "collapsed": true
   },
   "outputs": [],
   "source": [
    "import numpy as np\n",
    "import matplotlib.pyplot as pl\n",
    "import itertools\n",
    "from mpl_toolkits.mplot3d import Axes3D\n",
    "from RayTraceFun_forDet import *\n",
    "from PossibleFunctionsDet import *\n",
    "from BackgroundDet import *\n",
    "from random import uniform\n",
    "import random\n",
    "import matplotlib\n",
    "#%matplotlib auto"
   ]
  },
  {
   "cell_type": "code",
   "execution_count": 2,
   "metadata": {},
   "outputs": [],
   "source": [
    "#the functions that incorporate movement of mirror\n",
    "def OFDM(Rays,y): #output from detector wiht mirror at Y\n",
    "    Rayf = []\n",
    "    for i in range(len(Rays)):\n",
    "        Paths = [TTTTioM,RRRRioM,TTRRioM,RTTRioM,RTRTioM,TRRTioM,RRTTioM,TRTRioM]\n",
    "        Ri = Rays[i]\n",
    "        for j in range(8):\n",
    "            origin = (0,y,0)\n",
    "            out = Paths[j](Ri,p1,p2,p3,p4,origin)\n",
    "            if out is not None:\n",
    "                Rayf.append(out)\n",
    "    return Rayf\n",
    "\n",
    "def checkoutraysM(Rays,center,r): #RAYS THAT HIT DETECTOR\n",
    "    GRays = []\n",
    "    for i in range(len(Rays)):\n",
    "        det = PLINTzS(80.,Rays[i][2],Rays[i][3])\n",
    "        Rays[i][2] = det\n",
    "        d = ((det[0]-center[0])**2) + ((det[1]-center[1])**2)\n",
    "        if d <= r**2: \n",
    "            GRays.append(Rays[i])\n",
    "    return GRays\n",
    "\n",
    "def RunRaysM(n,y): #just give number of rays to be run through this FTS at a specific y!\n",
    "    sourcepointorigin = [-160.375,-113.,-80.0] #LOCAL \n",
    "    sourcethet = [0.,0.,0.] #SHOT STRAIGHT UP\n",
    "    sourcepoints = specsource(7.9375,sourcepointorigin,sourcethet,n) #LOCAL\n",
    "    Rays = FSRay(n,sourcepoints, sourcethet,origin10)\n",
    "    Rayf = OFDM(Rays,y)\n",
    "    G= checkoutraysM(Rayf,[160.375,-113],7.9375) # GOOD RAYS ONLY \n",
    "    Gtestsorted = sortgrid(G)\n",
    "    Regions = regionalize(Gtestsorted)\n",
    "    return Gtestsorted,Regions\n",
    "\n",
    "def SumjRegionsM(n,y): #ALSO INCORPORATES PHASE\n",
    "    OutRays,regions=RunRaysM(n,y)\n",
    "    Regions = list(regions)\n",
    "    jx,jy = gridlines(7.9375,[160.375,-113],200)\n",
    "    LamdAll = np.linspace(1, 10,300) #possible wavelengths (30-300 Ghz), steps of 1Ghz\n",
    "    DetTot = []\n",
    "    for j in range(len(regions)):\n",
    "        for i in range(len(Regions[j])): #All rays in region j\n",
    "            ExTot = []\n",
    "            EyTot = []\n",
    "            if i != 0 and i != 1:\n",
    "                JRegion = Regions[j]\n",
    "                m,p = JRegion[0],JRegion[1] # jx and jy defining the jth region\n",
    "                Raym = OutRays[JRegion[i]] #ith ray in the jth region\n",
    "                w = 1\n",
    "                if m == 17 or p == 17: #end of detector\n",
    "                    w = 0\n",
    "                else:\n",
    "                    w = gaussian3d(Raym[2][0],Raym[2][1],.3,(jx[m]+jx[m+1])/2,(jy[p]+jy[p+1])/2)\n",
    "                Ex1 = w*(np.cos(Raym[0])*Raym[1]) #split into x and y components of E field\n",
    "                Ey1 = w*(np.sin(Raym[0])*Raym[1]) #is there abs or not?\n",
    "                #incorporating phase \n",
    "                for q in range(300):\n",
    "                    Lamd=LamdAll[q]\n",
    "                    Ex = Ex1*np.cos((Raym[4]%Lamd)*2*np.pi/Lamd)\n",
    "                    Ey = Ey1*np.cos((Raym[4]%Lamd)*2*np.pi/Lamd)\n",
    "                    ExTot.append(Ex)\n",
    "                    EyTot.append(Ey)\n",
    "        Ij = (np.sum(ExTot))**2 + (np.sum(EyTot))**2\n",
    "        DetTot.append(Ij)\n",
    "    return np.sum(DetTot)\n",
    "def RunFTS(n,div):\n",
    "    Power = []\n",
    "    Delay = []\n",
    "    for y in np.linspace(-25,25,div):\n",
    "        I = SumjRegionsM(n,y)\n",
    "        Power.append(I)\n",
    "        Delay.append(y)\n",
    "    return Power,Delay   "
   ]
  },
  {
   "cell_type": "markdown",
   "metadata": {},
   "source": [
    "def test():\n",
    "    OutRays,regions=RunRaysM(1000,0)\n",
    "    Regions = list(regions)\n",
    "    points = [] #testing gaussian\n",
    "    Rays = []\n",
    "    jx,jy = gridlines(7.9375,[160.375,-113],200)\n",
    "    for j in range(len(regions)):\n",
    "        for i in range(len(Regions[j])): #All rays in region j\n",
    "            ExTot = []\n",
    "            EyTot = []\n",
    "            if i != 0 and i != 1:\n",
    "                JRegion = Regions[j] #all rays in region j\n",
    "                m,p = JRegion[0],JRegion[1] # jx and jy defining the jth region\n",
    "                Raym = OutRays[JRegion[i]] #ith ray in the jth region\n",
    "                if m == 17 or p == 17:\n",
    "                    w = 0 #the edges of the detector ? \n",
    "                else:\n",
    "                    w = gaussian3d(Raym[2][0],Raym[2][1],.3,(jx[m]+jx[m+1])/2,(jy[p]+jy[p+1])/2)\n",
    "                A = [Raym[2][0],Raym[2][1],w]\n",
    "                points.append(A)\n",
    "                Rays.append(Raym)\n",
    "    return points"
   ]
  },
  {
   "cell_type": "markdown",
   "metadata": {},
   "source": [
    "pl3dsurf = pl.figure().gca(projection = '3d')\n",
    "for x in  np.linspace(jx[5],jx[6],10):\n",
    "    for y in np.linspace(jy[5],jy[6],10):\n",
    "        z = gaussian3d(x,y,.3,(jx[5]+jx[6])/2,(jy[5]+jy[6])/2)\n",
    "        A = gaussian3d(x+.1,y+1,.3,(jx[5]+jx[6])/2,(jy[5]+jy[6])/2)#boundaries\n",
    "        pl3dsurf.scatter(x,y,z)\n",
    "pl.show()\n",
    "#clearly not normalized? \n",
    "#yay now is normalized\n",
    "#so make edge of the whatsit \n"
   ]
  },
  {
   "cell_type": "code",
   "execution_count": 5,
   "metadata": {},
   "outputs": [
    {
     "data": {
      "image/png": "[encoded data removed]",
      "text/plain": [
       "<matplotlib.figure.Figure at 0x10c9b7ac8>"
      ]
     },
     "metadata": {},
     "output_type": "display_data"
    }
   ],
   "source": [
    "P,D = RunFTS(1000,20)\n",
    "pl.plot(D,P)\n",
    "pl.savefig('Plots/'+time.strftime(\"%Y_%m_%d_%s\"))\n",
    "pl.show()"
   ]
  },
  {
   "cell_type": "code",
   "execution_count": null,
   "metadata": {},
   "outputs": [],
   "source": [
    "#just to test, setting mirror RIDICULOUSLY far away so shouldn't ever hit\n",
    "for y in np.linspace(-500,-400,10):\n",
    "    I = SumjRegionsM(n,y)\n",
    "#ok so i do get a nonetype...."
   ]
  },
  {
   "cell_type": "code",
   "execution_count": null,
   "metadata": {
    "collapsed": true
   },
   "outputs": [],
   "source": [
    "#test modulation again (using ALL THE PATHS)\n",
    "def CheckModulate(n,y):\n",
    "    OutRays,regions=RunRaysM(n,y)\n",
    "    return len(OutRays)/n\n",
    "def CheckModulateFTS(n,div):\n",
    "    Power = []\n",
    "    Delay = []\n",
    "    for y in np.linspace(-25,25,div):\n",
    "        I = CheckModulate(n,y)\n",
    "        Power.append(I)\n",
    "        Delay.append(y)\n",
    "    return Power,Delay   "
   ]
  },
  {
   "cell_type": "code",
   "execution_count": null,
   "metadata": {},
   "outputs": [],
   "source": [
    "P,D = CheckModulateFTS(100,100)\n",
    "pl.plot(D,P)\n",
    "pl.show()"
   ]
  },
  {
   "cell_type": "code",
   "execution_count": null,
   "metadata": {},
   "outputs": [],
   "source": []
  },
  {
   "cell_type": "code",
   "execution_count": null,
   "metadata": {},
   "outputs": [],
   "source": []
  },
  {
   "cell_type": "code",
   "execution_count": null,
   "metadata": {
    "collapsed": true
   },
   "outputs": [],
   "source": []
  }
 ],
 "metadata": {
  "kernelspec": {
   "display_name": "Python 3",
   "language": "python",
   "name": "python3"
  },
  "language_info": {
   "codemirror_mode": {
    "name": "ipython",
    "version": 3
   },
   "file_extension": ".py",
   "mimetype": "text/x-python",
   "name": "python",
   "nbconvert_exporter": "python",
   "pygments_lexer": "ipython3",
   "version": "3.6.1"
  }
 },
 "nbformat": 4,
 "nbformat_minor": 2
}
