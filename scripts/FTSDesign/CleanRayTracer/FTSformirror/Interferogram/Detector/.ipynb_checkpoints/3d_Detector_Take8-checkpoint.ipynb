{
 "cells": [
  {
   "cell_type": "markdown",
   "metadata": {},
   "source": [
    "Am now messing around with complex amplitude amaking sure my interference, transmission, reflection etc is actually correct. This is to make the outcoming interferogram look a little more real?"
   ]
  },
  {
   "cell_type": "code",
   "execution_count": 1,
   "metadata": {
    "collapsed": true
   },
   "outputs": [],
   "source": [
    "import numpy as np\n",
    "import matplotlib.pyplot as pl\n",
    "import itertools\n",
    "from mpl_toolkits.mplot3d import Axes3D\n",
    "from RayTraceFun_forDet import *\n",
    "from PossibleFunctionsDet import *\n",
    "from BackgroundDet import *\n",
    "from random import uniform\n",
    "import random\n",
    "import matplotlib\n",
    "import pickle\n",
    "import time #to save figs automatically time.strftime(\"%Y_%m_%d_%s\")\n",
    "#%matplotlib auto"
   ]
  },
  {
   "cell_type": "code",
   "execution_count": 16,
   "metadata": {
    "collapsed": true
   },
   "outputs": [],
   "source": [
    "#the functions that incorporate movement of mirror\n",
    "def OFDM(Rays,y): #output from detector wiht mirror at Y\n",
    "    Rayf = []\n",
    "    for i in range(len(Rays)):\n",
    "        Paths = [TTTTioM,RRRRioM,TTRRioM,RTTRioM,RTRTioM,TRRTioM,RRTTioM,TRTRioM]\n",
    "        Ri = Rays[i]\n",
    "        for j in range(8):\n",
    "            origin = (0,y,0)\n",
    "            out = Paths[j](Ri,p1,p2,p3,p4,origin)\n",
    "            if out is not None:\n",
    "                Rayf.append(out)\n",
    "    return Rayf\n",
    "\n",
    "def checkoutraysM(Rays,center,r): #RAYS THAT HIT DETECTOR\n",
    "    GRays = []\n",
    "    for i in range(len(Rays)):\n",
    "        det = PLINTzS(80.,Rays[i][2],Rays[i][3])\n",
    "        Rays[i][2] = det\n",
    "        Rays[i][0] = Rays[i][0] + np.pi #reflection changes polarization\n",
    "        d = ((det[0]-center[0])**2) + ((det[1]-center[1])**2) #if it is within detector\n",
    "        if d <= r**2: \n",
    "            GRays.append(Rays[i])\n",
    "    return GRays\n",
    "\n",
    "def RunRaysM(n,y): #just give number of rays to be run through this FTS at a specific y!\n",
    "    sourcepointorigin = [-160.375,-113.,-80.0] #LOCAL \n",
    "    sourcethet = [0.,0.,0.] #SHOT STRAIGHT UP\n",
    "    sourcepoints = specsource(7.9375,sourcepointorigin,sourcethet,n) #LOCAL\n",
    "    Rays = FSRay(n,sourcepoints, sourcethet,origin10)\n",
    "    Rayf = OFDM(Rays,y)\n",
    "    G= checkoutraysM(Rayf,[160.375,-113],7.9375) # GOOD RAYS ONLY \n",
    "    Gtestsorted = sortgrid(G)\n",
    "    Regions = regionalize(Gtestsorted)\n",
    "    return Gtestsorted,Regions\n",
    "\n",
    "def SumjRegionsM(n,y): #ALSO INCORPORATES PHASE\n",
    "    OutRays,regions=RunRaysM(n,y)\n",
    "    Regions = list(regions)\n",
    "    jx,jy = gridlines(7.9375,[160.375,-113],200)\n",
    "    LamdAll = np.linspace(1, 10,300) #possible wavelengths (30-300 Ghz), steps of 1Ghz\n",
    "    DetTot = []\n",
    "    for j in range(len(regions)):\n",
    "        for i in range(len(Regions[j])): #All rays in region j\n",
    "            ExTot = []\n",
    "            EyTot = []\n",
    "            if i != 0 and i != 1:\n",
    "                JRegion = Regions[j]\n",
    "                o,p = JRegion[0],JRegion[1] # jx and jy defining the jth region\n",
    "                Raym = OutRays[JRegion[i]] #ith ray in the jth region\n",
    "                if o != len(jx)-1 and p !=len(jy)-1:\n",
    "                    w = gaussian3d(Raym[2][0],Raym[2][1],.4,(jx[o]+jx[o+1])/2,(jy[p]+jy[p+1])/2)\n",
    "                else: \n",
    "                    w = 0 #(skipping gaussian)\n",
    "                #Raym[1] is intensity!!! #split into x and y components of AMPLITUDE field\n",
    "                I = Raym[1]\n",
    "                thet = Raym[0]\n",
    "                Ex1,Ey1 = w*np.sqrt(I)*np.cos(thet),w*np.sqrt(I)*np.sin(thet) #multiplied by gaussian\n",
    "                #incorporating phase \n",
    "                for q in range(300):\n",
    "                    Lamd=LamdAll[q]\n",
    "                    Ex = Ex1*np.cos((Raym[4]%Lamd)*2*np.pi/Lamd)\n",
    "                    Ey = Ey1*np.cos((Raym[4]%Lamd)*2*np.pi/Lamd)\n",
    "                    ExTot.append(Ex)\n",
    "                    EyTot.append(Ey)\n",
    "        Ij = (np.sum(ExTot))**2 + (np.sum(EyTot))**2\n",
    "        DetTot.append(Ij)\n",
    "    return np.sum(DetTot)\n",
    "def RunFTS(n,div):\n",
    "    Power = []\n",
    "    Delay = []\n",
    "    for y in np.linspace(-5,5,div):\n",
    "        I = SumjRegionsM(n,y)\n",
    "        Power.append(I)\n",
    "        Delay.append(y)\n",
    "    return Power,Delay   \n",
    "def RunFTSLim(n,div,Lim):\n",
    "    Power = []\n",
    "    Delay = []\n",
    "    for y in np.linspace(-int(Lim),int(Lim),div):\n",
    "        I = SumjRegionsM(n,y)\n",
    "        Power.append(I)\n",
    "        Delay.append(y)\n",
    "    return Power,Delay  "
   ]
  },
  {
   "cell_type": "code",
   "execution_count": 21,
   "metadata": {},
   "outputs": [
    {
     "data": {
      "image/png": "[encoded data removed]",
      "text/plain": [
       "<matplotlib.figure.Figure at 0x10714ef60>"
      ]
     },
     "metadata": {},
     "output_type": "display_data"
    }
   ],
   "source": [
    "P,D = RunFTSLim(100,1500,25)\n",
    "pl.plot(D,P,color = 'black')\n",
    "pl.tick_params(colors = 'white')\n",
    "pl.savefig('Plots/'+time.strftime(\"%Y_%m_%d_%H_%M_%S\"))\n",
    "pl.show()\n",
    "\n",
    "with open(\"Plots/ModelDelays\"+time.strftime(\"_%Y_%m_%d_%H_%M_%S\") + \".pkl\", \"wb\") as f:\n",
    "    pickle.dump(D,f)\n",
    "with open(\"Plots/ModelPower\"+time.strftime(\"_%Y_%m_%d_%H_%M_%S\") + \".pkl\", \"wb\") as f:\n",
    "    pickle.dump(P,f)"
   ]
  },
  {
   "cell_type": "code",
   "execution_count": 9,
   "metadata": {
    "collapsed": true
   },
   "outputs": [],
   "source": []
  },
  {
   "cell_type": "code",
   "execution_count": null,
   "metadata": {
    "collapsed": true
   },
   "outputs": [],
   "source": []
  }
 ],
 "metadata": {
  "kernelspec": {
   "display_name": "Python 3",
   "language": "python",
   "name": "python3"
  },
  "language_info": {
   "codemirror_mode": {
    "name": "ipython",
    "version": 3
   },
   "file_extension": ".py",
   "mimetype": "text/x-python",
   "name": "python",
   "nbconvert_exporter": "python",
   "pygments_lexer": "ipython3",
   "version": "3.6.1"
  }
 },
 "nbformat": 4,
 "nbformat_minor": 2
}
