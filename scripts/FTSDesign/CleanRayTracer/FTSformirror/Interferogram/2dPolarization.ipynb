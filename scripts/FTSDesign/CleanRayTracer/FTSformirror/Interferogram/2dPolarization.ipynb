{
 "cells": [
  {
   "cell_type": "code",
   "execution_count": 135,
   "metadata": {
    "collapsed": true
   },
   "outputs": [],
   "source": [
    "import numpy as np\n",
    "import matplotlib.pyplot as pl\n",
    "import itertools\n",
    "from mpl_toolkits.mplot3d import Axes3D\n",
    "from RayTraceFun_forInt import *\n",
    "from random import uniform\n",
    "import random\n",
    "import matplotlib\n",
    "#%matplotlib auto"
   ]
  },
  {
   "cell_type": "code",
   "execution_count": 136,
   "metadata": {},
   "outputs": [
    {
     "name": "stdout",
     "output_type": "stream",
     "text": [
      "Continue\n"
     ]
    }
   ],
   "source": [
    "originG = [0,0,0] # the global origin\n",
    "thetG = [0,0,0] # rotation with respect to itself aka 0,0,0\n",
    "origin1 = [-32.075,-128,0] #x,y (ellipse1)\n",
    "origin2 = [64.15-32.075,-128,0] #x,y (ellipse2)\n",
    "origin3 = [-32.075,128,0] #x,y (ellipse3)\n",
    "origin4 = [64.15-32.075,128,0] #x,y  (ellipse4)\n",
    "#origin5 = [128.3,-120.501,0] # (ellipse5) changed for 2D\n",
    "origin5 = [128.3-32.075,-128,0]\n",
    "#origin6 = [128.3,120.501,0] # (ellipse6) changed for 2D\n",
    "origin6 = [128.3-32.075,128,0]\n",
    "origin7 = [160.375-32.075,-7.5,40]\n",
    "#origin8 = [-64.15,-120.501,0] changed for 2D\n",
    "#origin9 = [-64.15,120.501,0] changed for 2D\n",
    "origin8 = [-64.15-32.075,-128,0] \n",
    "origin9 = [-64.15-32.075,128,0]\n",
    "origin10 = [-96.225-32.075,7.5,-40]\n",
    "\n",
    "originpolar1 = [-128.3,0.0,0.0]\n",
    "originpolar2 = [-64.15,0.0,0.0]\n",
    "originpolar3 = [64.15,0.0,0.0]\n",
    "originpolar4 = [128.3,0.0,0.0]\n",
    "\n",
    "thet = [0,0,0] #A\n",
    "thet5 = [0,0,-.1164] \n",
    "thet6 = [0,0,.1164] #testing\n",
    "thet7 = [0,.319422,1.3106]\n",
    "thet10 = [0,.310422,-1.3106]\n",
    "\n",
    "coeffellipse56 = [248.39,256.65,64.58]  #for ellipses 5&6\n",
    "coeffellipse = [263.9,256,64.15] #for center ellipses\n",
    "coeffmirr = [31.75,25.4,19.05]\n",
    "coeffpolar = [32.075,32.075,0] #for polarizers (2d circle)\n",
    "\n",
    "#polarizer1\n",
    "xp1,yp1,zp1 = polarizer(originpolar1,coeffpolar,0.0)\n",
    "#polarizer2\n",
    "xp2,yp2,zp2 = polarizer(originpolar2,coeffpolar,0.0)\n",
    "#polarizer3\n",
    "xp3,yp3,zp3 = polarizer(originpolar3,coeffpolar,0.0)\n",
    "#polarizer4\n",
    "xp4,yp4,zp4 = polarizer(originpolar4,coeffpolar,0.0)\n",
    "\n",
    "#CEBS\n",
    "xC,yC1,yCn,zC = CEBS(coeffellipse,300) #center\n",
    "xS,yS1,ySn,zS = CEBS(coeffellipse,300) #side\n",
    "\n",
    "#E1\n",
    "xC1,yC11,zC1 = SR2(32.07,xC,yC1,zC,originG)\n",
    "xL1,yL1,zL1 = transformLG(xC1,yC11,zC1,origin1,thetG) \n",
    "#E2\n",
    "xC2,yC12,zC2 = SR2(32.07,xC,yC1,zC,originG)\n",
    "xL2,yL2,zL2 = transformLG(xC2,yC12,zC2,origin2,thetG) \n",
    "#E3\n",
    "xC3,yCn3,zC3 = SR2(32.07,xC,yCn,zC,originG)\n",
    "xL3,yL3,zL3 = transformLG(xC3,yCn3,zC3,origin3,thetG)\n",
    "#E4\n",
    "xC4,yCn4,zC4 = SR2(32.07,xC,yCn,zC,originG)\n",
    "xL4,yL4,zL4 = transformLG(xC4,yCn4,zC4,origin4,thetG)\n",
    "#E5\n",
    "xS5,yS15,zS5 = transformLG(xS,yS1,zS,origin5,thet5)\n",
    "xL5,yL5,zL5 = SR2(32.07,xS5,yS15,zS5,origin5)\n",
    "#E6\n",
    "xS6,ySn6,zS6 = transformLG(xS,ySn,zS,origin6,thet6)\n",
    "xL6,yL6,zL6 = SR2(32.07,xS6,ySn6,zS6,origin6)\n",
    "#E8\n",
    "xS8,yS18,zS8 = transformLG(xS,yS1,zS,origin8,thet6)\n",
    "xL8,yL8,zL8 = SR2(32.07,xS8,yS18,zS8,origin8)\n",
    "#E9\n",
    "xS9,ySn9,zS9 = transformLG(xS,ySn,zS,origin9,thet5)\n",
    "xL9,yL9,zL9 = SR2(32.07,xS9,ySn9,zS9,origin9)\n",
    "#mirror\n",
    "xM,yM,zM = mirror(originG,coeffmirr,0.0)\n",
    "\n",
    "#point (global)\n",
    "sourcepoint = [-160.375,-113,0] #global\n",
    "\n",
    "#angle (global)\n",
    "rand = float(random.randrange(32000,96000))\n",
    "angle = rand/1000\n",
    "v = [angle,251,0] #random angle\n",
    "x,y,z = ML(sourcepoint,v,250)\n",
    "\n",
    "#angle limits\n",
    "v1 = [32.075,251,0] #edge 1\n",
    "v2 = [96.225,251,0] #edge 2\n",
    "x1,y1,z1 = ML(sourcepoint,v1,200)\n",
    "x2,y2,z2 = ML(sourcepoint,v2,200)\n",
    "\n",
    "print('Continue')"
   ]
  },
  {
   "cell_type": "code",
   "execution_count": 137,
   "metadata": {},
   "outputs": [
    {
     "name": "stdout",
     "output_type": "stream",
     "text": [
      "Continue\n"
     ]
    }
   ],
   "source": [
    "#all the reflections\n",
    "sp10,v10 = RT(sourcepoint,v,thetG,originG,thet6,origin8) #ray from E10 (or GLobal Source rn)\n",
    "points810,vects810 = REPCNi3(coeffellipse56,sp10,v10) #ray off of 8\n",
    "sp8,v8 = RT(points810,vects810,thet6,origin8,thet,origin3) #ray from 8 (to 3)\n",
    "points38,vects38 = REPCNi3(coeffellipse,sp8,v8) #Reflection off of E3 (from 8)\n",
    "\n",
    "#MIRROR\n",
    "originmirrcent = [0.,0.,0.]\n",
    "spM,vM = RT(points38,vects38,thet,origin3,thet,originG) #from Local 3 to Global Mirror\n",
    "sMhit,sVhit,sMmiss,sVmiss = IntMS(spM,vM,coeffmirr,originmirrcent) #reflection off of mirror\n",
    "spMr,vMr = RT(sMhit,sVhit,thet,originG,thet,origin4) #from Global Mirror to Local 4 \n",
    "\n",
    "#after mirror\n",
    "points4M,vects4M = REPCNi3(coeffellipse,spMr,vMr) #reflection off of E4 (from mirror)\n",
    "sp4,v4 = RT(points4M,vects4M,thet,origin4,thet5,origin5) #from Local 4 to Local 5\n",
    "points54,vects54 = REPCNi3(coeffellipse56,sp4,v4) #reflection off of E5 (from E4)\n",
    "sp5,v5 = RT(points54,vects54,thet5,origin5,thet7,origin7) #from Local 5 to Local 7\n",
    "\n",
    "#everything in global\n",
    "p810,v810 = RT(points810,vects810,thet6,origin8,thetG,originG)\n",
    "p38,v38 = RT(points38,vects38,thet,origin3,thetG,originG)\n",
    "pm3,vm3 = RT(sMhit,sVhit,thet,originG,thet,originG) #global\n",
    "p4m,v4m = RT(points4M,vects4M,thet,origin4,thet,originG) #global\n",
    "p54,v54 = RT(points54,vects54,thet5,origin5,thet,originG) #global\n",
    "print('Continue')"
   ]
  },
  {
   "cell_type": "code",
   "execution_count": 112,
   "metadata": {},
   "outputs": [
    {
     "data": {
      "image/png": "[encoded data removed]",
      "text/plain": [
       "<matplotlib.figure.Figure at 0x11c28fe10>"
      ]
     },
     "metadata": {},
     "output_type": "display_data"
    }
   ],
   "source": [
    "xr,yr,zr = ML(p810,v810,280)\n",
    "xr3,yr3,zr3 = ML(p38,v38,150)\n",
    "x,y,z = ML(sourcepoint,v,280)\n",
    "xm,ym,zm = ML(pm3,vm3,150)\n",
    "xr4,yr4,zr4 = ML(p4m,v4m,280)\n",
    "xr5,yr5,zr5 = ML(p54,v54,280)\n",
    "\n",
    "\n",
    "pl.plot(xL1,yL1, color = 'black')\n",
    "pl.plot(xL2,yL2, color = 'grey')\n",
    "pl.plot(xL3,yL3, color = 'grey')\n",
    "pl.plot(xL4,yL4, color = 'black')\n",
    "pl.plot(xL5,yL5, color = 'black')\n",
    "pl.plot(xL6,yL6, color = 'grey')\n",
    "pl.plot(xL8,yL8, color = 'grey')\n",
    "pl.plot(xL9,yL9, color = 'black')\n",
    "pl.plot(xM,yM, color = 'black')\n",
    "pl.plot(xp1,yp1,color = 'c')\n",
    "pl.plot(xp2,yp2,color = 'cadetblue')\n",
    "pl.plot(xp3,yp3,color = 'c')\n",
    "pl.plot(xp4,yp4,color = 'cadetblue')\n",
    "#pl.plot(x1,y1, color = 'lightblue')\n",
    "pl.plot(x,y, color = 'red')\n",
    "#pl.plot(x2,y2,color = 'lightblue')\n",
    "pl.plot(xr,yr,color = 'orange')\n",
    "pl.plot(xr3,yr3,color = 'yellow')\n",
    "pl.plot(xm,ym, color = 'green')\n",
    "pl.plot(xr4,yr4,color = 'blue')\n",
    "pl.plot(xr5,yr5,color = 'purple')\n",
    "pl.show()"
   ]
  },
  {
   "cell_type": "code",
   "execution_count": 138,
   "metadata": {
    "collapsed": true
   },
   "outputs": [],
   "source": [
    "#random number generator for polarization of light where Eox^2 + Eoy^2 = 1\n",
    "#Eox = cos(thet)\n",
    "#Eoy = sin(thet)\n",
    "def InitialPolarization():\n",
    "    A = random.random()\n",
    "    thet = A*2*np.pi\n",
    "    Eox = np.cos(thet)\n",
    "    Eoy = np.sin(thet)\n",
    "    return Eox,Eoy,thet\n",
    "\n",
    "#given two angles (of polarization and polarizer) returns the intensity of reflected and transmitted\n",
    "def PolarizerInteraction(Eox,Eoy,thet_polarized,PolarizerAngle):\n",
    "    I = Eox**2 + Eoy**2\n",
    "    thet_p = PolarizerAngle\n",
    "    thet_alpha = thet_polarized - thet_p\n",
    "    return np.cos(thet_alpha)*np.sqrt(I), np.sin(thet_alpha)*np.sqrt(I)\n",
    "\n",
    "#reflected, transmitted angles of polarization\n",
    "def PolarizerAngles(PolarizerAngle):\n",
    "    return PolarizerAngle, -PolarizerAngle\n",
    "\n",
    "#given angle and intensity, split into Ex and Ey\n",
    "def Pythag(Angle, Hypotenuse):\n",
    "    return np.cos(Angle)*Hypotenuse, np.sin(Angle)*Hypotenuse"
   ]
  },
  {
   "cell_type": "code",
   "execution_count": 139,
   "metadata": {
    "collapsed": true
   },
   "outputs": [],
   "source": [
    "#FIRST POLARIZER ( + 45 degrees)\n",
    "Ex,Ey,thet1 = InitialPolarization() #picks arbitrary \n",
    "I_R, I_T = PolarizerInteraction(Ex,Ey,thet1,np.pi/4) #intensity\n",
    "sMhit,sVhit,sMmiss,sVmiss = IntMS(sourcepoint,v,coeffpolar,originpolar1) #reflected vector\n",
    "thet_R,thet_T = PolarizerAngles(np.pi/4)"
   ]
  },
  {
   "cell_type": "code",
   "execution_count": 140,
   "metadata": {
    "collapsed": true
   },
   "outputs": [],
   "source": [
    "''' for ONE ray'''\n",
    "def PLINTyS(y,p,v):\n",
    "    t = (y - p[1])/v[1]\n",
    "    xi = p[0] + t*v[0]\n",
    "    zi = p[2] + t*v[2]\n",
    "    return(xi,y,zi)\n",
    "\n",
    "#initial ugly way\n",
    "'''Given initial ray and polarizer, return transmitted ray and reflected ray. All in Global Coordinate.'''         \n",
    "def IntP(p,v,coeffpolar,originpolar,Ex,Ey,thet_polarized,PolarizerAngle):\n",
    "    Ray_R = [] #thet, I, intpoint, vects\n",
    "    Ray_T = [] #thet, I, intpoint, vects\n",
    "    missints = []\n",
    "    intpoint = PLINTyS(originpolar[1],p,v)\n",
    "    thet_R,thet_T = PolarizerAngles(PolarizerAngle)\n",
    "    Ray_R.append(thet_R)\n",
    "    Ray_T.append(thet_T)\n",
    "    I_R, I_T = PolarizerInteraction(Ex,Ey,thet_polarized,PolarizerAngle)\n",
    "    Ray_R.append(I_R)\n",
    "    Ray_T.append(I_T)\n",
    "    if SRM(intpoint,coeffpolar,originpolar) == True:\n",
    "        Ray_R.append(intpoint)\n",
    "        Ray_T.append(intpoint)\n",
    "        VectLNorm = N(v)\n",
    "        PNorm = [0,-1,0] #from definition of mirror (check sign what)\n",
    "        VectReflect = VectLNorm -2*N(PNorm)*(np.dot(VectLNorm,N(PNorm)))\n",
    "        Ray_R.append(VectReflect) #change to reflected\n",
    "        Ray_T.append(v)\n",
    "    else:\n",
    "        missints = intpoint\n",
    "    return Ray_R,Ray_T,missints"
   ]
  },
  {
   "cell_type": "code",
   "execution_count": 141,
   "metadata": {
    "collapsed": true
   },
   "outputs": [],
   "source": [
    "#16 paths way\n",
    "#given two angles (of polarization and polarizer) returns the intensity of reflected\n",
    "def PolarizerInteractionR(Eox,Eoy,thet_polarized,PolarizerAngle):\n",
    "    I = Eox**2 + Eoy**2\n",
    "    thet_p = PolarizerAngle\n",
    "    thet_alpha = thet_polarized - thet_p\n",
    "    return np.cos(thet_alpha)*np.sqrt(I)\n",
    "#given two angles (of polarization and polarizer) returns the intensity of transmitted\n",
    "def PolarizerInteractionT(Eox,Eoy,thet_polarized,PolarizerAngle):\n",
    "    I = Eox**2 + Eoy**2\n",
    "    thet_p = PolarizerAngle\n",
    "    thet_alpha = thet_polarized - thet_p\n",
    "    return np.sin(thet_alpha)*np.sqrt(I)\n",
    "\n",
    "def dist(p1,p2):\n",
    "    return np.sqrt((p1[0]-p2[0])**2+(p1[1]-p2[1])**2+(p1[2]-p2[2])**2)\n",
    "\n",
    "'''Given initial ray and polarizer, return the REFLECTED RAY. All in Global Coordinates. \n",
    "If the ray ever misses the next stop, it returns 0 and is discarded '''\n",
    "def IntPolR(p,v,coeffpolar,originpolar,Ex,Ey,thet_polarized,PolarizerAngle):\n",
    "    Ray_R = [] #thet, I, intpoint, vects, distance\n",
    "    intpoint = PLINTyS(originpolar[1],p,v)\n",
    "    thet_R = PolarizerAngle\n",
    "    Ray_R.append(thet_R)\n",
    "    I_R = PolarizerInteractionR(Ex,Ey,thet_polarized,PolarizerAngle)\n",
    "    Ray_R.append(I_R)\n",
    "    if SRM(intpoint,coeffpolar,originpolar) == True:\n",
    "        Ray_T.append(intpoint)\n",
    "        Ray_T.append(v)\n",
    "        Ray_T.append(dist(p,intpoint))\n",
    "    else:\n",
    "        Ray_T.append(0)\n",
    "    return Ray_T\n",
    "\n",
    "'''Given initial ray and polarizer, return the TRANSMITTED RAY. All in Global Coordinates. \n",
    "If the ray ever misses the next stop, it returns 0 and is discarded '''\n",
    "def IntPolT(p,v,coeffpolar,originpolar,Ex,Ey,thet_polarized,PolarizerAngle):\n",
    "    Ray_T = [] #thet, I, intpoint, vects\n",
    "    intpoint = PLINTyS(originpolar[1],p,v)\n",
    "    thet_T = PolarizerAngle\n",
    "    Ray_T.append(thet_T)\n",
    "    I_T = PolarizerInteractionT(Ex,Ey,thet_polarized,PolarizerAngle)\n",
    "    Ray_T.append(I_T)\n",
    "    if SRM(intpoint,coeffpolar,originpolar) == True:\n",
    "        Ray_T.append(intpoint)\n",
    "        VectLNorm = N(v)\n",
    "        PNorm = [0,-1,0] #from definition of mirror (check sign what)\n",
    "        VectReflect = VectLNorm -2*N(PNorm)*(np.dot(VectLNorm,N(PNorm)))\n",
    "        Ray_T.append(VectReflect) #change to reflected\n",
    "    else:\n",
    "        Ray_T.append(0)\n",
    "    return Ray_T\n",
    "\n",
    "#MAKING THE ABOVE RECURSIVE\n",
    "def IntPolT2(Ray,coeffpolar,originpolar,PolarizerAngle): #transmitted\n",
    "    if len(Ray) < 5:\n",
    "        return\n",
    "    thet_polarized = Ray[0] #theta\n",
    "    I = Ray[1] #intensity\n",
    "    p = Ray[2] #point\n",
    "    v = Ray[3] #vector\n",
    "    Di = Ray[4] #distance\n",
    "    Ex,Ey = np.sqrt(I)*np.cos(thet_polarized),np.sqrt(I)*np.sin(thet_polarized)\n",
    "    Ray_T = [] #thet, I, intpoint, vects\n",
    "    intpoint = PLINTyS(originpolar[1],p,v)\n",
    "    Ray_T.append(-PolarizerAngle) #same vector of course\n",
    "    I_T = PolarizerInteractionT(Ex,Ey,thet_polarized,PolarizerAngle)\n",
    "    Ray_T.append(I_T)\n",
    "    if SRM(intpoint,coeffpolar,originpolar) == True:\n",
    "        Ray_T.append(intpoint)\n",
    "        Ray_T.append(v) #just transmitted as same vector (assuming)\n",
    "        Df = dist(p,intpoint)\n",
    "        Ray_T.append(Di + Df)\n",
    "    else:\n",
    "        Ray_T.append(0)\n",
    "    return Ray_T\n",
    "\n",
    "#MAKING THE ABOVE RECURSIVE\n",
    "def IntPolR2(Ray,coeffpolar,originpolar,PolarizerAngle): #reflected\n",
    "    if len(Ray) < 5:\n",
    "        return\n",
    "    thet_polarized = Ray[0] #theta\n",
    "    I = Ray[1] #intensity\n",
    "    p = Ray[2] #point\n",
    "    v = Ray[3] #vector\n",
    "    Di = Ray[4] #distance\n",
    "    Ex,Ey = np.sqrt(I)*np.cos(thet_polarized),np.sqrt(I)*np.sin(thet_polarized)\n",
    "    Ray_R = [] #thet, I, intpoint, vects\n",
    "    intpoint = PLINTyS(originpolar[1],p,v)\n",
    "    Ray_R.append(PolarizerAngle) #same vector of course\n",
    "    I_R = PolarizerInteractionR(Ex,Ey,thet_polarized,PolarizerAngle)\n",
    "    Ray_R.append(I_R)\n",
    "    if SRM(intpoint,coeffpolar,originpolar) == True:\n",
    "        Ray_R.append(intpoint)\n",
    "        VectLNorm = N(v)\n",
    "        PNorm = [0,-1,0] #from definition of mirror (check sign what)\n",
    "        VectReflect = VectLNorm -2*N(PNorm)*(np.dot(VectLNorm,N(PNorm)))\n",
    "        Ray_R.append(VectReflect) #change to reflected\n",
    "        Df = dist(p,intpoint)\n",
    "        Ray_R.append(Di + Df)\n",
    "    else:\n",
    "        Ray_R.append(0)\n",
    "    return Ray_R\n",
    "\n",
    "def CreateRay():\n",
    "    Ex,Ey,thet1 = InitialPolarization() #picks arbitrary thet and intensity 1\n",
    "    sourcepoint = [-160.375,-113,0] #global\n",
    "    #angle (global)\n",
    "    rand = float(random.randrange(32000,96000))\n",
    "    angle = rand/1000\n",
    "    v = [angle,251,0] #random angle\n",
    "    Ray = [thet1,1.0,sourcepoint,v,0]\n",
    "    return Ray\n",
    "\n",
    "    "
   ]
  },
  {
   "cell_type": "code",
   "execution_count": 142,
   "metadata": {},
   "outputs": [
    {
     "data": {
      "image/png": "[encoded data removed]",
      "text/plain": [
       "<matplotlib.figure.Figure at 0x11c6a2e10>"
      ]
     },
     "metadata": {},
     "output_type": "display_data"
    },
    {
     "name": "stdout",
     "output_type": "stream",
     "text": [
      "(-130.62583665338644, 0.0, 0.0) [66.08, 251, 0]\n",
      "(-130.62583665338644, 0.0, 0.0) [ 0.25459191 -0.96704858  0.        ]\n"
     ]
    }
   ],
   "source": [
    "Ri = CreateRay()\n",
    "Ray_TP = IntPolT2(Ri,coeffpolar,originpolar1,np.pi/4)\n",
    "Ray_RP = IntPolR2(Ri,coeffpolar,originpolar1,np.pi/4)\n",
    "xR,yR,zR = ML(Ray_RP[2],Ray_RP[3],100)\n",
    "xT,yT,zT = ML(Ray_TP[2],Ray_TP[3],100)\n",
    "pl.plot(xR,yR,color = 'blue', linestyle = ':') #reflected\n",
    "pl.plot(xT,yT,color = 'green', linestyle = '-.') #transmitted\n",
    "pl.plot(xp1,yp1,color = 'cadetblue')\n",
    "pl.show()\n",
    "#IT WORKS!??!??!?!? :O\n",
    "print(Ray_TP[2],Ray_TP[3])\n",
    "print(Ray_RP[2],Ray_RP[3])"
   ]
  },
  {
   "cell_type": "code",
   "execution_count": 143,
   "metadata": {
    "collapsed": true
   },
   "outputs": [],
   "source": [
    "#point (global)\n",
    "sourcepoint = [-160.375,-113,0] #global\n",
    "#angle (global)\n",
    "rand = float(random.randrange(32000,96000))\n",
    "angle = rand/1000\n",
    "v = [angle,251,0] #random angle\n",
    "\n",
    "#initial ray and first polarizer \n",
    "Ex,Ey,ThetP = InitialPolarization()\n",
    "# polarization angle 1: np.pi/4\n",
    "Ray_RP1,Ray_TP1,misints = IntP(sourcepoint,v,coeffpolar,originpolar1,Ex,Ey,ThetP,np.pi/4)"
   ]
  },
  {
   "cell_type": "code",
   "execution_count": 144,
   "metadata": {
    "collapsed": true
   },
   "outputs": [],
   "source": [
    "#Ray = [thet, I, vects]\n",
    "xR,yR,zR = ML(Ray_RP1[2],Ray_RP1[3],100)\n",
    "xT,yT,zT = ML(Ray_TP1[2],Ray_TP1[3],100)"
   ]
  },
  {
   "cell_type": "code",
   "execution_count": 145,
   "metadata": {},
   "outputs": [
    {
     "data": {
      "image/png": "[encoded data removed]",
      "text/plain": [
       "<matplotlib.figure.Figure at 0x11c48c3c8>"
      ]
     },
     "metadata": {},
     "output_type": "display_data"
    }
   ],
   "source": [
    "x,y,z = ML(sourcepoint,v,120)\n",
    "pl.plot(x,y,color = 'red')\n",
    "pl.plot(xR,yR,color = 'red', linestyle = ':')\n",
    "pl.plot(xT,yT,color = 'red', linestyle = '-.')\n",
    "pl.plot(xp1,yp1,color = 'cadetblue')\n",
    "pl.show()\n",
    "#ORIGINAL WAY"
   ]
  },
  {
   "cell_type": "code",
   "execution_count": 146,
   "metadata": {
    "collapsed": true
   },
   "outputs": [],
   "source": [
    "#now go on to next Ellipsoid \n",
    "#MAP OUT EACH OF THE 16 PATHS\n",
    "\n",
    "sp10,v10 = RT(sourcepoint,v,thetG,originG,thet6,origin8) #ray from E10 (or GLobal Source rn)\n",
    "points810,vects810 = REPCNi3(coeffellipse56,sp10,v10) #ray off of 8\n",
    "\n",
    "'''Give ray and everything in global, does work in local, returns in global'''\n",
    "def ReflEll(Ray,thetL,originL,coeffellipse):\n",
    "    Ray_Refl = []\n",
    "    originG = [0,0,0] # the global origin\n",
    "    thetG = [0,0,0] # rotation with respect to itself aka 0,0,0\n",
    "    sourcepoint = Ray[2] #originalpoint\n",
    "    v = Ray[3] #vector\n",
    "    SPLi,VPLi = RT(sourcepoint,v,thetG,originG,thetL,originL) #point and vector in local coordinates\n",
    "    pointsf,vectsf = REPCNi3(coeffellipse,SPLi,VPLi)\n",
    "    SPLf,VPLf = RT(pointsf,vectsf,thetL,originL,thetG,originG)\n",
    "    Ray_Refl.append(Ray[0] + np.pi)\n",
    "    Ray_Refl.append(Ray[1])\n",
    "    Ray_Refl.append(SPLf)\n",
    "    Ray_Refl.append(VPLf)\n",
    "    Df = dist(SPLi,SPLf)\n",
    "    Ray_Refl.append(Ray[4] + Df)\n",
    "    return Ray_Refl"
   ]
  },
  {
   "cell_type": "code",
   "execution_count": 150,
   "metadata": {},
   "outputs": [
    {
     "name": "stdout",
     "output_type": "stream",
     "text": [
      "[5.806935868010303, 1.0, [-160.375, -113, 0], [94.871, 251, 0], 0]\n"
     ]
    },
    {
     "name": "stderr",
     "output_type": "stream",
     "text": [
      "/Users/Lab/anaconda/envs/py3/lib/python3.6/site-packages/ipykernel_launcher.py:63: RuntimeWarning: invalid value encountered in sqrt\n"
     ]
    },
    {
     "data": {
      "image/png": "[encoded data removed]",
      "text/plain": [
       "<matplotlib.figure.Figure at 0x11c92d208>"
      ]
     },
     "metadata": {},
     "output_type": "display_data"
    }
   ],
   "source": [
    "Ri = CreateRay() #original ray (SHOULD REMAIN UNCHANGED)\n",
    "print(Ri) \n",
    "Ray_RP1 = IntPolR2(Ri,coeffpolar,originpolar1,np.pi/4)\n",
    "Ray_TP1 = IntPolT2(Ri,coeffpolar,originpolar1,np.pi/4) #P1\n",
    "Ray_E8 = ReflEll(Ray_TP1,thet6,origin8,coeffellipse56) #E8\n",
    "Ray_TP2 = IntPolT2(Ray_E8,coeffpolar,originpolar2,np.pi/2) #P2\n",
    "\n",
    "\n",
    "\n",
    "xR,yR,zR = ML(Ray_RP1[2],Ray_RP1[3],150)\n",
    "xT,yT,zT = ML(Ray_TP1[2],Ray_TP1[3],150)\n",
    "xE8,yE8,zE8 = ML(Ray_E8[2],Ray_E8[3],150)\n",
    "\n",
    "\n",
    "pl.plot(xL8,yL8, color = 'grey')\n",
    "pl.plot(xR,yR,color = 'blue', linestyle = ':') #reflected\n",
    "pl.plot(xT,yT,color = 'green', linestyle = '-.') #transmitted\n",
    "pl.plot(xp1,yp1,color = 'cadetblue')\n",
    "pl.plot(xE8,yE8,color = 'red')\n",
    "pl.show()\n"
   ]
  },
  {
   "cell_type": "code",
   "execution_count": 103,
   "metadata": {
    "collapsed": true
   },
   "outputs": [],
   "source": []
  },
  {
   "cell_type": "code",
   "execution_count": null,
   "metadata": {
    "collapsed": true
   },
   "outputs": [],
   "source": []
  }
 ],
 "metadata": {
  "celltoolbar": "Raw Cell Format",
  "kernelspec": {
   "display_name": "Python 3",
   "language": "python",
   "name": "python3"
  },
  "language_info": {
   "codemirror_mode": {
    "name": "ipython",
    "version": 3
   },
   "file_extension": ".py",
   "mimetype": "text/x-python",
   "name": "python",
   "nbconvert_exporter": "python",
   "pygments_lexer": "ipython3",
   "version": "3.6.1"
  }
 },
 "nbformat": 4,
 "nbformat_minor": 2
}
