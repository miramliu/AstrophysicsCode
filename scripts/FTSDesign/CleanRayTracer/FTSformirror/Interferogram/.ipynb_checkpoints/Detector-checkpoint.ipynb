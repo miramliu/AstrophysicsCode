{
 "cells": [
  {
   "cell_type": "code",
   "execution_count": 1,
   "metadata": {
    "collapsed": true
   },
   "outputs": [],
   "source": [
    "import numpy as np\n",
    "import matplotlib.pyplot as pl\n",
    "import itertools\n",
    "from mpl_toolkits.mplot3d import Axes3D\n",
    "from RayTraceFun_forInt import *\n",
    "from PossibleFunctions import *\n",
    "from random import uniform\n",
    "import random\n",
    "import matplotlib\n",
    "#%matplotlib auto"
   ]
  },
  {
   "cell_type": "code",
   "execution_count": 2,
   "metadata": {},
   "outputs": [
    {
     "name": "stdout",
     "output_type": "stream",
     "text": [
      "Continue\n",
      "Input ray:  [4.065204718193108, 1.0, [-160.375, -113, 0], [69.846, 251, 0], 0]\n",
      "Tp4:  [-0.7853981633974483, 0.50611856416859513, (121.44912197281377, 0.0, 0.0), [0.24755754043985026, -0.96887319302959984, 0.0], 742.67897210911474]\n",
      "Output:  [2.356194490192345, 0.50611856416859513, [154.26464839921033, -128.43108641812978, -7.1054273576010019e-15], [0.099897359389364948, -0.025485925638957137, 0.99467129504241636], 960.17619196518172]\n",
      "Tp42:  [-0.7853981633974483, 0.50611856416859513, (121.44912197281377, 0.0, 0.0), [0.24755754043985026, -0.96887319302959984, 0.0], 742.67897210911474]\n",
      "output ray:  [2.356194490192345, 0.50611856416859513, [154.26464839921033, -128.43108641812978, -7.1054273576010019e-15], [0.099897359389364948, -0.025485925638957137, 0.99467129504241636], 960.17619196518172]\n"
     ]
    }
   ],
   "source": [
    "originG = [0,0,0] # the global origin\n",
    "thetG = [0,0,0] # rotation with respect to itself aka 0,0,0\n",
    "origin1 = [-32.075,-128,0] #x,y (ellipse1)\n",
    "origin2 = [64.15-32.075,-128,0] #x,y (ellipse2)\n",
    "origin3 = [-32.075,128,0] #x,y (ellipse3)\n",
    "origin4 = [64.15-32.075,128,0] #x,y  (ellipse4)\n",
    "#origin5 = [128.3,-120.501,0] # (ellipse5) changed for 2D\n",
    "origin5 = [128.3-32.075,-128,0]\n",
    "#origin6 = [128.3,120.501,0] # (ellipse6) changed for 2D\n",
    "origin6 = [128.3-32.075,128,0]\n",
    "origin7 = [160.375-32.075,-7.5,40]\n",
    "#origin8 = [-64.15,-120.501,0] changed for 2D\n",
    "#origin9 = [-64.15,120.501,0] changed for 2D\n",
    "origin8 = [-64.15-32.075,-128,0] \n",
    "origin9 = [-64.15-32.075,128,0]\n",
    "origin10 = [-96.225-32.075,7.5,-40]\n",
    "\n",
    "originpolar1 = [-128.3,0.0,0.0]\n",
    "originpolar2 = [-64.15,0.0,0.0]\n",
    "originpolar3 = [64.15,0.0,0.0]\n",
    "originpolar4 = [128.3,0.0,0.0]\n",
    "\n",
    "thet = [0,0,0] #A\n",
    "thet5 = [0,0,-.1164] \n",
    "thet6 = [0,0,.1164] #testing\n",
    "thet7 = [0,.319422,1.3106]\n",
    "thet10 = [0,.310422,-1.3106]\n",
    "\n",
    "\n",
    "coeffellipse7 = [164.645,99.8,130.95]\n",
    "coeffellipse56 = [248.39,256.65,64.58]  #for ellipses 5&6\n",
    "coeffellipse = [263.9,256,64.15] #for center ellipses\n",
    "coeffmirr = [31.75,25.4,19.05]\n",
    "coeffpolar = [32.075,32.075,0] #for polarizers (2d circle)\n",
    "\n",
    "#polarizer1\n",
    "xp1,yp1,zp1 = polarizer(originpolar1,coeffpolar,0.0)\n",
    "#polarizer2\n",
    "xp2,yp2,zp2 = polarizer(originpolar2,coeffpolar,0.0)\n",
    "#polarizer3\n",
    "xp3,yp3,zp3 = polarizer(originpolar3,coeffpolar,0.0)\n",
    "#polarizer4\n",
    "xp4,yp4,zp4 = polarizer(originpolar4,coeffpolar,0.0)\n",
    "\n",
    "#CEBS\n",
    "xC,yC1,yCn,zC = CEBS(coeffellipse,300) #center\n",
    "xS,yS1,ySn,zS = CEBS(coeffellipse,300) #side\n",
    "\n",
    "#E1\n",
    "xC1,yC11,zC1 = SR2(32.07,xC,yC1,zC,originG)\n",
    "xL1,yL1,zL1 = transformLG(xC1,yC11,zC1,origin1,thetG) \n",
    "#E2\n",
    "xC2,yC12,zC2 = SR2(32.07,xC,yC1,zC,originG)\n",
    "xL2,yL2,zL2 = transformLG(xC2,yC12,zC2,origin2,thetG) \n",
    "#E3\n",
    "xC3,yCn3,zC3 = SR2(32.07,xC,yCn,zC,originG)\n",
    "xL3,yL3,zL3 = transformLG(xC3,yCn3,zC3,origin3,thetG)\n",
    "#E4\n",
    "xC4,yCn4,zC4 = SR2(32.07,xC,yCn,zC,originG)\n",
    "xL4,yL4,zL4 = transformLG(xC4,yCn4,zC4,origin4,thetG)\n",
    "#E5\n",
    "xS5,yS15,zS5 = transformLG(xS,yS1,zS,origin5,thet5)\n",
    "xL5,yL5,zL5 = SR2(32.07,xS5,yS15,zS5,origin5)\n",
    "#E6\n",
    "xS6,ySn6,zS6 = transformLG(xS,ySn,zS,origin6,thet6)\n",
    "xL6,yL6,zL6 = SR2(32.07,xS6,ySn6,zS6,origin6)\n",
    "#E8\n",
    "xS8,yS18,zS8 = transformLG(xS,yS1,zS,origin8,thet6)\n",
    "xL8,yL8,zL8 = SR2(32.07,xS8,yS18,zS8,origin8)\n",
    "#E9\n",
    "xS9,ySn9,zS9 = transformLG(xS,ySn,zS,origin9,thet5)\n",
    "xL9,yL9,zL9 = SR2(32.07,xS9,ySn9,zS9,origin9)\n",
    "#mirror\n",
    "xM,yM,zM = mirror(originG,coeffmirr,0.0)\n",
    "\n",
    "#point (global)\n",
    "sourcepoint = [-160.375,-113,0] #global\n",
    "\n",
    "#angle (global)\n",
    "rand = float(random.randrange(32000,96000))\n",
    "angle = rand/1000\n",
    "v = [angle,251,0] #random angle\n",
    "x,y,z = ML(sourcepoint,v,250)\n",
    "\n",
    "#angle limits\n",
    "v1 = [32.075,251,0] #edge 1\n",
    "v2 = [96.225,251,0] #edge 2\n",
    "x1,y1,z1 = ML(sourcepoint,v1,200)\n",
    "x2,y2,z2 = ML(sourcepoint,v2,200)\n",
    "\n",
    "print('Continue')\n",
    "Ri = CreateRay() #original ray (SHOULD REMAIN UNCHANGED)\n",
    "print('Input ray: ', Ri) \n",
    "Ray_RP1 = IntPolR2(Ri,coeffpolar,originpolar1,np.pi/4)\n",
    "Ray_TP1 = IntPolT2(Ri,coeffpolar,originpolar1,np.pi/4) #P1\n",
    "Ray_E8 = ReflEll(Ray_TP1,thet6,origin8,coeffellipse56) #E8\n",
    "Ray_TP2 = IntPolT2(Ray_E8,coeffpolar,originpolar2,np.pi/2) #P2\n",
    "Ray_E3 = ReflEll(Ray_TP2,thet,origin3,coeffellipse) #E3\n",
    "Ray_M0 = IntM2(Ray_E3, coeffmirr, originG) #off mirror\n",
    "Ray_E4 = ReflEll(Ray_M0, thet,origin4,coeffellipse) #off E4\n",
    "Ray_TP3 = IntPolT2(Ray_E4,coeffpolar,originpolar3,np.pi) #P3\n",
    "Ray_E5 = ReflEll(Ray_TP3, thet5,origin5,coeffellipse56)\n",
    "Ray_TP4 = IntPolT2(Ray_E5,coeffpolar,originpolar4,np.pi/4)\n",
    "Ray_E7 = ReflEll(Ray_TP4,thet7,origin7,coeffellipse7)\n",
    "print('Tp4: ', Ray_TP4)\n",
    "print('Output: ', Ray_E7)\n",
    "E72 = TTTT(Ri,np.pi/4,np.pi/2,np.pi,np.pi/4)\n",
    "Ray_E72 = ReflEll(E72,thet7,origin7,coeffellipse7)\n",
    "print('Tp42: ',E72)\n",
    "print('output ray: ', Ray_E72)"
   ]
  },
  {
   "cell_type": "code",
   "execution_count": 3,
   "metadata": {
    "collapsed": true
   },
   "outputs": [],
   "source": [
    "xi,yi,zi = ML(Ri[2],Ri[3],150) #original ray\n",
    "xR1,yR1,zR1 = ML(Ray_RP1[2],Ray_RP1[3],150) #reflected off p1\n",
    "xT1,yT1,zT1 = ML(Ray_TP1[2],Ray_TP1[3],150) #transmitted through p1\n",
    "xE8,yE8,zE8 = ML(Ray_E8[2],Ray_E8[3],150) #reflected off E8\n",
    "xT2,yT2,zT2 = ML(Ray_TP2[2],Ray_TP2[3],150) #transmitted through p2\n",
    "xE3,yE3,zE3 = ML(Ray_E3[2],Ray_E3[3],150) #reflected off E3\n",
    "xM0,yM0,zM0 = ML(Ray_M0[2], Ray_M0[3], 150) #reflected off mirror\n",
    "xE4,yE4,zE4 = ML(Ray_E4[2],Ray_E4[3],150) #reflected off E4\n",
    "xT3,yT3,zT3 = ML(Ray_TP3[2],Ray_TP3[3],150) #through p3\n",
    "xE5,yE5,zE5 = ML(Ray_E5[2],Ray_E5[3],150) #reflected off E5\n",
    "xT4,yT4,zT4 = ML(Ray_TP4[2], Ray_TP4[3],150) #through p4\n",
    "xE7,yE7,zE7 = ML(Ray_E7[2],Ray_E7[3],150)\n"
   ]
  },
  {
   "cell_type": "code",
   "execution_count": 4,
   "metadata": {},
   "outputs": [
    {
     "data": {
      "image/png": "[encoded data removed]",
      "text/plain": [
       "<matplotlib.figure.Figure at 0x109c1ad68>"
      ]
     },
     "metadata": {},
     "output_type": "display_data"
    }
   ],
   "source": [
    "#NOW ADD THE E7 AND SEE WHAT HAPPENS???? urgh. \n",
    "#problem of a small intensity (square root going to zero and being invalid)\n",
    "\n",
    "pl.plot(xi,yi,color = 'green', linestyle= ':')\n",
    "pl.plot(xR1,yR1,color = 'blue', linestyle = ':') #reflected\n",
    "pl.plot(xT1,yT1,color = 'green', linestyle = '-.') #transmitted through P1\n",
    "pl.plot(xE8,yE8,color = 'green') #off of E8\n",
    "pl.plot(xT2,yT2,color = 'green') #transmitted through P2\n",
    "pl.plot(xE3,yE3,color = 'green') #off E3\n",
    "pl.plot(xM0,yM0, color = 'green')\n",
    "pl.plot(xE4,yE4,color = 'green')\n",
    "pl.plot(xT3,yT3,color = 'green')\n",
    "pl.plot(xE5,yE5,color = 'green')\n",
    "pl.plot(xT4,yT4, color = 'green')\n",
    "pl.plot(xE7,yE7,color = 'green')\n",
    "\n",
    "\n",
    "pl.plot(xL1,yL1, color = 'black')\n",
    "pl.plot(xL2,yL2, color = 'grey')\n",
    "pl.plot(xL3,yL3, color = 'grey')\n",
    "pl.plot(xL4,yL4, color = 'black')\n",
    "pl.plot(xL5,yL5, color = 'black')\n",
    "pl.plot(xL6,yL6, color = 'grey')\n",
    "pl.plot(xL8,yL8, color = 'grey')\n",
    "pl.plot(xL9,yL9, color = 'black')\n",
    "pl.plot(xM,yM, color = 'black')\n",
    "pl.plot(xp1,yp1,color = 'c')\n",
    "pl.plot(xp2,yp2,color = 'cadetblue')\n",
    "pl.plot(xp3,yp3,color = 'c')\n",
    "pl.plot(xp4,yp4,color = 'cadetblue')\n",
    "#pl.plot(x1,y1, color = 'lightblue')\n",
    "pl.show()"
   ]
  },
  {
   "cell_type": "code",
   "execution_count": 5,
   "metadata": {
    "collapsed": true
   },
   "outputs": [],
   "source": [
    "Ri = CreateRay()\n",
    "p1 = np.pi/4\n",
    "p2 = np.pi/2\n",
    "p3 = np.pi\n",
    "p4 = np.pi/4\n",
    "\n",
    "R1 = TTTT(Ri,p1,p2,p3,p4)\n",
    "R2 = RRRR(Ri,p1,p2,p3,p4)\n",
    "Ray_E71 = ReflEll(R1,thet7,origin7,coeffellipse7)\n",
    "Ray_E72 = ReflEll(R2,thet7,origin7,coeffellipse7)\n",
    "\n",
    "xE71,yE71,zE71 = ML(Ray_E71[2],Ray_E7[3],150)\n",
    "xE72,yE72,zE72 = ML(Ray_E72[2],Ray_E7[3],150)"
   ]
  },
  {
   "cell_type": "code",
   "execution_count": 18,
   "metadata": {},
   "outputs": [
    {
     "data": {
      "image/png": "[encoded data removed]",
      "text/plain": [
       "<matplotlib.figure.Figure at 0x10d5d2470>"
      ]
     },
     "metadata": {},
     "output_type": "display_data"
    },
    {
     "name": "stdout",
     "output_type": "stream",
     "text": [
      "[969.68252739950753, 969.68252739950753, 969.68252739950731, 969.68252739950753, 969.68252739950753, 969.68252739950742, 969.68252739950753, 969.68252739950742]\n"
     ]
    }
   ],
   "source": [
    "A = detectyneg(Ri,p1,p2,p3,p4)\n",
    "points = []\n",
    "vects = []\n",
    "dist = []\n",
    "for i in range(8):\n",
    "    points.append(A[i][2])\n",
    "    vects.append(A[i][3])\n",
    "    dist.append(A[i][4])\n",
    "B = PLINTz(80,points,vects)\n",
    "for i in range (8):\n",
    "    pl.scatter(B[i][0],B[i][1],B[i][2])\n",
    "pl.show()\n",
    "print(dist)\n",
    "#yay it reaches the detector"
   ]
  },
  {
   "cell_type": "code",
   "execution_count": null,
   "metadata": {
    "collapsed": true
   },
   "outputs": [],
   "source": []
  },
  {
   "cell_type": "code",
   "execution_count": null,
   "metadata": {
    "collapsed": true
   },
   "outputs": [],
   "source": []
  },
  {
   "cell_type": "code",
   "execution_count": null,
   "metadata": {
    "collapsed": true
   },
   "outputs": [],
   "source": []
  }
 ],
 "metadata": {
  "kernelspec": {
   "display_name": "Python 3",
   "language": "python",
   "name": "python3"
  },
  "language_info": {
   "codemirror_mode": {
    "name": "ipython",
    "version": 3
   },
   "file_extension": ".py",
   "mimetype": "text/x-python",
   "name": "python",
   "nbconvert_exporter": "python",
   "pygments_lexer": "ipython3",
   "version": "3.6.1"
  }
 },
 "nbformat": 4,
 "nbformat_minor": 2
}
