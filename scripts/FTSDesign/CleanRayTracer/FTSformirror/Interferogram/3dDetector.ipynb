{
 "cells": [
  {
   "cell_type": "code",
   "execution_count": 1,
   "metadata": {
    "collapsed": true
   },
   "outputs": [],
   "source": [
    "import numpy as np\n",
    "import matplotlib.pyplot as pl\n",
    "import itertools\n",
    "from mpl_toolkits.mplot3d import Axes3D\n",
    "from RayTraceFun_forInt import *\n",
    "from PossibleFunctions import *\n",
    "from random import uniform\n",
    "import random\n",
    "import matplotlib\n",
    "#%matplotlib auto"
   ]
  },
  {
   "cell_type": "code",
   "execution_count": 2,
   "metadata": {},
   "outputs": [
    {
     "name": "stdout",
     "output_type": "stream",
     "text": [
      "Continue\n"
     ]
    }
   ],
   "source": [
    "originG = [0,0,0] # the global origin\n",
    "thetG = [0,0,0] # rotation with respect to itself aka 0,0,0\n",
    "origin1 = [-32.075,-128,0] #x,y (ellipse1)\n",
    "origin2 = [64.15-32.075,-128,0] #x,y (ellipse2)\n",
    "origin3 = [-32.075,128,0] #x,y (ellipse3)\n",
    "origin4 = [64.15-32.075,128,0] #x,y  (ellipse4)\n",
    "origin5 = [128.3-32.075,-120.501,0] # for 3d\n",
    "#origin5 = [128.3-32.075,-128,0] #for 2d\n",
    "origin6 = [128.3-32.075,120.501,0] # for 3d\n",
    "#origin6 = [128.3-32.075,128,0] for 2d\n",
    "origin7 = [160.375-32.075,-7.5,39.85]\n",
    "origin8 = [-64.15-32.075,-120.501,0] #for 3d\n",
    "origin9 = [-64.15-32.075,120.501,0] #for 3d\n",
    "#origin8 = [-64.15-32.075,-128,0] for 2d\n",
    "#origin9 = [-64.15-32.075,128,0] for 2d\n",
    "origin10 = [-96.225-32.075,7.5,-39.85]\n",
    "\n",
    "originpolar1 = [-128.3,0.0,0.0]\n",
    "originpolar2 = [-64.15,0.0,0.0]\n",
    "originpolar3 = [64.15,0.0,0.0]\n",
    "originpolar4 = [128.3,0.0,0.0]\n",
    "\n",
    "thet = [0,0,0] #A\n",
    "thet5 = [0,0,-.116385] #testing\n",
    "thet6 = [0,0,.116385] #testing\n",
    "thet7 = [0,0.309319724356,1.31064594453]\n",
    "thet10 = [0,0.309319724356,-1.31064594453] #negative of thet7?\n",
    "\n",
    "\n",
    "#added digits for accuracy\n",
    "coeffellipse7 = [164.54585247700001,99.690818975602866,130.9086635] #for ellipse 7\n",
    "coeffellipse56 = [256.65344272795591,248.39387505453516,64.58693753]  #for ellipses 5&6&8&9\n",
    "coeffellipse = [263.915180503,256.0,64.15] #for center ellipses\n",
    "#coeffellipse7 = [164.645,99.8,130.95]\n",
    "#coeffellipse56 = [248.39,256.65,64.58]  #for ellipses 5&6\n",
    "#coeffellipse = [263.9,256,64.15] #for center ellipses\n",
    "coeffmirr = [31.75,25.4,19.05]\n",
    "coeffpolar = [32.075,32.075,0] #for polarizers (2d circle)\n",
    "\n",
    "#polarizer1\n",
    "xp1,yp1,zp1 = polarizer(originpolar1,coeffpolar,0.0)\n",
    "#polarizer2\n",
    "xp2,yp2,zp2 = polarizer(originpolar2,coeffpolar,0.0)\n",
    "#polarizer3\n",
    "xp3,yp3,zp3 = polarizer(originpolar3,coeffpolar,0.0)\n",
    "#polarizer4\n",
    "xp4,yp4,zp4 = polarizer(originpolar4,coeffpolar,0.0)\n",
    "\n",
    "#CEBS\n",
    "xC,yC1,yCn,zC = CEBS(coeffellipse,300) #center\n",
    "xS,yS1,ySn,zS = CEBS(coeffellipse,300) #side\n",
    "\n",
    "#E1\n",
    "xC1,yC11,zC1 = SR2(32.07,xC,yC1,zC,originG)\n",
    "xL1,yL1,zL1 = transformLG(xC1,yC11,zC1,origin1,thetG) \n",
    "#E2\n",
    "xC2,yC12,zC2 = SR2(32.07,xC,yC1,zC,originG)\n",
    "xL2,yL2,zL2 = transformLG(xC2,yC12,zC2,origin2,thetG) \n",
    "#E3\n",
    "xC3,yCn3,zC3 = SR2(32.07,xC,yCn,zC,originG)\n",
    "xL3,yL3,zL3 = transformLG(xC3,yCn3,zC3,origin3,thetG)\n",
    "#E4\n",
    "xC4,yCn4,zC4 = SR2(32.07,xC,yCn,zC,originG)\n",
    "xL4,yL4,zL4 = transformLG(xC4,yCn4,zC4,origin4,thetG)\n",
    "#E5\n",
    "xS5,yS15,zS5 = transformLG(xS,yS1,zS,origin5,thet5)\n",
    "xL5,yL5,zL5 = SR2(32.07,xS5,yS15,zS5,origin5)\n",
    "#E6\n",
    "xS6,ySn6,zS6 = transformLG(xS,ySn,zS,origin6,thet6)\n",
    "xL6,yL6,zL6 = SR2(32.07,xS6,ySn6,zS6,origin6)\n",
    "#E8\n",
    "xS8,yS18,zS8 = transformLG(xS,yS1,zS,origin8,thet6)\n",
    "xL8,yL8,zL8 = SR2(32.07,xS8,yS18,zS8,origin8)\n",
    "#E9\n",
    "xS9,ySn9,zS9 = transformLG(xS,ySn,zS,origin9,thet5)\n",
    "xL9,yL9,zL9 = SR2(32.07,xS9,ySn9,zS9,origin9)\n",
    "#mirror\n",
    "xM,yM,zM = mirror(originG,coeffmirr,0.0)\n",
    "\n",
    "#point (global)\n",
    "sourcepoint = [-160.375,-113,0] #global\n",
    "\n",
    "#angle (global)\n",
    "rand = float(random.randrange(32000,96000))\n",
    "angle = rand/1000\n",
    "v = [angle,251,0] #random angle\n",
    "x,y,z = ML(sourcepoint,v,250)\n",
    "\n",
    "#angle limits\n",
    "v1 = [32.075,251,0] #edge 1\n",
    "v2 = [96.225,251,0] #edge 2\n",
    "x1,y1,z1 = ML(sourcepoint,v1,200)\n",
    "x2,y2,z2 = ML(sourcepoint,v2,200)\n",
    "\n",
    "print('Continue')"
   ]
  },
  {
   "cell_type": "code",
   "execution_count": 3,
   "metadata": {
    "collapsed": true
   },
   "outputs": [],
   "source": [
    "originG = [0.,0.,0.] # the global origin\n",
    "thetG = [0.,0.,0.] # rotation with respect to itself aka 0,0,0\n",
    "origin1 = [-32.075,-128.,0.] #x,y (ellipse1)\n",
    "origin2 = [64.15-32.075,-128.,0.] #x,y (ellipse2)\n",
    "origin3 = [0-32.075,128.,0.] #x,y (ellipse3)\n",
    "origin4 = [64.15-32.075,128,0.] #x,y  (ellipse4)\n",
    "origin5 = [128.3-32.075,-120.501,0.] # (ellipse5)\n",
    "origin6 = [128.3-32.075,120.501,0.] # (ellipse6)\n",
    "origin7 = [160.375-32.075,7.5,40.]\n",
    "origin8 = [-64.15-32.075,-120.501,0.]\n",
    "origin9 = [-64.15-32.075,120.501,0.]\n",
    "origin10 = [-96.225-32.075,7.5,-40.]\n",
    "\n",
    "\n",
    "coeffellipse7 = [164.645,99.8,130.95] #for ellipse 7\n",
    "coeffellipse56 = [256.65,248.39,64.58]  #for ellipses 5&6&8&9\n",
    "coeffellipse = [263.9,256,64.15] #for center ellipses\n",
    "\n",
    "thet = [0,0,0] #A\n",
    "thet5 = [0,0,.1164] #testing\n",
    "thet6 = [0,0,-.1164] #testing\n",
    "thet7 = [0,.319422,1.3106]\n",
    "thet10 = [0,.310422,-1.3106] #negative of thet7?"
   ]
  },
  {
   "cell_type": "code",
   "execution_count": 5,
   "metadata": {
    "collapsed": true
   },
   "outputs": [],
   "source": [
    "Ri = CreateRay3D() #ORIGINAL 3D RAY NOW :O \n",
    "p1 = np.pi/4\n",
    "p2 = np.pi/2\n",
    "p3 = np.pi\n",
    "p4 = np.pi/4\n",
    "TTTT1 = TTTTE(Ri,p1,p2,p3,p4)\n",
    "RRRR1 = RRRRE(Ri,p1,p2,p3,p4)\n",
    "TTRR1 = TTRRE(Ri,p1,p2,p3,p4)\n",
    "RTTR1 = RTTRE(Ri,p1,p2,p3,p4)\n",
    "RTRT1 = RTRTE(Ri,p1,p2,p3,p4)\n",
    "TRRT1 = TRRTE(Ri,p1,p2,p3,p4)\n",
    "RRTT1 = RRTTE(Ri,p1,p2,p3,p4)\n",
    "TRTR1 = TRTRE(Ri,p1,p2,p3,p4)\n",
    "DN = [TTTT1,RRRR1,TTRR1,RTTR1,RTRT1,TRRT1,RRTT1,TRTR1]"
   ]
  },
  {
   "cell_type": "code",
   "execution_count": 6,
   "metadata": {},
   "outputs": [
    {
     "data": {
      "text/plain": [
       "[[2.356194490192345,\n",
       "  0.59573765869913753,\n",
       "  [149.67644981769251, -127.80587977611081, 15.923901623806969],\n",
       "  [0.19828546267198749, 0.20028302435421774, 0.95946317566047479],\n",
       "  1013.2958878497883],\n",
       " [3.9269908169872414,\n",
       "  8.626151540310064e-09,\n",
       "  [149.67644981769243, -127.80587977611084, 15.92390162380693],\n",
       "  [0.19828546267198874, 0.20028302435421744, 0.95946317566047479],\n",
       "  1013.295887849788],\n",
       " [3.9269908169872414,\n",
       "  4.6617124609522741e-09,\n",
       "  [149.67644981769251, -127.80587977611086, 15.923901623806957],\n",
       "  [0.19828546267198754, 0.20028302435421783, 0.95946317566047512],\n",
       "  1013.2958878497883],\n",
       " [3.9269908169872414,\n",
       "  0.63645254577021204,\n",
       "  [149.6764498176924, -127.80587977611079, 15.92390162380693],\n",
       "  [0.19828546267198921, 0.20028302435421738, 0.95946317566047457],\n",
       "  1013.2958878497877],\n",
       " [2.356194490192345,\n",
       "  4.9803109138685222e-09,\n",
       "  [149.67644981769243, -127.80587977611083, 15.92390162380693],\n",
       "  [0.19828546267198874, 0.20028302435421774, 0.9594631756604749],\n",
       "  1013.295887849788],\n",
       " [2.356194490192345,\n",
       "  8.074322832646288e-09,\n",
       "  [149.67644981769246, -127.80587977611084, 15.923901623806941],\n",
       "  [0.19828546267198868, 0.20028302435421763, 0.95946317566047468],\n",
       "  1013.295887849788],\n",
       " [2.356194490192345,\n",
       "  0.63645254577021182,\n",
       "  [149.6764498176924, -127.80587977611083, 15.923901623806936],\n",
       "  [0.19828546267198927, 0.20028302435421741, 0.95946317566047457],\n",
       "  1013.2958878497877],\n",
       " [3.9269908169872414,\n",
       "  0.59573765869913764,\n",
       "  [149.67644981769246, -127.80587977611084, 15.923901623806941],\n",
       "  [0.19828546267198868, 0.20028302435421763, 0.95946317566047468],\n",
       "  1013.295887849788]]"
      ]
     },
     "execution_count": 6,
     "metadata": {},
     "output_type": "execute_result"
    }
   ],
   "source": [
    "DN"
   ]
  },
  {
   "cell_type": "code",
   "execution_count": 7,
   "metadata": {
    "collapsed": true
   },
   "outputs": [],
   "source": [
    "def PLINTzDetect(z,Rays):\n",
    "    for i in range (0,len(Rays)):\n",
    "        p = Rays[i][2]\n",
    "        v = Rays[i][3]\n",
    "        t = (z - p[2])/v[2]\n",
    "        xi = p[0] + t*v[0]\n",
    "        yi = p[1] + t*v[1]\n",
    "        Rays[i][2]=([xi,yi,z])\n",
    "    return Rays"
   ]
  },
  {
   "cell_type": "code",
   "execution_count": 8,
   "metadata": {},
   "outputs": [
    {
     "name": "stdout",
     "output_type": "stream",
     "text": [
      "[[154.65208663936986, -122.78011753764426, 40]]\n",
      "[[154.65208663936986, -122.78011753764426, 40], [154.6520866393698, -122.78011753764429, 40]]\n",
      "[[154.65208663936986, -122.78011753764426, 40], [154.6520866393698, -122.78011753764429, 40], [154.65208663936986, -122.7801175376443, 40]]\n",
      "[[154.65208663936986, -122.78011753764426, 40], [154.6520866393698, -122.78011753764429, 40], [154.65208663936986, -122.7801175376443, 40], [154.65208663936977, -122.78011753764423, 40]]\n",
      "[[154.65208663936986, -122.78011753764426, 40], [154.6520866393698, -122.78011753764429, 40], [154.65208663936986, -122.7801175376443, 40], [154.65208663936977, -122.78011753764423, 40], [154.6520866393698, -122.78011753764427, 40]]\n",
      "[[154.65208663936986, -122.78011753764426, 40], [154.6520866393698, -122.78011753764429, 40], [154.65208663936986, -122.7801175376443, 40], [154.65208663936977, -122.78011753764423, 40], [154.6520866393698, -122.78011753764427, 40], [154.65208663936983, -122.78011753764429, 40]]\n",
      "[[154.65208663936986, -122.78011753764426, 40], [154.6520866393698, -122.78011753764429, 40], [154.65208663936986, -122.7801175376443, 40], [154.65208663936977, -122.78011753764423, 40], [154.6520866393698, -122.78011753764427, 40], [154.65208663936983, -122.78011753764429, 40], [154.65208663936977, -122.78011753764429, 40]]\n",
      "[[154.65208663936986, -122.78011753764426, 40], [154.6520866393698, -122.78011753764429, 40], [154.65208663936986, -122.7801175376443, 40], [154.65208663936977, -122.78011753764423, 40], [154.6520866393698, -122.78011753764427, 40], [154.65208663936983, -122.78011753764429, 40], [154.65208663936977, -122.78011753764429, 40], [154.65208663936983, -122.78011753764429, 40]]\n"
     ]
    }
   ],
   "source": [
    "A = PLINTzDetect(40,DN)\n",
    "points = []\n",
    "vects = []\n",
    "dist = []\n",
    "for i in range(8):\n",
    "    points.append(A[i][2])\n",
    "    vects.append(A[i][3])\n",
    "    dist.append(A[i][4])\n",
    "    #pl.scatter(A[i][2][0],A[i][2][1])\n",
    "    print(points)\n",
    "#pl.xlim(154.847870142613,154.847870142614)\n",
    "#pl.ylim(-138.838137519899,-138.8381375198999)\n",
    "pl.show()"
   ]
  },
  {
   "cell_type": "code",
   "execution_count": null,
   "metadata": {
    "collapsed": true
   },
   "outputs": [],
   "source": [
    "def gaussian(x,sig,mu):\n",
    "    return (1/(np.sqrt(2*np.pi*(sig**2))))*np.exp(-((x-mu)**2)/(2*sig**2))\n",
    "#mu is the mean or expectation \n",
    "#sig is the standard deviation"
   ]
  },
  {
   "cell_type": "code",
   "execution_count": null,
   "metadata": {},
   "outputs": [],
   "source": [
    "x = np.linspace(1,10,100)\n",
    "y = gaussian(x,1,5)\n",
    "pl.plot(x,y)\n",
    "pl.show()"
   ]
  },
  {
   "cell_type": "code",
   "execution_count": 15,
   "metadata": {},
   "outputs": [],
   "source": []
  },
  {
   "cell_type": "code",
   "execution_count": null,
   "metadata": {
    "collapsed": true
   },
   "outputs": [],
   "source": []
  }
 ],
 "metadata": {
  "kernelspec": {
   "display_name": "Python 3",
   "language": "python",
   "name": "python3"
  },
  "language_info": {
   "codemirror_mode": {
    "name": "ipython",
    "version": 3
   },
   "file_extension": ".py",
   "mimetype": "text/x-python",
   "name": "python",
   "nbconvert_exporter": "python",
   "pygments_lexer": "ipython3",
   "version": "3.6.1"
  }
 },
 "nbformat": 4,
 "nbformat_minor": 2
}
