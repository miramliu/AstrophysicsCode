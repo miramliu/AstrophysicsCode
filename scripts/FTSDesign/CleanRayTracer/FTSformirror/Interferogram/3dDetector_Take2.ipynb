{
 "cells": [
  {
   "cell_type": "code",
   "execution_count": 1,
   "metadata": {
    "collapsed": true
   },
   "outputs": [],
   "source": [
    "import numpy as np\n",
    "import matplotlib.pyplot as pl\n",
    "import itertools\n",
    "from mpl_toolkits.mplot3d import Axes3D\n",
    "from RayTraceFun_forInt import *\n",
    "from PossibleFunctions import *\n",
    "from Background import *\n",
    "from random import uniform\n",
    "import random\n",
    "import matplotlib\n",
    "#%matplotlib auto"
   ]
  },
  {
   "cell_type": "code",
   "execution_count": 2,
   "metadata": {
    "collapsed": true
   },
   "outputs": [],
   "source": [
    "Ri = CreateRay3D() #ORIGINAL 3D RAY NOW :O \n",
    "p1 = np.pi/4\n",
    "p2 = np.pi/2\n",
    "p3 = np.pi\n",
    "p4 = np.pi/4\n",
    "TTTT1 = TTTTE(Ri,p1,p2,p3,p4)\n",
    "RRRR1 = RRRRE(Ri,p1,p2,p3,p4)\n",
    "TTRR1 = TTRRE(Ri,p1,p2,p3,p4)\n",
    "RTTR1 = RTTRE(Ri,p1,p2,p3,p4)\n",
    "RTRT1 = RTRTE(Ri,p1,p2,p3,p4)\n",
    "TRRT1 = TRRTE(Ri,p1,p2,p3,p4)\n",
    "RRTT1 = RRTTE(Ri,p1,p2,p3,p4)\n",
    "TRTR1 = TRTRE(Ri,p1,p2,p3,p4)\n",
    "DN = [TTTT1,RRRR1,TTRR1,RTTR1,RTRT1,TRRT1,RRTT1,TRTR1]"
   ]
  },
  {
   "cell_type": "code",
   "execution_count": 3,
   "metadata": {},
   "outputs": [
    {
     "data": {
      "text/plain": [
       "[[2.356194490192345,\n",
       "  0.64352664157039741,\n",
       "  [147.0981822275574, -127.30107076104848, 13.988390297593044],\n",
       "  [0.23787539443611008, 0.18191994447107984, 0.95410713786529466],\n",
       "  972.57178073263549],\n",
       " [3.9269908169872414,\n",
       "  7.6735704408466106e-09,\n",
       "  [147.09818222755754, -127.30107076104852, 13.988390297593067],\n",
       "  [0.23787539443610894, 0.18191994447108004, 0.95410713786529466],\n",
       "  972.57178073263594],\n",
       " [3.9269908169872414,\n",
       "  5.0356664886926891e-09,\n",
       "  [147.09818222755743, -127.30107076104849, 13.988390297593051],\n",
       "  [0.23787539443610986, 0.18191994447107984, 0.95410713786529444],\n",
       "  972.57178073263572],\n",
       " [3.9269908169872414,\n",
       "  0.56616944640973987,\n",
       "  [147.09818222755757, -127.30107076104852, 13.988390297593067],\n",
       "  [0.23787539443610831, 0.18191994447108006, 0.954107137865295],\n",
       "  972.57178073263606],\n",
       " [2.356194490192345,\n",
       "  4.4303379596683476e-09,\n",
       "  [147.09818222755754, -127.30107076104848, 13.988390297593075],\n",
       "  [0.23787539443610889, 0.18191994447108012, 0.95410713786529455],\n",
       "  972.57178073263594],\n",
       " [2.356194490192345,\n",
       "  8.7220302083877073e-09,\n",
       "  [147.09818222755743, -127.30107076104849, 13.988390297593051],\n",
       "  [0.23787539443610986, 0.18191994447107984, 0.95410713786529444],\n",
       "  972.57178073263572],\n",
       " [2.356194490192345,\n",
       "  0.56616944640973965,\n",
       "  [147.09818222755757, -127.30107076104846, 13.98839029759306],\n",
       "  [0.23787539443610825, 0.18191994447108017, 0.954107137865295],\n",
       "  972.57178073263594],\n",
       " [3.9269908169872414,\n",
       "  0.64352664157039752,\n",
       "  [147.09818222755743, -127.30107076104849, 13.988390297593034],\n",
       "  [0.23787539443611008, 0.18191994447107979, 0.95410713786529444],\n",
       "  972.5717807326356]]"
      ]
     },
     "execution_count": 3,
     "metadata": {},
     "output_type": "execute_result"
    }
   ],
   "source": [
    "DN"
   ]
  },
  {
   "cell_type": "code",
   "execution_count": 4,
   "metadata": {
    "collapsed": true
   },
   "outputs": [],
   "source": [
    "def PLINTzDetect(z,Rays):\n",
    "    for i in range (0,len(Rays)):\n",
    "        p = Rays[i][2]\n",
    "        v = Rays[i][3]\n",
    "        t = (z - p[2])/v[2]\n",
    "        xi = p[0] + t*v[0]\n",
    "        yi = p[1] + t*v[1]\n",
    "        Rays[i][2]=([xi,yi,z])\n",
    "    return Rays"
   ]
  },
  {
   "cell_type": "code",
   "execution_count": 5,
   "metadata": {},
   "outputs": [
    {
     "name": "stdout",
     "output_type": "stream",
     "text": [
      "[[153.58332595231988, -122.34142796532151, 40]]\n",
      "[[153.58332595231988, -122.34142796532151, 40], [153.58332595232, -122.34142796532156, 40]]\n",
      "[[153.58332595231988, -122.34142796532151, 40], [153.58332595232, -122.34142796532156, 40], [153.58332595231991, -122.34142796532154, 40]]\n",
      "[[153.58332595231988, -122.34142796532151, 40], [153.58332595232, -122.34142796532156, 40], [153.58332595231991, -122.34142796532154, 40], [153.58332595232, -122.34142796532157, 40]]\n",
      "[[153.58332595231988, -122.34142796532151, 40], [153.58332595232, -122.34142796532156, 40], [153.58332595231991, -122.34142796532154, 40], [153.58332595232, -122.34142796532157, 40], [153.58332595231997, -122.34142796532151, 40]]\n",
      "[[153.58332595231988, -122.34142796532151, 40], [153.58332595232, -122.34142796532156, 40], [153.58332595231991, -122.34142796532154, 40], [153.58332595232, -122.34142796532157, 40], [153.58332595231997, -122.34142796532151, 40], [153.58332595231991, -122.34142796532154, 40]]\n",
      "[[153.58332595231988, -122.34142796532151, 40], [153.58332595232, -122.34142796532156, 40], [153.58332595231991, -122.34142796532154, 40], [153.58332595232, -122.34142796532157, 40], [153.58332595231997, -122.34142796532151, 40], [153.58332595231991, -122.34142796532154, 40], [153.58332595232, -122.3414279653215, 40]]\n",
      "[[153.58332595231988, -122.34142796532151, 40], [153.58332595232, -122.34142796532156, 40], [153.58332595231991, -122.34142796532154, 40], [153.58332595232, -122.34142796532157, 40], [153.58332595231997, -122.34142796532151, 40], [153.58332595231991, -122.34142796532154, 40], [153.58332595232, -122.3414279653215, 40], [153.58332595231991, -122.34142796532153, 40]]\n"
     ]
    }
   ],
   "source": [
    "A = PLINTzDetect(40,DN)\n",
    "points = []\n",
    "vects = []\n",
    "dist = []\n",
    "for i in range(8):\n",
    "    points.append(A[i][2])\n",
    "    vects.append(A[i][3])\n",
    "    dist.append(A[i][4])\n",
    "    #pl.scatter(A[i][2][0],A[i][2][1])\n",
    "    print(points)\n",
    "#pl.xlim(154.847870142613,154.847870142614)\n",
    "#pl.ylim(-138.838137519899,-138.8381375198999)\n",
    "pl.show()"
   ]
  },
  {
   "cell_type": "code",
   "execution_count": 6,
   "metadata": {
    "collapsed": true
   },
   "outputs": [],
   "source": [
    "def gaussian(x,sig,mu):\n",
    "    return (1/(np.sqrt(2*np.pi*(sig**2))))*np.exp(-((x-mu)**2)/(2*sig**2))\n",
    "#mu is the mean or expectation \n",
    "#sig is the standard deviation"
   ]
  },
  {
   "cell_type": "code",
   "execution_count": 7,
   "metadata": {},
   "outputs": [
    {
     "data": {
      "image/png": "[encoded data removed]",
      "text/plain": [
       "<matplotlib.figure.Figure at 0x110e49b00>"
      ]
     },
     "metadata": {},
     "output_type": "display_data"
    }
   ],
   "source": [
    "x = np.linspace(1,10,100)\n",
    "y = gaussian(x,1,5)\n",
    "pl.plot(x,y)\n",
    "pl.show()"
   ]
  },
  {
   "cell_type": "code",
   "execution_count": 8,
   "metadata": {
    "collapsed": true
   },
   "outputs": [],
   "source": [
    "def REPCNi3(coeffellipse,pli,v):\n",
    "    Npos,Nneg = NormalP(pli,v,coeffellipse) #plane coefficients\n",
    "    VectLNorm = N(v) #incident unit vector\n",
    "    Npos = np.array([-x for x in Npos]) \n",
    "    Nneg = np.array([-x for x in Nneg])\n",
    "    vectpos = VectLNorm - 2*N(Npos)*(np.dot(VectLNorm,N(Npos)))\n",
    "    vectneg = VectLNorm - 2*N(Nneg)*(np.dot(VectLNorm,N(Nneg)))\n",
    "    xint,yint,zint = ELI3(pli,v,coeffellipse)\n",
    "    intpos = [float(xint[0]),float(yint[0]),float(zint[0])] #array and points of intersection\n",
    "    intneg = [float(xint[1]),float(yint[1]),float(zint[1])] #array and points of intersection\n",
    "    GoodInt,GoodVect = finddirec(pli,v,intpos,intneg,vectpos,vectneg)\n",
    "    return GoodInt, GoodVect\n",
    "\n",
    "'''Give ray and everything in global, does work in local, returns in global'''\n",
    "def ReflEll2(Ray,thetL,originL,coeffellipse,ranges,center):\n",
    "    if Ray is None:\n",
    "        return\n",
    "    Ray_Refl = []\n",
    "    originG = [0,0,0] # the global origin\n",
    "    thetG = [0,0,0] # rotation with respect to itself aka 0,0,0\n",
    "    sourcepoint = Ray[2] #originalpoint\n",
    "    v = Ray[3] #vector\n",
    "    SPLi,VPLi = RT(sourcepoint,v,thetG,originG,thetL,originL) #point and vector in local coordinates\n",
    "    pointsf,vectsf = REPCNi3(coeffellipse,SPLi,VPLi)\n",
    "    if SR3B(ranges, pointsf[0],pointsf[1],pointsf[2], center) == True:\n",
    "        SPLf,VPLf = RT(pointsf,vectsf,thetL,originL,thetG,originG)\n",
    "        Ray_Refl.append(Ray[0] + np.pi)\n",
    "        Ray_Refl.append(Ray[1])\n",
    "        Ray_Refl.append(SPLf)\n",
    "        Ray_Refl.append(VPLf)\n",
    "        Df = dist(SPLi,SPLf)\n",
    "        Ray_Refl.append(Ray[4] + Df)\n",
    "    else:\n",
    "        return\n",
    "    return Ray_Refl"
   ]
  },
  {
   "cell_type": "code",
   "execution_count": 9,
   "metadata": {
    "collapsed": true
   },
   "outputs": [],
   "source": [
    "def TTTTE2(Ri,p1,p2,p3,p4):\n",
    "    Ray_TP1 = IntPolT2(Ri,coeffpolar,originpolar1,p1) #P1\n",
    "    Ray_E8 = ReflEll2(Ray_TP1,thet6,origin8,coeffellipse56,range8,center8) #E8\n",
    "    Ray_TP2 = IntPolT2(Ray_E8,coeffpolar,originpolar2,p2) #P2\n",
    "    Ray_E3 = ReflEll2(Ray_TP2,thet,origin3,coeffellipse,range3,center3) #E3\n",
    "    Ray_M0 = IntM2(Ray_E3, coeffmirr, originG) #off mirror\n",
    "    Ray_E4 = ReflEll2(Ray_M0, thet,origin4,coeffellipse,range4,center4) #off E4\n",
    "    Ray_TP3 = IntPolT2(Ray_E4,coeffpolar,originpolar3,p3) #P3\n",
    "    Ray_E5 = ReflEll2(Ray_TP3, thet5,origin5,coeffellipse56,range5,center5)\n",
    "    Ray_TP4 = IntPolT2(Ray_E5,coeffpolar,originpolar4,p4)\n",
    "    Ray_E72 = ReflEll2(Ray_TP4,thet7,origin7,coeffellipse7,range7,center7)\n",
    "    return Ray_E72"
   ]
  },
  {
   "cell_type": "code",
   "execution_count": 10,
   "metadata": {
    "collapsed": true
   },
   "outputs": [],
   "source": [
    "Ri = CreateRay3D() #ORIGINAL 3D RAY NOW :O \n",
    "p1 = np.pi/4\n",
    "p2 = np.pi/2\n",
    "p3 = np.pi\n",
    "p4 = np.pi/4\n",
    "TTTT1 = TTTTE2(Ri,p1,p2,p3,p4)\n",
    "TTTT1 #yay it works / throws out stuff that misses"
   ]
  },
  {
   "cell_type": "code",
   "execution_count": null,
   "metadata": {
    "collapsed": true
   },
   "outputs": [],
   "source": []
  }
 ],
 "metadata": {
  "kernelspec": {
   "display_name": "Python 3",
   "language": "python",
   "name": "python3"
  },
  "language_info": {
   "codemirror_mode": {
    "name": "ipython",
    "version": 3
   },
   "file_extension": ".py",
   "mimetype": "text/x-python",
   "name": "python",
   "nbconvert_exporter": "python",
   "pygments_lexer": "ipython3",
   "version": "3.6.1"
  }
 },
 "nbformat": 4,
 "nbformat_minor": 2
}
