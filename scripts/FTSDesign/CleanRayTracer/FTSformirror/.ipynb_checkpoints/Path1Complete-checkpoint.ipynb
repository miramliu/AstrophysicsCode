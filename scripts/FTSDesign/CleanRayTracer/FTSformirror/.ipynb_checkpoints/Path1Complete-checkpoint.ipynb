{
 "cells": [
  {
   "cell_type": "markdown",
   "metadata": {},
   "source": [
    "THIS IS THE ENTIRE FTS (FROM INPUT TO OUTPUT). 'Global' refers to the coordinate system I have placed the model FTS in, which has an origin in between the two first CENTER ellipsoids. The ellipsoids lie opposite each other across the x axis, and light travels down the x axis by reflecting between the two sides. 'Local' refers to a coordinate system for each ellipsoid where the origin is the center of the ellipsoid. There are two paths that light can travel due to polarizers that split the light. The first path is E10, E8, E3, E2, E6, E7. The second path is E9, E1,E4,E5.\n",
    "The path shown here is path 1. Polarizers are not included in this. \n",
    "\n",
    "Mira"
   ]
  },
  {
   "cell_type": "code",
   "execution_count": 1,
   "metadata": {},
   "outputs": [
    {
     "name": "stdout",
     "output_type": "stream",
     "text": [
      "Using matplotlib backend: MacOSX\n"
     ]
    }
   ],
   "source": [
    "import numpy as np\n",
    "import matplotlib.pyplot as pl\n",
    "import itertools\n",
    "from mpl_toolkits.mplot3d import Axes3D\n",
    "from RayTraceFun_formir import *\n",
    "from random import uniform\n",
    "import random\n",
    "import matplotlib\n",
    "%matplotlib auto"
   ]
  },
  {
   "cell_type": "code",
   "execution_count": 2,
   "metadata": {},
   "outputs": [
    {
     "name": "stdout",
     "output_type": "stream",
     "text": [
      "Continue\n"
     ]
    }
   ],
   "source": [
    "# ALL STARTING INFORMATION ABOUT THE FTS\n",
    "\n",
    "originG = [0,0,0] # the global origin\n",
    "thetG = [0,0,0] # rotation with respect to itself aka 0,0,0\n",
    "origin1 = [0,-128,0] #x,y (ellipse1)\n",
    "origin2 = [64.15,-128,0] #x,y (ellipse2)\n",
    "origin3 = [0,128,0] #x,y (ellipse3)\n",
    "origin4 = [64.15,128,0] #x,y  (ellipse4)\n",
    "origin5 = [128.3,-120.501,0] # (ellipse5)\n",
    "origin6 = [128.3,120.501,0] # (ellipse6)\n",
    "origin7 = [160.375,-7.5,40]\n",
    "origin8 = [-64.15,-120.501,0]\n",
    "origin9 = [-64.15,120.501,0]\n",
    "origin10 = [-96.225,7.5,-40]\n",
    "\n",
    "\n",
    "coeffellipse7 = [164.645,99.8,130.95] #for ellipse 7\n",
    "coeffellipse56 = [256.65,248.39,64.58]  #for ellipses 5&6\n",
    "coeffellipse = [263.9,256,64.15] #for center ellipses\n",
    "\n",
    "thet = [0,0,0] #A\n",
    "thet5 = [0,0,-.1164] \n",
    "thet6 = [0,0,.1164] #testing\n",
    "thet7 = [0,.319422,1.3106]\n",
    "thet10 = [0,.310422,-1.3106] #negative of thet7?\n",
    "\n",
    "# NOW BUILDING ALL OF THE ELLIPSOIDS \n",
    "# SELECTING CORRESPONDING PARTS\n",
    "\n",
    "#CENTER ELLIPSES\n",
    "X1,Y1,Z1,X2,Y2,Z2 = FTSEC(100,np.pi/8, coeffellipse, 64.15, 'pos') #LOBAL\n",
    "X1n,Y1n,Z1n,X2n,Y2n,Z2n = FTSEC(100,np.pi/8, coeffellipse, 64.15, 'neg') #LOCAL\n",
    "Xset1, Yset1, Zset1 = SR2(32.07, X1,Y1,Z1, originG) #SELECTED LOCAL\n",
    "Xset2, Yset2, Zset2 = SR2(32.07, X2, Y2, Z2, originG) #SELECTED LOCAL\n",
    "Xset1n, Yset1n, Zset1n = SR2(32.07, X1n,Y1n,Z1n, originG) #SELECTED LOCAL\n",
    "Xset2n, Yset2n, Zset2n = SR2(32.07, X2n, Y2n, Z2n, originG) #SELECTED LOCAL\n",
    "#ELLIPSE 1\n",
    "X1i,Y1i,Z1i = transformLG(Xset1,Yset1,Zset1,origin1,thet) #GLOBAL\n",
    "X2i,Y2i,Z2i = transformLG(Xset2,Yset2,Zset2,origin1,thet) #GLOBAL\n",
    "center1,range1 = xrangeGL7(X1i,Y1i,Z1i,X2i,Y2i,Z2i,origin1,thet)\n",
    "#ELLIPSE 2\n",
    "X3i,Y3i,Z3i = transformLG(Xset1,Yset1,Zset1,origin2,thet) #GLOBAL\n",
    "X4i,Y4i,Z4i = transformLG(Xset2,Yset2,Zset2,origin2,thet) #GLOBAL\n",
    "center2,range2 = xrangeGL7(X3i,Y3i,Z3i,X4i,Y4i,Z4i,origin2,thet)\n",
    "#ELLIPSE 3\n",
    "X1n,Y1n,Z1n = transformLG(Xset1n,Yset1n,Zset1n,origin3,thet) #GLOBAL\n",
    "X2n,Y2n,Z2n = transformLG(Xset2n,Yset2n,Zset2n,origin3,thet) #GLOBAL\n",
    "center3,range3 = xrangeGL7(X1n,Y1n,Z1n,X2n,Y2n,Z2n,origin3,thet)\n",
    "#ELLIPSE 4\n",
    "X3n,Y3n,Z3n = transformLG(Xset1n,Yset1n,Zset1n,origin4,thet) #GLOBAL\n",
    "X4n,Y4n,Z4n = transformLG(Xset2n,Yset2n,Zset2n,origin4,thet) #GLOBAL\n",
    "center3,range3 = xrangeGL7(X3n,Y3n,Z3n,X4n,Y4n,Z4n,origin4,thet)\n",
    "\n",
    "\n",
    "#ELLIPSE 5&6\n",
    "X5,Y5,Z5,X6,Y6,Z6 = FTSEC(100,np.pi/8, coeffellipse56, 170, 'pos') #LOCAL\n",
    "X5n,Y5n,Z5n,X6n,Y6n,Z6n = FTSEC(100,np.pi/8, coeffellipse56, 170, 'neg') #LOCAL\n",
    "#ELLIPSE 5\n",
    "Xset5, Yset5, Zset5= transformLG(X5,Y5,Z5,origin5,thet5) #GLOBAL\n",
    "Xset6, Yset6, Zset6 = transformLG(X6,Y6,Z6,origin5,thet5) #GLOBAL\n",
    "X5,Y5,Z5 = SR2(32.07, Xset5,Yset5,Zset5, origin5) #SELECTED GLOBAL\n",
    "X6,Y6,Z6 = SR2(32.07, Xset6, Yset6, Zset6, origin5) #SELECTED GLOBAL\n",
    "center5,range5 = xrangeGL7(X5,Y5,Z5,X6,Y6,Z6,origin5,thet5)\n",
    "#ELLIPSE 6\n",
    "Xset5n,Yset5n,Zset5n = transformLG(X5n,Y5n,Z5n,origin6,thet6) #GLOBAL\n",
    "Xset6n,Yset6n,Zset6n = transformLG(X6n,Y6n,Z6n,origin6,thet6) #GLOBAL\n",
    "X5n,Y5n,Z5n = SR2(32.07,Xset5n,Yset5n,Zset5n,origin6) #SELECTED GLOBAL\n",
    "X6n,Y6n,Z6n = SR2(32.07,Xset6n,Yset6n,Zset6n,origin6) #SELECTED GLOBAL\n",
    "center6,range6 = xrangeGL7(X5n,Y5n,Z5n,X6n,Y6n,Z6n,origin6,thet6)\n",
    "\n",
    "#ELLIPSE 8&9\n",
    "X9i,Y9i,Z9i,X10i,Y10i,Z10i = FTSEC(100,np.pi/8, coeffellipse56, 170, 'pos') #LOCAL\n",
    "X9n,Y9n,Z9n,X10n,Y10n,Z10n = FTSEC(100,np.pi/8, coeffellipse56, 170, 'neg') #LOCAL\n",
    "#ELLIPSE 8\n",
    "Xset9,Yset9,Zset9 = transformLG(X9i,Y9i,Z9i,origin8,thet6) #GLOBAL\n",
    "Xset10,Yset10,Zset10 = transformLG(X10i,Y10i,Z10i,origin8,thet6) #GLOBAL\n",
    "X9,Y9,Z9 = SR2(32.07, Xset9,Yset9,Zset9, origin8) #SELECTED GLOBAL\n",
    "X10,Y10,Z10 = SR2(32.07, Xset10, Yset10, Zset10, origin8) #SELECTED GLOBAL\n",
    "center8,range8 = xrangeGL7(X9,Y9,Z9,X10,Y10,Z10,origin8,thet6)\n",
    "#ELLIPSE 9\n",
    "Xset9n,Yset9n,Zset9n = transformLG(X9n,Y9n,Z9n,origin9,thet5) #GLOBAL\n",
    "Xset10n,Yset10n,Zset10n = transformLG(X10n,Y10n,Z10n,origin9,thet5) #GLOBAL\n",
    "X9n,Y9n,Z9n = SR2(32.07, Xset9n,Yset9n,Zset9n, origin9) #SELECTED GLOBAL\n",
    "X10n,Y10n,Z10n = SR2(32.07, Xset10n, Yset10n, Zset10n, origin9) #SELECTED GLOBAL\n",
    "center9,range9 = xrangeGL7(X9n,Y9n,Z9n,X10n,Y10n,Z10n,origin9,thet5)\n",
    "\n",
    "#ELLIPSE 7\n",
    "X7i,Y7i,Z7i,X8i,Y8i,Z8i = FTSEC(100,np.pi*2, coeffellipse7, 329.29, 'pos') #LOCAL\n",
    "Xset7,Yset7,Zset7 = transformLG(X7i,Y7i,Z7i,origin7,thet7) #GLOBAL\n",
    "Xset8,Yset8,Zset8 = transformLG(X8i,Y8i,Z8i,origin7,thet7) #GLOBAL\n",
    "Ecenter7 = [192.45,0,0] #GLOBAL SECTON\n",
    "X7,Y7,Z7 = SR10(32.07,Xset7, Yset7, Zset7, Ecenter7) #SELECTED GLOBAL\n",
    "X8,Y8,Z8 = SR10(32.07,Xset8, Yset8, Zset8, Ecenter7) #SELECTED GLOBAL\n",
    "center7,range7 = xrangeGL7(X7,Y7,Z7,X8,Y8,Z8,origin7,thet7) # LOCAL RANGE \n",
    "X7t,Y7t,Z7t = SR103di(range7,X7,Y7,Z7,center7) #LOCAL\n",
    "X8t,Y8t,Z8t = SR103di(range7,X7,Y7,Z7,center7) #LOCAL\n",
    "\n",
    "#ELLIPSE 10\n",
    "X11i,Y11i,Z11i,X12i,Y12i,Z12i = FTSEC(100,np.pi*2, coeffellipse7, 329.29, 'pos') #LOCAL\n",
    "Xset11,Yset11,Zset11 = transformLG(X11i,Y11i,Z11i,origin10,thet10) #GLOBAL\n",
    "Xset12,Yset12,Zset12 = transformLG(X12i,Y12i,Z12i,origin10,thet10) #GLOBAL\n",
    "Ecenter10 = [-128.3,0,0] #GLOBAL SECTION\n",
    "X11,Y11,Z11 = SR10(32.07, Xset11,Yset11,Zset11, Ecenter10) #SELECTED GLOBAL\n",
    "X12,Y12,Z12 = SR10(32.07, Xset12,Yset12,Zset12, Ecenter10) #SELECTED GLOBAL\n",
    "center10,range10, = xrangeGL6(X11,Y11,Z11,X12,Y12,Z12,origin10,thet10) #LOCAL RANGE \n",
    "X11t,Y11t,Z11t = SR103di(range10,X11i,Y11i,Z11i,center10) #LOCAL\n",
    "X12t,Y12t,Z12t = SR103di(range10,X12i,Y12i,Z12i,center10) #LOCAL\n",
    "print('Continue')"
   ]
  },
  {
   "cell_type": "code",
   "execution_count": 3,
   "metadata": {},
   "outputs": [
    {
     "name": "stdout",
     "output_type": "stream",
     "text": [
      "10: [41.577020202020236, 33.64821777784185, 20.001702052348694] [-96.458686868686868, 3.2797714483243219, 73.24759051407338]\n",
      "8: [30.909090909090914, 200, 31.315767057290568] [-28.333333333333336, 244.95832095066169, 0.0]\n",
      "3: [31.427020202020202, 200, 31.400097443962792] [0.0, -254.99883040161689, 0.0]\n",
      "2: [31.427020202020202, 200, 31.400097443962792] [0.0, 254.99883040161689, 0.0]\n",
      "6: [30.909090909090921, 200, 31.315767057290568] [28.333333333333339, -244.95832095066169, 0.0]\n",
      "7: [41.577020202020208, 200, 19.642335814884394] [96.45868686868684, 3.1907688264097978, -73.870253223692842]\n"
     ]
    }
   ],
   "source": [
    "print('10:', range10,center10)\n",
    "print('8:', range8,center8)\n",
    "print('3:', range3,center3)\n",
    "print('2:', range2,center2)\n",
    "print('6:', range6,center6)\n",
    "print('7:', range7,center7)"
   ]
  },
  {
   "cell_type": "code",
   "execution_count": 4,
   "metadata": {},
   "outputs": [
    {
     "name": "stdout",
     "output_type": "stream",
     "text": [
      "Continue\n"
     ]
    }
   ],
   "source": [
    "#SOURCE SHOT UP AT E10\n",
    "#creating the source (around the focus of E8) LOCALLY \n",
    "sourcepointorigin = [-130.95,0,0] #LOCAL \n",
    "sourcethet = [0,0,0] #SHOT STRAIGHT UP\n",
    "sourcepoints = specsource(1,sourcepointorigin,sourcethet) #LOCAL\n",
    "sourcep1, sv1 = FS(500,sourcepoints, sourcethet,origin10) #LOCAL\n",
    "\n",
    "points10, vects10 = RSEPCNi(coeffellipse7,sourcep1,sv1, range10,center10) #Reflection off of E10 (from source)\n",
    "sp10,v10 = RT(points10, vects10,thet10,origin10,thet6,origin8) #from Local 10 to Local 8\n",
    "points810,vects810 = RSEPCNi(coeffellipse56,sp10,v10,range8,center8) #Reflection off of E8 (from 10)\n",
    "sp8,v8 = RT(points810,vects810,thet6,origin8,thet,origin3) #from Local 8 to Local 3\n",
    "points38,vects38 = RSEPCNi(coeffellipse,sp8,v8,range3,center3) #Reflection off of E3 (from 8)\n",
    "sp3,v3 = RT(points38,vects38,thet,origin3,thet,origin2) #from Local 3 to Local 2\n",
    "\n",
    "points23,vects23 = RSEPCNi(coeffellipse,sp3,v3,range2,center2) #Reflection off of E2 (from 3)\n",
    "sp2,v2 = RT(points23,vects23,thet,origin2,thet6,origin6) #from Local 2 to Local 6\n",
    "points62,vects62 = RSEPCNi(coeffellipse56,sp2,v2,range6,center6) #reflection off of E6 (from 2)\n",
    "sp6,v6 = RT(points62,vects62,thet6,origin6,thet7,origin7) #from Local 6 to Local 7\n",
    "#points76,vects76 = RSEPCNi(coeffellipse7,sp6,v6,range7,center7) #Reflection off of E7 (from 6)\n",
    "#p7,v7 = RT(points76,vects76,thet7,origin7,thet,originG) #from Local 7 to Global\n",
    "#outputpoints = PLINT(40,p7,v7)\n",
    "print('Continue')"
   ]
  },
  {
   "cell_type": "code",
   "execution_count": 5,
   "metadata": {},
   "outputs": [
    {
     "name": "stdout",
     "output_type": "stream",
     "text": [
      "Continue\n"
     ]
    }
   ],
   "source": [
    "p10,v10 = RT(points10,vects10,thet10,origin10,thetG,originG) #GLOBAL\n",
    "p810,v810 = RT(points810,vects810,thet6,origin8,thetG,originG) #global\n",
    "p38,v38 = RT(points38,vects38,thet,origin3,thet,originG) #global\n",
    "p23,v23 = RT(points23,vects23,thet,origin2,thet,originG) #global\n",
    "p62,v62 = RT(points62,vects62,thet6,origin6,thet,originG) #global\n",
    "#p76,v76 = RT(points76,vects76,thet7,origin7,thet,originG)\n",
    "print('Continue')"
   ]
  },
  {
   "cell_type": "code",
   "execution_count": 10,
   "metadata": {},
   "outputs": [
    {
     "name": "stdout",
     "output_type": "stream",
     "text": [
      "Continue\n"
     ]
    }
   ],
   "source": [
    "#SO TOTAL PATH 1\n",
    "pl3dsurf = pl.figure().gca(projection = '3d')\n",
    "#ELLIPSE 10\n",
    "pl3dsurf.plot_trisurf(X11,Y11,Z11,linewidth = .2, antialiased=True, color = 'silver',alpha=0.7)#GLOBAL\n",
    "pl3dsurf.plot_trisurf(X12,Y12,Z12,linewidth = .2, antialiased=True, color = 'silver',alpha=0.7)#GLOBAL\n",
    "\n",
    "#ellipse9\n",
    "pl3dsurf.plot_trisurf(X9n,Y9n,Z9n, linewidth = .2, antialiased=True, color = 'dimgrey',alpha=0.7) #GLOBAL\n",
    "pl3dsurf.plot_trisurf(X10n,Y10n,Z10n, linewidth = .2, antialiased=True, color = 'dimgrey',alpha=0.7) #GLOBAL\n",
    "#ELLIPSE 8\n",
    "pl3dsurf.plot_trisurf(X9,Y9,Z9, linewidth = .2, antialiased=True, color = 'dimgrey',alpha=0.7) #GLOBAL\n",
    "pl3dsurf.plot_trisurf(X10,Y10,Z10, linewidth = .2, antialiased=True, color = 'dimgrey',alpha=0.7) #GLOBAL\n",
    "\n",
    "#ellipse 1\n",
    "pl3dsurf.plot_trisurf(X1i,Y1i,Z1i, linewidth = .2, antialiased=True, color = 'black',alpha=0.7) #GLOBAL\n",
    "pl3dsurf.plot_trisurf(X2i,Y2i,Z2i, linewidth = .2, antialiased=True, color = 'black',alpha=0.7) #GLOBAL\n",
    "#ELLIPSE 3\n",
    "pl3dsurf.plot_trisurf(X1n,Y1n,Z1n, linewidth = .2, antialiased=True, color = 'black',alpha=0.7) #GLOBAL\n",
    "pl3dsurf.plot_trisurf(X2n,Y2n,Z2n, linewidth = .2, antialiased=True, color = 'black',alpha=0.7) #GLOBAL\n",
    "\n",
    "#ellipse 4\n",
    "pl3dsurf.plot_trisurf(X3n,Y3n,Z3n, linewidth = .2, antialiased=True, color = 'black',alpha=0.7) #GLOBAL\n",
    "pl3dsurf.plot_trisurf(X4n,Y4n,Z4n, linewidth = .2, antialiased=True, color = 'black',alpha=0.7) #GLOBAL\n",
    "#ELLIPSE 2\n",
    "pl3dsurf.plot_trisurf(X3i,Y3i,Z3i, linewidth = .2, antialiased=True, color = 'black',alpha=0.7) #GLOBAL\n",
    "pl3dsurf.plot_trisurf(X4i,Y4i,Z4i, linewidth = .2, antialiased=True, color = 'black',alpha=0.7) #GLOBAL\n",
    "\n",
    "#ellipse5\n",
    "pl3dsurf.plot_trisurf(X5,Y5,Z5, linewidth = .2, antialiased=True, color = 'dimgrey',alpha=0.7) #GLOBAL\n",
    "pl3dsurf.plot_trisurf(X6,Y6,Z6, linewidth = .2, antialiased=True, color = 'dimgrey',alpha=0.7) #GLOBAL\n",
    "#ELLIPSE 6\n",
    "pl3dsurf.plot_trisurf(X5n,Y5n,Z5n, linewidth = .2, antialiased=True, color = 'dimgrey',alpha=0.7) #GLOBAL\n",
    "pl3dsurf.plot_trisurf(X6n,Y6n,Z6n, linewidth = .2, antialiased=True, color = 'dimgrey',alpha=0.7) #GLOBAL\n",
    "#ELLIPSE 7\n",
    "pl3dsurf.plot_trisurf(X7,Y7,Z7, linewidth = .2, antialiased=True, color = 'silver',alpha=0.7) #GLOBAL\n",
    "pl3dsurf.plot_trisurf(X8,Y8,Z8, linewidth = .2, antialiased=True, color = 'silver',alpha=0.7) #GLOBAL\n",
    "\n",
    "pl3dsurf.set_xlabel('X-axis (cm)')\n",
    "pl3dsurf.set_ylabel('Y-axis (cm)')\n",
    "pl3dsurf.set_zlabel('Z-axis (cm)')\n",
    "pl.show()\n",
    "\n",
    "print('Continue')"
   ]
  },
  {
   "cell_type": "code",
   "execution_count": 7,
   "metadata": {},
   "outputs": [
    {
     "name": "stdout",
     "output_type": "stream",
     "text": [
      "Continue\n"
     ]
    }
   ],
   "source": [
    "#SO TOTAL PATH 1\n",
    "pl3dsurf = pl.figure().gca(projection = '3d')\n",
    "#ELLIPSE 10\n",
    "pl3dsurf.plot_trisurf(X11,Y11,Z11,linewidth = .2, antialiased=True, color = 'silver',alpha=0.7)#GLOBAL\n",
    "pl3dsurf.plot_trisurf(X12,Y12,Z12,linewidth = .2, antialiased=True, color = 'silver',alpha=0.7)#GLOBAL\n",
    "for i in range (0,len(p10)):\n",
    "    x,y,z = ML(p10[i], v10[i], 250) #global\n",
    "    pl3dsurf.plot(x,y,z, color = 'red')\n",
    "#ellipse9\n",
    "pl3dsurf.plot_trisurf(X9n,Y9n,Z9n, linewidth = .2, antialiased=True, color = 'dimgrey',alpha=0.7) #GLOBAL\n",
    "pl3dsurf.plot_trisurf(X10n,Y10n,Z10n, linewidth = .2, antialiased=True, color = 'dimgrey',alpha=0.7) #GLOBAL\n",
    "#ELLIPSE 8\n",
    "pl3dsurf.plot_trisurf(X9,Y9,Z9, linewidth = .2, antialiased=True, color = 'dimgrey',alpha=0.7) #GLOBAL\n",
    "pl3dsurf.plot_trisurf(X10,Y10,Z10, linewidth = .2, antialiased=True, color = 'dimgrey',alpha=0.7) #GLOBAL\n",
    "for i in range (0,len(p810)):\n",
    "    x,y,z = ML(p810[i], v810[i], 263)\n",
    "    pl3dsurf.plot(x,y,z, color = 'Orange')\n",
    "#ellipse 1\n",
    "pl3dsurf.plot_trisurf(X1i,Y1i,Z1i, linewidth = .2, antialiased=True, color = 'black',alpha=0.7) #GLOBAL\n",
    "pl3dsurf.plot_trisurf(X2i,Y2i,Z2i, linewidth = .2, antialiased=True, color = 'black',alpha=0.7) #GLOBAL\n",
    "#ELLIPSE 3\n",
    "pl3dsurf.plot_trisurf(X1n,Y1n,Z1n, linewidth = .2, antialiased=True, color = 'black',alpha=0.7) #GLOBAL\n",
    "pl3dsurf.plot_trisurf(X2n,Y2n,Z2n, linewidth = .2, antialiased=True, color = 'black',alpha=0.7) #GLOBAL\n",
    "for i in range (0,len(p38)):\n",
    "    x,y,z = ML(p38[i], v38[i], 263)\n",
    "    pl3dsurf.plot(x,y,z, color = 'gold')\n",
    "#ellipse 4\n",
    "pl3dsurf.plot_trisurf(X3n,Y3n,Z3n, linewidth = .2, antialiased=True, color = 'black',alpha=0.7) #GLOBAL\n",
    "pl3dsurf.plot_trisurf(X4n,Y4n,Z4n, linewidth = .2, antialiased=True, color = 'black',alpha=0.7) #GLOBAL\n",
    "#ELLIPSE 2\n",
    "pl3dsurf.plot_trisurf(X3i,Y3i,Z3i, linewidth = .2, antialiased=True, color = 'black',alpha=0.7) #GLOBAL\n",
    "pl3dsurf.plot_trisurf(X4i,Y4i,Z4i, linewidth = .2, antialiased=True, color = 'black',alpha=0.7) #GLOBAL\n",
    "for i in range (0,len(p23)):\n",
    "    x,y,z = ML(p23[i], v23[i], 263)\n",
    "    pl3dsurf.plot(x,y,z, color = 'green')\n",
    "#ellipse5\n",
    "pl3dsurf.plot_trisurf(X5,Y5,Z5, linewidth = .2, antialiased=True, color = 'dimgrey',alpha=0.7) #GLOBAL\n",
    "pl3dsurf.plot_trisurf(X6,Y6,Z6, linewidth = .2, antialiased=True, color = 'dimgrey',alpha=0.7) #GLOBAL\n",
    "#ELLIPSE 6\n",
    "pl3dsurf.plot_trisurf(X5n,Y5n,Z5n, linewidth = .2, antialiased=True, color = 'dimgrey',alpha=0.7) #GLOBAL\n",
    "pl3dsurf.plot_trisurf(X6n,Y6n,Z6n, linewidth = .2, antialiased=True, color = 'dimgrey',alpha=0.7) #GLOBAL\n",
    "for i in range (0,len(p62)):\n",
    "    x,y,z = ML(p62[i], v62[i], 263)\n",
    "    pl3dsurf.plot(x,y,z, color = 'blue')\n",
    "#ELLIPSE 7\n",
    "pl3dsurf.plot_trisurf(X7,Y7,Z7, linewidth = .2, antialiased=True, color = 'silver',alpha=0.7) #GLOBAL\n",
    "pl3dsurf.plot_trisurf(X8,Y8,Z8, linewidth = .2, antialiased=True, color = 'silver',alpha=0.7) #GLOBAL\n",
    "#for i in range (0,len(p76)):\n",
    "    #x,y,z = ML(p76[i], v76[i], 70)\n",
    "    #pl3dsurf.plot(x,y,z, color = 'purple')\n",
    "\n",
    "pl3dsurf.set_xlabel('X-axis (cm)')\n",
    "pl3dsurf.set_ylabel('Y-axis (cm)')\n",
    "pl3dsurf.set_zlabel('Z-axis (cm)')\n",
    "pl.show()\n",
    "\n",
    "print('Continue')"
   ]
  },
  {
   "cell_type": "code",
   "execution_count": 8,
   "metadata": {},
   "outputs": [
    {
     "name": "stdout",
     "output_type": "stream",
     "text": [
      "Continue\n"
     ]
    }
   ],
   "source": [
    "#Scatter plots on the FAR side of the x axis (+ y)\n",
    "#f, (ax1, ax2,ax3) = pl.subplots(1, 3, sharey=False)\n",
    "#p810,p23,p76\n",
    "f, (ax1, ax2) = pl.subplots(1, 2, sharey=False)\n",
    "for i in range (0,len(p810)):\n",
    "    ax1.scatter(p810[i][0],p810[i][2], marker = 'o',s = 1, color = 'orange')\n",
    "    ax1.axis('scaled')\n",
    "ax1.set_title('E8')\n",
    "ax1.set_xlim(origin8[0]-32.07,origin8[0] + 32.07)\n",
    "ax1.set_ylim(-32.07,32.07)\n",
    "ax1.set_xlabel('X-axis')\n",
    "ax1.set_ylabel('Z-axis')\n",
    "\n",
    "for i in range (0,len(p23)):\n",
    "    ax2.scatter(p23[i][0],p23[i][2], marker = 'o',s = 1, color = 'green')\n",
    "    ax2.axis('scaled')\n",
    "ax2.set_title('E2')\n",
    "ax2.set_xlim(origin2[0]-32.07,origin2[0] + 32.07)\n",
    "ax2.set_ylim(-32.07,32.07)\n",
    "ax2.set_xlabel('X-axis')\n",
    "ax2.set_ylabel('Z-axis')\n",
    "\n",
    "\n",
    "#for i in range (0,len(p76)):\n",
    "    #ax3.scatter(p76[i][0],p76[i][2], marker = 'o', s = 1,color = 'purple')\n",
    "    #ax3.axis('scaled')\n",
    "#ax3.set_title('E7')\n",
    "#ax3.set_xlim(Ecenter7[0]-32.07,Ecenter7[0] + 32.07)\n",
    "#ax3.set_ylim(-32.07,32.07)\n",
    "#ax3.set_xlabel('X-axis')\n",
    "#ax3.set_ylabel('Z-axis')\n",
    "pl.tight_layout()\n",
    "pl.show()\n",
    "print ('Continue')"
   ]
  },
  {
   "cell_type": "code",
   "execution_count": 9,
   "metadata": {},
   "outputs": [
    {
     "name": "stdout",
     "output_type": "stream",
     "text": [
      "Continue\n"
     ]
    }
   ],
   "source": [
    "#Scatter plots on the NEAR side of the x axis (- y)\n",
    "f, (ax1, ax2,ax3) = pl.subplots(1, 3, sharey=False)\n",
    "#p10,p38,p62\n",
    "for i in range (0,len(p10)):\n",
    "    ax1.scatter(p10[i][0],p10[i][2], marker = 'o',s = 1, color = 'red')\n",
    "    ax1.axis('scaled')\n",
    "ax1.set_title('E10')\n",
    "ax1.set_xlim(Ecenter10[0]-32.07,Ecenter10[0] + 32.07)\n",
    "ax1.set_ylim(-32.07,32.07)\n",
    "ax1.set_xlabel('X-axis')\n",
    "ax1.set_ylabel('Z-axis')\n",
    "\n",
    "for i in range (0,len(p38)):\n",
    "    ax2.scatter(p38[i][0],p38[i][2], marker = 'o', s = 1,color = 'gold')\n",
    "    ax2.axis('scaled')\n",
    "ax2.set_title('E3')\n",
    "ax2.set_xlim(origin3[0]-32.07,origin3[0] + 32.07)\n",
    "ax2.set_ylim(-32.07,32.07)\n",
    "ax2.set_xlabel('X-axis')\n",
    "ax2.set_ylabel('Z-axis')\n",
    "\n",
    "\n",
    "for i in range (0,len(p62)):\n",
    "    ax3.scatter(p62[i][0],p62[i][2], marker = 'o',s = 1, color = 'blue')\n",
    "    ax3.axis('scaled')\n",
    "ax3.set_title('E6')\n",
    "ax3.set_xlim(origin6[0]-32.07,origin6[0] + 32.07)\n",
    "ax3.set_ylim(-32.07,32.07)\n",
    "ax3.set_xlabel('X-axis')\n",
    "ax3.set_ylabel('Z-axis')\n",
    "pl.tight_layout()\n",
    "pl.show()\n",
    "print ('Continue')"
   ]
  },
  {
   "cell_type": "markdown",
   "metadata": {
    "collapsed": true
   },
   "source": [
    "#scatter plots of the incoming and outgoing (of y by x)\n",
    "f, (ax1, ax2) = pl.subplots(1, 2, sharey=False)\n",
    "for i in range (0,len(p10)):\n",
    "    ax1.scatter(p10[i][0],p10[i][1], marker = 'o',s = 1, color = 'red')\n",
    "    ax1.axis('scaled')\n",
    "ax1.set_title('Input')\n",
    "#ax1.set_xlim(Ecenter10[0]-32.07,Ecenter10[0] + 32.07)\n",
    "#ax1.set_ylim(-32.07,32.07)\n",
    "ax1.set_xlabel('X-axis')\n",
    "ax1.set_ylabel('y-axis')\n",
    "\n",
    "\n",
    "for i in range(0,len(outputpoints)):\n",
    "    ax2.scatter(outputpoints[i][0],outputpoints[i][1], color = 'purple', s = 1)\n",
    "    ax2.axis('scaled')\n",
    "ax2.set_title('Output')\n",
    "#ax2.set_xlim(Ecenter7[0]-32.07,Ecenter7[0] + 32.07)\n",
    "#ax2.set_ylim(-32.07,32.07)\n",
    "ax2.set_xlabel('X-axis')\n",
    "ax2.set_ylabel('Y-axis')\n",
    "pl.tight_layout()\n",
    "pl.show()\n",
    "\n"
   ]
  },
  {
   "cell_type": "code",
   "execution_count": null,
   "metadata": {
    "collapsed": true
   },
   "outputs": [],
   "source": []
  }
 ],
 "metadata": {
  "kernelspec": {
   "display_name": "Python 3",
   "language": "python",
   "name": "python3"
  },
  "language_info": {
   "codemirror_mode": {
    "name": "ipython",
    "version": 3
   },
   "file_extension": ".py",
   "mimetype": "text/x-python",
   "name": "python",
   "nbconvert_exporter": "python",
   "pygments_lexer": "ipython3",
   "version": "3.6.1"
  }
 },
 "nbformat": 4,
 "nbformat_minor": 2
}
