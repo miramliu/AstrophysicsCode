{
 "cells": [
  {
   "cell_type": "markdown",
   "metadata": {},
   "source": [
    "THIS IS THE ENTIRE FTS (FROM INPUT TO OUTPUT). 'Global' refers to the coordinate system I have placed the model FTS in, which has an origin in between the two first CENTER ellipsoids. The ellipsoids lie opposite each other across the x axis, and light travels down the x axis by reflecting between the two sides. 'Local' refers to a coordinate system for each ellipsoid where the origin is the center of the ellipsoid. There are two paths that light can travel due to polarizers that split the light. The first path is E10, E8, E3, E2, E6, E7. The second path is E9, E1,E4,E5.\n",
    "The path shown here is path 2. Polarizers are not included in this. \n",
    "\n",
    "Mira"
   ]
  },
  {
   "cell_type": "code",
   "execution_count": 1,
   "metadata": {
    "collapsed": true
   },
   "outputs": [],
   "source": [
    "import numpy as np\n",
    "import matplotlib.pyplot as pl\n",
    "import itertools\n",
    "from mpl_toolkits.mplot3d import Axes3D\n",
    "from RayTraceFun_formir import *\n",
    "from random import uniform\n",
    "import random"
   ]
  },
  {
   "cell_type": "code",
   "execution_count": 2,
   "metadata": {},
   "outputs": [
    {
     "name": "stdout",
     "output_type": "stream",
     "text": [
      "Continue\n"
     ]
    }
   ],
   "source": [
    "# ALL STARTING INFORMATION ABOUT THE FTS\n",
    "\n",
    "originG = [0,0,0] # the global origin\n",
    "thetG = [0,0,0] # rotation with respect to itself aka 0,0,0\n",
    "origin1 = [0,-128,0] #x,y (ellipse1)\n",
    "origin2 = [64.15,-128,0] #x,y (ellipse2)\n",
    "origin3 = [0,128,0] #x,y (ellipse3)\n",
    "origin4 = [64.15,128,0] #x,y  (ellipse4)\n",
    "origin5 = [128.3,-120.501,0] # (ellipse5)\n",
    "origin6 = [128.3,120.501,0] # (ellipse6)\n",
    "origin7 = [160.375,-7.5,40]\n",
    "origin8 = [-64.15,-120.501,0]\n",
    "origin9 = [-64.15,120.501,0]\n",
    "origin10 = [-96.225,7.5,-40]\n",
    "\n",
    "\n",
    "coeffellipse7 = [164.645,99.8,130.95] #for ellipse 7\n",
    "coeffellipse56 = [256.65,248.39,64.58]  #for ellipses 5&6\n",
    "coeffellipse = [263.9,256,64.15] #for center ellipses\n",
    "\n",
    "thet = [0,0,0] #A\n",
    "thet5 = [0,0,-.1164] \n",
    "thet6 = [0,0,.1164]\n",
    "thet7 = [0,-.319422,(np.pi-1.3106)] #I THINK \n",
    "thet10 = [0,.310422,-1.3106] #negative of thet7?\n",
    "# NOW BUILDING ALL OF THE ELLIPSOIDS \n",
    "# SELECTING CORRESPONDING PARTS\n",
    "\n",
    "#CENTER ELLIPSES\n",
    "X1,Y1,Z1,X2,Y2,Z2 = FTSEC(50,np.pi/8, coeffellipse, 64.15, 'pos') #LOBAL\n",
    "X1n,Y1n,Z1n,X2n,Y2n,Z2n = FTSEC(50,np.pi/8, coeffellipse, 64.15, 'neg') #LOCAL\n",
    "Xset1, Yset1, Zset1 = SR2(32.07, X1,Y1,Z1, originG) #SELECTED LOCAL\n",
    "Xset2, Yset2, Zset2 = SR2(32.07, X2, Y2, Z2, originG) #SELECTED LOCAL\n",
    "Xset1n, Yset1n, Zset1n = SR2(32.07, X1n,Y1n,Z1n, originG) #SELECTED LOCAL\n",
    "Xset2n, Yset2n, Zset2n = SR2(32.07, X2n, Y2n, Z2n, originG) #SELECTED LOCAL\n",
    "#ELLIPSE 1\n",
    "X1i,Y1i,Z1i = transformLG(Xset1,Yset1,Zset1,origin1,thet) #GLOBAL\n",
    "X2i,Y2i,Z2i = transformLG(Xset2,Yset2,Zset2,origin1,thet) #GLOBAL\n",
    "center1,range1 = xrangeGL6(X1i,Y1i,Z1i,X2i,Y2i,Z2i,origin1,thet)\n",
    "#ELLIPSE 2\n",
    "X3i,Y3i,Z3i = transformLG(Xset1,Yset1,Zset1,origin2,thet) #GLOBAL\n",
    "X4i,Y4i,Z4i = transformLG(Xset2,Yset2,Zset2,origin2,thet) #GLOBAL\n",
    "center2,range2 = xrangeGL6(X3i,Y3i,Z3i,X4i,Y4i,Z4i,origin2,thet)\n",
    "#ELLIPSE 3\n",
    "X1n,Y1n,Z1n = transformLG(Xset1n,Yset1n,Zset1n,origin3,thet) #GLOBAL\n",
    "X2n,Y2n,Z2n = transformLG(Xset2n,Yset2n,Zset2n,origin3,thet) #GLOBAL\n",
    "center3,range3 = xrangeGL6(X1n,Y1n,Z1n,X2n,Y2n,Z2n,origin3,thet)\n",
    "#ELLIPSE 4\n",
    "X3n,Y3n,Z3n = transformLG(Xset1n,Yset1n,Zset1n,origin4,thet) #GLOBAL\n",
    "X4n,Y4n,Z4n = transformLG(Xset2n,Yset2n,Zset2n,origin4,thet) #GLOBAL\n",
    "center3,range3 = xrangeGL6(X3n,Y3n,Z3n,X4n,Y4n,Z4n,origin4,thet)\n",
    "\n",
    "\n",
    "#ELLIPSE 5&6\n",
    "X5,Y5,Z5,X6,Y6,Z6 = FTSEC(50,np.pi/8, coeffellipse56, 350, 'pos') #LOCAL\n",
    "X5n,Y5n,Z5n,X6n,Y6n,Z6n = FTSEC(50,np.pi/8, coeffellipse56, 350, 'neg') #LOCAL\n",
    "#ELLIPSE 5\n",
    "Xset5, Yset5, Zset5= transformLG(X5,Y5,Z5,origin5,thet5) #GLOBAL\n",
    "Xset6, Yset6, Zset6 = transformLG(X6,Y6,Z6,origin5,thet5) #GLOBAL\n",
    "X5,Y5,Z5 = SR2(32.07, Xset5,Yset5,Zset5, origin5) #SELECTED GLOBAL\n",
    "X6,Y6,Z6 = SR2(32.07, Xset6, Yset6, Zset6, origin5) #SELECTED GLOBAL\n",
    "center5,range5 = xrangeGL6(X5,Y5,Z5,X6,Y6,Z6,origin5,thet5)\n",
    "#ELLIPSE 6\n",
    "Xset5n,Yset5n,Zset5n = transformLG(X5n,Y5n,Z5n,origin6,thet6) #GLOBAL\n",
    "Xset6n,Yset6n,Zset6n = transformLG(X6n,Y6n,Z6n,origin6,thet6) #GLOBAL\n",
    "X5n,Y5n,Z5n = SR2(32.07,Xset5n,Yset5n,Zset5n,origin6) #SELECTED GLOBAL\n",
    "X6n,Y6n,Z6n = SR2(32.07,Xset6n,Yset6n,Zset6n,origin6) #SELECTED GLOBAL\n",
    "center6,range6 = xrangeGL6(X5n,Y5n,Z5n,X6n,Y6n,Z6n,origin6,thet6)\n",
    "\n",
    "#ELLIPSE 8&9\n",
    "X9i,Y9i,Z9i,X10i,Y10i,Z10i = FTSEC(50,np.pi/8, coeffellipse56, 150, 'pos') #LOCAL\n",
    "X9n,Y9n,Z9n,X10n,Y10n,Z10n = FTSEC(50,np.pi/8, coeffellipse56, 150, 'neg') #LOCAL\n",
    "#ELLIPSE 8\n",
    "Xset9,Yset9,Zset9 = transformLG(X9i,Y9i,Z9i,origin8,thet6) #GLOBAL\n",
    "Xset10,Yset10,Zset10 = transformLG(X10i,Y10i,Z10i,origin8,thet6) #GLOBAL\n",
    "X9,Y9,Z9 = SR2(32.07, Xset9,Yset9,Zset9, origin8) #SELECTED GLOBAL\n",
    "X10,Y10,Z10 = SR2(32.07, Xset10, Yset10, Zset10, origin8) #SELECTED GLOBAL\n",
    "center8,range8 = xrangeGL6(X9,Y9,Z9,X10,Y10,Z10,origin8,thet6)\n",
    "#ELLIPSE 9\n",
    "Xset9n,Yset9n,Zset9n = transformLG(X9n,Y9n,Z9n,origin9,thet5) #GLOBAL\n",
    "Xset10n,Yset10n,Zset10n = transformLG(X10n,Y10n,Z10n,origin9,thet5) #GLOBAL\n",
    "X9n,Y9n,Z9n = SR2(32.07, Xset9n,Yset9n,Zset9n, origin9) #SELECTED GLOBAL\n",
    "X10n,Y10n,Z10n = SR2(32.07, Xset10n, Yset10n, Zset10n, origin9) #SELECTED GLOBAL\n",
    "center9,range9 = xrangeGL6(X9n,Y9n,Z9n,X10n,Y10n,Z10n,origin9,thet5)\n",
    "\n",
    "#ELLIPSE 7\n",
    "X7i,Y7i,Z7i,X8i,Y8i,Z8i = FTSEC(50,np.pi*2, coeffellipse7, 329.29, 'pos') #LOCAL\n",
    "Xset7,Yset7,Zset7 = transformLG(X7i,Y7i,Z7i,origin7,thet7) #GLOBAL\n",
    "Xset8,Yset8,Zset8 = transformLG(X8i,Y8i,Z8i,origin7,thet7) #GLOBAL\n",
    "Ecenter7 = [192.45,0,0] #GLOBAL SECTON\n",
    "X7,Y7,Z7 = SR7(32.07,Xset7, Yset7, Zset7, Ecenter7) #SELECTED GLOBAL\n",
    "X8,Y8,Z8 = SR7(32.07,Xset8, Yset8, Zset8, Ecenter7) #SELECTED GLOBAL\n",
    "center7,range7 = xrangeGL6(X7,Y7,Z7,X8,Y8,Z8,origin7,thet7) # LOCAL RANGE \n",
    "X7t,Y7t,Z7t = SR103di(range7,X7,Y7,Z7,center7) #LOCAL\n",
    "X8t,Y8t,Z8t = SR103di(range7,X7,Y7,Z7,center7) #LOCAL\n",
    "\n",
    "#ELLIPSE 10\n",
    "X11i,Y11i,Z11i,X12i,Y12i,Z12i = FTSEC(50,np.pi*2, coeffellipse7, 329.29, 'pos') #LOCAL\n",
    "Xset11,Yset11,Zset11 = transformLG(X11i,Y11i,Z11i,origin10,thet10) #GLOBAL\n",
    "Xset12,Yset12,Zset12 = transformLG(X12i,Y12i,Z12i,origin10,thet10) #GLOBAL\n",
    "Ecenter10 = [-128.3,0,0] #GLOBAL SECTION\n",
    "X11,Y11,Z11 = SR10(32.07, Xset11,Yset11,Zset11, Ecenter10) #SELECTED GLOBAL\n",
    "X12,Y12,Z12 = SR10(32.07, Xset12,Yset12,Zset12, Ecenter10) #SELECTED GLOBAL\n",
    "center10,range10, = xrangeGL6(X11,Y11,Z11,X12,Y12,Z12,origin10,thet10) #LOCAL RANGE \n",
    "X11t,Y11t,Z11t = SR103di(range10,X11i,Y11i,Z11i,center10) #LOCAL\n",
    "X12t,Y12t,Z12t = SR103di(range10,X12i,Y12i,Z12i,center10) #LOCAL\n",
    "print('Continue')"
   ]
  },
  {
   "cell_type": "code",
   "execution_count": 3,
   "metadata": {
    "collapsed": true
   },
   "outputs": [],
   "source": []
  },
  {
   "cell_type": "code",
   "execution_count": null,
   "metadata": {},
   "outputs": [],
   "source": []
  },
  {
   "cell_type": "code",
   "execution_count": null,
   "metadata": {
    "collapsed": true
   },
   "outputs": [],
   "source": []
  }
 ],
 "metadata": {
  "kernelspec": {
   "display_name": "Python 3",
   "language": "python",
   "name": "python3"
  },
  "language_info": {
   "codemirror_mode": {
    "name": "ipython",
    "version": 3
   },
   "file_extension": ".py",
   "mimetype": "text/x-python",
   "name": "python",
   "nbconvert_exporter": "python",
   "pygments_lexer": "ipython3",
   "version": "3.6.1"
  }
 },
 "nbformat": 4,
 "nbformat_minor": 2
}
