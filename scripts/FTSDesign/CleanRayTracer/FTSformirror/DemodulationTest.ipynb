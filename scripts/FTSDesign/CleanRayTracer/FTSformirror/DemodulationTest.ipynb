{
 "cells": [
  {
   "cell_type": "markdown",
   "metadata": {},
   "source": [
    "Using the programs in this folder, this is calculating the number of points that are reflected off of E7 over the number of points relfected off of E3 as a function of delay. \n",
    "\n",
    "Delay goes from y = +25 to y = -25 as a position of the origin of the mirror. \n",
    "This should yield the carrier wave. \n",
    "\n",
    "Mira"
   ]
  },
  {
   "cell_type": "code",
   "execution_count": 29,
   "metadata": {},
   "outputs": [
    {
     "name": "stdout",
     "output_type": "stream",
     "text": [
      "Using matplotlib backend: MacOSX\n"
     ]
    }
   ],
   "source": [
    "import numpy as np\n",
    "import matplotlib.pyplot as pl\n",
    "import itertools\n",
    "from mpl_toolkits.mplot3d import Axes3D\n",
    "from RayTraceFun_formir import *\n",
    "from random import uniform\n",
    "import random\n",
    "import matplotlib\n",
    "%matplotlib auto\n",
    "#%matplotlib inline"
   ]
  },
  {
   "cell_type": "code",
   "execution_count": 30,
   "metadata": {},
   "outputs": [
    {
     "name": "stdout",
     "output_type": "stream",
     "text": [
      "FTS set up\n",
      "initial rays launched\n",
      "Continue\n"
     ]
    }
   ],
   "source": [
    "# ALL STARTING INFORMATION ABOUT THE FTS\n",
    "\n",
    "originG = [0,0,0] # the global origin\n",
    "thetG = [0,0,0] # rotation with respect to itself aka 0,0,0\n",
    "origin1 = [0,-128,0] #x,y (ellipse1)\n",
    "origin2 = [64.15,-128,0] #x,y (ellipse2)\n",
    "origin3 = [0,128,0] #x,y (ellipse3)\n",
    "origin4 = [64.15,128,0] #x,y  (ellipse4)\n",
    "origin5 = [128.3,-120.501,0] # (ellipse5)\n",
    "origin6 = [128.3,120.501,0] # (ellipse6)\n",
    "origin7 = [160.375,-7.5,40]\n",
    "origin8 = [-64.15,-120.501,0]\n",
    "origin9 = [-64.15,120.501,0]\n",
    "origin10 = [-96.225,7.5,-40]\n",
    "\n",
    "\n",
    "coeffellipse7 = [164.645,99.8,130.95] #for ellipse 7\n",
    "coeffellipse56 = [256.65,248.39,64.58]  #for ellipses 5&6&8&9\n",
    "coeffellipse = [263.9,256,64.15] #for center ellipses\n",
    "\n",
    "thet = [0,0,0] #A\n",
    "thet5 = [0,0,.1164] #testing\n",
    "thet6 = [0,0,-.1164] #testing\n",
    "thet7 = [0,.319422,1.3106]\n",
    "thet10 = [0,.310422,-1.3106] #negative of thet7?\n",
    "# NOW BUILDING ALL OF THE ELLIPSOIDS \n",
    "# SELECTING CORRESPONDING PARTS\n",
    "\n",
    "#CENTER ELLIPSES\n",
    "X1i,Y1i,Z1i,X2i,Y2i,Z2i = FTSEC(100,np.pi/8, coeffellipse, 64.15, 'pos') #LOBAL\n",
    "X1ni,Y1ni,Z1ni,X2ni,Y2ni,Z2ni = FTSEC(100,np.pi/8, coeffellipse, 64.15, 'neg') #LOCAL\n",
    "Xset1, Yset1, Zset1 = SR2(32.07, X1i,Y1i,Z1i, originG) #SELECTED LOCAL\n",
    "Xset2, Yset2, Zset2 = SR2(32.07, X2i, Y2i, Z2i, originG) #SELECTED LOCAL\n",
    "Xset1n, Yset1n, Zset1n = SR2(32.07, X1ni,Y1ni,Z1ni, originG) #SELECTED LOCAL\n",
    "Xset2n, Yset2n, Zset2n = SR2(32.07, X2ni, Y2ni, Z2ni, originG) #SELECTED LOCAL\n",
    "#ELLIPSE 1\n",
    "X1,Y1,Z1 = transformLG(Xset1,Yset1,Zset1,origin1,thet) #GLOBAL\n",
    "X2,Y2,Z2 = transformLG(Xset2,Yset2,Zset2,origin1,thet) #GLOBAL\n",
    "center1,range1 = xrangeGL7(X1,Y1,Z1,X2,Y2,Z2,origin1,thet)\n",
    "#ELLIPSE 2\n",
    "X3,Y3,Z3 = transformLG(Xset1,Yset1,Zset1,origin2,thet) #GLOBAL\n",
    "X4,Y4,Z4 = transformLG(Xset2,Yset2,Zset2,origin2,thet) #GLOBAL\n",
    "center2,range2 = xrangeGL7(X3,Y3,Z3,X4,Y4,Z4,origin2,thet)\n",
    "#ELLIPSE 3\n",
    "X1n,Y1n,Z1n = transformLG(Xset1n,Yset1n,Zset1n,origin3,thet) #GLOBAL\n",
    "X2n,Y2n,Z2n = transformLG(Xset2n,Yset2n,Zset2n,origin3,thet) #GLOBAL\n",
    "center3,range3 = xrangeGL7(X1n,Y1n,Z1n,X2n,Y2n,Z2n,origin3,thet)\n",
    "#ELLIPSE 4\n",
    "X3n,Y3n,Z3n = transformLG(Xset1n,Yset1n,Zset1n,origin4,thet) #GLOBAL\n",
    "X4n,Y4n,Z4n = transformLG(Xset2n,Yset2n,Zset2n,origin4,thet) #GLOBAL\n",
    "center4,range4 = xrangeGL7(X3n,Y3n,Z3n,X4n,Y4n,Z4n,origin4,thet)\n",
    "\n",
    "\n",
    "#ELLIPSE 5&6\n",
    "X5i,Y5i,Z5i,X6i,Y6i,Z6i = FTSEC(100,np.pi/8, coeffellipse56, 170, 'pos') #LOCAL\n",
    "X5ni,Y5ni,Z5ni,X6ni,Y6ni,Z6ni = FTSEC(100,np.pi/8, coeffellipse56, 170, 'neg') #LOCAL\n",
    "#ELLIPSE 5\n",
    "Xset5, Yset5, Zset5= transformLG(X5i,Y5i,Z5i,origin5,thet5) #GLOBAL\n",
    "Xset6, Yset6, Zset6 = transformLG(X6i,Y6i,Z6i,origin5,thet5) #GLOBAL\n",
    "X5,Y5,Z5 = SR2(32.07, Xset5,Yset5,Zset5, origin5) #SELECTED GLOBAL\n",
    "X6,Y6,Z6 = SR2(32.07, Xset6, Yset6, Zset6, origin5) #SELECTED GLOBAL\n",
    "center5,range5 = xrangeGL7(X5,Y5,Z5,X6,Y6,Z6,origin5,thet5)\n",
    "#ELLIPSE 6\n",
    "Xset5n,Yset5n,Zset5n = transformLG(X5ni,Y5ni,Z5ni,origin6,thet6) #GLOBAL\n",
    "Xset6n,Yset6n,Zset6n = transformLG(X6ni,Y6ni,Z6ni,origin6,thet6) #GLOBAL\n",
    "X5n,Y5n,Z5n = SR2(32.07,Xset5n,Yset5n,Zset5n,origin6) #SELECTED GLOBAL\n",
    "X6n,Y6n,Z6n = SR2(32.07,Xset6n,Yset6n,Zset6n,origin6) #SELECTED GLOBAL\n",
    "center6,range6 = xrangeGL7(X5n,Y5n,Z5n,X6n,Y6n,Z6n,origin6,thet6)\n",
    "\n",
    "#ELLIPSE 8&9\n",
    "X9i,Y9i,Z9i,X10i,Y10i,Z10i = FTSEC(100,np.pi/8, coeffellipse56, 170, 'pos') #LOCAL\n",
    "X9ni,Y9ni,Z9ni,X10ni,Y10ni,Z10ni = FTSEC(100,np.pi/8, coeffellipse56, 170, 'neg') #LOCAL\n",
    "#ELLIPSE 8\n",
    "Xset9,Yset9,Zset9 = transformLG(X9i,Y9i,Z9i,origin8,thet6) #GLOBAL\n",
    "Xset10,Yset10,Zset10 = transformLG(X10i,Y10i,Z10i,origin8,thet6) #GLOBAL\n",
    "X9,Y9,Z9 = SR2(32.07, Xset9,Yset9,Zset9, origin8) #SELECTED GLOBAL\n",
    "X10,Y10,Z10 = SR2(32.07, Xset10, Yset10, Zset10, origin8) #SELECTED GLOBAL\n",
    "center8,range8 = xrangeGL7(X9,Y9,Z9,X10,Y10,Z10,origin8,thet6)\n",
    "#ELLIPSE 9\n",
    "Xset9n,Yset9n,Zset9n = transformLG(X9ni,Y9ni,Z9ni,origin9,thet5) #GLOBAL\n",
    "Xset10n,Yset10n,Zset10n = transformLG(X10ni,Y10ni,Z10ni,origin9,thet5) #GLOBAL\n",
    "X9n,Y9n,Z9n = SR2(32.07, Xset9n,Yset9n,Zset9n, origin9) #SELECTED GLOBAL\n",
    "X10n,Y10n,Z10n = SR2(32.07, Xset10n, Yset10n, Zset10n, origin9) #SELECTED GLOBAL\n",
    "center9,range9 = xrangeGL7(X9n,Y9n,Z9n,X10n,Y10n,Z10n,origin9,thet5)\n",
    "\n",
    "#ELLIPSE 7\n",
    "X7i,Y7i,Z7i,X8i,Y8i,Z8i = FTSEC(100,np.pi*2, coeffellipse7, 329.29, 'pos') #LOCAL\n",
    "Xset7,Yset7,Zset7 = transformLG(X7i,Y7i,Z7i,origin7,thet7) #GLOBAL\n",
    "Xset8,Yset8,Zset8 = transformLG(X8i,Y8i,Z8i,origin7,thet7) #GLOBAL\n",
    "Ecenter7 = [192.45,0,0] #GLOBAL SECTON\n",
    "X7,Y7,Z7 = SR10(32.07,Xset7, Yset7, Zset7, Ecenter7) #SELECTED GLOBAL\n",
    "X8,Y8,Z8 = SR10(32.07,Xset8, Yset8, Zset8, Ecenter7) #SELECTED GLOBAL\n",
    "center7,range7 = xrangeGL7(X7,Y7,Z7,X8,Y8,Z8,origin7,thet7) # LOCAL RANGE \n",
    "X7t,Y7t,Z7t = SR103di(range7,X7,Y7,Z7,center7) #LOCAL\n",
    "X8t,Y8t,Z8t = SR103di(range7,X7,Y7,Z7,center7) #LOCAL\n",
    "\n",
    "#ELLIPSE 10\n",
    "X11i,Y11i,Z11i,X12i,Y12i,Z12i = FTSEC(100,np.pi*2, coeffellipse7, 329.29, 'pos') #LOCAL\n",
    "Xset11,Yset11,Zset11 = transformLG(X11i,Y11i,Z11i,origin10,thet10) #GLOBAL\n",
    "Xset12,Yset12,Zset12 = transformLG(X12i,Y12i,Z12i,origin10,thet10) #GLOBAL\n",
    "Ecenter10 = [-128.3,0,0] #GLOBAL SECTION\n",
    "X11,Y11,Z11 = SR10(32.07, Xset11,Yset11,Zset11, Ecenter10) #SELECTED GLOBAL\n",
    "X12,Y12,Z12 = SR10(32.07, Xset12,Yset12,Zset12, Ecenter10) #SELECTED GLOBAL\n",
    "center10,range10, = xrangeGL6(X11,Y11,Z11,X12,Y12,Z12,origin10,thet10) #LOCAL RANGE \n",
    "X11t,Y11t,Z11t = SR103di(range10,X11i,Y11i,Z11i,center10) #LOCAL\n",
    "X12t,Y12t,Z12t = SR103di(range10,X12i,Y12i,Z12i,center10) #LOCAL\n",
    "\n",
    "coeffmirr = [31.75,25.4,19.05]\n",
    "print('FTS set up')\n",
    "\n",
    "#SOURCE SHOT UP AT E10\n",
    "#creating the source (around the focus of E8) LOCALLY \n",
    "sourcepointorigin = [-130.95,0,0] #LOCAL \n",
    "sourcethet = [0,0,0] #SHOT STRAIGHT UP\n",
    "sourcepoints = specsource(1,sourcepointorigin,sourcethet) #LOCAL\n",
    "sourcep1, sv1 = FS(100000,sourcepoints, sourcethet,origin10) #LOCAL\n",
    "points10, vects10 = RSEPCNi(coeffellipse7,sourcep1,sv1, range10,center10) #Reflection off of E10 (from source)\n",
    "sp10,v10 = RT(points10, vects10,thet10,origin10,thet6,origin8) #from Local 10 to Local 8\n",
    "points810,vects810 = RSEPCNi(coeffellipse56,sp10,v10,range8,center8) #Reflection off of E8 (from 10)\n",
    "sp8,v8 = RT(points810,vects810,thet6,origin8,thet,origin3) #from Local 8 to Local 3\n",
    "points38,vects38 = RSEPCNi(coeffellipse,sp8,v8,range3,center3) #Reflection off of E3 (from 8)\n",
    "print ('initial rays launched')\n",
    "\n",
    "print('Continue')"
   ]
  },
  {
   "cell_type": "code",
   "execution_count": 31,
   "metadata": {
    "collapsed": true
   },
   "outputs": [],
   "source": [
    "#MIRROR IS HERE, with mirror at y = 0\n",
    "Funxy = []\n",
    "for i in range(100):\n",
    "    originmirrcent = [32.075,-25 + .5*i,0]\n",
    "    spM,vM = RT(points38,vects38,thet,origin3,thet,originG) #from Local 3 to Global Mirror\n",
    "    sMhit,sVhit,sMmiss,sVmiss = IntM(spM,vM,coeffmirr,originmirrcent)\n",
    "    spMr,vMr = RT(sMhit,sVhit,thet,originG,thet,origin4) #from Global Mirror to Local 4\n",
    "\n",
    "    points4M,vects4M = RSEPCNi(coeffellipse,spMr,vMr,range4,center4) #reflection off of E4 (from mirror)\n",
    "    sp4,v4 = RT(points4M,vects4M,thet,origin4,thet5,origin5) #from Local 4 to Local 5\n",
    "    points54,vects54 = RSEPCNi(coeffellipse56,sp4,v4,range5,center5) #reflection off of E5 (from E4)\n",
    "    sp5,v5 = RT(points54,vects54,thet5,origin5,thet7,origin7) #from Local 5 to Local 7\n",
    "    points75,vects75 = RSEPCNi(coeffellipse7,sp5,v5,range7,center7)\n",
    "\n",
    "    Ratio = len(points75)/len(points38)\n",
    "    Funxy.append(Ratio)\n",
    "\n"
   ]
  },
  {
   "cell_type": "code",
   "execution_count": 33,
   "metadata": {
    "collapsed": true
   },
   "outputs": [],
   "source": [
    "x = []\n",
    "for i in range (100):\n",
    "    x.append(-25 + .5*i)\n",
    "pl.plot(x,Funxy)\n",
    "pl.ylabel('Ratio of Reflected over Initial')\n",
    "pl.xlabel('Delay')\n",
    "pl.title('Carrier wave??')\n",
    "pl.show()"
   ]
  },
  {
   "cell_type": "code",
   "execution_count": 44,
   "metadata": {
    "collapsed": true
   },
   "outputs": [],
   "source": []
  },
  {
   "cell_type": "code",
   "execution_count": null,
   "metadata": {
    "collapsed": true
   },
   "outputs": [],
   "source": []
  },
  {
   "cell_type": "code",
   "execution_count": null,
   "metadata": {
    "collapsed": true
   },
   "outputs": [],
   "source": []
  }
 ],
 "metadata": {
  "kernelspec": {
   "display_name": "Python 3",
   "language": "python",
   "name": "python3"
  },
  "language_info": {
   "codemirror_mode": {
    "name": "ipython",
    "version": 3
   },
   "file_extension": ".py",
   "mimetype": "text/x-python",
   "name": "python",
   "nbconvert_exporter": "python",
   "pygments_lexer": "ipython3",
   "version": "3.6.1"
  }
 },
 "nbformat": 4,
 "nbformat_minor": 2
}
