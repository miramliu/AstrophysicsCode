{
 "cells": [
  {
   "cell_type": "markdown",
   "metadata": {},
   "source": [
    "This is a program used to calculate the size of an FTS given certain parameters. Mira"
   ]
  },
  {
   "cell_type": "code",
   "execution_count": 10,
   "metadata": {
    "collapsed": true
   },
   "outputs": [],
   "source": [
    "import numpy as np\n",
    "import matplotlib.pyplot as pl\n",
    "%matplotlib inline"
   ]
  },
  {
   "cell_type": "markdown",
   "metadata": {},
   "source": [
    "#given parameters: Aw, dS, S \n",
    "#c = 2r\n",
    "#a = 2f\n",
    "#a^2 = b^2 + c^2\n",
    "#Aw = pi^2(r^4)/(2f)^2\n",
    "#R = S/dS = pi/w = a^2/r^2"
   ]
  },
  {
   "cell_type": "code",
   "execution_count": 15,
   "metadata": {
    "collapsed": true
   },
   "outputs": [],
   "source": [
    "def solvingShow(Aw,dS,S):\n",
    "    a2 = (Aw*(S**2))/(((np.pi)**2)*(dS**2))\n",
    "    r2 = (S*Aw)/(dS*(np.pi**2))\n",
    "    b2 = a2 - 4*r2\n",
    "    a = np.sqrt(a2)\n",
    "    r = np.sqrt(r2)\n",
    "    b = np.sqrt(b2)\n",
    "    \n",
    "    print ('a: ', a, 'mm')\n",
    "    print ('r: ', r, 'mm')\n",
    "    print ('b: ', b, 'mm')\n",
    "    print ('converted to inches: ')\n",
    "    print ('a: ', a*.0393, 'in')\n",
    "    print ('r: ', r*.0393, 'in')\n",
    "    print ('b: ', b*.0393, 'in')"
   ]
  },
  {
   "cell_type": "code",
   "execution_count": 16,
   "metadata": {
    "collapsed": false
   },
   "outputs": [
    {
     "name": "stdout",
     "output_type": "stream",
     "text": [
      "a:  1050.42262441 mm\n",
      "r:  57.823862377 mm\n",
      "b:  1044.03701736 mm\n",
      "converted to inches: \n",
      "a:  41.2816091392 in\n",
      "r:  2.27247779142 in\n",
      "b:  41.0306547824 in\n"
     ]
    }
   ],
   "source": [
    "solvingShow(100, 1, 330)"
   ]
  },
  {
   "cell_type": "code",
   "execution_count": 20,
   "metadata": {
    "collapsed": true
   },
   "outputs": [],
   "source": [
    "#rederivation\n",
    "def solvingshow2(Aw, dS, S):\n",
    "    f2 = (Aw*(S**2))/((np.pi**2)*4*(dS**2))\n",
    "    f = np.sqrt(f2)\n",
    "    r2 = (4*f2*dS)/S\n",
    "    r = np.sqrt(r2)\n",
    "    b2 = 4*f2 + 4*r2\n",
    "    b = np.sqrt(b2)\n",
    "    \n",
    "    print ('f: ', f, 'mm')\n",
    "    print ('r: ', r, 'mm')\n",
    "    print ('b: ', b, 'mm')\n",
    "    print ('converted to inches: ')\n",
    "    print ('f: ', f*.0393, 'in')\n",
    "    print ('r: ', r*.0393, 'in')\n",
    "    print ('b: ', b*.0393, 'in')"
   ]
  },
  {
   "cell_type": "code",
   "execution_count": 21,
   "metadata": {
    "collapsed": false
   },
   "outputs": [
    {
     "name": "stdout",
     "output_type": "stream",
     "text": [
      "f:  525.211312203 mm\n",
      "r:  57.823862377 mm\n",
      "b:  1056.76964666 mm\n",
      "converted to inches: \n",
      "f:  20.6408045696 in\n",
      "r:  2.27247779142 in\n",
      "b:  41.5310471138 in\n"
     ]
    }
   ],
   "source": [
    "solvingshow2(100, 1, 330)"
   ]
  },
  {
   "cell_type": "code",
   "execution_count": 52,
   "metadata": {
    "collapsed": true
   },
   "outputs": [],
   "source": [
    "def check(Aw, dS, S):\n",
    "    a2 = Aw*(S**2)/(((np.pi)**2)*(dS**2))\n",
    "    r2 = (S*Aw)/(dS*(np.pi**2))\n",
    "    b2 = a2 - 4*r2\n",
    "    a = np.sqrt(a2)\n",
    "    r = np.sqrt(r2)\n",
    "    b = np.sqrt(b2)\n",
    "    \n",
    "    #r21 = ((Aw*a2)/(np.pi**2))**(.5)\n",
    "    r22 = (a2 - b2)/4\n",
    "    print ('all should be equal: ')\n",
    "    print (r2)\n",
    "    #print (r21)\n",
    "    print (r22)\n",
    "    \n",
    "    R1 = a2/r2\n",
    "    R2 = S/dS\n",
    "    print ('all should be equal: ')\n",
    "    print (R1)\n",
    "    print (R2)\n",
    "    \n",
    "    #for a2\n",
    "    R3 = (Aw*(S**2))/((np.pi**2)*(dS**2))\n",
    "    R4 = ((np.pi**2)*(r2**2))/Aw\n",
    "    print ('all should be equal: ')\n",
    "    print (R3)\n",
    "    print (R4)"
   ]
  },
  {
   "cell_type": "code",
   "execution_count": 53,
   "metadata": {
    "collapsed": false
   },
   "outputs": [
    {
     "name": "stdout",
     "output_type": "stream",
     "text": [
      "all should be equal: \n",
      "303.96355092701333\n",
      "303.96355092701333\n",
      "all should be equal: \n",
      "50.0\n",
      "50.0\n",
      "all should be equal: \n",
      "15198.177546350667\n",
      "15198.177546350667\n"
     ]
    }
   ],
   "source": [
    "check (60,2,100)"
   ]
  },
  {
   "cell_type": "code",
   "execution_count": 54,
   "metadata": {
    "collapsed": false
   },
   "outputs": [],
   "source": [
    "#plotting the FTS diagram with the four ellipses on one side\n",
    "#radius of R with a center at (h,k) and a length of 2r\n",
    "def plotting(r,h,k,R):\n",
    "    x = np.linspace(h-r, h+r, 1000) \n",
    "    #s = sagitta of the arcs \n",
    "    #s = R-np.sqrt((R**2)-(r**2))\n",
    "    y = np.sqrt(np.abs(R**2-(x-h)**2)) \n",
    "    return x, y"
   ]
  },
  {
   "cell_type": "code",
   "execution_count": 55,
   "metadata": {
    "collapsed": false
   },
   "outputs": [
    {
     "data": {
      "text/plain": [
       "[<matplotlib.lines.Line2D at 0x110eb6470>]"
      ]
     },
     "execution_count": 55,
     "metadata": {},
     "output_type": "execute_result"
    },
    {
     "data": {
      "image/png": "[encoded data removed]",
      "text/plain": [
       "<matplotlib.figure.Figure at 0x110be06a0>"
      ]
     },
     "metadata": {},
     "output_type": "display_data"
    }
   ],
   "source": [
    "xa,ya = plotting(.68,0,0,4.8)\n",
    "#s = R-np.sqrt((R**2)-(r**2))\n",
    "s = 4.8-np.sqrt((4.8**2)-(.68**2))\n",
    "pl.plot(xa,ya + 4.64-4.8)\n",
    "#want it to be a 4.64\n",
    "#top center will be at R, we want it at b. to add b - R"
   ]
  },
  {
   "cell_type": "code",
   "execution_count": 56,
   "metadata": {
    "collapsed": false
   },
   "outputs": [],
   "source": [
    "def solving(Aw,dS,S):\n",
    "    a2 = (Aw*(S**2))/(((np.pi)**2)*(dS**2))\n",
    "    r2 = (S*Aw)/(dS*(np.pi**2))\n",
    "    b2 = a2 - 4*r2\n",
    "    a = np.sqrt(a2)\n",
    "    r = np.sqrt(r2)\n",
    "    b = np.sqrt(b2)\n",
    "    return r*.0393, b*.0393, a*.0393"
   ]
  },
  {
   "cell_type": "code",
   "execution_count": 57,
   "metadata": {
    "collapsed": false
   },
   "outputs": [
    {
     "data": {
      "text/plain": [
       "(0.68517783441327318, 4.6471021701139836, 4.844938930323389)"
      ]
     },
     "execution_count": 57,
     "metadata": {},
     "output_type": "execute_result"
    }
   ],
   "source": [
    "solving(60,2,100)"
   ]
  },
  {
   "cell_type": "code",
   "execution_count": 58,
   "metadata": {
    "collapsed": true
   },
   "outputs": [],
   "source": [
    "#R for radius of curvature. r for radius of the dimension of the mirror??\n",
    "#R = 2f = a!!"
   ]
  },
  {
   "cell_type": "code",
   "execution_count": 59,
   "metadata": {
    "collapsed": true
   },
   "outputs": [],
   "source": [
    "def plottingWhole(Aw,dS,S):\n",
    "    #bottom\n",
    "    r,b,R = solving(Aw,dS,S)\n",
    "    x1,y1 = plotting(r,r,0,R)\n",
    "    x2,y2 = plotting(r,3*r,0,R)\n",
    "    x3,y3 = plotting(r,5*r,0,R)\n",
    "    x4,y4 = plotting(r,7*r,0,R)\n",
    "    #top\n",
    "    x5,y5 = plotting(r,r,b,R)\n",
    "    x6,y6 = plotting(r,3*r,b,R)\n",
    "    x7,y7 = plotting(r,5*r,b,R)\n",
    "    x8,y8 = plotting(r,7*r,b,R)\n",
    "    b1 = b\n",
    "    r1 = r\n",
    "    R1 = R\n",
    "    return x1,-y1+R, x2, -y2+R, x3, -y3+R, x4, -y4+R, x5, y5+b -R, x6, y6+b-R, x7, y7+b-R, x8, y8+b-R, b1, r1, R1"
   ]
  },
  {
   "cell_type": "code",
   "execution_count": 72,
   "metadata": {
    "collapsed": false
   },
   "outputs": [
    {
     "data": {
      "text/plain": [
       "<matplotlib.text.Text at 0x112518748>"
      ]
     },
     "execution_count": 72,
     "metadata": {},
     "output_type": "execute_result"
    },
    {
     "data": {
      "image/png": "[encoded data removed]",
      "text/plain": [
       "<matplotlib.figure.Figure at 0x1122be278>"
      ]
     },
     "metadata": {},
     "output_type": "display_data"
    }
   ],
   "source": [
    "x1,y1,x2,y2,x3,y3,x4,y4,x5,y5,x6,y6,x7,y7,x8,y8,b1,r1,R1 = plottingWhole(60,2,280)\n",
    "fig = pl.figure()\n",
    "ax=fig.add_subplot(111)\n",
    "ax.plot(x1,y1, 'b-')\n",
    "ax.plot(x2,y2, 'g-')\n",
    "ax.plot(x3,y3, 'r-')\n",
    "ax.plot(x4,y4, 'm-')\n",
    "\n",
    "ax.plot(x5,y5, 'b-')\n",
    "ax.plot(x6,y6, 'g-')\n",
    "ax.plot(x7,y7, 'r-')\n",
    "ax.plot(x8, y8, 'm-')\n",
    "#graph lines (middle)\n",
    "Myline = np.linspace(b1/2,b1/2,100)\n",
    "Mxline = np.linspace(0,r1*8,100)\n",
    "ax.plot(Mxline,Myline, 'k--')\n",
    "\n",
    "#lines of focal points\n",
    "Fxline1 = np.linspace(3*r1,5*r1,100)\n",
    "Fyline = np.linspace(0,b1,100)\n",
    "ax.plot(Fxline1, Fyline, 'k:')\n",
    "Fxline2 = np.linspace(3*r1,r1,100)\n",
    "ax.plot(Fxline2,Fyline, 'k:', label = '2f')\n",
    "\n",
    "#line of distance between mirrors\n",
    "Vxline = np.linspace(3*r1,3*r1,100)\n",
    "Vyline = np.linspace(0,b1,100)\n",
    "ax.plot(Vxline,Vyline, 'k--', label = 'b')\n",
    "ax.set_xlabel('Length of FTS in inches')\n",
    "ax.set_ylabel('Distance between mirrors in inches')\n",
    "\n",
    "ax.legend()\n",
    "#labelling\n",
    "ax.text(.6,.3,'$b = 4.64 in$\\n$2f=4.84in$', transform=ax.transAxes, fontsize=10.5,verticalalignment='top')\n",
    "ax.text(.6,.7,'$A\\\\Omega =60 mm^2$\\n$d\\\\sigma =2Ghz$\\n$\\\\sigma =100Ghz$', transform=ax.transAxes,fontsize=10.5, verticalalignment='top')"
   ]
  },
  {
   "cell_type": "code",
   "execution_count": null,
   "metadata": {
    "collapsed": false
   },
   "outputs": [],
   "source": []
  },
  {
   "cell_type": "code",
   "execution_count": null,
   "metadata": {
    "collapsed": true
   },
   "outputs": [],
   "source": []
  }
 ],
 "metadata": {
  "anaconda-cloud": {},
  "kernelspec": {
   "display_name": "Python [conda env:py3k]",
   "language": "python",
   "name": "conda-env-py3k-py"
  },
  "language_info": {
   "codemirror_mode": {
    "name": "ipython",
    "version": 3
   },
   "file_extension": ".py",
   "mimetype": "text/x-python",
   "name": "python",
   "nbconvert_exporter": "python",
   "pygments_lexer": "ipython3",
   "version": "3.5.2"
  }
 },
 "nbformat": 4,
 "nbformat_minor": 1
}
