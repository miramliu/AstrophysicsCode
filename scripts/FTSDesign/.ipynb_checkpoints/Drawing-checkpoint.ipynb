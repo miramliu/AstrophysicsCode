{
 "cells": [
  {
   "cell_type": "code",
   "execution_count": 310,
   "metadata": {
    "collapsed": false
   },
   "outputs": [],
   "source": [
    "import numpy as np\n",
    "import matplotlib.pyplot as pl\n",
    "%matplotlib inline"
   ]
  },
  {
   "cell_type": "code",
   "execution_count": 311,
   "metadata": {
    "collapsed": true
   },
   "outputs": [],
   "source": [
    "# given parameters: Aw, dS, S\n",
    "# b^2 + c^2 = a^2 \n",
    "# Aw = pi^2c^4/a^2\n",
    "#dS = Spic^2/a^2"
   ]
  },
  {
   "cell_type": "markdown",
   "metadata": {
    "collapsed": true
   },
   "source": [
    "def MinimizedS(dS, S):\n",
    "    a2 = S*(np.pi)**2/dS\n",
    "    return a2"
   ]
  },
  {
   "cell_type": "markdown",
   "metadata": {
    "collapsed": false
   },
   "source": [
    "a_2 = MinimizedS(2*10**9/(3*10**8),100*10**9)\n",
    "print (a_2)"
   ]
  },
  {
   "cell_type": "markdown",
   "metadata": {
    "collapsed": true
   },
   "source": [
    "def MinimizeAw(a2, Aw):\n",
    "    c4 = Aw*a2/(np.pi)**2\n",
    "    c2 = np.sqrt(c4)\n",
    "    return c2"
   ]
  },
  {
   "cell_type": "markdown",
   "metadata": {},
   "source": [
    "c_2 = MinimizeAw(a_2, .00012)\n",
    "print (c_2)"
   ]
  },
  {
   "cell_type": "markdown",
   "metadata": {
    "collapsed": true
   },
   "source": [
    "def ellpiz(c2, a2):\n",
    "    b21 = a2**2 - c2**2\n",
    "    b2 = np.sqrt(b21)\n",
    "    return b2"
   ]
  },
  {
   "cell_type": "markdown",
   "metadata": {},
   "source": [
    "b_2 = ellpiz(c_2, a_2)\n",
    "print (b_2)"
   ]
  },
  {
   "cell_type": "markdown",
   "metadata": {
    "collapsed": false
   },
   "source": [
    "def diam(Aw, dS, S):\n",
    "    a2 = MinimizedS(dS, S)\n",
    "    c2 = MinimizeAw(a2, Aw)\n",
    "    b2 = ellpiz(c2, a2)\n",
    "    print (\"a:\", (a2))\n",
    "    print (\"b:\", (b2))\n",
    "    print (\"c:\", (c2))"
   ]
  },
  {
   "cell_type": "markdown",
   "metadata": {
    "collapsed": true
   },
   "source": [
    "diam(.00012,2*10**9/(3*10**8), 100*10**9)\n",
    "#in meters"
   ]
  },
  {
   "cell_type": "code",
   "execution_count": 380,
   "metadata": {
    "collapsed": false
   },
   "outputs": [],
   "source": [
    "def solving(Aw, dS, S):\n",
    "    c2 = S*Aw*16/(dS*np.pi**2)\n",
    "    c = np.sqrt(c2)\n",
    "    a2 = S*c2/dS*4\n",
    "    a = np.sqrt(a2)\n",
    "    b2 = a2 - c2\n",
    "    b = np.sqrt(b2)\n",
    "    print ('a: ', a)\n",
    "    print ('b: ', b)\n",
    "    print ('c: ', c)\n",
    "#a = 2f, c = 2r, b = distance between\n",
    "# height = b = 4.8 in, \n",
    "# width = 8c = 3 in\n",
    "\n",
    "#Aw = pi^2c^4/16a^4"
   ]
  },
  {
   "cell_type": "code",
   "execution_count": 381,
   "metadata": {
    "collapsed": false
   },
   "outputs": [
    {
     "name": "stdout",
     "output_type": "stream",
     "text": [
      "a:  0.311878720493\n",
      "b:  0.311098046627\n",
      "c:  0.0220531558169\n"
     ]
    }
   ],
   "source": [
    "solving(.000006, 2*10**9, 100*10**9)"
   ]
  },
  {
   "cell_type": "code",
   "execution_count": null,
   "metadata": {
    "collapsed": true
   },
   "outputs": [],
   "source": []
  },
  {
   "cell_type": "code",
   "execution_count": 314,
   "metadata": {
    "collapsed": false
   },
   "outputs": [
    {
     "name": "stdout",
     "output_type": "stream",
     "text": [
      "0.014999999999961076\n",
      "0.01500000000008466\n"
     ]
    }
   ],
   "source": [
    "#checking again, should be the same bc a^2 = b^2 + c^2\n",
    "print (0.122474487139**2)\n",
    "print (0.122084016293**2 + 0.00977205023806**2)"
   ]
  },
  {
   "cell_type": "code",
   "execution_count": 377,
   "metadata": {
    "collapsed": false
   },
   "outputs": [],
   "source": [
    "#def check(Aw, dS, S):\n",
    "    c2 = S*Aw*16/(dS*np.pi**2)\n",
    "    c = np.sqrt(c2)\n",
    "    a2 = S*c2/dS*4\n",
    "    a = np.sqrt(a2)\n",
    "    b2 = a2 - c2\n",
    "    b = np.sqrt(b2)\n",
    "    \n",
    "    a21 = S*c2/dS*4\n",
    "    a22 = (np.pi**2)*(c2**2)/(Aw*4)\n",
    "    print ('all should be equal: ')\n",
    "    print (a2)\n",
    "    print (a21)\n",
    "    print (a22)"
   ]
  },
  {
   "cell_type": "code",
   "execution_count": 378,
   "metadata": {
    "collapsed": false
   },
   "outputs": [
    {
     "name": "stdout",
     "output_type": "stream",
     "text": [
      "all should be equal: \n",
      "7.781466903731542\n",
      "7.781466903731542\n",
      "7.781466903731543\n"
     ]
    }
   ],
   "source": [
    "#check(.00012, 1*10**9, 100*10**9) #equations used to solve for a^2"
   ]
  },
  {
   "cell_type": "code",
   "execution_count": 317,
   "metadata": {
    "collapsed": true
   },
   "outputs": [],
   "source": [
    "#convers from meters to inches\n",
    "def convert(x):\n",
    "    xnew = x*39.37\n",
    "    return xnew"
   ]
  },
  {
   "cell_type": "code",
   "execution_count": 318,
   "metadata": {
    "collapsed": false
   },
   "outputs": [
    {
     "data": {
      "text/plain": [
       "4.82182055866243"
      ]
     },
     "execution_count": 318,
     "metadata": {},
     "output_type": "execute_result"
    }
   ],
   "source": [
    "convert(0.122474487139)\n",
    "#this is a"
   ]
  },
  {
   "cell_type": "code",
   "execution_count": 319,
   "metadata": {
    "collapsed": false
   },
   "outputs": [
    {
     "data": {
      "text/plain": [
       "0.38472561787242215"
      ]
     },
     "execution_count": 319,
     "metadata": {},
     "output_type": "execute_result"
    }
   ],
   "source": [
    "convert(0.00977205023806)\n",
    "#this is c"
   ]
  },
  {
   "cell_type": "code",
   "execution_count": 349,
   "metadata": {
    "collapsed": false
   },
   "outputs": [
    {
     "data": {
      "text/plain": [
       "21.70889086374561"
      ]
     },
     "execution_count": 349,
     "metadata": {},
     "output_type": "execute_result"
    }
   ],
   "source": [
    "convert(0.551406930753)\n",
    "#this is b, reasonable"
   ]
  },
  {
   "cell_type": "code",
   "execution_count": 355,
   "metadata": {
    "collapsed": false
   },
   "outputs": [
    {
     "data": {
      "text/plain": [
       "194.41400215901328"
      ]
     },
     "execution_count": 355,
     "metadata": {},
     "output_type": "execute_result"
    }
   ],
   "source": [
    "convert(4.93812553109)\n",
    "#this is b, ideal"
   ]
  },
  {
   "cell_type": "code",
   "execution_count": 352,
   "metadata": {
    "collapsed": false
   },
   "outputs": [
    {
     "data": {
      "text/plain": [
       "9.732873813544149"
      ]
     },
     "execution_count": 352,
     "metadata": {},
     "output_type": "execute_result"
    }
   ],
   "source": [
    "convert(0.247215489295)"
   ]
  },
  {
   "cell_type": "code",
   "execution_count": 344,
   "metadata": {
    "collapsed": false
   },
   "outputs": [
    {
     "data": {
      "text/plain": [
       "6.155609885952456"
      ]
     },
     "execution_count": 344,
     "metadata": {},
     "output_type": "execute_result"
    }
   ],
   "source": [
    "1.538902471488114 * 4\n",
    "#reasonable"
   ]
  },
  {
   "cell_type": "code",
   "execution_count": 354,
   "metadata": {
    "collapsed": false
   },
   "outputs": [
    {
     "data": {
      "text/plain": [
       "38.931495254176596"
      ]
     },
     "execution_count": 354,
     "metadata": {},
     "output_type": "execute_result"
    }
   ],
   "source": [
    "9.732873813544149 * 4\n",
    "#ideal"
   ]
  },
  {
   "cell_type": "code",
   "execution_count": 358,
   "metadata": {
    "collapsed": false
   },
   "outputs": [
    {
     "data": {
      "text/plain": [
       "5.49118602359024"
      ]
     },
     "execution_count": 358,
     "metadata": {},
     "output_type": "execute_result"
    }
   ],
   "source": [
    "convert(0.139476403952)"
   ]
  },
  {
   "cell_type": "code",
   "execution_count": 360,
   "metadata": {
    "collapsed": false
   },
   "outputs": [
    {
     "data": {
      "text/plain": [
       "21.96474409436096"
      ]
     },
     "execution_count": 360,
     "metadata": {},
     "output_type": "execute_result"
    }
   ],
   "source": [
    "5.49118602359024*4 \n",
    "#ideal width with pi changed"
   ]
  },
  {
   "cell_type": "code",
   "execution_count": 361,
   "metadata": {
    "collapsed": false
   },
   "outputs": [
    {
     "data": {
      "text/plain": [
       "109.44859999999998"
      ]
     },
     "execution_count": 361,
     "metadata": {},
     "output_type": "execute_result"
    }
   ],
   "source": [
    "convert(2.78)\n",
    "#ideal height with pi changed"
   ]
  },
  {
   "cell_type": "code",
   "execution_count": 382,
   "metadata": {
    "collapsed": false
   },
   "outputs": [
    {
     "data": {
      "text/plain": [
       "3.464"
      ]
     },
     "execution_count": 382,
     "metadata": {},
     "output_type": "execute_result"
    }
   ],
   "source": [
    "convert (.022)\n",
    ".866*4\n",
    "#for reasonable box width"
   ]
  },
  {
   "cell_type": "code",
   "execution_count": 383,
   "metadata": {
    "collapsed": false
   },
   "outputs": [
    {
     "data": {
      "text/plain": [
       "12.244069999999999"
      ]
     },
     "execution_count": 383,
     "metadata": {},
     "output_type": "execute_result"
    }
   ],
   "source": [
    "convert(.311)\n",
    "#for reasonable height width"
   ]
  },
  {
   "cell_type": "code",
   "execution_count": 321,
   "metadata": {
    "collapsed": false
   },
   "outputs": [],
   "source": [
    "def plotting(a,b,c):\n",
    "    #x = np.linspace(-2*a, 2*a, 10000) #xrange (for 4 ellipses)\n",
    "    #y = np.linspace(-b/2, b/2, 10000) #yrange (for plot figure in center)\n",
    "    #Y1 = np.sqrt(np.abs(1-(x+3*a/2)**2/b**2)*a**2)+ b/2\n",
    "    x1 = np.linspace(-2*a, -a, 1000) \n",
    "    y1 = np.sqrt(np.abs(1-(x1+3*a/2)**2/b**2)*a**2)+ b/2\n",
    "    x2 = np.linspace(-a, 0.0, 1000) \n",
    "    y2 = np.sqrt(np.abs(1-(x2+a/2)**2/b**2)*a**2)+ b/2\n",
    "    x3 = np.linspace(0.0, a, 1000) \n",
    "    y3 = np.sqrt(np.abs(1-(x3-a/2)**2/b**2)*a**2)+ b/2\n",
    "    x4 = np.linspace(a, 2*a, 1000) \n",
    "    y4 = np.sqrt(np.abs(1-(x4-3*a/2)**2/b**2)*a**2)+ b/2\n",
    "    return x1+2*a,y1, x2+2*a, y2, x3+2*a, y3, x4+2*a, y4"
   ]
  },
  {
   "cell_type": "code",
   "execution_count": 329,
   "metadata": {
    "collapsed": false
   },
   "outputs": [
    {
     "data": {
      "text/plain": [
       "<matplotlib.text.Text at 0x114dbbcc0>"
      ]
     },
     "execution_count": 329,
     "metadata": {},
     "output_type": "execute_result"
    },
    {
     "data": {
      "image/png": "[encoded data removed]",
      "text/plain": [
       "<matplotlib.figure.Figure at 0x1153c6278>"
      ]
     },
     "metadata": {},
     "output_type": "display_data"
    }
   ],
   "source": [
    "#0.122474487139,0.122474487139,0.00977205023806 \n",
    "x1,y1, x2, y2, x3, y3, x4, y4 = plotting(0.38472561787242215, 4.8064477214554095, 4.82182055866243 )\n",
    "pl.plot(x1,y1, 'b-')\n",
    "pl.plot(x2,y2, 'g-')\n",
    "pl.plot(x3,y3, 'r-')\n",
    "pl.plot(x4, y4, 'm-')\n",
    "pl.plot(x1, -y1)\n",
    "pl.plot(x2,-y2, 'g-')\n",
    "pl.plot(x3,-y3, 'r-')\n",
    "pl.plot(x4, -y4, 'm-')\n",
    "#diagram stuff\n",
    "#pl.plot([.3,.3], [-.18,.18], 'black') #b \n",
    "#pl.plot([.18,.3], [.18, -.18], 'black')#a\n",
    "pl.xlabel('Width(In)')"
   ]
  },
  {
   "cell_type": "code",
   "execution_count": 323,
   "metadata": {
    "collapsed": false
   },
   "outputs": [
    {
     "name": "stdout",
     "output_type": "stream",
     "text": [
      "a:  1.09544511501\n",
      "b:  1.09370027035\n",
      "c:  0.0618038723237\n"
     ]
    }
   ],
   "source": [
    "#try with idealistic?\n",
    "solving(.00012, 1*10**9, 100*10**9)"
   ]
  },
  {
   "cell_type": "code",
   "execution_count": 324,
   "metadata": {
    "collapsed": false
   },
   "outputs": [
    {
     "data": {
      "text/plain": [
       "43.127674177943696"
      ]
     },
     "execution_count": 324,
     "metadata": {},
     "output_type": "execute_result"
    }
   ],
   "source": [
    "convert(1.09544511501)\n"
   ]
  },
  {
   "cell_type": "code",
   "execution_count": 325,
   "metadata": {
    "collapsed": false
   },
   "outputs": [
    {
     "data": {
      "text/plain": [
       "43.0589796436795"
      ]
     },
     "execution_count": 325,
     "metadata": {},
     "output_type": "execute_result"
    }
   ],
   "source": [
    "convert(1.09370027035)"
   ]
  },
  {
   "cell_type": "code",
   "execution_count": 326,
   "metadata": {
    "collapsed": false
   },
   "outputs": [
    {
     "data": {
      "text/plain": [
       "2.433218453384069"
      ]
     },
     "execution_count": 326,
     "metadata": {},
     "output_type": "execute_result"
    }
   ],
   "source": [
    "convert(0.0618038723237)"
   ]
  },
  {
   "cell_type": "code",
   "execution_count": 327,
   "metadata": {
    "collapsed": true
   },
   "outputs": [],
   "source": [
    "x1,y1, x2, y2, x3, y3, x4, y4 = plotting(43.127674177943696,43.0589796436795, 2.433218453384069 )"
   ]
  },
  {
   "cell_type": "code",
   "execution_count": 328,
   "metadata": {
    "collapsed": false
   },
   "outputs": [
    {
     "data": {
      "text/plain": [
       "<matplotlib.text.Text at 0x1151774a8>"
      ]
     },
     "execution_count": 328,
     "metadata": {},
     "output_type": "execute_result"
    },
    {
     "data": {
      "image/png": "[encoded data removed]",
      "text/plain": [
       "<matplotlib.figure.Figure at 0x115297160>"
      ]
     },
     "metadata": {},
     "output_type": "display_data"
    }
   ],
   "source": [
    "pl.plot(x1,y1, 'b-')\n",
    "pl.plot(x2,y2, 'g-')\n",
    "pl.plot(x3,y3, 'r-')\n",
    "pl.plot(x4, y4, 'm-')\n",
    "pl.plot(x1, -y1)\n",
    "pl.plot(x2,-y2, 'g-')\n",
    "pl.plot(x3,-y3, 'r-')\n",
    "pl.plot(x4, -y4, 'm-')\n",
    "#diagram stuff\n",
    "#pl.plot([.3,.3], [-.18,.18], 'black') #b \n",
    "#pl.plot([.18,.3], [.18, -.18], 'black')#a\n",
    "pl.xlabel('Width(In)')"
   ]
  },
  {
   "cell_type": "code",
   "execution_count": null,
   "metadata": {
    "collapsed": true
   },
   "outputs": [],
   "source": [
    "# y = c (height) , x = b (width), z = 4 * c (length)\n",
    "#ratio between y and z is constant (about 5.6 * c for length)"
   ]
  }
 ],
 "metadata": {
  "anaconda-cloud": {},
  "kernelspec": {
   "display_name": "Python [default]",
   "language": "python",
   "name": "python3"
  },
  "language_info": {
   "codemirror_mode": {
    "name": "ipython",
    "version": 3
   },
   "file_extension": ".py",
   "mimetype": "text/x-python",
   "name": "python",
   "nbconvert_exporter": "python",
   "pygments_lexer": "ipython3",
   "version": "3.5.2"
  }
 },
 "nbformat": 4,
 "nbformat_minor": 0
}
