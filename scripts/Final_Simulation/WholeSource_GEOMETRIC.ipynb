{
 "cells": [
  {
   "cell_type": "code",
   "execution_count": 1,
   "metadata": {
    "collapsed": true
   },
   "outputs": [],
   "source": [
    "import numpy as np\n",
    "import matplotlib.pyplot as pl\n",
    "import itertools\n",
    "from mpl_toolkits.mplot3d import Axes3D\n",
    "from RayTraceFunctions import *\n",
    "from PossiblePaths import *\n",
    "from BackgroundValues import *\n",
    "from random import uniform\n",
    "import random\n",
    "import matplotlib\n",
    "import pickle\n",
    "import time #to save figs automatically time.strftime(\"%Y_%m_%d_%s\")\n",
    "#%matplotlib auto\n",
    "from datetime import datetime\n"
   ]
  },
  {
   "cell_type": "code",
   "execution_count": 2,
   "metadata": {},
   "outputs": [
    {
     "name": "stdout",
     "output_type": "stream",
     "text": [
      "1524698423.362307\n"
     ]
    },
    {
     "ename": "KeyboardInterrupt",
     "evalue": "",
     "output_type": "error",
     "traceback": [
      "\u001b[0;31m---------------------------------------------------------------------------\u001b[0m",
      "\u001b[0;31mKeyboardInterrupt\u001b[0m                         Traceback (most recent call last)",
      "\u001b[0;32m<ipython-input-2-b954f4c5c150>\u001b[0m in \u001b[0;36m<module>\u001b[0;34m()\u001b[0m\n\u001b[1;32m     20\u001b[0m     \u001b[0;32mfor\u001b[0m \u001b[0my\u001b[0m \u001b[0;32min\u001b[0m \u001b[0mnp\u001b[0m\u001b[0;34m.\u001b[0m\u001b[0mlinspace\u001b[0m\u001b[0;34m(\u001b[0m\u001b[0;34m-\u001b[0m\u001b[0;36m18\u001b[0m\u001b[0;34m,\u001b[0m\u001b[0;36m18\u001b[0m\u001b[0;34m,\u001b[0m\u001b[0mNsize\u001b[0m\u001b[0;34m)\u001b[0m\u001b[0;34m:\u001b[0m\u001b[0;34m\u001b[0m\u001b[0m\n\u001b[1;32m     21\u001b[0m         \u001b[0;31m#PTot=0\u001b[0m\u001b[0;34m\u001b[0m\u001b[0;34m\u001b[0m\u001b[0m\n\u001b[0;32m---> 22\u001b[0;31m         \u001b[0mOutRays\u001b[0m\u001b[0;34m=\u001b[0m\u001b[0mRunRaysM\u001b[0m\u001b[0;34m(\u001b[0m\u001b[0mRays\u001b[0m\u001b[0;34m,\u001b[0m\u001b[0my\u001b[0m\u001b[0;34m)\u001b[0m \u001b[0;31m#eight each\u001b[0m\u001b[0;34m\u001b[0m\u001b[0m\n\u001b[0m\u001b[1;32m     23\u001b[0m         \u001b[0mfrac\u001b[0m\u001b[0;34m.\u001b[0m\u001b[0mappend\u001b[0m\u001b[0;34m(\u001b[0m\u001b[0mlen\u001b[0m\u001b[0;34m(\u001b[0m\u001b[0mOutRays\u001b[0m\u001b[0;34m)\u001b[0m\u001b[0;34m/\u001b[0m\u001b[0mn\u001b[0m\u001b[0;34m)\u001b[0m\u001b[0;34m\u001b[0m\u001b[0m\n\u001b[1;32m     24\u001b[0m         \u001b[0mDelay\u001b[0m\u001b[0;34m.\u001b[0m\u001b[0mappend\u001b[0m\u001b[0;34m(\u001b[0m\u001b[0my\u001b[0m\u001b[0;34m*\u001b[0m\u001b[0;36m0.95630475596\u001b[0m\u001b[0;34m*\u001b[0m\u001b[0;36m4\u001b[0m\u001b[0;34m)\u001b[0m\u001b[0;34m\u001b[0m\u001b[0m\n",
      "\u001b[0;32m/Users/Lab/software/scripts/Final_Simulation/RayTraceFunctions.py\u001b[0m in \u001b[0;36mRunRaysM\u001b[0;34m(Rays, y)\u001b[0m\n\u001b[1;32m   1192\u001b[0m \u001b[0;34m''' give rays to be run through this FTS at a specific y, returns the good rays and the region. not used anymore'''\u001b[0m\u001b[0;34m\u001b[0m\u001b[0m\n\u001b[1;32m   1193\u001b[0m \u001b[0;32mdef\u001b[0m \u001b[0mRunRaysM\u001b[0m\u001b[0;34m(\u001b[0m\u001b[0mRays\u001b[0m\u001b[0;34m,\u001b[0m\u001b[0my\u001b[0m\u001b[0;34m)\u001b[0m\u001b[0;34m:\u001b[0m \u001b[0;31m#just give number of rays to be run through this FTS at a specific y!\u001b[0m\u001b[0;34m\u001b[0m\u001b[0m\n\u001b[0;32m-> 1194\u001b[0;31m     \u001b[0mRayf\u001b[0m \u001b[0;34m=\u001b[0m \u001b[0mOFDM\u001b[0m\u001b[0;34m(\u001b[0m\u001b[0mRays\u001b[0m\u001b[0;34m,\u001b[0m\u001b[0my\u001b[0m\u001b[0;34m)\u001b[0m\u001b[0;34m\u001b[0m\u001b[0m\n\u001b[0m\u001b[1;32m   1195\u001b[0m     \u001b[0mG\u001b[0m\u001b[0;34m=\u001b[0m \u001b[0mcheckoutraysM\u001b[0m\u001b[0;34m(\u001b[0m\u001b[0mRayf\u001b[0m\u001b[0;34m,\u001b[0m\u001b[0;34m[\u001b[0m\u001b[0;36m160.375\u001b[0m\u001b[0;34m,\u001b[0m\u001b[0;34m-\u001b[0m\u001b[0;36m113\u001b[0m\u001b[0;34m]\u001b[0m\u001b[0;34m,\u001b[0m\u001b[0;36m7.9375\u001b[0m\u001b[0;34m)\u001b[0m \u001b[0;31m# GOOD RAYS ONLY\u001b[0m\u001b[0;34m\u001b[0m\u001b[0m\n\u001b[1;32m   1196\u001b[0m     \u001b[0mGtestsorted\u001b[0m \u001b[0;34m=\u001b[0m \u001b[0msortgrid\u001b[0m\u001b[0;34m(\u001b[0m\u001b[0mG\u001b[0m\u001b[0;34m)\u001b[0m\u001b[0;34m\u001b[0m\u001b[0m\n",
      "\u001b[0;32m/Users/Lab/software/scripts/Final_Simulation/RayTraceFunctions.py\u001b[0m in \u001b[0;36mOFDM\u001b[0;34m(Rays, y)\u001b[0m\n\u001b[1;32m   1167\u001b[0m         \u001b[0;32mfor\u001b[0m \u001b[0mj\u001b[0m \u001b[0;32min\u001b[0m \u001b[0mrange\u001b[0m\u001b[0;34m(\u001b[0m\u001b[0;36m8\u001b[0m\u001b[0;34m)\u001b[0m\u001b[0;34m:\u001b[0m\u001b[0;34m\u001b[0m\u001b[0m\n\u001b[1;32m   1168\u001b[0m             \u001b[0morigin\u001b[0m \u001b[0;34m=\u001b[0m \u001b[0;34m(\u001b[0m\u001b[0;36m0\u001b[0m\u001b[0;34m,\u001b[0m\u001b[0my\u001b[0m\u001b[0;34m,\u001b[0m\u001b[0;36m0\u001b[0m\u001b[0;34m)\u001b[0m\u001b[0;34m\u001b[0m\u001b[0m\n\u001b[0;32m-> 1169\u001b[0;31m             \u001b[0mout\u001b[0m \u001b[0;34m=\u001b[0m \u001b[0mPaths\u001b[0m\u001b[0;34m[\u001b[0m\u001b[0mj\u001b[0m\u001b[0;34m]\u001b[0m\u001b[0;34m(\u001b[0m\u001b[0mRi\u001b[0m\u001b[0;34m,\u001b[0m\u001b[0mp1\u001b[0m\u001b[0;34m,\u001b[0m\u001b[0mp2\u001b[0m\u001b[0;34m,\u001b[0m\u001b[0mp3\u001b[0m\u001b[0;34m,\u001b[0m\u001b[0mp4\u001b[0m\u001b[0;34m,\u001b[0m\u001b[0morigin\u001b[0m\u001b[0;34m)\u001b[0m\u001b[0;34m\u001b[0m\u001b[0m\n\u001b[0m\u001b[1;32m   1170\u001b[0m             \u001b[0;32mif\u001b[0m \u001b[0mout\u001b[0m \u001b[0;32mis\u001b[0m \u001b[0;32mnot\u001b[0m \u001b[0;32mNone\u001b[0m\u001b[0;34m:\u001b[0m\u001b[0;34m\u001b[0m\u001b[0m\n\u001b[1;32m   1171\u001b[0m                 \u001b[0mRayf\u001b[0m\u001b[0;34m.\u001b[0m\u001b[0mappend\u001b[0m\u001b[0;34m(\u001b[0m\u001b[0mout\u001b[0m\u001b[0;34m)\u001b[0m\u001b[0;34m\u001b[0m\u001b[0m\n",
      "\u001b[0;32m/Users/Lab/software/scripts/Final_Simulation/PossiblePaths.py\u001b[0m in \u001b[0;36mTRRTioM\u001b[0;34m(Ri, p1, p2, p3, p4, originM)\u001b[0m\n\u001b[1;32m    649\u001b[0m     \u001b[0mRay1\u001b[0m \u001b[0;34m=\u001b[0m \u001b[0mReflEll\u001b[0m\u001b[0;34m(\u001b[0m\u001b[0mRi\u001b[0m\u001b[0;34m,\u001b[0m\u001b[0mthet10\u001b[0m\u001b[0;34m,\u001b[0m\u001b[0morigin10\u001b[0m\u001b[0;34m,\u001b[0m\u001b[0mcoeffellipse7\u001b[0m\u001b[0;34m,\u001b[0m\u001b[0mcenter10\u001b[0m\u001b[0;34m,\u001b[0m\u001b[0mrange10\u001b[0m\u001b[0;34m)\u001b[0m\u001b[0;34m\u001b[0m\u001b[0m\n\u001b[1;32m    650\u001b[0m     \u001b[0mRay_TP1\u001b[0m \u001b[0;34m=\u001b[0m \u001b[0mIntPolT2\u001b[0m\u001b[0;34m(\u001b[0m\u001b[0mRay1\u001b[0m\u001b[0;34m,\u001b[0m\u001b[0mcoeffpolar\u001b[0m\u001b[0;34m,\u001b[0m\u001b[0moriginpolar1\u001b[0m\u001b[0;34m,\u001b[0m\u001b[0mp1\u001b[0m\u001b[0;34m)\u001b[0m \u001b[0;31m#P1\u001b[0m\u001b[0;34m\u001b[0m\u001b[0m\n\u001b[0;32m--> 651\u001b[0;31m     \u001b[0mRay_E8\u001b[0m \u001b[0;34m=\u001b[0m \u001b[0mReflEll\u001b[0m\u001b[0;34m(\u001b[0m\u001b[0mRay_TP1\u001b[0m\u001b[0;34m,\u001b[0m\u001b[0mthet6\u001b[0m\u001b[0;34m,\u001b[0m\u001b[0morigin8\u001b[0m\u001b[0;34m,\u001b[0m\u001b[0mcoeffellipse56\u001b[0m\u001b[0;34m,\u001b[0m\u001b[0mcenter8\u001b[0m\u001b[0;34m,\u001b[0m\u001b[0mrange8\u001b[0m\u001b[0;34m)\u001b[0m \u001b[0;31m#E8\u001b[0m\u001b[0;34m\u001b[0m\u001b[0m\n\u001b[0m\u001b[1;32m    652\u001b[0m     \u001b[0mRay_RP2\u001b[0m \u001b[0;34m=\u001b[0m \u001b[0mIntPolR2\u001b[0m\u001b[0;34m(\u001b[0m\u001b[0mRay_E8\u001b[0m\u001b[0;34m,\u001b[0m\u001b[0mcoeffpolar\u001b[0m\u001b[0;34m,\u001b[0m\u001b[0moriginpolar2\u001b[0m\u001b[0;34m,\u001b[0m\u001b[0mp2\u001b[0m\u001b[0;34m)\u001b[0m \u001b[0;31m#P2\u001b[0m\u001b[0;34m\u001b[0m\u001b[0m\n\u001b[1;32m    653\u001b[0m     \u001b[0mRay_E1\u001b[0m \u001b[0;34m=\u001b[0m \u001b[0mReflEll\u001b[0m\u001b[0;34m(\u001b[0m\u001b[0mRay_RP2\u001b[0m\u001b[0;34m,\u001b[0m\u001b[0mthet\u001b[0m\u001b[0;34m,\u001b[0m\u001b[0morigin1\u001b[0m\u001b[0;34m,\u001b[0m\u001b[0mcoeffellipse\u001b[0m\u001b[0;34m,\u001b[0m\u001b[0mcenter1\u001b[0m\u001b[0;34m,\u001b[0m\u001b[0mrange1\u001b[0m\u001b[0;34m)\u001b[0m \u001b[0;31m#E3\u001b[0m\u001b[0;34m\u001b[0m\u001b[0m\n",
      "\u001b[0;32m/Users/Lab/software/scripts/Final_Simulation/PossiblePaths.py\u001b[0m in \u001b[0;36mReflEll\u001b[0;34m(Ray, thetL, originL, coeffellipse, center, ranges)\u001b[0m\n\u001b[1;32m     13\u001b[0m     \u001b[0msourcepoint\u001b[0m \u001b[0;34m=\u001b[0m \u001b[0mRay\u001b[0m\u001b[0;34m[\u001b[0m\u001b[0;36m2\u001b[0m\u001b[0;34m]\u001b[0m \u001b[0;31m#originalpoint\u001b[0m\u001b[0;34m\u001b[0m\u001b[0m\n\u001b[1;32m     14\u001b[0m     \u001b[0mv\u001b[0m \u001b[0;34m=\u001b[0m \u001b[0mRay\u001b[0m\u001b[0;34m[\u001b[0m\u001b[0;36m3\u001b[0m\u001b[0;34m]\u001b[0m \u001b[0;31m#vector\u001b[0m\u001b[0;34m\u001b[0m\u001b[0m\n\u001b[0;32m---> 15\u001b[0;31m     \u001b[0mSPLi\u001b[0m\u001b[0;34m,\u001b[0m\u001b[0mVPLi\u001b[0m \u001b[0;34m=\u001b[0m \u001b[0mRT\u001b[0m\u001b[0;34m(\u001b[0m\u001b[0msourcepoint\u001b[0m\u001b[0;34m,\u001b[0m\u001b[0mv\u001b[0m\u001b[0;34m,\u001b[0m\u001b[0mthetG\u001b[0m\u001b[0;34m,\u001b[0m\u001b[0moriginG\u001b[0m\u001b[0;34m,\u001b[0m\u001b[0mthetL\u001b[0m\u001b[0;34m,\u001b[0m\u001b[0moriginL\u001b[0m\u001b[0;34m)\u001b[0m \u001b[0;31m#point and vector in local coordinates\u001b[0m\u001b[0;34m\u001b[0m\u001b[0m\n\u001b[0m\u001b[1;32m     16\u001b[0m     \u001b[0mpointsf\u001b[0m\u001b[0;34m,\u001b[0m\u001b[0mvectsf\u001b[0m \u001b[0;34m=\u001b[0m \u001b[0mREPCNi\u001b[0m\u001b[0;34m(\u001b[0m\u001b[0mcoeffellipse\u001b[0m\u001b[0;34m,\u001b[0m\u001b[0mSPLi\u001b[0m\u001b[0;34m,\u001b[0m\u001b[0mVPLi\u001b[0m\u001b[0;34m)\u001b[0m \u001b[0;31m#IN LOCAL COORDINATES, REFLECTION OFF ELLIPSOID\u001b[0m\u001b[0;34m\u001b[0m\u001b[0m\n\u001b[1;32m     17\u001b[0m     \u001b[0;32mif\u001b[0m \u001b[0mSR3B\u001b[0m\u001b[0;34m(\u001b[0m\u001b[0mranges\u001b[0m\u001b[0;34m,\u001b[0m \u001b[0mpointsf\u001b[0m\u001b[0;34m[\u001b[0m\u001b[0;36m0\u001b[0m\u001b[0;34m]\u001b[0m\u001b[0;34m,\u001b[0m\u001b[0mpointsf\u001b[0m\u001b[0;34m[\u001b[0m\u001b[0;36m1\u001b[0m\u001b[0;34m]\u001b[0m\u001b[0;34m,\u001b[0m\u001b[0mpointsf\u001b[0m\u001b[0;34m[\u001b[0m\u001b[0;36m2\u001b[0m\u001b[0;34m]\u001b[0m\u001b[0;34m,\u001b[0m \u001b[0mcenter\u001b[0m\u001b[0;34m)\u001b[0m \u001b[0;34m==\u001b[0m \u001b[0;32mTrue\u001b[0m\u001b[0;34m:\u001b[0m\u001b[0;34m\u001b[0m\u001b[0m\n",
      "\u001b[0;32m/Users/Lab/software/scripts/Final_Simulation/RayTraceFunctions.py\u001b[0m in \u001b[0;36mRT\u001b[0;34m(sourcepoints, v1, sourcethet1, ellipseorigin1, sourcethet2, ellipseorigin2)\u001b[0m\n\u001b[1;32m    336\u001b[0m     \u001b[0;31m#GLOBAL back to SECOND LOCAL\u001b[0m\u001b[0;34m\u001b[0m\u001b[0;34m\u001b[0m\u001b[0m\n\u001b[1;32m    337\u001b[0m     \u001b[0mvfx\u001b[0m\u001b[0;34m,\u001b[0m\u001b[0mvfy\u001b[0m\u001b[0;34m,\u001b[0m\u001b[0mvfz\u001b[0m \u001b[0;34m=\u001b[0m \u001b[0mtransformGL\u001b[0m\u001b[0;34m(\u001b[0m\u001b[0mvGx\u001b[0m\u001b[0;34m,\u001b[0m\u001b[0mvGy\u001b[0m\u001b[0;34m,\u001b[0m\u001b[0mvGz\u001b[0m\u001b[0;34m,\u001b[0m\u001b[0mvectorigin\u001b[0m\u001b[0;34m,\u001b[0m\u001b[0msourcethet2\u001b[0m\u001b[0;34m)\u001b[0m\u001b[0;34m\u001b[0m\u001b[0m\n\u001b[0;32m--> 338\u001b[0;31m     \u001b[0mspfx\u001b[0m\u001b[0;34m,\u001b[0m\u001b[0mspfy\u001b[0m\u001b[0;34m,\u001b[0m\u001b[0mspfz\u001b[0m \u001b[0;34m=\u001b[0m \u001b[0mtransformGL\u001b[0m\u001b[0;34m(\u001b[0m\u001b[0mspGx\u001b[0m\u001b[0;34m,\u001b[0m\u001b[0mspGy\u001b[0m\u001b[0;34m,\u001b[0m\u001b[0mspGz\u001b[0m\u001b[0;34m,\u001b[0m\u001b[0mellipseorigin2\u001b[0m\u001b[0;34m,\u001b[0m\u001b[0msourcethet2\u001b[0m\u001b[0;34m)\u001b[0m\u001b[0;34m\u001b[0m\u001b[0m\n\u001b[0m\u001b[1;32m    339\u001b[0m     \u001b[0msp\u001b[0m \u001b[0;34m=\u001b[0m \u001b[0msepop\u001b[0m\u001b[0;34m(\u001b[0m\u001b[0mspfx\u001b[0m\u001b[0;34m,\u001b[0m\u001b[0mspfy\u001b[0m\u001b[0;34m,\u001b[0m\u001b[0mspfz\u001b[0m\u001b[0;34m)\u001b[0m\u001b[0;34m\u001b[0m\u001b[0m\n\u001b[1;32m    340\u001b[0m     \u001b[0mv2\u001b[0m \u001b[0;34m=\u001b[0m \u001b[0msepop\u001b[0m\u001b[0;34m(\u001b[0m\u001b[0mvfx\u001b[0m\u001b[0;34m,\u001b[0m\u001b[0mvfy\u001b[0m\u001b[0;34m,\u001b[0m\u001b[0mvfz\u001b[0m\u001b[0;34m)\u001b[0m\u001b[0;34m\u001b[0m\u001b[0m\n",
      "\u001b[0;32m/Users/Lab/software/scripts/Final_Simulation/RayTraceFunctions.py\u001b[0m in \u001b[0;36mtransformGL\u001b[0;34m(x, y, z, origin, thetaxyz)\u001b[0m\n\u001b[1;32m    220\u001b[0m         \u001b[0;32melse\u001b[0m\u001b[0;34m:\u001b[0m\u001b[0;34m\u001b[0m\u001b[0m\n\u001b[1;32m    221\u001b[0m             \u001b[0mv2S\u001b[0m \u001b[0;34m=\u001b[0m \u001b[0mshift\u001b[0m\u001b[0;34m(\u001b[0m\u001b[0mv\u001b[0m\u001b[0;34m,\u001b[0m\u001b[0mnegvect\u001b[0m\u001b[0;34m(\u001b[0m\u001b[0morigin\u001b[0m\u001b[0;34m)\u001b[0m\u001b[0;34m)\u001b[0m\u001b[0;34m\u001b[0m\u001b[0m\n\u001b[0;32m--> 222\u001b[0;31m             \u001b[0mv2RS\u001b[0m \u001b[0;34m=\u001b[0m \u001b[0mrotaterev\u001b[0m\u001b[0;34m(\u001b[0m\u001b[0mv2S\u001b[0m\u001b[0;34m,\u001b[0m\u001b[0mnegvect\u001b[0m\u001b[0;34m(\u001b[0m\u001b[0mthetaxyz\u001b[0m\u001b[0;34m)\u001b[0m\u001b[0;34m)\u001b[0m\u001b[0;34m\u001b[0m\u001b[0m\n\u001b[0m\u001b[1;32m    223\u001b[0m             \u001b[0mXTR\u001b[0m \u001b[0;34m=\u001b[0m \u001b[0mv2RS\u001b[0m\u001b[0;34m[\u001b[0m\u001b[0;36m0\u001b[0m\u001b[0;34m]\u001b[0m\u001b[0;34m\u001b[0m\u001b[0m\n\u001b[1;32m    224\u001b[0m             \u001b[0mYTR\u001b[0m \u001b[0;34m=\u001b[0m \u001b[0mv2RS\u001b[0m\u001b[0;34m[\u001b[0m\u001b[0;36m1\u001b[0m\u001b[0;34m]\u001b[0m\u001b[0;34m\u001b[0m\u001b[0m\n",
      "\u001b[0;32m/Users/Lab/software/scripts/Final_Simulation/RayTraceFunctions.py\u001b[0m in \u001b[0;36mrotaterev\u001b[0;34m(point, thetaxyz)\u001b[0m\n\u001b[1;32m    189\u001b[0m     \u001b[0mlenvect\u001b[0m \u001b[0;34m=\u001b[0m \u001b[0;34m(\u001b[0m\u001b[0mx\u001b[0m\u001b[0;34m**\u001b[0m\u001b[0;36m2\u001b[0m \u001b[0;34m+\u001b[0m \u001b[0my\u001b[0m\u001b[0;34m**\u001b[0m\u001b[0;36m2\u001b[0m \u001b[0;34m+\u001b[0m \u001b[0mz\u001b[0m\u001b[0;34m**\u001b[0m\u001b[0;36m2\u001b[0m\u001b[0;34m)\u001b[0m\u001b[0;34m**\u001b[0m\u001b[0;36m.5\u001b[0m\u001b[0;34m\u001b[0m\u001b[0m\n\u001b[1;32m    190\u001b[0m     \u001b[0mV\u001b[0m \u001b[0;34m=\u001b[0m \u001b[0mN\u001b[0m\u001b[0;34m(\u001b[0m\u001b[0mv\u001b[0m\u001b[0;34m)\u001b[0m\u001b[0;34m\u001b[0m\u001b[0m\n\u001b[0;32m--> 191\u001b[0;31m     \u001b[0mVZ\u001b[0m \u001b[0;34m=\u001b[0m \u001b[0mnp\u001b[0m\u001b[0;34m.\u001b[0m\u001b[0marray\u001b[0m\u001b[0;34m(\u001b[0m\u001b[0mnp\u001b[0m\u001b[0;34m.\u001b[0m\u001b[0mdot\u001b[0m\u001b[0;34m(\u001b[0m\u001b[0mV\u001b[0m\u001b[0;34m,\u001b[0m\u001b[0mRz\u001b[0m\u001b[0;34m(\u001b[0m\u001b[0mthetaxyz\u001b[0m\u001b[0;34m[\u001b[0m\u001b[0;36m2\u001b[0m\u001b[0;34m]\u001b[0m\u001b[0;34m)\u001b[0m\u001b[0;34m)\u001b[0m\u001b[0;34m)\u001b[0m\u001b[0;34m\u001b[0m\u001b[0m\n\u001b[0m\u001b[1;32m    192\u001b[0m     \u001b[0mVZY\u001b[0m \u001b[0;34m=\u001b[0m \u001b[0mnp\u001b[0m\u001b[0;34m.\u001b[0m\u001b[0marray\u001b[0m\u001b[0;34m(\u001b[0m\u001b[0mnp\u001b[0m\u001b[0;34m.\u001b[0m\u001b[0mdot\u001b[0m\u001b[0;34m(\u001b[0m\u001b[0mVZ\u001b[0m\u001b[0;34m,\u001b[0m\u001b[0mRy\u001b[0m\u001b[0;34m(\u001b[0m\u001b[0mthetaxyz\u001b[0m\u001b[0;34m[\u001b[0m\u001b[0;36m1\u001b[0m\u001b[0;34m]\u001b[0m\u001b[0;34m)\u001b[0m\u001b[0;34m)\u001b[0m\u001b[0;34m)\u001b[0m\u001b[0;34m\u001b[0m\u001b[0m\n\u001b[1;32m    193\u001b[0m     \u001b[0mVZYX\u001b[0m \u001b[0;34m=\u001b[0m \u001b[0mnp\u001b[0m\u001b[0;34m.\u001b[0m\u001b[0marray\u001b[0m\u001b[0;34m(\u001b[0m\u001b[0mnp\u001b[0m\u001b[0;34m.\u001b[0m\u001b[0mdot\u001b[0m\u001b[0;34m(\u001b[0m\u001b[0mVZY\u001b[0m\u001b[0;34m,\u001b[0m\u001b[0mRx\u001b[0m\u001b[0;34m(\u001b[0m\u001b[0mthetaxyz\u001b[0m\u001b[0;34m[\u001b[0m\u001b[0;36m0\u001b[0m\u001b[0;34m]\u001b[0m\u001b[0;34m)\u001b[0m\u001b[0;34m)\u001b[0m\u001b[0;34m)\u001b[0m\u001b[0;34m\u001b[0m\u001b[0m\n",
      "\u001b[0;32m/Users/Lab/software/scripts/Final_Simulation/RayTraceFunctions.py\u001b[0m in \u001b[0;36mRz\u001b[0;34m(z)\u001b[0m\n\u001b[1;32m     15\u001b[0m     \u001b[0;32mreturn\u001b[0m \u001b[0mRy\u001b[0m\u001b[0;34m\u001b[0m\u001b[0m\n\u001b[1;32m     16\u001b[0m \u001b[0;32mdef\u001b[0m \u001b[0mRz\u001b[0m\u001b[0;34m(\u001b[0m\u001b[0mz\u001b[0m\u001b[0;34m)\u001b[0m\u001b[0;34m:\u001b[0m\u001b[0;34m\u001b[0m\u001b[0m\n\u001b[0;32m---> 17\u001b[0;31m     \u001b[0mRz\u001b[0m \u001b[0;34m=\u001b[0m \u001b[0mnp\u001b[0m\u001b[0;34m.\u001b[0m\u001b[0mmatrix\u001b[0m\u001b[0;34m(\u001b[0m\u001b[0;34m[\u001b[0m\u001b[0;34m[\u001b[0m\u001b[0mnp\u001b[0m\u001b[0;34m.\u001b[0m\u001b[0mcos\u001b[0m\u001b[0;34m(\u001b[0m\u001b[0mz\u001b[0m\u001b[0;34m)\u001b[0m\u001b[0;34m,\u001b[0m \u001b[0;34m-\u001b[0m \u001b[0mnp\u001b[0m\u001b[0;34m.\u001b[0m\u001b[0msin\u001b[0m\u001b[0;34m(\u001b[0m\u001b[0mz\u001b[0m\u001b[0;34m)\u001b[0m\u001b[0;34m,\u001b[0m \u001b[0;36m0\u001b[0m\u001b[0;34m]\u001b[0m\u001b[0;34m,\u001b[0m\u001b[0;34m[\u001b[0m\u001b[0mnp\u001b[0m\u001b[0;34m.\u001b[0m\u001b[0msin\u001b[0m\u001b[0;34m(\u001b[0m\u001b[0mz\u001b[0m\u001b[0;34m)\u001b[0m\u001b[0;34m,\u001b[0m \u001b[0mnp\u001b[0m\u001b[0;34m.\u001b[0m\u001b[0mcos\u001b[0m\u001b[0;34m(\u001b[0m\u001b[0mz\u001b[0m\u001b[0;34m)\u001b[0m\u001b[0;34m,\u001b[0m \u001b[0;36m0\u001b[0m\u001b[0;34m]\u001b[0m\u001b[0;34m,\u001b[0m \u001b[0;34m[\u001b[0m\u001b[0;36m0\u001b[0m\u001b[0;34m,\u001b[0m \u001b[0;36m0\u001b[0m\u001b[0;34m,\u001b[0m \u001b[0;36m1\u001b[0m\u001b[0;34m]\u001b[0m\u001b[0;34m]\u001b[0m\u001b[0;34m)\u001b[0m\u001b[0;34m\u001b[0m\u001b[0m\n\u001b[0m\u001b[1;32m     18\u001b[0m     \u001b[0;32mreturn\u001b[0m \u001b[0mRz\u001b[0m\u001b[0;34m\u001b[0m\u001b[0m\n\u001b[1;32m     19\u001b[0m \u001b[0;32mdef\u001b[0m \u001b[0mRxyz\u001b[0m \u001b[0;34m(\u001b[0m\u001b[0mthet\u001b[0m\u001b[0;34m)\u001b[0m\u001b[0;34m:\u001b[0m\u001b[0;34m\u001b[0m\u001b[0m\n",
      "\u001b[0;32m/Users/Lab/anaconda/envs/py3/lib/python3.6/site-packages/numpy/matrixlib/defmatrix.py\u001b[0m in \u001b[0;36m__new__\u001b[0;34m(subtype, data, dtype, copy)\u001b[0m\n\u001b[1;32m    268\u001b[0m \u001b[0;34m\u001b[0m\u001b[0m\n\u001b[1;32m    269\u001b[0m         \u001b[0;31m# now convert data to an array\u001b[0m\u001b[0;34m\u001b[0m\u001b[0;34m\u001b[0m\u001b[0m\n\u001b[0;32m--> 270\u001b[0;31m         \u001b[0marr\u001b[0m \u001b[0;34m=\u001b[0m \u001b[0mN\u001b[0m\u001b[0;34m.\u001b[0m\u001b[0marray\u001b[0m\u001b[0;34m(\u001b[0m\u001b[0mdata\u001b[0m\u001b[0;34m,\u001b[0m \u001b[0mdtype\u001b[0m\u001b[0;34m=\u001b[0m\u001b[0mdtype\u001b[0m\u001b[0;34m,\u001b[0m \u001b[0mcopy\u001b[0m\u001b[0;34m=\u001b[0m\u001b[0mcopy\u001b[0m\u001b[0;34m)\u001b[0m\u001b[0;34m\u001b[0m\u001b[0m\n\u001b[0m\u001b[1;32m    271\u001b[0m         \u001b[0mndim\u001b[0m \u001b[0;34m=\u001b[0m \u001b[0marr\u001b[0m\u001b[0;34m.\u001b[0m\u001b[0mndim\u001b[0m\u001b[0;34m\u001b[0m\u001b[0m\n\u001b[1;32m    272\u001b[0m         \u001b[0mshape\u001b[0m \u001b[0;34m=\u001b[0m \u001b[0marr\u001b[0m\u001b[0;34m.\u001b[0m\u001b[0mshape\u001b[0m\u001b[0;34m\u001b[0m\u001b[0m\n",
      "\u001b[0;31mKeyboardInterrupt\u001b[0m: "
     ]
    }
   ],
   "source": [
    "Timei = time.time()\n",
    "print(Timei) #time in seconds\n",
    "'''Give center of source (SPO), angle of source (ST),radius of source, number of rays, wavelength, sample number. returns interferogram '''\n",
    "#def RunSource(spo,st,r,n, Lamd,Nsize): \n",
    "frac = []\n",
    "Delay = []\n",
    "Run =1\n",
    "if Run ==1:\n",
    "    n = 40\n",
    "    r = 7.9375\n",
    "    st = [0.,0.,0.] #SHOT STRAIGHT UP\n",
    "    Lamd = 3.3\n",
    "    Nsize = 512\n",
    "    spo = [-160.375,-113.,-80.0]\n",
    "    Rays = makerays(spo,st,r,n) \n",
    "    #jx,jy = gridlines(7.9375,[160.375,-113],200) #these are now the PIXELS\n",
    "    #Pix = MakePixels(jx,jy) #center of each pixel\n",
    "    #Ij = []\n",
    "    #Delay = []\n",
    "    for y in np.linspace(-18,18,Nsize):\n",
    "        #PTot=0\n",
    "        OutRays=RunRaysM(Rays,y) #eight each\n",
    "        frac.append(len(OutRays)/n)\n",
    "        Delay.append(y*0.95630475596*4)\n",
    "    #return Delay,Ij\n",
    "Timef = time.time()\n",
    "print(Timef) #time in seconds\n",
    "\n",
    "print('total time: ',float(Timef-Timei)/60, 'mins')"
   ]
  },
  {
   "cell_type": "code",
   "execution_count": null,
   "metadata": {},
   "outputs": [],
   "source": [
    "with open(\"Plots/WholeSourceGeomModI\"+str(Lamd)+'mm'+time.strftime(\"_%Y_%m_%d_%H_%M_%S\") + \".pkl\", \"wb\") as F:\n",
    "    pickle.dump(frac,F)\n",
    "with open(\"Plots/WholeSourceGeomModD\"+str(Lamd)+'mm'+time.strftime(\"_%Y_%m_%d_%H_%M_%S\") + \".pkl\", \"wb\") as F:\n",
    "    pickle.dump(Delay,F)\n",
    "\n",
    "\n",
    "pl.plot(Delay,frac) #treating detector like one pixel\n",
    "pl.tick_params(colors = 'black')\n",
    "pl.title('$\\lambda$='+str(Lamd),color = 'black')\n",
    "pl.xlabel('Path Difference (mm)', color = 'black')\n",
    "pl.savefig('Plots/WholeSourceGeomMod'+time.strftime(\"%Y_%m_%d_%H_%M_%S\"))\n",
    "pl.legend()\n",
    "pl.show()\n",
    "\n",
    "print('Done!')"
   ]
  },
  {
   "cell_type": "code",
   "execution_count": null,
   "metadata": {
    "collapsed": true
   },
   "outputs": [],
   "source": []
  }
 ],
 "metadata": {
  "kernelspec": {
   "display_name": "Python 3",
   "language": "python",
   "name": "python3"
  },
  "language_info": {
   "codemirror_mode": {
    "name": "ipython",
    "version": 3
   },
   "file_extension": ".py",
   "mimetype": "text/x-python",
   "name": "python",
   "nbconvert_exporter": "python",
   "pygments_lexer": "ipython3",
   "version": "3.6.1"
  }
 },
 "nbformat": 4,
 "nbformat_minor": 2
}
