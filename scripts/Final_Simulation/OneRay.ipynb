{
 "cells": [
  {
   "cell_type": "code",
   "execution_count": 2,
   "metadata": {
    "collapsed": true
   },
   "outputs": [],
   "source": [
    "import numpy as np\n",
    "import matplotlib.pyplot as pl\n",
    "import itertools\n",
    "from mpl_toolkits.mplot3d import Axes3D\n",
    "from RayTraceFunctions import *\n",
    "from PossiblePaths import *\n",
    "from BackgroundValues import *\n",
    "from random import uniform\n",
    "import random\n",
    "import matplotlib\n",
    "import pickle\n",
    "import math \n",
    "import time #to save figs automatically time.strftime(\"%Y_%m_%d_%s\")\n",
    "#%matplotlib auto"
   ]
  },
  {
   "cell_type": "code",
   "execution_count": null,
   "metadata": {
    "collapsed": true
   },
   "outputs": [],
   "source": [
    "Timei = time.time()\n",
    "Lamd = 3.32\n",
    "Nsize = Nsized(Lamd)\n",
    "#Nsize = 8192\n",
    "Freq = float(300/Lamd)\n",
    "spo = [-160.375,-113.,-80.0] #global CENTERED\n",
    "spo1 = [-152.4375, -113.0,-80.]\n",
    "#XY = [spo1[0],spo1[1]]\n",
    "#print(XY)\n",
    "    \n",
    "Delay,Ij = RunOneRay(Lamd,Nsize,spo)\n",
    "#with open(\"Plots/OneRayI\"+str(XY)+str(Lamd)+'mm'+time.strftime(\"_%Y_%m_%d_%H_%M_%S\") + \".pkl\", \"wb\") as f:\n",
    "    #pickle.dump(Ij,f)\n",
    "#with open(\"Plots/OneRayD\"+str(XY)+str(Lamd)+'mm'+time.strftime(\"_%Y_%m_%d_%H_%M_%S\") + \".pkl\", \"wb\") as f:\n",
    "    #pickle.dump(Delay,f)\n",
    "Timef = time.time()\n",
    "print('total time: ~',float(Timef-Timei)/60, 'mins')"
   ]
  },
  {
   "cell_type": "code",
   "execution_count": null,
   "metadata": {
    "collapsed": true
   },
   "outputs": [],
   "source": [
    "d1 = Ij\n",
    "D = np.hanning(int(np.shape(d1)[0]))*d1\n",
    "S = np.fft.rfft(D)\n",
    "#S = S[1:]\n",
    "u = np.abs(S)\n",
    "xtot = 36*0.95630475596*4 #total length of the scan\n",
    "df = 1/xtot\n",
    "f = df*np.arange(1+Nsize/2)-df/2\n",
    "\n",
    "pl.plot(Delay,Ij,linewidth = .8) \n",
    "pl.tick_params(colors = 'black')\n",
    "pl.title('$\\lambda$='+str(Lamd),color = 'black')\n",
    "pl.xlabel('Optical Delay (mm)', color = 'black')\n",
    "pl.savefig('changedangleInt')\n",
    "pl.show() \n",
    "pl.plot(300*f[3:],u[2:])\n",
    "pl.title('FFT of above',color = 'black')\n",
    "pl.xlabel('GHz', color = 'black')\n",
    "pl.tick_params(colors = 'black')\n",
    "pl.axvline(x =float(Freq), color = 'green', label = str(Freq)+'GHz')\n",
    "pl.legend()\n",
    "#pl.savefig('changedanglespec')\n",
    "pl.show()"
   ]
  },
  {
   "cell_type": "code",
   "execution_count": null,
   "metadata": {
    "collapsed": true
   },
   "outputs": [],
   "source": [
    "d1 = Ij\n",
    "D = np.hanning(int(np.shape(d1)[0]))*d1\n",
    "S = np.fft.rfft(D)\n",
    "#S = S[1:]\n",
    "u = np.abs(S)\n",
    "xtot = 36*0.95630475596*4 #total length of the scan\n",
    "df = 1/xtot\n",
    "f = df*np.arange(1+Nsize/2)-df/2\n",
    "\n",
    "with open(\"Plots/OneRaySpecU\"+str(XY)+str(Lamd)+'mm'+time.strftime(\"_%Y_%m_%d_%H_%M_%S\") + \".pkl\", \"wb\") as F:\n",
    "    pickle.dump(u,F)\n",
    "with open(\"Plots/OneRaySpecF\"+str(XY)+str(Lamd)+'mm'+time.strftime(\"_%Y_%m_%d_%H_%M_%S\") + \".pkl\", \"wb\") as F:\n",
    "    pickle.dump(300*f[1:],F)\n",
    "\n",
    "pl.plot(Delay,Ij,linewidth = .8) \n",
    "pl.tick_params(colors = 'black')\n",
    "pl.title('$\\lambda$='+str(Lamd),color = 'black')\n",
    "pl.xlabel('Optical Delay (mm)', color = 'black')\n",
    "\n",
    "pl.savefig('Plots/OneRayInt'+str(XY)+time.strftime(\"_%Y_%m_%d_%H_%M_%S\")+'.png')\n",
    "\n",
    "pl.show() \n",
    "pl.plot(300*f[3:],u[2:])\n",
    "pl.title('FFT of above',color = 'black')\n",
    "pl.xlabel('GHz', color = 'black')\n",
    "pl.tick_params(colors = 'black')\n",
    "\n",
    "pl.axvline(x =float(Freq), color = 'green', label = str(Freq)+'GHz')\n",
    "pl.legend()\n",
    "#pl.axvline(x=Maxf(f[10:],u[9:])[0],color = 'black',label = 'Peak:' +str(Maxf(f[10:],u[9:])[0]) + 'GHz')\n",
    "pl.savefig('Plots/OneRaySpec'+str(XY)+time.strftime(\"_%Y_%m_%d_%H_%M_%S\")+'.png')\n",
    "\n",
    "pl.show()\n",
    "\n",
    "print('Simulation Peak: ',Maxf(f[10:],u[9:]))\n",
    "print('Done!')"
   ]
  },
  {
   "cell_type": "code",
   "execution_count": null,
   "metadata": {
    "collapsed": true
   },
   "outputs": [],
   "source": [
    "with open( 'Plots/OneRayI[-160.375, -113.0]3.32mm_2018_05_03_14_52_45.pkl' , 'rb') as file1:\n",
    "    dI=pickle.load(file1, encoding = 'latin1')\n",
    "with open( 'Plots/OneRayD[-160.375, -113.0]3.32mm_2018_05_03_14_52_45.pkl' , 'rb') as file2:\n",
    "    dD=pickle.load(file2, encoding = 'latin1')\n",
    "Nsize =len(dI)    \n",
    "d1 = dI\n",
    "D = np.hanning(int(np.shape(d1)[0]))*d1\n",
    "S = np.fft.rfft(D)\n",
    "#S = S[1:]\n",
    "u = np.abs(S)\n",
    "xtot = 36*0.95630475596*4 #total length of the scan\n",
    "df = 1/xtot\n",
    "f = df*np.arange(1+Nsize/2)-df/2\n",
    "pl.title('Simulation Interferogram\\n90GHz')\n",
    "pl.plot(dD,dI)\n",
    "pl.xlabel('Optical Delay (mm)')\n",
    "pl.ylabel('Arb')\n",
    "#pl.savefig('GOODINT')\n",
    "pl.show()\n",
    "pl.title('Simulation Spectrum\\n90GHz')\n",
    "pl.plot(300*f[2:],u[2:], label = 'Spectrum')\n",
    "Freq = 300/3.32\n",
    "pl.axvline(x =float(Freq), color = 'green', label = str(Freq)[:7]+'GHz')\n",
    "pl.xlim(0,200)\n",
    "pl.legend()\n",
    "pl.xlabel('GHz')\n",
    "pl.savefig('GOODSPEC')\n",
    "pl.show()"
   ]
  },
  {
   "cell_type": "code",
   "execution_count": null,
   "metadata": {
    "collapsed": true
   },
   "outputs": [],
   "source": [
    "#fuckin around with tilting\n",
    "def makeraysTILT(sourcepointorigin,r,n,v):\n",
    "    sourcethet = [0.,0.,0.] #SHOT STRAIGHT UP\n",
    "    sourcepoints = specsource(r,sourcepointorigin,sourcethet,n) # SOURCE\n",
    "    Rays = FSRay(n,sourcepoints, sourcethet,origin10)\n",
    "    for i in range(n):\n",
    "        v1x,v1y,v1z = transformLG(v[0],v[1],v[2],originG,sourcethet)\n",
    "        v2 = sepop(v1x,v1y,v1z)\n",
    "        Rays[i][3]=v2\n",
    "    return Rays\n",
    "\n",
    "def RunOneRayTilt(Lamd,Nsize,spo,tilt): \n",
    "    n = 1\n",
    "    r = 0\n",
    "    Rays = makeraysTILT(spo,r,n,v) \n",
    "    jx,jy = gridlines(7.9375,[160.375,-113],200) #these are now the PIXELS\n",
    "    Pix = MakePixels(jx,jy) #center of each pixel\n",
    "    Ij = []\n",
    "    Delay = []\n",
    "    for y in np.linspace(-18,18,int(Nsize)):\n",
    "        PTot=0\n",
    "        OutRays=RunRaysM(Rays,y) #eight each\n",
    "        #Overlap = gaussoverlap(OutRays[0],OutRays[5],3.3) #two paths that hit two different spots \n",
    "        for j in range(len(Pix)): #per PIXEL\n",
    "            Ex4i = 0 #adding PER PIXEL from parts of RAYS in this PIXEL\n",
    "            Ey4i = 0 #THIS IS WHERE THEY WILL INTERFERE\n",
    "            for i in range(len(OutRays)): #per ray IN THIS PIXEL\n",
    "                I = OutRays[i][1]\n",
    "                thet = OutRays[i][0]\n",
    "                phase = np.exp(1j*(OutRays[i][4]*2*np.pi/Lamd)) #factor of 2??\n",
    "                Ex1 = np.sqrt(I)*np.cos(thet)\n",
    "                Ey1 = np.sqrt(I)*np.sin(thet)\n",
    "                Ex = Ex1*phase\n",
    "                Ey = Ey1*phase\n",
    "                #doing summation over entire detector\n",
    "                sig,mux,muy = MakeGaussian(OutRays[i],Lamd)\n",
    "                Gr = Airygaussian3dNORM(Pix[j][0],Pix[j][1],sig,mux,muy)\n",
    "                Ex4i = Ex4i + Gr*Ex\n",
    "                Ey4i = Ey4i + Gr*Ey\n",
    "            PTot = PTot + (Ex4i*Ex4i.conjugate()).real + (Ey4i*Ey4i.conjugate()).real\n",
    "        Delay.append(y*0.95630475596*4)\n",
    "        Ij.append(PTot)\n",
    "    return Delay,Ij\n"
   ]
  },
  {
   "cell_type": "code",
   "execution_count": null,
   "metadata": {
    "collapsed": true
   },
   "outputs": [],
   "source": [
    "Lamd = 3.32\n",
    "Nsize = Nsized(Lamd)\n",
    "#Nsize = 8192\n",
    "Freq = float(300/Lamd)\n",
    "spo = [-160.375,-113.,-80.0] \n",
    "v = specRestricted(1)[0]\n",
    "n = 1\n",
    "r = 0\n",
    "Rays = makeraysTILT(spo,r,n,v) \n",
    "Rays"
   ]
  },
  {
   "cell_type": "code",
   "execution_count": null,
   "metadata": {
    "collapsed": true
   },
   "outputs": [],
   "source": [
    "specRestricted(5)"
   ]
  },
  {
   "cell_type": "code",
   "execution_count": null,
   "metadata": {
    "collapsed": true
   },
   "outputs": [],
   "source": [
    "Timei = time.time()\n",
    "Lamd = 3.32\n",
    "Nsize = Nsized(Lamd)\n",
    "#Nsize = 8192\n",
    "Freq = float(300/Lamd)\n",
    "spo = [-160.375,-113.,-80.0] #global CENTERED\n",
    "spo1 = [-160.375,-113.,-80.0]\n",
    "XY = [spo1[0],spo1[1]]\n",
    "print(XY)\n",
    "v = [0.03525898696811644, -0.19784057768312852, 0.97959987222334211]\n",
    "print(v)\n",
    "Delay,Ij = RunOneRayTilt(Lamd,Nsize,spo,v)\n",
    "with open(\"Plots/OneRayI\"+str(XY)+str(Lamd)+str(v)+'mm'+time.strftime(\"_%Y_%m_%d_%H_%M_%S\") + \".pkl\", \"wb\") as f:\n",
    "    pickle.dump(Ij,f)\n",
    "with open(\"Plots/OneRayD\"+str(XY)+str(Lamd)+str(v)+'mm'+time.strftime(\"_%Y_%m_%d_%H_%M_%S\") + \".pkl\", \"wb\") as f:\n",
    "    pickle.dump(Delay,f)\n",
    "Timef = time.time()\n",
    "print('total time: ~',float(Timef-Timei)/60, 'mins')\n",
    "d1 = Ij\n",
    "D = np.hanning(int(np.shape(d1)[0]))*d1\n",
    "S = np.fft.rfft(D)\n",
    "#S = S[1:]\n",
    "u = np.abs(S)\n",
    "xtot = 36*0.95630475596*4 #total length of the scan\n",
    "df = 1/xtot\n",
    "f = df*np.arange(1+Nsize/2)-df/2\n",
    "pl.plot(Delay,Ij,linewidth = .8) \n",
    "pl.tick_params(colors = 'black')\n",
    "pl.title('$\\lambda$='+str(Lamd),color = 'black')\n",
    "pl.xlabel('Optical Delay (mm)', color = 'black')\n",
    "\n",
    "pl.savefig('Plots/OneRayInt'+str(XY)+time.strftime(\"_%Y_%m_%d_%H_%M_%S\")+'.png')\n",
    "\n",
    "pl.show() \n",
    "pl.plot(300*f[3:],u[2:])\n",
    "pl.title('FFT of above',color = 'black')\n",
    "pl.xlabel('GHz', color = 'black')\n",
    "pl.tick_params(colors = 'black')\n",
    "Freq = 300/3.32\n",
    "pl.axvline(x =float(Freq), color = 'green', label = str(Freq)+'GHz')\n",
    "pl.legend()\n",
    "\n",
    "#pl.axvline(x=Maxf(f[10:],u[9:])[0],color = 'black',label = 'Peak:' +str(Maxf(f[10:],u[9:])[0]) + 'GHz')\n",
    "#pl.savefig('Plots/OneRaySpec'+str(XY)+time.strftime(\"_%Y_%m_%d_%H_%M_%S\")+'.png')\n",
    "\n",
    "pl.legend()\n",
    "pl.show()"
   ]
  },
  {
   "cell_type": "code",
   "execution_count": null,
   "metadata": {
    "collapsed": true
   },
   "outputs": [],
   "source": [
    "f = df*np.arange(1+Nsize/2)-3*df/2\n",
    "pl.plot(Delay,Ij,linewidth = .8) \n",
    "pl.tick_params(colors = 'black')\n",
    "pl.title('$\\lambda$='+str(Lamd),color = 'black')\n",
    "pl.xlabel('Optical Delay (mm)', color = 'black')\n",
    "\n",
    "pl.savefig('Plots/OneRayInt'+str(XY)+str(v)+time.strftime(\"_%Y_%m_%d_%H_%M_%S\")+'.png')\n",
    "\n",
    "pl.show() \n",
    "pl.plot(300*f[3:],u[2:])\n",
    "pl.title('FFT of above',color = 'black')\n",
    "pl.xlabel('GHz', color = 'black')\n",
    "pl.tick_params(colors = 'black')\n",
    "Freq = 300/3.32\n",
    "pl.axvline(x =float(Freq), color = 'green', label = str(Freq)+'GHz')\n",
    "#pl.xlim(0,300)\n",
    "pl.legend()\n",
    "#pl.axvline(x=Maxf(f[10:],u[9:])[0],color = 'black',label = 'Peak:' +str(Maxf(f[10:],u[9:])[0]) + 'GHz')\n",
    "pl.savefig('Plots/OneRaySpec'+str(XY)+str(v)+time.strftime(\"_%Y_%m_%d_%H_%M_%S\")+'.png')\n",
    "\n",
    "\n",
    "pl.show()"
   ]
  },
  {
   "cell_type": "code",
   "execution_count": 17,
   "metadata": {},
   "outputs": [
    {
     "data": {
      "image/png": "[encoded data removed]",
      "text/plain": [
       "<matplotlib.figure.Figure at 0x10df59390>"
      ]
     },
     "metadata": {},
     "output_type": "display_data"
    },
    {
     "data": {
      "image/png": "[encoded data removed]",
      "text/plain": [
       "<matplotlib.figure.Figure at 0x10a3c4748>"
      ]
     },
     "metadata": {},
     "output_type": "display_data"
    }
   ],
   "source": [
    "with open( 'Plots/OneRayI[-160.375, -113.0]1.0156mm_2018_04_27_15_40_35.pkl' , 'rb') as file1:\n",
    "    Power1=pickle.load(file1, encoding = 'latin1')\n",
    "with open( 'Plots/OneRayD[-160.375, -113.0]1.0156mm_2018_04_27_15_40_35.pkl' , 'rb') as file2:\n",
    "    Delay=pickle.load(file2, encoding = 'latin1')\n",
    "    \n",
    "Power1=np.array(Power1)\n",
    "a = Power1.max()\n",
    "b = a/2\n",
    "Power = [(x-b)/(a/2) for x in Power1]\n",
    "pl.plot(Delay,Power,linewidth = 1)\n",
    "pl.title('Simulation')\n",
    "pl.xlabel('Optical Delay (mm)')\n",
    "pl.xlim(-67,67)\n",
    "#pl.savefig('Plots/SIMUL'+time.strftime(\"_%Y_%m_%d_%H_%M_%S\")+'.png')\n",
    "pl.show()\n",
    "\n",
    "Nsize = len(Power1)\n",
    "d1 = Power1\n",
    "D = np.hanning(int(np.shape(d1)[0]))*d1\n",
    "S = np.fft.rfft(D)\n",
    "#S = S[1:]\n",
    "u = np.abs(S)\n",
    "xtot = 36*0.95630475596*4 #total length of the scan\n",
    "df = 1/xtot\n",
    "f = df*np.arange(1+Nsize/2)-df/2\n",
    "\n",
    "pl.plot(300*f[3:],u[2:-1])\n",
    "pl.title('FFT of above',color = 'black')\n",
    "pl.xlabel('GHz', color = 'black')\n",
    "pl.tick_params(colors = 'black')\n",
    "Freq = 300/1.0156\n",
    "pl.axvline(x =float(Freq), color = 'green', label = str(Freq)+'GHz')\n",
    "pl.legend()\n",
    "pl.show()"
   ]
  },
  {
   "cell_type": "code",
   "execution_count": null,
   "metadata": {
    "collapsed": true
   },
   "outputs": [],
   "source": []
  }
 ],
 "metadata": {
  "kernelspec": {
   "display_name": "Python 3",
   "language": "python",
   "name": "python3"
  },
  "language_info": {
   "codemirror_mode": {
    "name": "ipython",
    "version": 3
   },
   "file_extension": ".py",
   "mimetype": "text/x-python",
   "name": "python",
   "nbconvert_exporter": "python",
   "pygments_lexer": "ipython3",
   "version": "3.6.1"
  }
 },
 "nbformat": 4,
 "nbformat_minor": 2
}
