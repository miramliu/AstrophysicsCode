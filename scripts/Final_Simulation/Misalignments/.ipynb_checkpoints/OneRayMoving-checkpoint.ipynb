{
 "cells": [
  {
   "cell_type": "code",
   "execution_count": 1,
   "metadata": {
    "collapsed": true
   },
   "outputs": [],
   "source": [
    "import numpy as np\n",
    "import matplotlib.pyplot as pl\n",
    "import itertools\n",
    "from mpl_toolkits.mplot3d import Axes3D\n",
    "from RayTraceFunctionsTilting import * \n",
    "from random import uniform\n",
    "import random\n",
    "import pickle\n",
    "import math\n",
    "import time"
   ]
  },
  {
   "cell_type": "markdown",
   "metadata": {},
   "source": [
    "p1 = np.pi/4.2 #off by 0.03739991254\n",
    "p2 = np.pi/2.2\n",
    "p3 = np.pi/1.2\n",
    "p4 = np.pi/3.8\n",
    "\n",
    "Timei = time.time()\n",
    "Lamd=3.32\n",
    "#Freq = 295.4\n",
    "#Lamd = 300/Freq\n",
    "Nsize = Nsized(Lamd)\n",
    "sp = spab(4,4)\n",
    "Delay,Ij = RunOneRay(Lamd,Nsize,sp)\n",
    "#with open(\"MisPolarization_\"+str(Lamd)+'mm'+time.strftime(\"_%Y_%m_%d_%H_%M_%S\") + \".pkl\", \"wb\") as f:\n",
    "    #pickle.dump(Ij,f)\n",
    "#with open(\"MisPolarization\"+str(Lamd)+'mm'+time.strftime(\"_%Y_%m_%d_%H_%M_%S\") + \".pkl\", \"wb\") as f:\n",
    "    #pickle.dump(Delay,f)\n",
    "Timef = time.time()\n",
    "print('total time: ~',float(Timef-Timei)/60, 'mins')\n",
    "pl.plot(Delay,Ij,linewidth = .8) \n",
    "pl.tick_params(colors = 'white')\n",
    "#pl.title('$\\lambda$='+str(Lamd),color = 'black')\n",
    "pl.xlabel('Optical Delay (mm)', color = 'black')\n",
    "pl.show()"
   ]
  },
  {
   "cell_type": "code",
   "execution_count": null,
   "metadata": {},
   "outputs": [],
   "source": [
    "with open( 'DShift_763.32mm_2018_06_26_19_56_39.pkl' , 'rb') as file1:\n",
    "    D1=pickle.load(file1, encoding = 'latin1')\n",
    "with open('IShift_763.32mm_2018_06_26_19_56_39.pkl','rb') as file2:\n",
    "    I1 = pickle.load(file2, encoding = 'latin1')\n",
    "    \n",
    "pl.plot(D1,I1/max(I1))\n",
    "pl.title('Source Misplacement',color = 'black')\n",
    "pl.xlabel('Optical Delay (mm)', color = 'black')\n",
    "pl.savefig('SourceMisplaced76.png')\n",
    "pl.show()"
   ]
  },
  {
   "cell_type": "code",
   "execution_count": null,
   "metadata": {},
   "outputs": [],
   "source": [
    "Timei = time.time()\n",
    "Freq = 295.4\n",
    "Lamd = 300/Freq\n",
    "Nsize = Nsized(Lamd)\n",
    "sp = spab(8,4)\n",
    "Delay,Ij = RunOneRay(Lamd,Nsize,sp)\n",
    "with open(\"IShift_84_\"+str(Lamd)+'mm'+time.strftime(\"_%Y_%m_%d_%H_%M_%S\") + \".pkl\", \"wb\") as f:\n",
    "    pickle.dump(Ij,f)\n",
    "with open(\"DShift_84_\"+str(Lamd)+'mm'+time.strftime(\"_%Y_%m_%d_%H_%M_%S\") + \".pkl\", \"wb\") as f:\n",
    "    pickle.dump(Delay,f)\n",
    "Timef = time.time()\n",
    "print('total time: ~',float(Timef-Timei)/60, 'mins')\n",
    "pl.plot(Delay,Ij,linewidth = .8) \n",
    "pl.tick_params(colors = 'white')\n",
    "#pl.title('$\\lambda$='+str(Lamd),color = 'black')\n",
    "pl.xlabel('Optical Delay (mm)', color = 'black')\n",
    "pl.show()"
   ]
  },
  {
   "cell_type": "code",
   "execution_count": null,
   "metadata": {},
   "outputs": [],
   "source": [
    "Timei = time.time()\n",
    "#Freq = 295.4\n",
    "#Lamd = 300/Freq\n",
    "Lamd = 3.32\n",
    "Nsize = Nsized(Lamd)\n",
    "sp = spab(7,6)\n",
    "Delay,Ij = RunOneRay(Lamd,Nsize,sp)\n",
    "with open(\"IShift_76_\"+str(Lamd)+'mm'+time.strftime(\"_%Y_%m_%d_%H_%M_%S\") + \".pkl\", \"wb\") as f:\n",
    "    pickle.dump(Ij,f)\n",
    "with open(\"DShift_76_\"+str(Lamd)+'mm'+time.strftime(\"_%Y_%m_%d_%H_%M_%S\") + \".pkl\", \"wb\") as f:\n",
    "    pickle.dump(Delay,f)\n",
    "Timef = time.time()\n",
    "print('total time: ~',float(Timef-Timei)/60, 'mins')\n",
    "pl.plot(Delay,Ij,linewidth = .8) \n",
    "pl.tick_params(colors = 'white')\n",
    "#pl.title('$\\lambda$='+str(Lamd),color = 'black')\n",
    "pl.xlabel('Optical Delay (mm)', color = 'black')\n",
    "pl.show()"
   ]
  },
  {
   "cell_type": "markdown",
   "metadata": {
    "collapsed": true
   },
   "source": [
    "Combine movement of source and tilt (clearly movement of source must require more than one ray..)"
   ]
  },
  {
   "cell_type": "code",
   "execution_count": null,
   "metadata": {},
   "outputs": [],
   "source": [
    "Timei = time.time()\n",
    "print('Running')\n",
    "Lamd = 3.32\n",
    "Nsize = Nsized(Lamd)\n",
    "#Nsize = 8192\n",
    "Freq = float(300/Lamd)\n",
    "spo = spab(4,4)\n",
    "\n",
    "thetmirr = [0.0,0.0, np.pi/100] \n",
    "v = [0.,0.,1.]\n",
    "Delay,Ij = RunOneRayTiltSource(Lamd,Nsize,sp,thetmirr)\n",
    "Timef = time.time()\n",
    "print('total time: ~',float(Timef-Timei)/60, 'mins')\n",
    "pl.plot(Delay,Ij,linewidth = .8) \n",
    "pl.tick_params(colors = 'black')\n",
    "pl.title('$\\lambda$='+str(Lamd),color = 'black')\n",
    "pl.xlabel('Optical Delay (mm)', color = 'black')\n",
    "pl.show()"
   ]
  },
  {
   "cell_type": "code",
   "execution_count": null,
   "metadata": {
    "collapsed": true
   },
   "outputs": [],
   "source": []
  }
 ],
 "metadata": {
  "kernelspec": {
   "display_name": "Python 3",
   "language": "python",
   "name": "python3"
  },
  "language_info": {
   "codemirror_mode": {
    "name": "ipython",
    "version": 3
   },
   "file_extension": ".py",
   "mimetype": "text/x-python",
   "name": "python",
   "nbconvert_exporter": "python",
   "pygments_lexer": "ipython3",
   "version": "3.6.1"
  }
 },
 "nbformat": 4,
 "nbformat_minor": 2
}
