{
 "cells": [
  {
   "cell_type": "code",
   "execution_count": 1,
   "metadata": {
    "collapsed": true
   },
   "outputs": [],
   "source": [
    "import numpy as np\n",
    "import matplotlib.pyplot as pl\n",
    "import itertools\n",
    "from mpl_toolkits.mplot3d import Axes3D\n",
    "#from RayTraceFunctions_topickle import *\n",
    "#from PossiblePaths_topickle import *\n",
    "#from BackgroundValues_topickle import *\n",
    "from RayTraceFunctions import *\n",
    "from PossiblePaths import *\n",
    "from BackgroundValues import *\n",
    "\n",
    "from random import uniform\n",
    "import random\n",
    "import matplotlib\n",
    "import pickle\n",
    "import math \n",
    "import time #to save figs automatically time.strftime(\"%Y_%m_%d_%s\")\n",
    "#%matplotlib auto\n",
    "import sys"
   ]
  },
  {
   "cell_type": "code",
   "execution_count": 2,
   "metadata": {
    "collapsed": true
   },
   "outputs": [],
   "source": [
    "def RunOneRay_ToPickle(Lamd,Nsize,spo,n): #no pixels\n",
    "    #n = 1\n",
    "    r = 0\n",
    "    Rays = makerays_Zero(spo,thetG,r,n) \n",
    "    Ij = []\n",
    "    Delay = []\n",
    "    Rayf = [[[]for j in range(Nsize+1)] for i in range(n)]\n",
    "    for k in range(n):\n",
    "        Rayf[k][0].append('Ray: '+str(k))\n",
    "    yn=1\n",
    "    for y in np.linspace(-18,18,int(Nsize)): #nsize being number of positions of mirror\n",
    "        for i in range(len(Rays)):\n",
    "            Paths = [TTTTioMPickle,RRRRioMPickle,TTRRioMPickle,RTTRioMPickle,RTRTioMPickle,TRRTioMPickle,RRTTioMPickle,TRTRioMPickle]\n",
    "            Ri = Rays[i]\n",
    "            for j in range(8):\n",
    "                origin = (0,y,0)\n",
    "                if j ==0:\n",
    "                    Rayf[i][yn].append('Mirror position: '+str(origin))\n",
    "                out = Paths[j](Ri,p1,p2,p3,p4,origin)\n",
    "                out = ((Paths[j].__name__)[:-3],)+out\n",
    "                Rayf[i][yn].append(out)\n",
    "        yn=yn+1\n",
    "    return Rayf"
   ]
  },
  {
   "cell_type": "code",
   "execution_count": 3,
   "metadata": {},
   "outputs": [
    {
     "name": "stdout",
     "output_type": "stream",
     "text": [
      "began:  2019-07-03 20:05:36\n",
      "CURRENTLY RUNNING...\n",
      "COMPLETED\n",
      "finished:  2019-07-03 20:05:51\n",
      "total time: ~ 0.23976724942525227 mins\n"
     ]
    }
   ],
   "source": [
    "Timei = time.time()\n",
    "print('began: ',time.strftime(\"%Y-%m-%d %H:%M:%S\", time.localtime(Timei)))\n",
    "print('CURRENTLY RUNNING...')\n",
    "Lamd = 3.32\n",
    "Nsize = Nsized(Lamd) #number of mirror positions\n",
    "#Nsize=10\n",
    "Freq = float(300/Lamd)\n",
    "spo = [-160.375,-113.,-80.0] #global CENTERED\n",
    "spo1 = [-152.4375, -113.0,-80.]\n",
    "n=500  #number of rays \n",
    "Rays = RunOneRay_TESTPICKLE(Lamd,1,spo,n)\n",
    "\n",
    "with open(\"500_Rays_zerophase\"+time.strftime(\"_%Y_%m_%d_%H_%M_%S\") + \".pkl\", \"wb\") as f:\n",
    "    pickle.dump(Rays,f)\n",
    "Timef = time.time()\n",
    "print('COMPLETED')\n",
    "print('finished: ',time.strftime(\"%Y-%m-%d %H:%M:%S\", time.localtime(Timef)))\n",
    "print('total time: ~',float(Timef-Timei)/60, 'mins')\n"
   ]
  },
  {
   "cell_type": "code",
   "execution_count": 9,
   "metadata": {
    "collapsed": true
   },
   "outputs": [],
   "source": [
    "#issue 24658 regarding unable to save more than 2GB in OS\n",
    "max_bytes=2**31 -1\n",
    "# write\n",
    "bytes_out=pickle.dumps(Rays)\n",
    "n_bytes=sys.getsizeof(bytes_out)\n",
    "with open(\"500_Rays_zerophase\"+time.strftime(\"_%Y_%m_%d_%H_%M_%S\") + \".pkl\",'wb') as f_out:\n",
    "    for idx in range(0,n_bytes,max_bytes):\n",
    "        f_out.write(bytes_out[idx:idx+max_bytes])\n",
    "\n"
   ]
  },
  {
   "cell_type": "markdown",
   "metadata": {},
   "source": [
    "# summary of the array \"Rays\"\n",
    "### RAYS ARE ORGANIZED AS FOLLOWS\n",
    "\n",
    "RAYS[1stRay\n",
    "     [Mirror Position1\n",
    "      [[Path1\n",
    "       [[section1],[section2],...[section12]]\n",
    "       ]\n",
    "      [Path2\n",
    "       [[section1],...[section12]]\n",
    "      ]\n",
    "       ...\n",
    "      [Path8\n",
    "          \n",
    "      ]\n",
    "     ]\n",
    "     Mirror Position2\n",
    "      [[path1[sections]]\n",
    "       [path2[sections]]\n",
    "       ...\n",
    "       [path8[sections]]\n",
    "      ]\n",
    "     ]   \n",
    "2ndRay[Mirror Positions[Paths[sections]]]\n",
    "...\n",
    "NthRay[Mirror Positions[Paths[sections]]]]\n",
    "\n",
    "So generally Rays[Ns[Mirror Positions[Paths[sections]]]]\n",
    "\n",
    "Mirror position is -18 to 18 divided into Nsize segments (Nsize being number of samples taken as the mirror travels)\n",
    "\n",
    "so the Mirror Position = \"7\" is the location of the mirror at the 7th position of the mirror travelling from -18 to 18\n",
    "\n",
    "path is which of the 8 different combinations of transmission and reflection that lead to the detector\n",
    "\n",
    "in order 0-7:TTTT,RRRR,TTRR,RTTR,RTRT,TRRT,RRTT,TRTR, with T=transmission, R=reflection\n",
    "\n",
    "there are 12 sections of each path (from launch from source to launch from last ellipsoid)\n",
    "\n",
    "quick tutorial:\n",
    "if you want a certain ray \"n\"\n",
    "Rays[n] will return the Ray Number, ALL mirror positions, paths, and sections of that one ray.\n",
    "Rays[n][0] will return the name \"Ray: n\"\n",
    "Rays[n][1] will return the first mirror position, corresponding paths, and sections.\n",
    "Rays[n][2] will return the second mirror positions,corresponding paths,and sections\n",
    "Rays[n][m][0] will return the mth mirror position's actual location (x,y,z)\n",
    "Rays[n][m][1] will return the first path and sections (TTTT and 12 corresponding sections)\n",
    "Rays[n][m][2] will return the second path and sections (RRRR and 12 corresponding sections)\n",
    "and of course each section is defined by a singly Ray of the form \n",
    "Ray = [polarization(theta), intensity (magnitude of vector), point (x,y,z), direction(Vx,Vy,Vz), distance travelled (D)]\n",
    "\n",
    "So to get ALL the LAST sections of all Rays (all of the rays reflecting off of the last ellipsoid into the detector plane: \n",
    "for i in range(N): #number of rays\n",
    "    for j in range(1,Nsize): #mirror position (0 is the name of the mirror position)\n",
    "        for k in range(1,9): #which paths (0 is the name of the path)\n",
    "            print(i,j,k,Rays[i][j][k][12]) #12th section\n",
    "\n",
    "\n",
    "\n"
   ]
  },
  {
   "cell_type": "markdown",
   "metadata": {},
   "source": [
    "for i in range(10): #number of rays\n",
    "    for j in range(1,10): #mirror position\n",
    "        for k in range(1,9): #which paths\n",
    "            print(i,j,k,Rays[i][j][k][12]) #12th section"
   ]
  },
  {
   "cell_type": "code",
   "execution_count": 26,
   "metadata": {
    "collapsed": true
   },
   "outputs": [],
   "source": [
    "def OFDM_topickle(Rays,y): \n",
    "    Rayf = [['Ray: '+str(i)] for i in range(len(Rays))]\n",
    "     for i in range(len(Rays)):\n",
    "        Paths = [TTTTioM,RRRRioM,TTRRioM,RTTRioM,RTRTioM,TRRTioM,RRTTioM,TRTRioM]\n",
    "        Ri = Rays[i]\n",
    "        for j in range(8):\n",
    "            origin = (0,y,0)\n",
    "            if j ==0:\n",
    "                Rayf.append('Mirror position: '+str(origin))\n",
    "            out = Paths[j](Ri,p1,p2,p3,p4,origin)\n",
    "            out = ((Paths[j].__name__)[:-3],)+out\n",
    "            Rayf.append(out)\n",
    "    return Rayf"
   ]
  },
  {
   "cell_type": "code",
   "execution_count": 155,
   "metadata": {},
   "outputs": [
    {
     "data": {
      "text/plain": [
       "2"
      ]
     },
     "execution_count": 155,
     "metadata": {},
     "output_type": "execute_result"
    }
   ],
   "source": [
    "n = 2\n",
    "r = 0\n",
    "Nsize =1\n",
    "spo = [-160.375,-113.,-80.0] #global CENTERED\n",
    "Rays = makerays_Zero(spo,thetG,r,n) \n",
    "Rayf = [[[]for j in range(Nsize+1)] for i in range(n)]\n",
    "for k in range(n):\n",
    "    Rayf[k][0].append('Ray: '+str(k))\n",
    "originM=[0,0,0]\n",
    "if 1==1:\n",
    "    for i in range(len(Rays)):\n",
    "        Paths = [TTTTioM,RRRRioM,TTRRioM,RTTRioM,RTRTioM,TRRTioM,RRTTioM,TRTRioM]\n",
    "        Ri = Rays[i]\n",
    "        for j in range(8):\n",
    "            origin = (0,0,0)\n",
    "            if j ==0:\n",
    "                Rayf[i][1].append('Mirror position: '+str(origin))\n",
    "            out = Paths[j](Ri,p1,p2,p3,p4,origin)\n",
    "            out = ((Paths[j].__name__)[:-3],)+out\n",
    "            Rayf[i][1].append(out)\n",
    "len(Rayf)"
   ]
  },
  {
   "cell_type": "code",
   "execution_count": 90,
   "metadata": {},
   "outputs": [
    {
     "data": {
      "text/plain": [
       "[[['Ray: 0'], []],\n",
       " [['Ray: 1'], []],\n",
       " [['Ray: 2'], []],\n",
       " [['Ray: 3'], []],\n",
       " [['Ray: 4'], []],\n",
       " [['Ray: 5'], []],\n",
       " [['Ray: 6'], []],\n",
       " [['Ray: 7'], []],\n",
       " [['Ray: 8'], []],\n",
       " [['Ray: 9'], []]]"
      ]
     },
     "execution_count": 90,
     "metadata": {},
     "output_type": "execute_result"
    }
   ],
   "source": [
    "a = [[[]for j in range(2)] for i in range(10)]\n",
    "for k in range(10):\n",
    "    a[k][0].append('Ray: '+str(k))\n",
    "a"
   ]
  },
  {
   "cell_type": "code",
   "execution_count": 116,
   "metadata": {},
   "outputs": [
    {
     "data": {
      "text/plain": [
       "['Ray: 0']"
      ]
     },
     "execution_count": 116,
     "metadata": {},
     "output_type": "execute_result"
    }
   ],
   "source": [
    "Nsize=10\n",
    "n=10\n",
    "Rayf = [[[]for j in range(Nsize+1)] for i in range(n)]\n",
    "for k in range(n):\n",
    "    Rayf[k][0].append('Ray: '+str(k))\n",
    "Rayf[0][0]"
   ]
  },
  {
   "cell_type": "code",
   "execution_count": 97,
   "metadata": {},
   "outputs": [
    {
     "name": "stdout",
     "output_type": "stream",
     "text": [
      "-18.0 0\n",
      "-14.0 1\n",
      "-10.0 2\n",
      "-6.0 3\n",
      "-2.0 4\n",
      "2.0 5\n",
      "6.0 6\n",
      "10.0 7\n",
      "14.0 8\n",
      "18.0 9\n"
     ]
    }
   ],
   "source": [
    "Nsize=10\n",
    "yn = 0\n",
    "for y in np.linspace(-18,18,int(Nsize)):\n",
    "    print(y,yn)\n",
    "    yn=yn+1"
   ]
  },
  {
   "cell_type": "code",
   "execution_count": null,
   "metadata": {
    "collapsed": true
   },
   "outputs": [],
   "source": []
  }
 ],
 "metadata": {
  "kernelspec": {
   "display_name": "Python 3",
   "language": "python",
   "name": "python3"
  },
  "language_info": {
   "codemirror_mode": {
    "name": "ipython",
    "version": 3
   },
   "file_extension": ".py",
   "mimetype": "text/x-python",
   "name": "python",
   "nbconvert_exporter": "python",
   "pygments_lexer": "ipython3",
   "version": "3.6.1"
  }
 },
 "nbformat": 4,
 "nbformat_minor": 2
}
