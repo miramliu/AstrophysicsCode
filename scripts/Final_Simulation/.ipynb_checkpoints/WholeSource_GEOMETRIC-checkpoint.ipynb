{
 "cells": [
  {
   "cell_type": "code",
   "execution_count": 1,
   "metadata": {
    "collapsed": true
   },
   "outputs": [],
   "source": [
    "import numpy as np\n",
    "import matplotlib.pyplot as pl\n",
    "import itertools\n",
    "from mpl_toolkits.mplot3d import Axes3D\n",
    "from RayTraceFunctions import *\n",
    "from PossiblePaths import *\n",
    "from BackgroundValues import *\n",
    "from random import uniform\n",
    "import random\n",
    "import matplotlib\n",
    "import pickle\n",
    "import time #to save figs automatically time.strftime(\"%Y_%m_%d_%s\")\n",
    "#%matplotlib auto\n",
    "from datetime import datetime\n"
   ]
  },
  {
   "cell_type": "code",
   "execution_count": 2,
   "metadata": {},
   "outputs": [
    {
     "name": "stdout",
     "output_type": "stream",
     "text": [
      "1524696204.773505\n",
      "1524696526.911696\n",
      "total time: ~ 5.368969849745432 mins\n"
     ]
    }
   ],
   "source": [
    "Timei = time.time()\n",
    "print(Timei) #time in seconds\n",
    "'''Give center of source (SPO), angle of source (ST),radius of source, number of rays, wavelength, sample number. returns interferogram '''\n",
    "#def RunSource(spo,st,r,n, Lamd,Nsize): \n",
    "frac = []\n",
    "Delay = []\n",
    "Run =1\n",
    "if Run ==1:\n",
    "    n = 40\n",
    "    r = 7.9375\n",
    "    st = [0.,0.,0.] #SHOT STRAIGHT UP\n",
    "    Lamd = 3.3\n",
    "    Nsize = 256\n",
    "    spo = [-160.375,-113.,-80.0]\n",
    "    Rays = makerays(spo,st,r,n) \n",
    "    #jx,jy = gridlines(7.9375,[160.375,-113],200) #these are now the PIXELS\n",
    "    #Pix = MakePixels(jx,jy) #center of each pixel\n",
    "    #Ij = []\n",
    "    #Delay = []\n",
    "    for y in np.linspace(-18,18,Nsize):\n",
    "        #PTot=0\n",
    "        OutRays=RunRaysM(Rays,y) #eight each\n",
    "        frac.append(len(OutRays))\n",
    "        Delay.append(y*0.95630475596*4)\n",
    "    #return Delay,Ij\n",
    "Timef = time.time()\n",
    "print(Timef) #time in seconds\n",
    "\n",
    "print('total time: ',float(Timef-Timei)/60, 'mins')"
   ]
  },
  {
   "cell_type": "code",
   "execution_count": 4,
   "metadata": {},
   "outputs": [
    {
     "name": "stderr",
     "output_type": "stream",
     "text": [
      "/Users/Lab/anaconda/envs/py3/lib/python3.6/site-packages/matplotlib/axes/_axes.py:545: UserWarning: No labelled objects found. Use label='...' kwarg on individual plots.\n",
      "  warnings.warn(\"No labelled objects found. \"\n"
     ]
    },
    {
     "data": {
      "image/png": "[encoded data removed]",
      "text/plain": [
       "<matplotlib.figure.Figure at 0x11c95ed68>"
      ]
     },
     "metadata": {},
     "output_type": "display_data"
    },
    {
     "name": "stdout",
     "output_type": "stream",
     "text": [
      "Done!\n"
     ]
    }
   ],
   "source": [
    "with open(\"Plots/WholeSourceGeomModI\"+str(Lamd)+'mm'+time.strftime(\"_%Y_%m_%d_%H_%M_%S\") + \".pkl\", \"wb\") as F:\n",
    "    pickle.dump(frac,F)\n",
    "with open(\"Plots/WholeSourceGeomModD\"+str(Lamd)+'mm'+time.strftime(\"_%Y_%m_%d_%H_%M_%S\") + \".pkl\", \"wb\") as F:\n",
    "    pickle.dump(Delay,F)\n",
    "\n",
    "\n",
    "pl.plot(Delay,frac) #treating detector like one pixel\n",
    "pl.tick_params(colors = 'black')\n",
    "pl.title('$\\lambda$='+str(Lamd),color = 'black')\n",
    "pl.xlabel('Path Difference (mm)', color = 'black')\n",
    "pl.savefig('Plots/WholeSourceGeomMod'+time.strftime(\"%Y_%m_%d_%H_%M_%S\"))\n",
    "pl.legend()\n",
    "pl.show()\n",
    "\n",
    "print('Done!')"
   ]
  },
  {
   "cell_type": "code",
   "execution_count": null,
   "metadata": {
    "collapsed": true
   },
   "outputs": [],
   "source": []
  }
 ],
 "metadata": {
  "kernelspec": {
   "display_name": "Python 3",
   "language": "python",
   "name": "python3"
  },
  "language_info": {
   "codemirror_mode": {
    "name": "ipython",
    "version": 3
   },
   "file_extension": ".py",
   "mimetype": "text/x-python",
   "name": "python",
   "nbconvert_exporter": "python",
   "pygments_lexer": "ipython3",
   "version": "3.6.1"
  }
 },
 "nbformat": 4,
 "nbformat_minor": 2
}
