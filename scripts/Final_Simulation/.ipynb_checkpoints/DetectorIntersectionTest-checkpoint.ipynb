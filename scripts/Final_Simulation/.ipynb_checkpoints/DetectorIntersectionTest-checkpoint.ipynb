{
 "cells": [
  {
   "cell_type": "code",
   "execution_count": 1,
   "metadata": {
    "collapsed": true
   },
   "outputs": [],
   "source": [
    "import numpy as np\n",
    "import matplotlib.pyplot as pl\n",
    "import itertools\n",
    "from mpl_toolkits.mplot3d import Axes3D\n",
    "from RayTraceFunctions import *\n",
    "from PossiblePaths import *\n",
    "from BackgroundValues import *\n",
    "from random import uniform\n",
    "import random\n",
    "import matplotlib\n",
    "import pickle\n",
    "import math \n",
    "import time #to save figs automatically time.strftime(\"%Y_%m_%d_%s\")\n",
    "#%matplotlib auto"
   ]
  },
  {
   "cell_type": "code",
   "execution_count": 13,
   "metadata": {},
   "outputs": [
    {
     "data": {
      "image/png": "[encoded data removed]",
      "text/plain": [
       "<matplotlib.figure.Figure at 0x117545e80>"
      ]
     },
     "metadata": {},
     "output_type": "display_data"
    }
   ],
   "source": [
    "#def RunOneRay_nopix(Lamd,Nsize,spo): #no pixels\n",
    "Lamd = 3.32\n",
    "Freq = float(300/Lamd)\n",
    "spo = [-160.375,-113.,-80.0] #global CENTERED\n",
    "if 1 == 1:\n",
    "    n = 1\n",
    "    r = 0\n",
    "    Rays = makeraysVERTICAL(spo,r,n) \n",
    "    #jx,jy = gridlines(7.9375,[160.375,-113],200) #these are now the PIXELS\n",
    "    #Pix = MakePixels(jx,jy) #center of each pixel\n",
    "    #Ij = []\n",
    "    #Delay = []\n",
    "    for y in np.linspace(-18,18,int(8)): #nsize being number of positions of mirror\n",
    "        PTot=0\n",
    "        OutRays=RunRaysM(Rays,y) #eight each\n",
    "        Ext = 0\n",
    "        Eyt = 0\n",
    "        for i in range(len(OutRays)): #per ray IN THIS PIXEL\n",
    "            SP = OutRays[i][2]\n",
    "            V = OutRays[i][3]\n",
    "            pl.scatter(SP[0],SP[1])\n",
    "            pl.axvline(160.375-8)\n",
    "            pl.axvline(160.375+8)\n",
    "            pl.axhline(-113-8)\n",
    "            pl.axhline(-113+8)\n",
    "            #pl.ylim(-113.7,-112.3)\n",
    "            [160.375,-113],7.9375\n",
    "            #pl.xlim(157,163)\n",
    "    pl.show()"
   ]
  },
  {
   "cell_type": "code",
   "execution_count": null,
   "metadata": {
    "collapsed": true
   },
   "outputs": [],
   "source": []
  }
 ],
 "metadata": {
  "kernelspec": {
   "display_name": "Python 3",
   "language": "python",
   "name": "python3"
  },
  "language_info": {
   "codemirror_mode": {
    "name": "ipython",
    "version": 3
   },
   "file_extension": ".py",
   "mimetype": "text/x-python",
   "name": "python",
   "nbconvert_exporter": "python",
   "pygments_lexer": "ipython3",
   "version": "3.6.1"
  }
 },
 "nbformat": 4,
 "nbformat_minor": 2
}
