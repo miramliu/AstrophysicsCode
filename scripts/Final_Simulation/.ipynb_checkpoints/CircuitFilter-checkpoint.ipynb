{
 "cells": [
  {
   "cell_type": "markdown",
   "metadata": {},
   "source": [
    "This is a notebook attempting to illustrate the circuit filter function in the detector of the physical FTS"
   ]
  },
  {
   "cell_type": "code",
   "execution_count": 1,
   "metadata": {
    "collapsed": true
   },
   "outputs": [],
   "source": [
    "import numpy as np\n",
    "import matplotlib.pyplot as pl\n",
    "import itertools\n",
    "from mpl_toolkits.mplot3d import Axes3D\n",
    "from RayTraceFunctions_topickle import *\n",
    "from PossiblePaths_topickle import *\n",
    "from BackgroundValues_topickle import *\n",
    "from random import uniform\n",
    "import random\n",
    "import matplotlib\n",
    "import pickle\n",
    "import math \n",
    "import time #to save figs automatically time.strftime(\"%Y_%m_%d_%s\")\n",
    "#%matplotlib auto"
   ]
  },
  {
   "cell_type": "code",
   "execution_count": 39,
   "metadata": {
    "collapsed": true
   },
   "outputs": [],
   "source": [
    "def CF(f):\n",
    "    Vin=1 # want Vout/Vin\n",
    "    AcOut=[]\n",
    "    for i in range(len(f)):\n",
    "        A=(Vin*(1+5/1.3)*(1+1j*2*np.pi*f[i]*(106*10**-9)*.917*10**6))\n",
    "        B=(1j*2*f[i]*np.pi*(474*10**-9)*(10**6))/(1j*2*np.pi*f[i]*(474*10**-9)*(10**6) +1)\n",
    "        AcOut.append(A*B)\n",
    "    return AcOut"
   ]
  },
  {
   "cell_type": "code",
   "execution_count": 43,
   "metadata": {},
   "outputs": [
    {
     "name": "stderr",
     "output_type": "stream",
     "text": [
      "/Users/Lab/anaconda/envs/py3/lib/python3.6/site-packages/numpy/core/numeric.py:531: ComplexWarning: Casting complex values to real discards the imaginary part\n",
      "  return array(a, dtype, copy=False, order=order)\n"
     ]
    },
    {
     "data": {
      "image/png": "[encoded data removed]",
      "text/plain": [
       "<matplotlib.figure.Figure at 0x11056ca20>"
      ]
     },
     "metadata": {},
     "output_type": "display_data"
    }
   ],
   "source": [
    "f = np.linspace(0,20,500) #frequency\n",
    "ff = CF(f) #filter function\n",
    "pl.plot(f,ff)\n",
    "pl.xlabel('hz')\n",
    "pl.ylabel('Vout/Vin')\n",
    "pl.show()"
   ]
  },
  {
   "cell_type": "code",
   "execution_count": 38,
   "metadata": {},
   "outputs": [
    {
     "name": "stderr",
     "output_type": "stream",
     "text": [
      "/Users/Lab/anaconda/envs/py3/lib/python3.6/site-packages/numpy/core/numeric.py:531: ComplexWarning: Casting complex values to real discards the imaginary part\n",
      "  return array(a, dtype, copy=False, order=order)\n"
     ]
    },
    {
     "data": {
      "image/png": "[encoded data removed]",
      "text/plain": [
       "<matplotlib.figure.Figure at 0x11079f080>"
      ]
     },
     "metadata": {},
     "output_type": "display_data"
    }
   ],
   "source": [
    "#test of a high pass filter\n",
    "def testfunc(f):\n",
    "    AcOut=[]\n",
    "    for i in range(len(f)):\n",
    "        A=(1j*2*np.pi*f[i]*11*10**-2)/(1+(1j*2*np.pi*f[i]*11*10**-2))\n",
    "        AcOut.append(A)\n",
    "    return AcOut\n",
    "\n",
    "f = np.linspace(0,200) #frequency\n",
    "ff = testfunc(f) #filter function\n",
    "pl.plot(f,ff)\n",
    "pl.show()"
   ]
  },
  {
   "cell_type": "code",
   "execution_count": null,
   "metadata": {
    "collapsed": true
   },
   "outputs": [],
   "source": []
  }
 ],
 "metadata": {
  "kernelspec": {
   "display_name": "Python 3",
   "language": "python",
   "name": "python3"
  },
  "language_info": {
   "codemirror_mode": {
    "name": "ipython",
    "version": 3
   },
   "file_extension": ".py",
   "mimetype": "text/x-python",
   "name": "python",
   "nbconvert_exporter": "python",
   "pygments_lexer": "ipython3",
   "version": "3.6.1"
  }
 },
 "nbformat": 4,
 "nbformat_minor": 2
}
