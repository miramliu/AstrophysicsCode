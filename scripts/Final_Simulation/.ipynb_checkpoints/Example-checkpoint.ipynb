{
 "cells": [
  {
   "cell_type": "markdown",
   "metadata": {},
   "source": [
    "This is an example .ipynb notebook of the simulations of the FTS. Included are the packages used, .py files that contain the functions, as well as a few of the functions used, and the data displayed. 4/21/19 Mira Liu"
   ]
  },
  {
   "cell_type": "code",
   "execution_count": 4,
   "metadata": {
    "collapsed": true
   },
   "outputs": [],
   "source": [
    "import numpy as np\n",
    "import matplotlib.pyplot as pl\n",
    "import itertools\n",
    "from mpl_toolkits.mplot3d import Axes3D\n",
    "from RayTraceFunctions import *\n",
    "from PossiblePaths import *\n",
    "from BackgroundValues import *\n",
    "from random import uniform\n",
    "import random\n",
    "import matplotlib\n",
    "import pickle\n",
    "import math \n",
    "import time #to save figs automatically time.strftime(\"%Y_%m_%d_%s\")\n",
    "#%matplotlib auto"
   ]
  },
  {
   "cell_type": "markdown",
   "metadata": {},
   "source": [
    "# Runs n rays independently, each ray representing a single photon travelling eight paths. Each photon given random phase, and power is summed per ray independently."
   ]
  },
  {
   "cell_type": "code",
   "execution_count": 6,
   "metadata": {},
   "outputs": [
    {
     "name": "stdout",
     "output_type": "stream",
     "text": [
      "began:  2019-04-21 21:42:07\n",
      "CURRENTLY RUNNING...\n",
      "COMPLETED\n",
      "total time: ~ 0.4762706955273946 mins\n"
     ]
    }
   ],
   "source": [
    "Timei = time.time()\n",
    "print('began: ',time.strftime(\"%Y-%m-%d %H:%M:%S\", time.localtime(Timei)))\n",
    "Lamd = 3.32 #wavelength (in mm)\n",
    "Nsize = Nsized(Lamd)\n",
    "Freq = float(300/Lamd)\n",
    "spo = [-160.375,-113.,-80.0] #global focal point and center axis\n",
    "\n",
    "thetG = [0,0,0] #central axis\n",
    "n=1\n",
    "Delay,Ij,Numbers = RunNRays_NoPix(Lamd,Nsize,spo,n) #runs n rays independently\n",
    "print('CURRENTLY RUNNING...')\n",
    "\n",
    "#with open(\"Name\"+time.strftime(\"_%Y_%m_%d_%H_%M_%S\") + \".pkl\", \"wb\") as f:\n",
    "    #pickle.dump(Ij,f)\n",
    "#with open(\"Name\"+time.strftime(\"_%Y_%m_%d_%H_%M_%S\") + \".pkl\", \"wb\") as f:\n",
    "    #pickle.dump(Delay,f)\n",
    "    \n",
    "Timef = time.time()\n",
    "print('COMPLETED')\n",
    "print('total time: ~',float(Timef-Timei)/60, 'mins')"
   ]
  },
  {
   "cell_type": "markdown",
   "metadata": {},
   "source": [
    "# Plotting the number of rays that reach the detector as a function of mirror position.\n",
    "\n",
    "See MultiRayModulating for original"
   ]
  },
  {
   "cell_type": "code",
   "execution_count": 25,
   "metadata": {
    "collapsed": true
   },
   "outputs": [],
   "source": [
    "''' Number of rays that reach detector as a function of mirror location '''\n",
    "def Part2(Lamd,Nsize,spo): \n",
    "    n = 100\n",
    "    r = 5 #CHANGED FORM 0 TO 5 TO TEST IF THIS IS SOURCE OF DIFFERENCE\n",
    "    thetG = [0,0,0]\n",
    "    Rays = makerays(spo,thetG,r,n) \n",
    "    N=[]\n",
    "    Number = [] #number of rays that hit detector as function of mirror position (y)\n",
    "    for y in np.linspace(-18,18,int(Nsize)):\n",
    "        PTot=0\n",
    "        OutRays=RunRaysM(Rays,y) #eight each if n =1\n",
    "        N.append(len(OutRays))\n",
    "    return N"
   ]
  },
  {
   "cell_type": "code",
   "execution_count": 26,
   "metadata": {
    "collapsed": true
   },
   "outputs": [],
   "source": [
    "N2=Part2(Lamd,Nsize,spo)"
   ]
  },
  {
   "cell_type": "code",
   "execution_count": 27,
   "metadata": {
    "collapsed": true
   },
   "outputs": [],
   "source": [
    "with open(\"100_rays_geom_mod_r=5\"+time.strftime(\"_%Y_%m_%d_%H_%M_%S\") + \".pkl\", \"wb\") as f:\n",
    "    pickle.dump(N2,f)\n",
    "    "
   ]
  },
  {
   "cell_type": "markdown",
   "metadata": {},
   "source": [
    "### is the difference below due to number, source, geometry of simulation, bug...\n",
    "\n",
    "#### I ran the original code again, and got something similar to the one I am getting now... despite the original output being different."
   ]
  },
  {
   "cell_type": "code",
   "execution_count": 28,
   "metadata": {},
   "outputs": [
    {
     "data": {
      "image/png": "[encoded data removed]",
      "text/plain": [
       "<matplotlib.figure.Figure at 0x10f435be0>"
      ]
     },
     "metadata": {},
     "output_type": "display_data"
    }
   ],
   "source": [
    "N1 = np.array(N)\n",
    "N21 = np.array(N2)\n",
    "with open( 'MultiRaySimulation/IjModulate_2018_07_14_09_17_39.pkl' , 'rb') as file1:\n",
    "    Ij=pickle.load(file1, encoding = 'latin1')\n",
    "Ij = np.array(Ij)\n",
    "with open( 'MultiRaySimulation/DelayModulate_2018_07_14_09_17_39.pkl' , 'rb') as file1:\n",
    "    Delay=pickle.load(file1, encoding = 'latin1')\n",
    "    \n",
    "    \n",
    "pl.plot(Delay,Ij/max(Ij),linewidth = .8, color = 'black',label = 'Beam Loss')\n",
    "Delay2 = np.linspace(min(Delay),max(Delay),len(N1))\n",
    "pl.plot(Delay2,N/N1.max())\n",
    "pl.plot(Delay2,N2/N21.max())\n",
    "pl.show()"
   ]
  },
  {
   "cell_type": "code",
   "execution_count": null,
   "metadata": {
    "collapsed": true
   },
   "outputs": [],
   "source": []
  }
 ],
 "metadata": {
  "kernelspec": {
   "display_name": "Python 3",
   "language": "python",
   "name": "python3"
  },
  "language_info": {
   "codemirror_mode": {
    "name": "ipython",
    "version": 3
   },
   "file_extension": ".py",
   "mimetype": "text/x-python",
   "name": "python",
   "nbconvert_exporter": "python",
   "pygments_lexer": "ipython3",
   "version": "3.6.1"
  }
 },
 "nbformat": 4,
 "nbformat_minor": 2
}
