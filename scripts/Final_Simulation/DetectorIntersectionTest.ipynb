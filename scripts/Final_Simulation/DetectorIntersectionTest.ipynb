{
 "cells": [
  {
   "cell_type": "code",
   "execution_count": 19,
   "metadata": {
    "collapsed": true
   },
   "outputs": [],
   "source": [
    "import numpy as np\n",
    "import matplotlib.pyplot as pl\n",
    "import itertools\n",
    "from mpl_toolkits.mplot3d import Axes3D\n",
    "from RayTraceFunctions import *\n",
    "from PossiblePaths import *\n",
    "from BackgroundValues import *\n",
    "from random import uniform\n",
    "import random\n",
    "import matplotlib\n",
    "import pickle\n",
    "import math \n",
    "import time #to save figs automatically time.strftime(\"%Y_%m_%d_%s\")\n",
    "#%matplotlib auto"
   ]
  },
  {
   "cell_type": "code",
   "execution_count": 18,
   "metadata": {},
   "outputs": [
    {
     "name": "stdout",
     "output_type": "stream",
     "text": [
      "[[157.63919970768538, -114.1322263621263, 80], [157.63919970768541, -114.13222636212633, 80], [157.63919970768541, -114.13222636212633, 80], [163.17469562396397, -112.6595961382516, 80], [163.17469562396397, -112.65959613825162, 80], [163.17469562396397, -112.65959613825162, 80], [157.63919970768538, -114.1322263621263, 80], [163.17469562396397, -112.6595961382516, 80]]\n",
      "[[158.42296121973891, -113.72466466178132, 80], [158.42296121973891, -113.72466466178132, 80], [158.42296121973891, -113.72466466178132, 80], [162.35926253686884, -112.67715603478563, 80], [162.35926253686884, -112.67715603478563, 80], [162.35926253686884, -112.67715603478563, 80], [158.42296121973891, -113.72466466178132, 80], [162.35926253686884, -112.67715603478563, 80]]\n",
      "[[159.20337499350481, -113.3854406222824, 80], [159.20337499350481, -113.3854406222824, 80], [159.20337499350481, -113.3854406222824, 80], [161.5581367681317, -112.75869692643488, 80], [161.5581367681317, -112.75869692643485, 80], [161.5581367681317, -112.75869692643485, 80], [159.20337499350481, -113.3854406222824, 80], [161.5581367681317, -112.75869692643488, 80]]\n",
      "[[159.98376133449125, -113.11230305481864, 80], [159.98376133449125, -113.11230305481864, 80], [159.98376133449125, -113.11230305481864, 80], [160.76751514315598, -112.90368341625704, 80], [160.76751514315598, -112.90368341625704, 80], [160.76751514315598, -112.90368341625704, 80], [159.98376133449125, -113.11230305481864, 80], [160.76751514315598, -112.90368341625704, 80]]\n",
      "[[160.76751514315598, -112.90368341625704, 80], [160.76751514315598, -112.90368341625704, 80], [160.76751514315598, -112.90368341625704, 80], [159.98376133449125, -113.11230305481863, 80], [159.98376133449128, -113.11230305481863, 80], [159.98376133449128, -113.11230305481863, 80], [160.76751514315598, -112.90368341625704, 80], [159.98376133449125, -113.11230305481863, 80]]\n",
      "[[161.5581367681317, -112.75869692643485, 80], [161.5581367681317, -112.75869692643488, 80], [161.5581367681317, -112.75869692643488, 80], [159.20337499350481, -113.3854406222824, 80], [159.20337499350481, -113.3854406222824, 80], [159.20337499350481, -113.3854406222824, 80], [161.5581367681317, -112.75869692643485, 80], [159.20337499350481, -113.3854406222824, 80]]\n",
      "[[162.35926253686884, -112.67715603478563, 80], [162.35926253686884, -112.67715603478563, 80], [162.35926253686884, -112.67715603478563, 80], [158.42296121973891, -113.72466466178132, 80], [158.42296121973891, -113.72466466178132, 80], [158.42296121973891, -113.72466466178132, 80], [162.35926253686884, -112.67715603478563, 80], [158.42296121973891, -113.72466466178132, 80]]\n",
      "[[163.17469562396397, -112.65959613825162, 80], [163.17469562396397, -112.6595961382516, 80], [163.17469562396397, -112.6595961382516, 80], [157.63919970768541, -114.13222636212633, 80], [157.63919970768538, -114.1322263621263, 80], [157.63919970768538, -114.1322263621263, 80], [163.17469562396397, -112.65959613825162, 80], [157.63919970768541, -114.13222636212633, 80]]\n"
     ]
    },
    {
     "data": {
      "image/png": "[encoded data removed]",
      "text/plain": [
       "<matplotlib.figure.Figure at 0x11546bd68>"
      ]
     },
     "metadata": {},
     "output_type": "display_data"
    }
   ],
   "source": [
    "#def RunOneRay_nopix(Lamd,Nsize,spo): #no pixels\n",
    "Lamd = 3.32\n",
    "Freq = float(300/Lamd)\n",
    "spo = [-160.375,-113.,-80.0] #global CENTERED\n",
    "if 1 == 1:\n",
    "    n = 1\n",
    "    r = 0\n",
    "    Rays = makeraysVERTICAL(spo,r,n) \n",
    "    #jx,jy = gridlines(7.9375,[160.375,-113],200) #these are now the PIXELS\n",
    "    #Pix = MakePixels(jx,jy) #center of each pixel\n",
    "    #Ij = []\n",
    "    #Delay = []\n",
    "    for y in np.linspace(-18,18,int(8)): #nsize being number of positions of mirror\n",
    "        PTot=0\n",
    "        OutRays=RunRaysM(Rays,y) #eight each\n",
    "        Points = []\n",
    "        Vects = []\n",
    "        for i in range(len(OutRays)): #per ray IN THIS PIXEL\n",
    "            SP =OutRays[i][2]\n",
    "            V = OutRays[i][3]\n",
    "            Points.append(SP)\n",
    "            Vects.append(V)\n",
    "        P = PLINTz(80,Points,Vects)\n",
    "        print(P)\n",
    "        for i in range(len(P)):\n",
    "            pl.scatter(P[0][0],P[0][1])\n",
    "            pl.axvline(160.375-8)\n",
    "            pl.axvline(160.375+8)\n",
    "            pl.axhline(-113-8)\n",
    "            pl.axhline(-113+8)\n",
    "            #pl.ylim(-113.7,-112.3)\n",
    "            [160.375,-113],7.9375\n",
    "            #pl.xlim(157,163)\n",
    "    pl.show()"
   ]
  },
  {
   "cell_type": "code",
   "execution_count": 44,
   "metadata": {},
   "outputs": [],
   "source": [
    "def circle(h,k,r):\n",
    "    x = np.linspace(h-r, h+r, 30)\n",
    "    ypos = []\n",
    "    yneg = []\n",
    "    for i in range(30):\n",
    "        ypos.append(k + np.sqrt(r**2 - (x[i]-h)**2))\n",
    "        yneg.append(k - np.sqrt(r**2 - (x[i]-h)**2))\n",
    "    return x,ypos,yneg\n",
    "x,yp,yn = circle(160.375, -113, 7.9375)\n"
   ]
  },
  {
   "cell_type": "code",
   "execution_count": 45,
   "metadata": {},
   "outputs": [
    {
     "data": {
      "image/png": "[encoded data removed]",
      "text/plain": [
       "<matplotlib.figure.Figure at 0x11c73b1d0>"
      ]
     },
     "metadata": {},
     "output_type": "display_data"
    }
   ],
   "source": [
    "#def RunOneRay_nopix(Lamd,Nsize,spo): #no pixels\n",
    "Lamd = 3.32\n",
    "Freq = float(300/Lamd)\n",
    "spo = [-160.375,-113.,-80.0] #global CENTERED\n",
    "if 1 == 1:\n",
    "    n = 1\n",
    "    r = 0\n",
    "    Rays = makeraysVERTICAL(spo,r,n) \n",
    "    #jx,jy = gridlines(7.9375,[160.375,-113],200) #these are now the PIXELS\n",
    "    #Pix = MakePixels(jx,jy) #center of each pixel\n",
    "    #Ij = []\n",
    "    #Delay = []\n",
    "    for y in np.linspace(-18,18,int(8)): #nsize being number of positions of mirror\n",
    "        PTot=0\n",
    "        OutRays=RunRaysM(Rays,y) #eight each\n",
    "        Points = []\n",
    "        Vects = []\n",
    "        for i in range(len(OutRays)): #per ray IN THIS PIXEL\n",
    "            SP =OutRays[i][2]\n",
    "            V = OutRays[i][3]\n",
    "            P = PLINTzS(80,SP,V)\n",
    "            pl.scatter(P[0],P[1])\n",
    "            pl.axvline(160.375-8)\n",
    "            pl.axvline(160.375+8)\n",
    "            pl.axhline(-113-8)\n",
    "            pl.axhline(-113+8)\n",
    "            x,yp,yn = circle(160.375, -113, 7.9375)\n",
    "            pl.plot(x,yp)\n",
    "            pl.plot(x,yn)\n",
    "            #pl.xlim(157,163)\n",
    "    pl.show()"
   ]
  },
  {
   "cell_type": "code",
   "execution_count": null,
   "metadata": {
    "collapsed": true
   },
   "outputs": [],
   "source": []
  }
 ],
 "metadata": {
  "kernelspec": {
   "display_name": "Python 3",
   "language": "python",
   "name": "python3"
  },
  "language_info": {
   "codemirror_mode": {
    "name": "ipython",
    "version": 3
   },
   "file_extension": ".py",
   "mimetype": "text/x-python",
   "name": "python",
   "nbconvert_exporter": "python",
   "pygments_lexer": "ipython3",
   "version": "3.6.1"
  }
 },
 "nbformat": 4,
 "nbformat_minor": 2
}
