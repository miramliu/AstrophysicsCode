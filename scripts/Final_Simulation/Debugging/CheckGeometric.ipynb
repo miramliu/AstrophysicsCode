{
 "cells": [
  {
   "cell_type": "markdown",
   "metadata": {},
   "source": [
    "This notebook simply runs the simulation geometrically. There is no simulation of power or detection, merely the number of rays that hit the detector (a plane with radius ~7mm at z = 79.9) as a function of mirror position. \n",
    "Mira Liu 05/26/2019"
   ]
  },
  {
   "cell_type": "code",
   "execution_count": 1,
   "metadata": {
    "collapsed": true
   },
   "outputs": [],
   "source": [
    "import numpy as np\n",
    "import matplotlib.pyplot as pl\n",
    "import itertools\n",
    "from mpl_toolkits.mplot3d import Axes3D\n",
    "from RayTraceFunctions import * \n",
    "from random import uniform\n",
    "import random\n",
    "import pickle\n",
    "import math\n",
    "import time"
   ]
  },
  {
   "cell_type": "code",
   "execution_count": null,
   "metadata": {
    "collapsed": true
   },
   "outputs": [],
   "source": [
    "#Runs n rays from radius r and collects the number of rays that hit the detector (Ij) at\n",
    "#the certain mirror position (Delay) and saves the rays (OR)\n",
    "def RunSourceModulating(Nsize,n,r): \n",
    "    thetG = [0,0,0]\n",
    "    spo = [-160.375,-113.,-80.0] #global CENTERED\n",
    "    Rays = makerays(spo,thetG,r,n) #sourcethet as [0,0,0]\n",
    "    Ij = []\n",
    "    Delay = []\n",
    "    OR = [[] for i in range(Nsize)]\n",
    "    j = 0\n",
    "    for y in np.linspace(-18,18,int(Nsize)):\n",
    "        PTot=0\n",
    "        OutRays=RunRaysM(Rays,y) #eight each\n",
    "        Delay.append(y*0.95630475596*4)\n",
    "        Ij.append(len(OutRays)) #is just number (dont need Lamd)\n",
    "        OR[j].append(OutRays)\n",
    "        j = j+1\n",
    "    return Delay,Ij,OR"
   ]
  },
  {
   "cell_type": "code",
   "execution_count": null,
   "metadata": {
    "collapsed": true
   },
   "outputs": [],
   "source": [
    "Timei = time.time()\n",
    "Freq = 144.3\n",
    "Lamd = 300/Freq \n",
    "Nsize = Nsized(Lamd)\n",
    "sourcethet = [0.,0.,0.] \n",
    "n = 500\n",
    "r = 0\n",
    "thetmirr = [.0,0.0,0.0] \n",
    "thetpolarz = [[0,0,0],[0,0,0],[0,0,0],[0,0,0]] \n",
    "Delay,Ij,ORays = RunSourceModulating(Nsize,n,r) \n",
    "Timef = time.time()\n",
    "print('total time: ~',float(Timef-Timei)/60, 'mins')\n",
    "pl.plot(Delay,Ij,linewidth = .8)\n",
    "#pl.tick_params(colors = 'white')\n",
    "#pl.title('$\\lambda$='+str(Lamd),color = 'black')\n",
    "pl.xlabel('Optical Delay (mm)', color = 'black')\n",
    "pl.show()"
   ]
  },
  {
   "cell_type": "code",
   "execution_count": null,
   "metadata": {
    "collapsed": true
   },
   "outputs": [],
   "source": [
    "#saves all as pickle files\n",
    "with open(\"GeomIjn500r0\"+str(2.07)+'mm'+time.strftime(\"_%Y_%m_%d_%H_%M_%S\") + \".pkl\", \"wb\") as F:\n",
    "    pickle.dump(Ij,F)\n",
    "with open(\"GeomDelayn500r0\"+str(2.07)+'mm'+time.strftime(\"_%Y_%m_%d_%H_%M_%S\") + \".pkl\", \"wb\") as F:\n",
    "    pickle.dump(Delay,F)\n",
    "with open(\"GeomORaysn500r0\"+str(2.07)+'mm'+time.strftime(\"_%Y_%m_%d_%H_%M_%S\") + \".pkl\", \"wb\") as F:\n",
    "    pickle.dump(ORays,F)\n",
    "    \n",
    "    "
   ]
  },
  {
   "cell_type": "code",
   "execution_count": null,
   "metadata": {
    "collapsed": true
   },
   "outputs": [],
   "source": [
    "# plots as modulating geometric envelope\n",
    "with open( 'GeomIjn500r02.07mm_2019_05_07_09_31_31.pkl' , 'rb') as file1:\n",
    "    Ij1=pickle.load(file1, encoding = 'latin1')\n",
    "with open( 'GeomDelayn500r02.07mm_2019_05_07_09_31_31.pkl' , 'rb') as file1:\n",
    "    Delay=pickle.load(file1, encoding = 'latin1')\n",
    "    \n",
    "pl.plot(Delay,Ij1/max(np.array(Ij1)),linewidth = .8)\n",
    "pl.plot(Delay,Ij1/-max(np.array(Ij1)),linewidth = .8)\n",
    "pl.show()"
   ]
  },
  {
   "cell_type": "code",
   "execution_count": 2,
   "metadata": {
    "collapsed": true
   },
   "outputs": [],
   "source": [
    "#Runs n rays from radius r and collects the number of rays that hit the detector (Ij) at\n",
    "#the certain mirror position (Delay) and saves the rays (OR)\n",
    "def RunSourceModulating_narrow(Nsize,n,r): \n",
    "    thetG = [0,0,0]\n",
    "    spo = [-160.375,-113.,-80.0] #global CENTERED\n",
    "    Rays = makerays_Zero_narrow(spo,thetG,r,n) #sourcethet as [0,0,0]\n",
    "    Ij = []\n",
    "    Delay = []\n",
    "    OR = [[] for i in range(Nsize)]\n",
    "    j = 0\n",
    "    for y in np.linspace(-18,18,int(Nsize)):\n",
    "        PTot=0\n",
    "        OutRays=RunRaysM(Rays,y) #eight each\n",
    "        Delay.append(y*0.95630475596*4)\n",
    "        Ij.append(len(OutRays)) #is just number (dont need Lamd)\n",
    "        OR[j].append(OutRays)\n",
    "        j = j+1\n",
    "    return Delay,Ij,OR"
   ]
  },
  {
   "cell_type": "code",
   "execution_count": 3,
   "metadata": {},
   "outputs": [
    {
     "name": "stdout",
     "output_type": "stream",
     "text": [
      "total time: ~ 152.0081528464953 mins\n"
     ]
    },
    {
     "data": {
      "image/png": "[encoded data removed]",
      "text/plain": [
       "<matplotlib.figure.Figure at 0x10c31ae80>"
      ]
     },
     "metadata": {},
     "output_type": "display_data"
    }
   ],
   "source": [
    "Timei = time.time()\n",
    "Freq = 144.3\n",
    "Lamd = 300/Freq \n",
    "Nsize = Nsized(Lamd)\n",
    "sourcethet = [0.,0.,0.] \n",
    "n = 500\n",
    "r = 0\n",
    "thetmirr = [.0,0.0,0.0] \n",
    "thetpolarz = [[0,0,0],[0,0,0],[0,0,0],[0,0,0]] \n",
    "Delay,Ij,ORays = RunSourceModulating_narrow(Nsize,n,r) \n",
    "Timef = time.time()\n",
    "print('total time: ~',float(Timef-Timei)/60, 'mins')\n",
    "pl.plot(Delay,Ij,linewidth = .8)\n",
    "#pl.tick_params(colors = 'white')\n",
    "#pl.title('$\\lambda$='+str(Lamd),color = 'black')\n",
    "pl.xlabel('Optical Delay (mm)', color = 'black')\n",
    "pl.show()"
   ]
  },
  {
   "cell_type": "code",
   "execution_count": null,
   "metadata": {
    "collapsed": true
   },
   "outputs": [],
   "source": [
    "with open(\"GeomIjn500r0\"+str(2.07)+'mm'+time.strftime(\"_%Y_%m_%d_%H_%M_%S\") + \".pkl\", \"wb\") as F:\n",
    "    pickle.dump(Ij,F)\n",
    "with open(\"GeomDelayn500r0\"+str(2.07)+'mm'+time.strftime(\"_%Y_%m_%d_%H_%M_%S\") + \".pkl\", \"wb\") as F:\n",
    "    pickle.dump(Delay,F)\n",
    "#with open(\"GeomORaysn500r0\"+str(2.07)+'mm'+time.strftime(\"_%Y_%m_%d_%H_%M_%S\") + \".pkl\", \"wb\") as F:\n",
    "    #pickle.dump(ORays,F)"
   ]
  },
  {
   "cell_type": "code",
   "execution_count": null,
   "metadata": {
    "collapsed": true
   },
   "outputs": [],
   "source": []
  },
  {
   "cell_type": "code",
   "execution_count": null,
   "metadata": {
    "collapsed": true
   },
   "outputs": [],
   "source": [
    "with open('500Rays_Narrow_20__2019_08_24_13_41_38.pkl','rb') as F:\n",
    "    Rays1 = pickle.load(F)"
   ]
  }
 ],
 "metadata": {
  "kernelspec": {
   "display_name": "Python 3",
   "language": "python",
   "name": "python3"
  },
  "language_info": {
   "codemirror_mode": {
    "name": "ipython",
    "version": 3
   },
   "file_extension": ".py",
   "mimetype": "text/x-python",
   "name": "python",
   "nbconvert_exporter": "python",
   "pygments_lexer": "ipython3",
   "version": "3.6.1"
  }
 },
 "nbformat": 4,
 "nbformat_minor": 2
}
