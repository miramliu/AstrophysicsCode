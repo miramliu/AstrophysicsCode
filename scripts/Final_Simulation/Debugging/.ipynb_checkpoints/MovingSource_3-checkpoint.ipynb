{
 "cells": [
  {
   "cell_type": "markdown",
   "metadata": {},
   "source": [
    "Slight modification of standard ray trace to generate initial reusable set of 500 launch rays of a solid angle of pi/9, phase = 0, polarization along the +x direction, and shiftable source.\n",
    "\n",
    "Standardized simple function\n",
    "\n",
    "see 8/24/19. first digit = 0\n",
    "\n",
    "Mira Liu \n",
    "08/24/2019"
   ]
  },
  {
   "cell_type": "code",
   "execution_count": 1,
   "metadata": {
    "collapsed": true
   },
   "outputs": [],
   "source": [
    "import numpy as np\n",
    "import matplotlib.pyplot as pl\n",
    "import itertools\n",
    "from mpl_toolkits.mplot3d import Axes3D\n",
    "from RayTraceFunctions import * \n",
    "from random import uniform\n",
    "import random\n",
    "import pickle\n",
    "import math\n",
    "import time"
   ]
  },
  {
   "cell_type": "code",
   "execution_count": 2,
   "metadata": {
    "collapsed": true
   },
   "outputs": [],
   "source": [
    "\n",
    "'''Same as above but with initial phase of zero instead of random and < lim (solid angle in radians) launch angle. '''\n",
    "def makerays_Zero_narrow(sourcepointorigin,sourcethet,r,n,lim):\n",
    "    sourcepoints = specsource(r,sourcepointorigin,sourcethet,n) # SOURCE\n",
    "    Rays = FSRay_Zero_narrow(n,sourcepoints, sourcethet,origin10,lim)\n",
    "    return Rays\n",
    "'''Givin initial rays, just change source (set shift of source point) keeping everything else identical '''\n",
    "def makerays_Zero_narrow_SetShift(sourcepoint,Rays): \n",
    "    spT = [sourcepoint[0],sourcepoint[1],sourcepoint[2]]\n",
    "    for i in range(len(Rays)): \n",
    "        Rays[i][2] = spT\n",
    "    return Rays\n",
    "        \n",
    "\n",
    "'''Simulation of interference of probability function of a single photon. 500 rays with initial phase of zero from a single source point, random launch points, and power is summed before squared. To show Chamberlain loss (large etendue) '''\n",
    "def RunRays_Prob_narrow_SetRays(Lamd,Nsize,spo,lim,Rays):\n",
    "    n = 500\n",
    "    r = 0\n",
    "    thetG = [0,0,0]\n",
    "    #Rays = makeraysVERTICAL(spo,r,n) \n",
    "    #Rays = makerays_Zero_narrow(spo,thetG,r,n,lim) #lim is solid angle wanted in radians\n",
    "    #jx,jy = gridlines(7.9375,[160.375,-113],200) #these are now the PIXELS\n",
    "    #Pix = MakePixels(jx,jy) #center of each pixel\n",
    "    Ij = []\n",
    "    Delay = []\n",
    "    DETECTOR = [] #added to capture final points on detector\n",
    "    for y in np.linspace(-18,18,int(Nsize)):\n",
    "        PTot=0\n",
    "        OutRays=RunRaysM(Rays,y) #all rays that made it to the detector\n",
    "        #Overlap = gaussoverlap(OutRays[0],OutRays[5],3.3) #two paths that hit two different spots \n",
    "        #for j in range(len(Pix)): #per PIXEL\n",
    "        P = [] #final points on detector.\n",
    "        for j in range(1): #no pixels\n",
    "            Ex4i = 0 #adding PER PIXEL from parts of RAYS in this PIXEL\n",
    "            Ey4i = 0 #THIS IS WHERE THEY WILL INTERFERE\n",
    "            for i in range(len(OutRays)): #per ray IN THIS PIXEL\n",
    "                I = OutRays[i][1] #amplitude\n",
    "                thet = OutRays[i][0] #polarization\n",
    "                phase = np.exp(1j*(OutRays[i][4]*2*np.pi/Lamd)) #e^ix2pi/lambda, x = distance traveleld\n",
    "                Ex1 = np.sqrt(I)*np.cos(thet) #polarization\n",
    "                Ey1 = np.sqrt(I)*np.sin(thet)\n",
    "                Ex = Ex1*phase #phase\n",
    "                Ey = Ey1*phase\n",
    "                #doing summation over entire detector\n",
    "                #sig,mux,muy = MakeGaussian(OutRays[i],Lamd)\n",
    "                #Gr = Airygaussian3dNORM(Pix[j][0],Pix[j][1],sig,mux,muy)\n",
    "                Gr = 1\n",
    "                Ex4i = Ex4i + Gr*Ex #add electric fields of all rays\n",
    "                Ey4i = Ey4i + Gr*Ey\n",
    "                P.append(OutRays[i][2]) #spot on detector.\n",
    "            PTot = PTot + (Ex4i*Ex4i.conjugate()).real + (Ey4i*Ey4i.conjugate()).real\n",
    "        Delay.append(y*0.95630475596*4)\n",
    "        Ij.append(PTot)\n",
    "        DETECTOR.append(P)\n",
    "    return Delay,Ij,DETECTOR\n",
    "\n",
    "def drawcircle(h,k,r):\n",
    "    x = np.linspace(h-r, h+r, 100)\n",
    "    ypos = []\n",
    "    yneg = []\n",
    "    for i in range(100):\n",
    "        ypos.append(k + np.sqrt(r**2 - (x[i]-h)**2))\n",
    "        yneg.append(k - np.sqrt(r**2 - (x[i]-h)**2))\n",
    "    return x,ypos,yneg\n",
    "def ZhaodiNumbering(n1,n2,center): #n1n2 in order of zhaodi's numbering\n",
    "    #mira_center = [-160.375,-113.,-80.0]\n",
    "    mira_center = center\n",
    "    mira_axes1 = [10,7.5,5,2.5,0,-2.5,-5,-7.5,-10] #(first number \"such as 0 in 04\")\n",
    "    mira_axes2 = [-10,-7.5,-5,-2.5,-0,2.5,5,7.5,10] #(second number \"such as 4 in 04\")\n",
    "    mira_shift = mira_center\n",
    "    mira_shift[0]=mira_center[0]+mira_axes2[n2] #x axis location\n",
    "    mira_shift[1]=mira_center[1]+mira_axes1[n1] #y axis location\n",
    "    return mira_shift\n",
    "def AutomaticShifts(Rays1,n1,n2): #n1 and n1 being between 0 and 8 \n",
    "    Timei = time.time()\n",
    "    #print('began: ',time.strftime(\"%Y-%m-%d %H:%M:%S\", time.localtime(Timei)))\n",
    "    print('CURRENTLY RUNNING...', str(n1)+str(n2))\n",
    "    Lamd =2.089\n",
    "    #Timei = time.time()\n",
    "    Nsize = Nsized(Lamd)\n",
    "    #Nsize = 8192\n",
    "    Freq = float(300/Lamd)\n",
    "    spo = [-160.375,-113.,-80.0] #global CENTERED\n",
    "    spo2 = ZhaodiNumbering(n1,n2,spo) #[-160.375,-113.,-80.0] #global CENTERED\n",
    "    #lim = np.pi/6 #30 degrees\n",
    "    #lim= np.pi/9 #20 degrees\n",
    "    #lim = np.pi/18 #10 degrees\n",
    "\n",
    "    Rays2 = makerays_Zero_narrow_SetShift(spo2,Rays1) #set rays to spo2!\n",
    "    Delay1, Ij1,DET = RunRays_Prob_narrow_SetRays(Lamd,Nsize,spo2,np.pi/9,Rays2)\n",
    "\n",
    "    #Timef = time.time()\n",
    "    #print('COMPLETED')\n",
    "    #print('total time: ~',float(Timef-Timei)/60, 'mins')\n",
    "\n",
    "    with open(\"Ij_Chamb_144_Narrow_20_x\"+str(spo2[0])+'_y'+str(spo2[1])+'_'+str(2.07)+'mm'+time.strftime(\"_%Y_%m_%d_%H_%M_%S\") +'_'+str(n1)+str(n2) +\".pkl\", \"wb\") as F:\n",
    "        pickle.dump(Ij1,F)\n",
    "    with open(\"Delay_Chamb_144_Narrow_20_x\"+str(spo2[0])+'_y'+str(spo2[1])+'_'+str(2.07)+'mm'+time.strftime(\"_%Y_%m_%d_%H_%M_%S\") +'_'+str(n1)+str(n2)  +\".pkl\", \"wb\") as F:\n",
    "        pickle.dump(Delay1,F)\n",
    "    with open(\"Det_Chamb_144_Narrow_20_x\"+str(spo2[0])+'_y'+str(spo2[1])+'_'+str(2.07)+'mm'+time.strftime(\"_%Y_%m_%d_%H_%M_%S\") +'_'+str(n1)+str(n2)  +\".pkl\", \"wb\") as F:\n",
    "        pickle.dump(DET,F)\n",
    "    d1 = Ij1\n",
    "    D = np.hanning(int(np.shape(d1)[0]))*d1\n",
    "    S = np.fft.rfft(D)\n",
    "    #S = S[1:]\n",
    "    u = np.abs(S)\n",
    "    xtot = 36*0.95630475596*4 #total length of the scan\n",
    "    df = 1/xtot\n",
    "    f = df*np.arange(1+Nsize/2)-df/2\n",
    "\n",
    "    pl.plot(Delay1,Ij1,linewidth = .8) \n",
    "    pl.tick_params(colors = 'black')\n",
    "    pl.title('$\\lambda$='+str(Lamd)+'_' + str(n1) + str(n2),color = 'black')\n",
    "    pl.xlabel('Optical Delay (mm)', color = 'black')\n",
    "    pl.savefig('Interferogram_Chamb_144_Narrow_20'+time.strftime(\"_%Y_%m_%d_%H_%M_%S\") +'_'+str(n1)+str(n2)+ '.png')\n",
    "    pl.show() \n",
    "\n",
    "    pl.plot(300*f[3:],u[3:])\n",
    "    pl.title('Spectrum'+str(n1)+str(n2),color = 'black')\n",
    "    pl.xlabel('GHz', color = 'black')\n",
    "    pl.tick_params(colors = 'black')\n",
    "    pl.axvline(x =float(Freq), color = 'green', label = str(Freq)+'GHz')\n",
    "    pl.xlim(0,200)\n",
    "    pl.legend()\n",
    "    pl.savefig('Spectrum_Chamb_144_Narrow_20'+time.strftime(\"_%Y_%m_%d_%H_%M_%S\") +'_'+str(n1)+str(n2)+ '.png')\n",
    "    pl.show()\n",
    "\n",
    "    pl.figure()\n",
    "    colors = ['r','orange','y','g','c','b','m','k']\n",
    "    for i in range(8):\n",
    "        k = int(Nsize/2)+int((Nsize/16)*i)\n",
    "        for m in range(len(DET[k])): #A certain mirror position\n",
    "            pl.scatter(DET[k][m][0],DET[k][m][1],color = colors[i],s=1)\n",
    "            # x and y coordinates of the kth mirror position and mth ray\n",
    "    pl.plot(xdet,ydetpos,color = 'k')\n",
    "    pl.plot(xdet,ydetneg,color = 'k')\n",
    "    pl.savefig('Det_Chamb_144_Narrow_20'+time.strftime(\"_%Y_%m_%d_%H_%M_%S\") +'_'+str(n1)+str(n2)+ '.png')\n",
    "    pl.show()      "
   ]
  },
  {
   "cell_type": "code",
   "execution_count": 3,
   "metadata": {
    "collapsed": true
   },
   "outputs": [],
   "source": [
    "n = 500\n",
    "r = 0\n",
    "thetG = [0,0,0]\n",
    "lim =np.pi/9\n",
    "spo = [1,1,1] # arbitrary\n",
    "Lamd =2.089\n",
    "Nsize = Nsized(Lamd)\n",
    "Freq = float(300/Lamd)\n",
    "#Rays1 = makerays_Zero_narrow(spo,thetG,r,n,lim) # initial set of rays\n",
    "with open('500Rays_Narrow_20__2019_08_24_13_41_38.pkl','rb') as F:\n",
    "    Rays1 = pickle.load(F)\n",
    "xdet,ydetpos,ydetneg = drawcircle(160.375, -113, 7.9375) #detector "
   ]
  },
  {
   "cell_type": "code",
   "execution_count": null,
   "metadata": {},
   "outputs": [
    {
     "name": "stdout",
     "output_type": "stream",
     "text": [
      "CURRENTLY RUNNING... 00\n"
     ]
    }
   ],
   "source": [
    "AutomaticShifts(Rays1,2,0)"
   ]
  },
  {
   "cell_type": "code",
   "execution_count": null,
   "metadata": {
    "collapsed": true
   },
   "outputs": [],
   "source": [
    "AutomaticShifts(Rays1,2,1)"
   ]
  },
  {
   "cell_type": "code",
   "execution_count": null,
   "metadata": {
    "collapsed": true
   },
   "outputs": [],
   "source": [
    "AutomaticShifts(Rays1,2,2)"
   ]
  },
  {
   "cell_type": "code",
   "execution_count": null,
   "metadata": {
    "collapsed": true
   },
   "outputs": [],
   "source": [
    "AutomaticShifts(Rays1,2,3)"
   ]
  },
  {
   "cell_type": "code",
   "execution_count": null,
   "metadata": {
    "collapsed": true
   },
   "outputs": [],
   "source": [
    "AutomaticShifts(Rays1,2,5)"
   ]
  },
  {
   "cell_type": "code",
   "execution_count": null,
   "metadata": {
    "collapsed": true
   },
   "outputs": [],
   "source": [
    "AutomaticShifts(Rays1,2,6)"
   ]
  },
  {
   "cell_type": "code",
   "execution_count": null,
   "metadata": {
    "collapsed": true
   },
   "outputs": [],
   "source": [
    "AutomaticShifts(Rays1,2,7)"
   ]
  },
  {
   "cell_type": "code",
   "execution_count": null,
   "metadata": {
    "collapsed": true
   },
   "outputs": [],
   "source": [
    "AutomaticShifts(Rays1,2,8)"
   ]
  },
  {
   "cell_type": "code",
   "execution_count": null,
   "metadata": {
    "collapsed": true
   },
   "outputs": [],
   "source": []
  }
 ],
 "metadata": {
  "kernelspec": {
   "display_name": "Python 3",
   "language": "python",
   "name": "python3"
  },
  "language_info": {
   "codemirror_mode": {
    "name": "ipython",
    "version": 3
   },
   "file_extension": ".py",
   "mimetype": "text/x-python",
   "name": "python",
   "nbconvert_exporter": "python",
   "pygments_lexer": "ipython3",
   "version": "3.6.1"
  }
 },
 "nbformat": 4,
 "nbformat_minor": 2
}
