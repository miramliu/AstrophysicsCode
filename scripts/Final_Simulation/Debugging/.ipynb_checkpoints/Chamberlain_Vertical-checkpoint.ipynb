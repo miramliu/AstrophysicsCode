{
 "cells": [
  {
   "cell_type": "markdown",
   "metadata": {},
   "source": [
    "Checking to see if there is any effect if all rays are vertical (just debugging to make sure all effects are DUE TO the angle difference AND NOTHING ELSE)"
   ]
  },
  {
   "cell_type": "code",
   "execution_count": 1,
   "metadata": {
    "collapsed": true
   },
   "outputs": [],
   "source": [
    "import numpy as np\n",
    "import matplotlib.pyplot as pl\n",
    "import itertools\n",
    "from mpl_toolkits.mplot3d import Axes3D\n",
    "from RayTraceFunctions import * \n",
    "from random import uniform\n",
    "import random\n",
    "import pickle\n",
    "import math\n",
    "import time"
   ]
  },
  {
   "cell_type": "code",
   "execution_count": 4,
   "metadata": {
    "collapsed": true
   },
   "outputs": [],
   "source": [
    "'''Simulation of interference of probability function of a single photon. 500 rays with initial phase of zero from a single source point, random launch points, and power is summed before squared. To show Chamberlain loss (large etendue) '''\n",
    "def RunRays_Prob_VERTICAL(Lamd,Nsize,spo):\n",
    "    n = 500\n",
    "    r = 0\n",
    "    thetG = [0,0,0]\n",
    "    #Rays = makeraysVERTICAL(spo,r,n) \n",
    "    Rays = makeraysVERTICAL_Zero(spo,r,n) #lim is solid angle wanted\n",
    "    #jx,jy = gridlines(7.9375,[160.375,-113],200) #these are now the PIXELS\n",
    "    #Pix = MakePixels(jx,jy) #center of each pixel\n",
    "    Ij = []\n",
    "    Delay = []\n",
    "    for y in np.linspace(-18,18,int(Nsize)):\n",
    "        PTot=0\n",
    "        OutRays=RunRaysM(Rays,y) #eight each\n",
    "        #Overlap = gaussoverlap(OutRays[0],OutRays[5],3.3) #two paths that hit two different spots \n",
    "        #for j in range(len(Pix)): #per PIXEL\n",
    "        for j in range(1):\n",
    "            Ex4i = 0 #adding PER PIXEL from parts of RAYS in this PIXEL\n",
    "            Ey4i = 0 #THIS IS WHERE THEY WILL INTERFERE\n",
    "            for i in range(len(OutRays)): #per ray IN THIS PIXEL\n",
    "                I = OutRays[i][1]\n",
    "                thet = OutRays[i][0]\n",
    "                phase = np.exp(1j*(OutRays[i][4]*2*np.pi/Lamd)) #factor of 2??\n",
    "                Ex1 = np.sqrt(I)*np.cos(thet)\n",
    "                Ey1 = np.sqrt(I)*np.sin(thet)\n",
    "                Ex = Ex1*phase\n",
    "                Ey = Ey1*phase\n",
    "                #doing summation over entire detector\n",
    "                #sig,mux,muy = MakeGaussian(OutRays[i],Lamd)\n",
    "                #Gr = Airygaussian3dNORM(Pix[j][0],Pix[j][1],sig,mux,muy)\n",
    "                Gr = 1\n",
    "                Ex4i = Ex4i + Gr*Ex\n",
    "                Ey4i = Ey4i + Gr*Ey\n",
    "            PTot = PTot + (Ex4i*Ex4i.conjugate()).real + (Ey4i*Ey4i.conjugate()).real\n",
    "        Delay.append(y*0.95630475596*4)\n",
    "        Ij.append(PTot)\n",
    "    return Delay,Ij\n",
    "\n"
   ]
  },
  {
   "cell_type": "code",
   "execution_count": 5,
   "metadata": {},
   "outputs": [
    {
     "name": "stdout",
     "output_type": "stream",
     "text": [
      "began:  2019-05-30 14:57:30\n",
      "CURRENTLY RUNNING...\n",
      "COMPLETED\n",
      "total time: ~ 319.1066591699918 mins\n"
     ]
    }
   ],
   "source": [
    "Timei = time.time()\n",
    "print('began: ',time.strftime(\"%Y-%m-%d %H:%M:%S\", time.localtime(Timei)))\n",
    "print('CURRENTLY RUNNING...')\n",
    "\n",
    "Lamd =2.089\n",
    "Timei = time.time()\n",
    "Nsize = Nsized(Lamd)\n",
    "#Nsize = 8192\n",
    "Freq = float(300/Lamd)\n",
    "spo = [-160.375,-113.,-80.0] #global CENTERED\n",
    "spo1 = [-152.4375, -113.0,-80.]\n",
    "\n",
    "#lim = np.pi/6 #30 degrees\n",
    "#lim= np.pi/9 #20 degrees\n",
    "#lim = np.pi/18 #10 degrees\n",
    "# all rays given vertical launch angle\n",
    "Delay1, Ij1 = RunRays_Prob_VERTICAL(Lamd,Nsize,spo)\n",
    "Timef = time.time()\n",
    "print('COMPLETED')\n",
    "print('total time: ~',float(Timef-Timei)/60, 'mins')"
   ]
  },
  {
   "cell_type": "code",
   "execution_count": 6,
   "metadata": {
    "collapsed": true
   },
   "outputs": [],
   "source": [
    "with open(\"Ij_Chamb_144_Vert_500_\"+str(2.07)+'mm'+time.strftime(\"_%Y_%m_%d_%H_%M_%S\") + \".pkl\", \"wb\") as F:\n",
    "    pickle.dump(Ij1,F)\n",
    "with open(\"Delay_Chamb_144_Vert_500_\"+str(2.07)+'mm'+time.strftime(\"_%Y_%m_%d_%H_%M_%S\") + \".pkl\", \"wb\") as F:\n",
    "    pickle.dump(Delay1,F)"
   ]
  },
  {
   "cell_type": "code",
   "execution_count": null,
   "metadata": {
    "collapsed": true
   },
   "outputs": [],
   "source": []
  }
 ],
 "metadata": {
  "kernelspec": {
   "display_name": "Python 3",
   "language": "python",
   "name": "python3"
  },
  "language_info": {
   "codemirror_mode": {
    "name": "ipython",
    "version": 3
   },
   "file_extension": ".py",
   "mimetype": "text/x-python",
   "name": "python",
   "nbconvert_exporter": "python",
   "pygments_lexer": "ipython3",
   "version": "3.6.1"
  }
 },
 "nbformat": 4,
 "nbformat_minor": 2
}
