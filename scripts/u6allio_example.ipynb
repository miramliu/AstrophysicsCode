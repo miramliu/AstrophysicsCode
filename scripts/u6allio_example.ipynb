{
 "cells": [
  {
   "cell_type": "code",
   "execution_count": 1,
   "metadata": {
    "collapsed": false
   },
   "outputs": [],
   "source": [
    "import u6\n",
    "import LabJackPython\n",
    "import sys\n",
    "from datetime import datetime"
   ]
  },
  {
   "cell_type": "code",
   "execution_count": 3,
   "metadata": {
    "collapsed": false
   },
   "outputs": [],
   "source": [
    "numChannels = 2\n",
    "resolutionIndex = 1\n",
    "gainIndex = 0\n",
    "settlingFactor = 0\n",
    "differential = False"
   ]
  },
  {
   "cell_type": "code",
   "execution_count": 4,
   "metadata": {
    "collapsed": true
   },
   "outputs": [],
   "source": [
    "latestAinValues = [0] * numChannels\n",
    "numIterations = 1000"
   ]
  },
  {
   "cell_type": "code",
   "execution_count": 5,
   "metadata": {
    "collapsed": false
   },
   "outputs": [],
   "source": [
    "d=u6.U6()\n",
    "d.getCalibrationData()"
   ]
  },
  {
   "cell_type": "code",
   "execution_count": 6,
   "metadata": {
    "collapsed": false
   },
   "outputs": [
    {
     "name": "stdout",
     "output_type": "stream",
     "text": [
      "Time difference:  0:00:00.364727\n",
      "Time per iteration:  0:00:00.000364\n",
      "Time per iteration in millis:  0.364\n",
      "Latest readings:  [-10.581814013329677, -10.58212955403269]\n"
     ]
    }
   ],
   "source": [
    "try:\n",
    "    #Configure the IOs before the test starts\n",
    "    \n",
    "    FIOEIOAnalog = ( 2 ** numChannels ) - 1;\n",
    "    fios = FIOEIOAnalog & (0xFF)\n",
    "    eios = FIOEIOAnalog/256\n",
    "    \n",
    "    \n",
    "    d.getFeedback(u6.PortDirWrite(Direction = [0, 0, 0], WriteMask = [0, 0, 15]))\n",
    "    \n",
    "    \n",
    "    feedbackArguments = []\n",
    "    \n",
    "    feedbackArguments.append(u6.DAC0_8(Value = 125))\n",
    "    feedbackArguments.append(u6.PortStateRead())\n",
    "    \n",
    "    for i in range(numChannels):\n",
    "        feedbackArguments.append( u6.AIN24(i, resolutionIndex, gainIndex, settlingFactor, differential) )\n",
    "    \n",
    "    \n",
    "    start = datetime.now()\n",
    "    # Call Feedback 1000 times\n",
    "    i = 0\n",
    "    while i < numIterations:\n",
    "        results = d.getFeedback( feedbackArguments )\n",
    "        \n",
    "        for j in range(numChannels):\n",
    "            latestAinValues[j] = d.binaryToCalibratedAnalogVoltage(gainIndex, results[ 2 + j ])\n",
    "        i += 1\n",
    "\n",
    "    end = datetime.now()\n",
    "    delta = end - start\n",
    "    print \"Time difference: \", delta\n",
    "    dm = delta / numIterations\n",
    "    print \"Time per iteration: \", dm\n",
    "    print \"Time per iteration in millis: \", dm.microseconds  / 1000.0\n",
    "    print \"Latest readings: \", latestAinValues\n",
    "\n",
    "finally:\n",
    "    d.close()"
   ]
  },
  {
   "cell_type": "code",
   "execution_count": null,
   "metadata": {
    "collapsed": true
   },
   "outputs": [],
   "source": []
  }
 ],
 "metadata": {
  "kernelspec": {
   "display_name": "Python 2",
   "language": "python",
   "name": "python2"
  },
  "language_info": {
   "codemirror_mode": {
    "name": "ipython",
    "version": 2
   },
   "file_extension": ".py",
   "mimetype": "text/x-python",
   "name": "python",
   "nbconvert_exporter": "python",
   "pygments_lexer": "ipython2",
   "version": "2.7.6"
  }
 },
 "nbformat": 4,
 "nbformat_minor": 0
}
