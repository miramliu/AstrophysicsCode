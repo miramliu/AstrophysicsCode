{
 "cells": [
  {
   "cell_type": "code",
   "execution_count": 2,
   "metadata": {
    "collapsed": true
   },
   "outputs": [],
   "source": [
    "import numpy as np\n",
    "import matplotlib\n",
    "import matplotlib.pyplot as plt\n",
    "%matplotlib inline\n",
    "import pickle\n",
    "import sys\n",
    "import numpy as np\n",
    "import seaborn as sns\n",
    "import scipy.optimize as op\n",
    "from scipy.signal import argrelmax\n",
    "from scipy.signal import argrelmin\n",
    "from scipy.optimize import curve_fit\n",
    "sns.set_palette(\"PuBuGn_d\",15)\n",
    "sns.set_style(\"whitegrid\")\n",
    "import emcee\n",
    "import numpy.polynomial.polynomial as poly"
   ]
  },
  {
   "cell_type": "code",
   "execution_count": 3,
   "metadata": {},
   "outputs": [],
   "source": [
    "#cfile = open('/Users/elerath/Downloads/software/data/raw_data/20170906_1320_FTS2_shimmed_septum_choppedref1.pkl', 'rb')\n",
    "\n",
    "cfile = open('/Users/elerath/Downloads/software/data/raw_data/20171013_1858_135GHz_beam_33.pkl')\n",
    "\n",
    "d = pickle.load(cfile)\n",
    "cfile.close()\n",
    "\n",
    "#d_135 = pickle.load(cfile_135)\n",
    "#cfile_135.close()"
   ]
  },
  {
   "cell_type": "code",
   "execution_count": 4,
   "metadata": {},
   "outputs": [
    {
     "name": "stdout",
     "output_type": "stream",
     "text": [
      "['wlf0R', 'wlf0F', 'oversample', 'ADC gain', 'scan time', 'iterations', 'scan start struct_time', 'speed', 'acceleration', 'max_d', 'max_nu', 'run', 'delay0F', 'dx', 'delay0R', 'sample freq', 'sig0R', 'scan0F', 'acc time', 'samples requested', 'sig0F', 'scan0R']\n",
      "1921\n",
      "75.0\n"
     ]
    }
   ],
   "source": [
    "print d.keys()\n",
    "\n",
    "print d['samples requested']\n",
    "print d['max_d']"
   ]
  },
  {
   "cell_type": "code",
   "execution_count": 5,
   "metadata": {
    "collapsed": true
   },
   "outputs": [],
   "source": [
    "#find maxima in the signal\n",
    "maxima = argrelmax(d['sig0F'])\n",
    "#convert from tuple to list\n",
    "maxima = list(maxima[0])\n",
    "\n",
    "sig0F = list(d['sig0F'])\n",
    "#sig135 = list(d_135['sig0F'])\n",
    "\n",
    "dx = d['dx']\n",
    "#0.03125\n",
    "x = [it * dx for it in maxima]\n",
    "x = np.array(x)\n",
    "\n",
    "max_sig = [sig0F[i] for i in maxima]\n",
    "max_sig = np.array(max_sig)"
   ]
  },
  {
   "cell_type": "code",
   "execution_count": 6,
   "metadata": {
    "collapsed": true
   },
   "outputs": [],
   "source": [
    "#this function gets the points to be used for finding the parabola\n",
    "def get_vals(index, signal):\n",
    "    below = index - 1\n",
    "    above = index + 1\n",
    "    b_y = signal[below]\n",
    "    a_y = signal[above]\n",
    "    y = signal[index]\n",
    "    below *= dx\n",
    "    above *= dx\n",
    "    index *= dx\n",
    "    return ( (below, b_y), (index, y), (above, a_y) )\n",
    "\n",
    "\n",
    "#given a tuple, find the equation of the parabola\n",
    "def make_p(index, signal):\n",
    "    points = get_vals(index, signal)\n",
    "    y_vals = [ points[0][1], points[1][1], points[2][1]]\n",
    "    x1 = points[0][0]\n",
    "    x2 = points[1][0]\n",
    "    x3 = points[2][0]\n",
    "    matrix_a = [ [ x1*x1, x1, 1], [x2*x2, x2, 1], [x3*x3, x3, 1]]\n",
    "    a_inverse = np.linalg.inv(matrix_a)\n",
    "    a_inverse = np.matrix.transpose(a_inverse)\n",
    "    matrix_p = np.matmul(y_vals, a_inverse) #THIS IS THE LINE WHERE IT GOES WRONG!!!!!\n",
    "    return matrix_p\n",
    "\n",
    "#this finds the vertex of our parabola from above aka it finds the point you want to plot\n",
    "def parabola_vertex_h(index, signal):\n",
    "    p = make_p(index, signal)\n",
    "    h = -(p[1]) / (2*p[0])\n",
    "    return h\n",
    "\n",
    "def parabola_vertex_k(index, signal):\n",
    "    p = make_p(index, signal)\n",
    "    h = parabola_vertex_h(index, signal)\n",
    "    k = p[0]*h*h + p[1]*h + p[2]\n",
    "    return k\n",
    "\n",
    "def shift_parabola(parabola, h):\n",
    "    ret = parabola\n",
    "    ret[0] = ret[0] + parabola[2]*h*h - parabola[1]*h\n",
    "    ret[1] = ret[1] -2*parabola[2]*h\n",
    "    return ret\n",
    "\n",
    "def normalize_parabola(p):\n",
    "    h = -(p[1]) / (2*p[2])\n",
    "    k = p[2]*h*h + p[1]*h + p[0]\n",
    "    p[0] = p[0]/k\n",
    "    p[1] = p[1]/k\n",
    "    p[2] = p[2]/k\n",
    "    return p\n",
    "    "
   ]
  },
  {
   "cell_type": "code",
   "execution_count": 7,
   "metadata": {},
   "outputs": [
    {
     "name": "stdout",
     "output_type": "stream",
     "text": [
      "(68,)\n",
      "(68,)\n"
     ]
    },
    {
     "data": {
      "text/plain": [
       "[<matplotlib.lines.Line2D at 0x1179ed510>]"
      ]
     },
     "execution_count": 7,
     "metadata": {},
     "output_type": "execute_result"
    },
    {
     "data": {
      "image/png": "[encoded data removed]",
      "text/plain": [
       "<matplotlib.figure.Figure at 0x10d45d510>"
      ]
     },
     "metadata": {},
     "output_type": "display_data"
    }
   ],
   "source": [
    "#applying the above functions to our fit\n",
    "\n",
    "xvals = [parabola_vertex_h(i, sig0F) for i in maxima]\n",
    "\n",
    "xvals = np.array(xvals)\n",
    "\n",
    "print x.shape\n",
    "print max_sig.shape\n",
    "\n",
    "diffx = xvals - x\n",
    "\n",
    "max_sig_fit = [parabola_vertex_k(i, sig0F)for i in maxima]\n",
    "\n",
    "\n",
    "plt.xlim([5, 10])\n",
    "\n",
    "plt.plot(xvals, max_sig_fit, \"b.\")\n",
    "\n",
    "plt.plot(x, max_sig, \"r.\")\n",
    "\n",
    "plt.plot(x, xvals - x + .3, \".\")\n"
   ]
  },
  {
   "cell_type": "code",
   "execution_count": 8,
   "metadata": {},
   "outputs": [
    {
     "name": "stdout",
     "output_type": "stream",
     "text": [
      "these are very simple points\n",
      "((0.078125, -1), (0.15625, 0), (0.234375, -1))\n",
      "should be y= −x^2+4.000x−4.000\n",
      "[-163.84   51.2    -4.  ]\n",
      "checking verticies\n",
      "0.15625\n",
      "-8.881784197e-16\n"
     ]
    }
   ],
   "source": [
    "very_simple_ex = np.array([-4, -1, 0 , -1, -4])\n",
    "\n",
    "simple_max = argrelmax(very_simple_ex)\n",
    "\n",
    "simple_max = simple_max[0]\n",
    "\n",
    "g = get_vals(2, very_simple_ex)\n",
    "print \"these are very simple points\"\n",
    "print g\n",
    "\n",
    "p = make_p(2, very_simple_ex)\n",
    "print \"should be y= −x^2+4.000x−4.000\"\n",
    "print p\n",
    "\n",
    "print \"checking verticies\"\n",
    "h = parabola_vertex_h(2, very_simple_ex)\n",
    "k = parabola_vertex_k(2, very_simple_ex)\n",
    "print h\n",
    "print k"
   ]
  },
  {
   "cell_type": "code",
   "execution_count": 9,
   "metadata": {
    "scrolled": true
   },
   "outputs": [
    {
     "name": "stdout",
     "output_type": "stream",
     "text": [
      "(array([ 2,  5, 10, 12, 14, 17, 20, 22, 24, 28, 31, 35, 40, 45, 47, 49, 51,\n",
      "       56, 59, 61, 63, 65]),)\n",
      "(array([ 1,  3,  6, 11, 13, 15, 19, 21, 23, 26, 29, 33, 36, 43, 46, 48, 50,\n",
      "       53, 57, 60, 62, 64, 66]),)\n"
     ]
    },
    {
     "ename": "IndexError",
     "evalue": "list index out of range",
     "output_type": "error",
     "traceback": [
      "\u001b[0;31m---------------------------------------------------------------------------\u001b[0m",
      "\u001b[0;31mIndexError\u001b[0m                                Traceback (most recent call last)",
      "\u001b[0;32m<ipython-input-9-7e4d60a7d386>\u001b[0m in \u001b[0;36m<module>\u001b[0;34m()\u001b[0m\n\u001b[1;32m     11\u001b[0m \u001b[0;34m\u001b[0m\u001b[0m\n\u001b[1;32m     12\u001b[0m \u001b[0;34m\u001b[0m\u001b[0m\n\u001b[0;32m---> 13\u001b[0;31m \u001b[0mclose_points\u001b[0m \u001b[0;34m=\u001b[0m \u001b[0mget_vals\u001b[0m\u001b[0;34m(\u001b[0m\u001b[0mmaxima\u001b[0m\u001b[0;34m[\u001b[0m\u001b[0;36m213\u001b[0m\u001b[0;34m]\u001b[0m\u001b[0;34m,\u001b[0m \u001b[0msig0F\u001b[0m\u001b[0;34m)\u001b[0m\u001b[0;34m\u001b[0m\u001b[0m\n\u001b[0m\u001b[1;32m     14\u001b[0m \u001b[0mfar_points\u001b[0m \u001b[0;34m=\u001b[0m \u001b[0mget_vals\u001b[0m\u001b[0;34m(\u001b[0m\u001b[0mmaxima\u001b[0m\u001b[0;34m[\u001b[0m\u001b[0;36m214\u001b[0m\u001b[0;34m]\u001b[0m\u001b[0;34m,\u001b[0m \u001b[0msig0F\u001b[0m\u001b[0;34m)\u001b[0m\u001b[0;34m\u001b[0m\u001b[0m\n\u001b[1;32m     15\u001b[0m \u001b[0;32mprint\u001b[0m \u001b[0mclose_points\u001b[0m\u001b[0;34m\u001b[0m\u001b[0m\n",
      "\u001b[0;31mIndexError\u001b[0m: list index out of range"
     ]
    }
   ],
   "source": [
    "# plotting points and their respective parabolas\n",
    "\n",
    "close_to_fit = argrelmin(diffx)\n",
    "print(close_to_fit)\n",
    "\n",
    "far_from_fit = argrelmax(diffx)\n",
    "print(far_from_fit)\n",
    "\n",
    "# pick index 72 as close point,73 as far point\n",
    "#it is interesting to note that these are always only 1 index off \n",
    "\n",
    "\n",
    "close_points = get_vals(maxima[213], sig0F)\n",
    "far_points = get_vals(maxima[214], sig0F)\n",
    "print close_points\n",
    "print far_points\n",
    "\n",
    "closefitp = make_p(maxima[213], sig0F)\n",
    "\n",
    "farfitp = make_p(maxima[214], sig0F)\n",
    "\n",
    "close_vertex = (parabola_vertex_k(maxima[213], sig0F), parabola_vertex_k(maxima[213], sig0F))\n",
    "#the last point of the close_fit set is always very very different hmmmm interesting to note\n",
    "far_vertex = (parabola_vertex_k(maxima[214], sig0F), parabola_vertex_k(maxima[214], sig0F))\n"
   ]
  },
  {
   "cell_type": "code",
   "execution_count": 10,
   "metadata": {},
   "outputs": [
    {
     "ename": "NameError",
     "evalue": "name 'closefitp' is not defined",
     "output_type": "error",
     "traceback": [
      "\u001b[0;31m---------------------------------------------------------------------------\u001b[0m",
      "\u001b[0;31mNameError\u001b[0m                                 Traceback (most recent call last)",
      "\u001b[0;32m<ipython-input-10-60c293c69b69>\u001b[0m in \u001b[0;36m<module>\u001b[0;34m()\u001b[0m\n\u001b[1;32m      2\u001b[0m \u001b[0;34m\u001b[0m\u001b[0m\n\u001b[1;32m      3\u001b[0m \u001b[0mt\u001b[0m \u001b[0;34m=\u001b[0m \u001b[0mnp\u001b[0m\u001b[0;34m.\u001b[0m\u001b[0mlinspace\u001b[0m\u001b[0;34m(\u001b[0m\u001b[0;36m39.8\u001b[0m\u001b[0;34m,\u001b[0m \u001b[0;36m39.9\u001b[0m\u001b[0;34m,\u001b[0m \u001b[0;36m1000\u001b[0m\u001b[0;34m)\u001b[0m\u001b[0;34m\u001b[0m\u001b[0m\n\u001b[0;32m----> 4\u001b[0;31m \u001b[0mf\u001b[0m \u001b[0;34m=\u001b[0m \u001b[0mclosefitp\u001b[0m\u001b[0;34m[\u001b[0m\u001b[0;36m0\u001b[0m\u001b[0;34m]\u001b[0m\u001b[0;34m*\u001b[0m\u001b[0mt\u001b[0m\u001b[0;34m*\u001b[0m\u001b[0mt\u001b[0m \u001b[0;34m+\u001b[0m \u001b[0mclosefitp\u001b[0m\u001b[0;34m[\u001b[0m\u001b[0;36m1\u001b[0m\u001b[0;34m]\u001b[0m\u001b[0;34m*\u001b[0m\u001b[0mt\u001b[0m \u001b[0;34m+\u001b[0m \u001b[0mclosefitp\u001b[0m\u001b[0;34m[\u001b[0m\u001b[0;36m2\u001b[0m\u001b[0;34m]\u001b[0m\u001b[0;34m\u001b[0m\u001b[0m\n\u001b[0m\u001b[1;32m      5\u001b[0m \u001b[0;34m\u001b[0m\u001b[0m\n\u001b[1;32m      6\u001b[0m \u001b[0;34m\u001b[0m\u001b[0m\n",
      "\u001b[0;31mNameError\u001b[0m: name 'closefitp' is not defined"
     ]
    }
   ],
   "source": [
    "#plotting the close fit \n",
    "\n",
    "t = np.linspace(39.8, 39.9, 1000)\n",
    "f = closefitp[0]*t*t + closefitp[1]*t + closefitp[2]\n",
    "\n",
    "\n",
    "ax = plt.figure()\n",
    "ax = ax.add_subplot(111)\n",
    "\n",
    "ax.plot(t, f, 'b-', label='sin(t)')\n",
    "\n",
    "ax.scatter(*zip(*close_points))\n",
    "\n",
    "plt.savefig('close_fit.pdf')\n"
   ]
  },
  {
   "cell_type": "code",
   "execution_count": 11,
   "metadata": {},
   "outputs": [
    {
     "ename": "NameError",
     "evalue": "name 'farfitp' is not defined",
     "output_type": "error",
     "traceback": [
      "\u001b[0;31m---------------------------------------------------------------------------\u001b[0m",
      "\u001b[0;31mNameError\u001b[0m                                 Traceback (most recent call last)",
      "\u001b[0;32m<ipython-input-11-7e6521bf2f0b>\u001b[0m in \u001b[0;36m<module>\u001b[0;34m()\u001b[0m\n\u001b[1;32m      2\u001b[0m \u001b[0;34m\u001b[0m\u001b[0m\n\u001b[1;32m      3\u001b[0m \u001b[0mtf\u001b[0m \u001b[0;34m=\u001b[0m \u001b[0mnp\u001b[0m\u001b[0;34m.\u001b[0m\u001b[0mlinspace\u001b[0m\u001b[0;34m(\u001b[0m\u001b[0;36m39.95\u001b[0m\u001b[0;34m,\u001b[0m \u001b[0;36m40.05\u001b[0m\u001b[0;34m,\u001b[0m \u001b[0;36m1000\u001b[0m\u001b[0;34m)\u001b[0m\u001b[0;34m\u001b[0m\u001b[0m\n\u001b[0;32m----> 4\u001b[0;31m \u001b[0mff\u001b[0m \u001b[0;34m=\u001b[0m \u001b[0mfarfitp\u001b[0m\u001b[0;34m[\u001b[0m\u001b[0;36m0\u001b[0m\u001b[0;34m]\u001b[0m\u001b[0;34m*\u001b[0m\u001b[0mtf\u001b[0m\u001b[0;34m*\u001b[0m\u001b[0mtf\u001b[0m \u001b[0;34m+\u001b[0m \u001b[0mfarfitp\u001b[0m\u001b[0;34m[\u001b[0m\u001b[0;36m1\u001b[0m\u001b[0;34m]\u001b[0m\u001b[0;34m*\u001b[0m\u001b[0mtf\u001b[0m \u001b[0;34m+\u001b[0m \u001b[0mfarfitp\u001b[0m\u001b[0;34m[\u001b[0m\u001b[0;36m2\u001b[0m\u001b[0;34m]\u001b[0m\u001b[0;34m\u001b[0m\u001b[0m\n\u001b[0m\u001b[1;32m      5\u001b[0m \u001b[0;34m\u001b[0m\u001b[0m\n\u001b[1;32m      6\u001b[0m \u001b[0;34m\u001b[0m\u001b[0m\n",
      "\u001b[0;31mNameError\u001b[0m: name 'farfitp' is not defined"
     ]
    }
   ],
   "source": [
    "#plotting the far fit \n",
    "\n",
    "tf = np.linspace(39.95, 40.05, 1000)\n",
    "ff = farfitp[0]*tf*tf + farfitp[1]*tf + farfitp[2]\n",
    "\n",
    "\n",
    "ax1 = plt.figure()\n",
    "ax1 = ax1.add_subplot(111)\n",
    "\n",
    "ax1.plot(tf, ff, 'b-', label='sin(t)')\n",
    "\n",
    "ax1.scatter(*zip(*far_points))\n",
    "\n",
    "plt.savefig('far_fit.pdf')"
   ]
  },
  {
   "cell_type": "code",
   "execution_count": 12,
   "metadata": {},
   "outputs": [
    {
     "ename": "ValueError",
     "evalue": "x and y must have same first dimension, but have shapes (3199,) and (1957,)",
     "output_type": "error",
     "traceback": [
      "\u001b[0;31m---------------------------------------------------------------------------\u001b[0m",
      "\u001b[0;31mValueError\u001b[0m                                Traceback (most recent call last)",
      "\u001b[0;32m<ipython-input-12-50ce24470fac>\u001b[0m in \u001b[0;36m<module>\u001b[0;34m()\u001b[0m\n\u001b[1;32m      6\u001b[0m \u001b[0max2\u001b[0m \u001b[0;34m=\u001b[0m \u001b[0max2\u001b[0m\u001b[0;34m.\u001b[0m\u001b[0madd_subplot\u001b[0m\u001b[0;34m(\u001b[0m\u001b[0;36m111\u001b[0m\u001b[0;34m)\u001b[0m\u001b[0;34m\u001b[0m\u001b[0m\n\u001b[1;32m      7\u001b[0m \u001b[0;34m\u001b[0m\u001b[0m\n\u001b[0;32m----> 8\u001b[0;31m \u001b[0max2\u001b[0m\u001b[0;34m.\u001b[0m\u001b[0mplot\u001b[0m\u001b[0;34m(\u001b[0m\u001b[0mallx\u001b[0m\u001b[0;34m,\u001b[0m \u001b[0mlist\u001b[0m\u001b[0;34m(\u001b[0m\u001b[0msig0F\u001b[0m\u001b[0;34m)\u001b[0m\u001b[0;34m,\u001b[0m \u001b[0;34m'g.'\u001b[0m\u001b[0;34m,\u001b[0m \u001b[0mlabel\u001b[0m\u001b[0;34m=\u001b[0m\u001b[0;34m\"all the data\"\u001b[0m\u001b[0;34m)\u001b[0m\u001b[0;34m\u001b[0m\u001b[0m\n\u001b[0m\u001b[1;32m      9\u001b[0m \u001b[0max2\u001b[0m\u001b[0;34m.\u001b[0m\u001b[0mplot\u001b[0m\u001b[0;34m(\u001b[0m\u001b[0mallx\u001b[0m\u001b[0;34m,\u001b[0m \u001b[0mlist\u001b[0m\u001b[0;34m(\u001b[0m\u001b[0msig0F\u001b[0m\u001b[0;34m)\u001b[0m\u001b[0;34m,\u001b[0m \u001b[0;34m'b.'\u001b[0m\u001b[0;34m,\u001b[0m \u001b[0mlabel\u001b[0m\u001b[0;34m=\u001b[0m\u001b[0;34m\"all the data\"\u001b[0m\u001b[0;34m)\u001b[0m\u001b[0;34m\u001b[0m\u001b[0m\n\u001b[1;32m     10\u001b[0m \u001b[0max2\u001b[0m\u001b[0;34m.\u001b[0m\u001b[0mplot\u001b[0m\u001b[0;34m(\u001b[0m\u001b[0mxvals\u001b[0m\u001b[0;34m,\u001b[0m \u001b[0mmax_sig_fit\u001b[0m\u001b[0;34m,\u001b[0m \u001b[0;34m\"y.\"\u001b[0m\u001b[0;34m)\u001b[0m\u001b[0;34m\u001b[0m\u001b[0m\n",
      "\u001b[0;32m/Users/elerath/anaconda/envs/py27/lib/python2.7/site-packages/matplotlib/__init__.pyc\u001b[0m in \u001b[0;36minner\u001b[0;34m(ax, *args, **kwargs)\u001b[0m\n\u001b[1;32m   1896\u001b[0m                     warnings.warn(msg % (label_namer, func.__name__),\n\u001b[1;32m   1897\u001b[0m                                   RuntimeWarning, stacklevel=2)\n\u001b[0;32m-> 1898\u001b[0;31m             \u001b[0;32mreturn\u001b[0m \u001b[0mfunc\u001b[0m\u001b[0;34m(\u001b[0m\u001b[0max\u001b[0m\u001b[0;34m,\u001b[0m \u001b[0;34m*\u001b[0m\u001b[0margs\u001b[0m\u001b[0;34m,\u001b[0m \u001b[0;34m**\u001b[0m\u001b[0mkwargs\u001b[0m\u001b[0;34m)\u001b[0m\u001b[0;34m\u001b[0m\u001b[0m\n\u001b[0m\u001b[1;32m   1899\u001b[0m         \u001b[0mpre_doc\u001b[0m \u001b[0;34m=\u001b[0m \u001b[0minner\u001b[0m\u001b[0;34m.\u001b[0m\u001b[0m__doc__\u001b[0m\u001b[0;34m\u001b[0m\u001b[0m\n\u001b[1;32m   1900\u001b[0m         \u001b[0;32mif\u001b[0m \u001b[0mpre_doc\u001b[0m \u001b[0;32mis\u001b[0m \u001b[0mNone\u001b[0m\u001b[0;34m:\u001b[0m\u001b[0;34m\u001b[0m\u001b[0m\n",
      "\u001b[0;32m/Users/elerath/anaconda/envs/py27/lib/python2.7/site-packages/matplotlib/axes/_axes.pyc\u001b[0m in \u001b[0;36mplot\u001b[0;34m(self, *args, **kwargs)\u001b[0m\n\u001b[1;32m   1404\u001b[0m         \u001b[0mkwargs\u001b[0m \u001b[0;34m=\u001b[0m \u001b[0mcbook\u001b[0m\u001b[0;34m.\u001b[0m\u001b[0mnormalize_kwargs\u001b[0m\u001b[0;34m(\u001b[0m\u001b[0mkwargs\u001b[0m\u001b[0;34m,\u001b[0m \u001b[0m_alias_map\u001b[0m\u001b[0;34m)\u001b[0m\u001b[0;34m\u001b[0m\u001b[0m\n\u001b[1;32m   1405\u001b[0m \u001b[0;34m\u001b[0m\u001b[0m\n\u001b[0;32m-> 1406\u001b[0;31m         \u001b[0;32mfor\u001b[0m \u001b[0mline\u001b[0m \u001b[0;32min\u001b[0m \u001b[0mself\u001b[0m\u001b[0;34m.\u001b[0m\u001b[0m_get_lines\u001b[0m\u001b[0;34m(\u001b[0m\u001b[0;34m*\u001b[0m\u001b[0margs\u001b[0m\u001b[0;34m,\u001b[0m \u001b[0;34m**\u001b[0m\u001b[0mkwargs\u001b[0m\u001b[0;34m)\u001b[0m\u001b[0;34m:\u001b[0m\u001b[0;34m\u001b[0m\u001b[0m\n\u001b[0m\u001b[1;32m   1407\u001b[0m             \u001b[0mself\u001b[0m\u001b[0;34m.\u001b[0m\u001b[0madd_line\u001b[0m\u001b[0;34m(\u001b[0m\u001b[0mline\u001b[0m\u001b[0;34m)\u001b[0m\u001b[0;34m\u001b[0m\u001b[0m\n\u001b[1;32m   1408\u001b[0m             \u001b[0mlines\u001b[0m\u001b[0;34m.\u001b[0m\u001b[0mappend\u001b[0m\u001b[0;34m(\u001b[0m\u001b[0mline\u001b[0m\u001b[0;34m)\u001b[0m\u001b[0;34m\u001b[0m\u001b[0m\n",
      "\u001b[0;32m/Users/elerath/anaconda/envs/py27/lib/python2.7/site-packages/matplotlib/axes/_base.pyc\u001b[0m in \u001b[0;36m_grab_next_args\u001b[0;34m(self, *args, **kwargs)\u001b[0m\n\u001b[1;32m    405\u001b[0m                 \u001b[0;32mreturn\u001b[0m\u001b[0;34m\u001b[0m\u001b[0m\n\u001b[1;32m    406\u001b[0m             \u001b[0;32mif\u001b[0m \u001b[0mlen\u001b[0m\u001b[0;34m(\u001b[0m\u001b[0mremaining\u001b[0m\u001b[0;34m)\u001b[0m \u001b[0;34m<=\u001b[0m \u001b[0;36m3\u001b[0m\u001b[0;34m:\u001b[0m\u001b[0;34m\u001b[0m\u001b[0m\n\u001b[0;32m--> 407\u001b[0;31m                 \u001b[0;32mfor\u001b[0m \u001b[0mseg\u001b[0m \u001b[0;32min\u001b[0m \u001b[0mself\u001b[0m\u001b[0;34m.\u001b[0m\u001b[0m_plot_args\u001b[0m\u001b[0;34m(\u001b[0m\u001b[0mremaining\u001b[0m\u001b[0;34m,\u001b[0m \u001b[0mkwargs\u001b[0m\u001b[0;34m)\u001b[0m\u001b[0;34m:\u001b[0m\u001b[0;34m\u001b[0m\u001b[0m\n\u001b[0m\u001b[1;32m    408\u001b[0m                     \u001b[0;32myield\u001b[0m \u001b[0mseg\u001b[0m\u001b[0;34m\u001b[0m\u001b[0m\n\u001b[1;32m    409\u001b[0m                 \u001b[0;32mreturn\u001b[0m\u001b[0;34m\u001b[0m\u001b[0m\n",
      "\u001b[0;32m/Users/elerath/anaconda/envs/py27/lib/python2.7/site-packages/matplotlib/axes/_base.pyc\u001b[0m in \u001b[0;36m_plot_args\u001b[0;34m(self, tup, kwargs)\u001b[0m\n\u001b[1;32m    383\u001b[0m             \u001b[0mx\u001b[0m\u001b[0;34m,\u001b[0m \u001b[0my\u001b[0m \u001b[0;34m=\u001b[0m \u001b[0mindex_of\u001b[0m\u001b[0;34m(\u001b[0m\u001b[0mtup\u001b[0m\u001b[0;34m[\u001b[0m\u001b[0;34m-\u001b[0m\u001b[0;36m1\u001b[0m\u001b[0;34m]\u001b[0m\u001b[0;34m)\u001b[0m\u001b[0;34m\u001b[0m\u001b[0m\n\u001b[1;32m    384\u001b[0m \u001b[0;34m\u001b[0m\u001b[0m\n\u001b[0;32m--> 385\u001b[0;31m         \u001b[0mx\u001b[0m\u001b[0;34m,\u001b[0m \u001b[0my\u001b[0m \u001b[0;34m=\u001b[0m \u001b[0mself\u001b[0m\u001b[0;34m.\u001b[0m\u001b[0m_xy_from_xy\u001b[0m\u001b[0;34m(\u001b[0m\u001b[0mx\u001b[0m\u001b[0;34m,\u001b[0m \u001b[0my\u001b[0m\u001b[0;34m)\u001b[0m\u001b[0;34m\u001b[0m\u001b[0m\n\u001b[0m\u001b[1;32m    386\u001b[0m \u001b[0;34m\u001b[0m\u001b[0m\n\u001b[1;32m    387\u001b[0m         \u001b[0;32mif\u001b[0m \u001b[0mself\u001b[0m\u001b[0;34m.\u001b[0m\u001b[0mcommand\u001b[0m \u001b[0;34m==\u001b[0m \u001b[0;34m'plot'\u001b[0m\u001b[0;34m:\u001b[0m\u001b[0;34m\u001b[0m\u001b[0m\n",
      "\u001b[0;32m/Users/elerath/anaconda/envs/py27/lib/python2.7/site-packages/matplotlib/axes/_base.pyc\u001b[0m in \u001b[0;36m_xy_from_xy\u001b[0;34m(self, x, y)\u001b[0m\n\u001b[1;32m    242\u001b[0m         \u001b[0;32mif\u001b[0m \u001b[0mx\u001b[0m\u001b[0;34m.\u001b[0m\u001b[0mshape\u001b[0m\u001b[0;34m[\u001b[0m\u001b[0;36m0\u001b[0m\u001b[0;34m]\u001b[0m \u001b[0;34m!=\u001b[0m \u001b[0my\u001b[0m\u001b[0;34m.\u001b[0m\u001b[0mshape\u001b[0m\u001b[0;34m[\u001b[0m\u001b[0;36m0\u001b[0m\u001b[0;34m]\u001b[0m\u001b[0;34m:\u001b[0m\u001b[0;34m\u001b[0m\u001b[0m\n\u001b[1;32m    243\u001b[0m             raise ValueError(\"x and y must have same first dimension, but \"\n\u001b[0;32m--> 244\u001b[0;31m                              \"have shapes {} and {}\".format(x.shape, y.shape))\n\u001b[0m\u001b[1;32m    245\u001b[0m         \u001b[0;32mif\u001b[0m \u001b[0mx\u001b[0m\u001b[0;34m.\u001b[0m\u001b[0mndim\u001b[0m \u001b[0;34m>\u001b[0m \u001b[0;36m2\u001b[0m \u001b[0;32mor\u001b[0m \u001b[0my\u001b[0m\u001b[0;34m.\u001b[0m\u001b[0mndim\u001b[0m \u001b[0;34m>\u001b[0m \u001b[0;36m2\u001b[0m\u001b[0;34m:\u001b[0m\u001b[0;34m\u001b[0m\u001b[0m\n\u001b[1;32m    246\u001b[0m             raise ValueError(\"x and y can be no greater than 2-D, but have \"\n",
      "\u001b[0;31mValueError\u001b[0m: x and y must have same first dimension, but have shapes (3199,) and (1957,)"
     ]
    },
    {
     "data": {
      "image/png": "[encoded data removed]",
      "text/plain": [
       "<matplotlib.figure.Figure at 0x10d3aa750>"
      ]
     },
     "metadata": {},
     "output_type": "display_data"
    }
   ],
   "source": [
    "#allx = np.linspace(0, 100, 3199)\n",
    "\n",
    "allx = np.arange(3199)*0.03125\n",
    "\n",
    "ax2 = plt.figure()\n",
    "ax2 = ax2.add_subplot(111)\n",
    "\n",
    "ax2.plot(allx, list(sig0F), 'g.', label=\"all the data\")\n",
    "ax2.plot(allx, list(sig0F), 'b.', label=\"all the data\")\n",
    "ax2.plot(xvals, max_sig_fit, \"y.\")\n",
    "\n",
    "ax2.plot(x, max_sig, \"r.\")\n",
    "\n",
    "#pl.xlim([6.7, 7.1])\n",
    "plt.ylim([-.5, 0.5])\n",
    "\n",
    "allx_maxes = [allx[i] for i in maxima]\n",
    "\n",
    "\n",
    "print \n"
   ]
  },
  {
   "cell_type": "code",
   "execution_count": 13,
   "metadata": {},
   "outputs": [
    {
     "name": "stdout",
     "output_type": "stream",
     "text": [
      "[  2.20488144e-01   5.74234742e-03  -3.84910482e-05]\n"
     ]
    },
    {
     "data": {
      "image/png": "[encoded data removed]",
      "text/plain": [
       "<matplotlib.figure.Figure at 0x11afcefd0>"
      ]
     },
     "metadata": {},
     "output_type": "display_data"
    }
   ],
   "source": [
    "#finding 2nd degree best fit function\n",
    "\n",
    "#in the order c, bx, ax^2\n",
    "abc = poly.polyfit(x, max_sig, 2)\n",
    "print abc\n",
    "\n",
    "def polyfit_eq(x, abc):\n",
    "    return abc[2]*x*x + abc[1]*x + abc[0]\n",
    "\n",
    "ax3 = plt.figure()\n",
    "ax3 = ax3.add_subplot(111)\n",
    "\n",
    "ax3.plot(x, polyfit_eq(x, abc), 'g-', label=\"all the data\")\n",
    "ax3.plot(x, max_sig, 'b.-', label=\"all the data\")\n",
    "\n",
    "plt.savefig(\"polyfit.pdf\")"
   ]
  },
  {
   "cell_type": "code",
   "execution_count": 42,
   "metadata": {},
   "outputs": [
    {
     "data": {
      "text/plain": [
       "<matplotlib.legend.Legend at 0x11b752bd0>"
      ]
     },
     "execution_count": 42,
     "metadata": {},
     "output_type": "execute_result"
    },
    {
     "data": {
      "image/png": "[encoded data removed]",
      "text/plain": [
       "<matplotlib.figure.Figure at 0x11b62e650>"
      ]
     },
     "metadata": {},
     "output_type": "display_data"
    }
   ],
   "source": [
    "#Comparing 135 GHz and chopped blackbody\n",
    "\n",
    "chopped_p = [3.28335110 * 10**(-1),\n",
    "             2.95998001 * 10**(-3),\n",
    "             -2.30694399 * 10**(-5)]\n",
    "\n",
    "f135_p = [2.20488144 * 10**(-1),\n",
    "          5.74234242 * 10**(-3),\n",
    "          -3.84910482 *10**(-5)]\n",
    "\n",
    "xr = np.linspace(-50.0, 50.0, 1000)\n",
    "\n",
    "shift_chopped_amt_lr = -(chopped_p[1]) / (2*chopped_p[2])\n",
    "shift_f135_amt_lr = -(f135_p[1]) / (2*f135_p[2])\n",
    "\n",
    "chopped_p_shifted_lr = shift_parabola(chopped_p, -1*shift_chopped_amt_lr)\n",
    "f135_p_shifted_lr = shift_parabola(f135_p, -1*shift_f135_amt_lr)\n",
    "\n",
    "shift_chopped_amt =  ((shift_chopped_amt_lr**2)*chopped_p[2] + shift_chopped_amt_lr *chopped_p[1] +chopped_p[0])\n",
    "shift_f135_amt = ((shift_f135_amt_lr**2)*f135_p[2] + shift_f135_amt_lr *f135_p[1] +f135_p[0])\n",
    "\n",
    "chopped_p_normalized = normalize_parabola(chopped_p_shifted_lr)\n",
    "f135_p_normalized = normalize_parabola(f135_p_shifted_lr)\n",
    "\n",
    "ax4 = plt.figure()\n",
    "ax4 = ax4.add_subplot(111)\n",
    "\n",
    "ax4.plot(xr, polyfit_eq(xr, chopped_p_normalized), 'r-', label=\"chopped blackbody parabola\")\n",
    "ax4.plot(xr, polyfit_eq(xr, f135_p_normalized), 'b-', label=\"135 GHz parabola\")\n",
    "ax4.legend()"
   ]
  },
  {
   "cell_type": "code",
   "execution_count": null,
   "metadata": {
    "collapsed": true
   },
   "outputs": [],
   "source": []
  },
  {
   "cell_type": "code",
   "execution_count": null,
   "metadata": {
    "collapsed": true
   },
   "outputs": [],
   "source": []
  }
 ],
 "metadata": {
  "kernelspec": {
   "display_name": "Python 2",
   "language": "python",
   "name": "python2"
  },
  "language_info": {
   "codemirror_mode": {
    "name": "ipython",
    "version": 2
   },
   "file_extension": ".py",
   "mimetype": "text/x-python",
   "name": "python",
   "nbconvert_exporter": "python",
   "pygments_lexer": "ipython2",
   "version": "2.7.13"
  }
 },
 "nbformat": 4,
 "nbformat_minor": 2
}
