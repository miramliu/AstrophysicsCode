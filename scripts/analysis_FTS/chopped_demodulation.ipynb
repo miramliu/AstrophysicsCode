{
 "cells": [
  {
   "cell_type": "code",
   "execution_count": 9,
   "metadata": {
    "collapsed": false
   },
   "outputs": [
    {
     "name": "stdout",
     "output_type": "stream",
     "text": [
      "Using matplotlib backend: Qt5Agg\n",
      "Populating the interactive namespace from numpy and matplotlib\n"
     ]
    }
   ],
   "source": [
    "%pylab\n",
    "import matplotlib.pyplot as pl\n",
    "import pickle\n",
    "import numpy as np\n",
    "import sys\n",
    "from scipy.signal import argrelextrema\n",
    "#%matplotlib inline\n",
    "# %matplotlib qt\n",
    "\n",
    "file1=open( '../../data/raw_data/20160330_1835_90A5DHW_filter_chopped_13Hz.pkl' , 'rb')\n",
    "d1=pickle.load(file1)\n",
    "file1.close()\n",
    " \n",
    "file2=open( '../../data/raw_data/20160330_1849_90A5DHW_ref_chopped_13Hz.pkl' , 'rb')\n",
    "d2=pickle.load(file2)\n",
    "file2.close()\n",
    "\n",
    "#file3=open( '../../data/raw_data/AP025_chop.pkl' , 'rb')\n",
    "#d3=pickle.load(file3)\n",
    "#file3.close()"
   ]
  },
  {
   "cell_type": "code",
   "execution_count": 2,
   "metadata": {
    "collapsed": false
   },
   "outputs": [
    {
     "name": "stdout",
     "output_type": "stream",
     "text": [
      "[-24.994494 -24.992541 -24.990588 ...,  25.123392  25.125345  25.127298]\n"
     ]
    }
   ],
   "source": [
    "#Flat mirror new septum\n",
    "X1=d1['delay0F']\n",
    "Y1=d1['sig0F']\n",
    "print X1\n",
    "\n",
    "X2=d2['delay0F']\n",
    "Y2=d2['sig0F']\n",
    "\n",
    "# X3=d3['delay0F']\n",
    "# Y3=d3['sig0F']"
   ]
  },
  {
   "cell_type": "code",
   "execution_count": 5,
   "metadata": {
    "collapsed": false
   },
   "outputs": [
    {
     "data": {
      "text/plain": [
       "<matplotlib.legend.Legend at 0x10a43390>"
      ]
     },
     "execution_count": 5,
     "metadata": {},
     "output_type": "execute_result"
    }
   ],
   "source": [
    "fig1=figure()\n",
    "pl.plot(X1,Y1,label='line', color='k')\n",
    "\n",
    "#pl.xlim(-30,30)\n",
    "pl.title('Interferogram with Filter')\n",
    "pl.ylabel('Signal')\n",
    "pl.xlabel('Delay')\n",
    "pl.legend(loc='lower right')\n",
    "#pl.show()\n",
    "\n",
    "fig2=figure()\n",
    "pl.plot(X2,Y2,label='line', color='k')\n",
    "\n",
    "#pl.xlim(-1,1)\n",
    "pl.title('Interferogram no Filter')\n",
    "pl.ylabel('Signal')\n",
    "pl.xlabel('Delay')\n",
    "pl.legend(loc='lower right')\n",
    "#pl.show()\n",
    "\n",
    "# fig3=figure()\n",
    "# pl.plot(X3,Y3,label='line', color='k')\n",
    "\n",
    "# #pl.xlim(-5,5)\n",
    "# pl.title('Interferogram with Filter')\n",
    "# pl.ylabel('Signal')\n",
    "# pl.xlabel('Delay')\n",
    "# pl.legend(loc='lower right')\n",
    "# #pl.show()\n"
   ]
  },
  {
   "cell_type": "code",
   "execution_count": 6,
   "metadata": {
    "collapsed": false
   },
   "outputs": [
    {
     "name": "stdout",
     "output_type": "stream",
     "text": [
      "[ 0.066402  0.068355  0.070308 ...,  0.060543  0.062496  0.064449]\n",
      "[-24.994494 -24.992541 -24.990588 ...,  25.123392  25.125345  25.127298]\n",
      "[ 0.00970392  0.01084631  0.01179936 ...,  0.0134877   0.01414726\n",
      "  0.01450702]\n",
      "<type 'numpy.ndarray'>\n",
      "<type 'numpy.ndarray'>\n"
     ]
    },
    {
     "data": {
      "text/plain": [
       "[<matplotlib.lines.Line2D at 0x122d8f28>]"
      ]
     },
     "execution_count": 6,
     "metadata": {},
     "output_type": "execute_result"
    }
   ],
   "source": [
    "'Cyclic shift the interferogram so that wlf is at zero'\n",
    "fig5= figure()\n",
    "cyclicX = np.concatenate((X1[len(X1)/2:], X1[:len(X1)/2])) \n",
    "print cyclicX\n",
    "print X1\n",
    "print Y1\n",
    "print type(X1)\n",
    "print type(cyclicX)\n",
    "pl.plot(cyclicX,Y1,label='cyclic shifted interferogram', color='k')\n",
    "\n",
    "\n",
    "\n"
   ]
  },
  {
   "cell_type": "code",
   "execution_count": null,
   "metadata": {
    "collapsed": false,
    "scrolled": true
   },
   "outputs": [],
   "source": [
    "'Rfft to get only the real part, input should be real'\n",
    "\n",
    "\n",
    "\n",
    "xmax = max(cyclicX)\n",
    "xmin = min(cyclicX)\n",
    "\n",
    "delta_nu = 300./(xmax-xmin)\n",
    "rfft=np.fft.rfft(Y1)\n",
    "nu = np.arange(len(rfft))*(delta_nu)\n",
    "\n",
    "fig4 =figure()\n",
    "pl.plot(nu, np.real(rfft)/4,label='spectrum', color='k')\n",
    "#pl.xlim(3600, 4800)\n",
    "#pl.ylim(0,1.5)\n",
    "pl.title('Chopped Spectrum, filter')\n",
    "pl.legend()\n",
    "pl.xlabel('Frequency (GHz)')\n",
    "#pl.show()\n",
    "\n"
   ]
  },
  {
   "cell_type": "code",
   "execution_count": null,
   "metadata": {
    "collapsed": false
   },
   "outputs": [],
   "source": [
    "'Increase length of data: pad with zeros'\n",
    "fig6=figure()\n",
    "cyclicX_spec = np.concatenate((cyclicX[698:], cyclicX[:698])) \n",
    "print cyclicX_spec\n",
    "print cyclicX\n",
    "print Y1\n",
    "print type(X1)\n",
    "print type(cyclicX_spec)\n",
    "pl.plot(cyclicX_spec,abs(Y1),label='cyclic shifted spectrum', color='k')\n",
    "\n"
   ]
  },
  {
   "cell_type": "code",
   "execution_count": null,
   "metadata": {
    "collapsed": true
   },
   "outputs": [],
   "source": [
    "'add max and min'\n"
   ]
  }
 ],
 "metadata": {
  "anaconda-cloud": {},
  "kernelspec": {
   "display_name": "Python [conda root]",
   "language": "python",
   "name": "conda-root-py"
  },
  "language_info": {
   "codemirror_mode": {
    "name": "ipython",
    "version": 3
   },
   "file_extension": ".py",
   "mimetype": "text/x-python",
   "name": "python",
   "nbconvert_exporter": "python",
   "pygments_lexer": "ipython3",
   "version": "3.5.3"
  }
 },
 "nbformat": 4,
 "nbformat_minor": 1
}
