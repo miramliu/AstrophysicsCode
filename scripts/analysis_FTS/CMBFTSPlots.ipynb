{
 "cells": [
  {
   "cell_type": "markdown",
   "metadata": {},
   "source": [
    "making and saving plots for CMB poster with Rito. (see page 104)"
   ]
  },
  {
   "cell_type": "code",
   "execution_count": 2,
   "metadata": {},
   "outputs": [
    {
     "ename": "TabError",
     "evalue": "inconsistent use of tabs and spaces in indentation (<ipython-input-2-f67ce54f5cce>, line 49)",
     "output_type": "error",
     "traceback": [
      "\u001b[0;36m  File \u001b[0;32m\"<ipython-input-2-f67ce54f5cce>\"\u001b[0;36m, line \u001b[0;32m49\u001b[0m\n\u001b[0;31m    return t, D, Nu, u\u001b[0m\n\u001b[0m                      ^\u001b[0m\n\u001b[0;31mTabError\u001b[0m\u001b[0;31m:\u001b[0m inconsistent use of tabs and spaces in indentation\n"
     ]
    }
   ],
   "source": [
    "import matplotlib.pyplot as pl\n",
    "import pickle\n",
    "import numpy as np\n",
    "import sys\n",
    "%matplotlib inline\n",
    "\n",
    "\n",
    "\n",
    "with open( '../../data/raw_data/20170615_1426_20170615_2mms_reference1.pkl' , 'rb') as file1:\n",
    "    d1=pickle.load(file1, encoding = 'latin1')\n",
    "\n",
    "\n",
    "def analyze_spectrum(d): \n",
    "\ti = 11\n",
    "\tNsize = 2**i\n",
    "\tdt=(1/(d['sample freq'])) #period\n",
    "\tT1=dt*(Nsize) #full period\n",
    "\tv=(d['speed'])\n",
    "\tX = v*T1 #full distance\n",
    "\tdx = dt*v #smallest amount of distance travelled\n",
    "\ttotal_t = (d['scan time']) #how long it ran\n",
    "    \n",
    "\ttotal_s = (d['samples requested']) #number of samples \n",
    "\tstartpt = ((total_s - Nsize)/2) #starting point\n",
    "\n",
    "\n",
    "\tendpt = startpt + Nsize #ending point\n",
    "\tstartpt = int(startpt)\n",
    "\tendpt = int(endpt)\n",
    "\n",
    "\tdf = 1/T1\n",
    "\tf = df*np.arange(Nsize/2)+df/2.0\n",
    "\tfFull = df*np.arange((Nsize/2) + 1)+df/2.0\n",
    "\n",
    "\n",
    "\ty = (d['sig0F'])\n",
    "\tD = y[startpt:endpt] #signal\n",
    "\t#D = np.flipud(D)\n",
    "\n",
    "\ta = d['delay0F']/v\n",
    "\tt = a[startpt:endpt] #time (used as x axis)\n",
    "\n",
    "\tD = np.hanning(Nsize)*D #signal multiplied by a hanning function to improve FFT\n",
    "\tS = np.fft.rfft(D) #fourier transform\n",
    "\tS = S[0:-1]\n",
    "\tu = np.abs(S) #gets rid of imaginary part of fourier transform solely for the plot\n",
    "\tdNu = 1/(Nsize*dx)\n",
    "\tNu = dNu*np.arange(Nsize/2)\n",
    "    return t, D, Nu, u"
   ]
  },
  {
   "cell_type": "code",
   "execution_count": null,
   "metadata": {
    "collapsed": true
   },
   "outputs": [],
   "source": [
    "\n",
    "\n"
   ]
  },
  {
   "cell_type": "code",
   "execution_count": null,
   "metadata": {
    "collapsed": true
   },
   "outputs": [],
   "source": []
  }
 ],
 "metadata": {
  "anaconda-cloud": {},
  "kernelspec": {
   "display_name": "Python 3",
   "language": "python",
   "name": "python3"
  },
  "language_info": {
   "codemirror_mode": {
    "name": "ipython",
    "version": 3
   },
   "file_extension": ".py",
   "mimetype": "text/x-python",
   "name": "python",
   "nbconvert_exporter": "python",
   "pygments_lexer": "ipython3",
   "version": "3.6.1"
  }
 },
 "nbformat": 4,
 "nbformat_minor": 1
}
