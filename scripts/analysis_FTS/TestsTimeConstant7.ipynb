{
 "cells": [
  {
   "cell_type": "markdown",
   "metadata": {},
   "source": [
    "This is a notebook that is being used to figure out why TimeConstnat7 is not functioning properly. I believe it has to do with the args and the difference between a function and an array. \n",
    "\n",
    "Mira"
   ]
  },
  {
   "cell_type": "code",
   "execution_count": 44,
   "metadata": {
    "collapsed": true
   },
   "outputs": [],
   "source": [
    "import numpy as np\n",
    "import matplotlib\n",
    "import matplotlib.pyplot as pl\n",
    "%matplotlib inline\n",
    "import pickle\n",
    "import seaborn as sns\n",
    "import sys\n",
    "import numpy as np\n",
    "import scipy.optimize as op\n",
    "from scipy.optimize import curve_fit\n",
    "from scipy.special import erf\n",
    "\n",
    "sns.set_palette(\"PuBuGn_d\",15)\n",
    "sns.set_style(\"whitegrid\")\n",
    "import emcee\n",
    "from scipy.integrate import quad\n",
    "from scipy.integrate import nquad"
   ]
  },
  {
   "cell_type": "code",
   "execution_count": 45,
   "metadata": {
    "collapsed": true
   },
   "outputs": [],
   "source": [
    "with open('../../data/raw_data/20170615_1730_20mms_reference.pkl', 'rb') as f:\n",
    "    d = pickle.load(f, encoding='latin1') "
   ]
  },
  {
   "cell_type": "code",
   "execution_count": 46,
   "metadata": {},
   "outputs": [
    {
     "data": {
      "image/png": "[encoded data removed]",
      "text/plain": [
       "<matplotlib.figure.Figure at 0x11d149c88>"
      ]
     },
     "metadata": {},
     "output_type": "display_data"
    }
   ],
   "source": [
    "i = 9\n",
    "Nsize = 2**i\n",
    "dt=(1/(d['sample freq'])) #period\n",
    "T1=dt*(Nsize) #full period\n",
    "v=(d['speed'])\n",
    "X = v*T1 #full distance\n",
    "dx = dt*v #smallest amount of distance travelled\n",
    "total_t = (d['scan time']) #how long it ran\n",
    "    \n",
    "total_s = (d['samples requested']) #number of samples \n",
    "startpt = ((total_s - Nsize)/2) #starting point\n",
    "\n",
    "\n",
    "endpt = startpt + Nsize #ending point\n",
    "\n",
    "\n",
    "df = 1/T1\n",
    "f = df*np.arange(Nsize/2)+df/2.0\n",
    "fFull = df*np.arange((Nsize/2) + 1)+df/2.0\n",
    "\n",
    "startpt = int(startpt)\n",
    "endpt = int(endpt)\n",
    "F = (d['sig0F'])\n",
    "D = F[startpt:endpt]\n",
    "#D = np.flipud(D)\n",
    "\n",
    "a = d['delay0F']/v\n",
    "t = a[startpt:endpt]\n",
    "\n",
    "pl.plot(t,D)\n",
    "pl.show()"
   ]
  },
  {
   "cell_type": "code",
   "execution_count": 47,
   "metadata": {
    "collapsed": true
   },
   "outputs": [],
   "source": [
    "#functions for getting the new integral model (from IntModel)\n",
    "def integrand(q,z,z0,p,q0):\n",
    "    return (1/(2*np.pi *p))*np.exp(-((q-q0)**2)/(2*p**2)) * np.cos(2*np.pi*q*(z-z0))\n",
    "\n",
    "def integraled (z,z0,p,q0): \n",
    "    return quad(integrand, -50,50, args = (z,z0,p,q0))[0]\n",
    "\n",
    "def extendintegral(qmin,qmax, z0, q0, p, div):\n",
    "    y = []\n",
    "    inot = []\n",
    "    for i in np.linspace (qmin,qmax,div):\n",
    "        y.append(-integraled(i,z0,p,q0))\n",
    "        #inot.append(i)\n",
    "    return y\n",
    "\n",
    "#creating the SAME function based on Z??\n",
    "#def extendintegralVar(var,z0,q0,p):\n",
    "    #y = []\n",
    "    #for i in np.linspace(min(var), max(var), len(var)):\n",
    "        #y.append(-integraled(i,z0,p,q0))\n",
    "    #return y\n",
    "    \n",
    "def extendintegralVar(var,z0,q0,p):\n",
    "    y = (-integraled(var,z0,p,q0))\n",
    "    return y"
   ]
  },
  {
   "cell_type": "code",
   "execution_count": 48,
   "metadata": {
    "collapsed": true
   },
   "outputs": [],
   "source": [
    "#model function convoluted with RC circuit and AC coupling function \n",
    "#added the integral for first order\n",
    "def psi1(z0,q0,p,T): #znot,qnot,p,T\n",
    "    Ns = Nsize\n",
    "    z = t\n",
    "    dz = z[2]-z[1]\n",
    "    f = np.linspace(0,0.5/dz, np.floor(Ns/2))\n",
    "    f_full = np.linspace(0,0.5/dz, np.floor(Ns/2) +1)\n",
    "    #original function\n",
    "    #qmin and qmax are guessed!!\n",
    "    #y0 = extendintegral(-6,6,z0,q0,p,Ns)\n",
    "    #y0 = integraled(z,z0,q0,p)\n",
    "    y0 = quad(integrand, -50,50, args = (z,z0,p,q0))[0]\n",
    "    yf0=np.fft.rfft(y0)\n",
    "    K_det =(1/(1+(1j*2*np.pi*f_full*T))) #kernel from detector\n",
    "    K_cc =(2*np.pi*f_full*.559)/(1 + (1j*2*np.pi*.559)) #kernel from AC coupling\n",
    "    K_f = np.multiply(K_det,K_cc)\n",
    "    y1=np.fft.irfft(yf0*K_f*2*np.pi)\n",
    "    return t,y1\n",
    "#znot = 0.012, q = 8.57718120805, p = .04"
   ]
  },
  {
   "cell_type": "code",
   "execution_count": 49,
   "metadata": {
    "collapsed": true
   },
   "outputs": [],
   "source": [
    "#likelihood function\n",
    "#why is it ln?\n",
    "def lnlike(params, t, D): #znot,qnot,p,T\n",
    "    znot, qnot,p1, T1,a = params \n",
    "    t,Modelf = psi1(znot,qnot,p1,T1)\n",
    "    Dev = -.5*(np.dot((D-(Modelf*a)),D-(Modelf*a)))\n",
    "    Sig=0.0005\n",
    "    return (Dev/Sig)-np.log(1/Sig) #sigma? if sigma is large it becomes shallower"
   ]
  },
  {
   "cell_type": "markdown",
   "metadata": {
    "collapsed": true
   },
   "source": [
    "nll = lambda *args: -lnlike(*args) \n",
    "result = op.minimize(nll, [-.23,1.0,.4,0.0017 ,.0018], args=(t,D))\n",
    "znot1,qnot1,p1,T1,a1 = result[\"x\"]"
   ]
  },
  {
   "cell_type": "code",
   "execution_count": null,
   "metadata": {
    "collapsed": true
   },
   "outputs": [],
   "source": [
    "#prior function\n",
    "#again, why is it ln?\n",
    "def lnprior(params):\n",
    "    znot, q, p, T, a = params \n",
    "    if -.08 < znot < .08 and 1.0 < q < 30.0 and .001 < p < .1 and 0.0 < T < .06 and -.005 < a < .005:\n",
    "        return 0.0\n",
    "    return -np.inf \n",
    "    #set znot to some delay because then tau  must move to accomodate as opposed to znot doing so. \n",
    "    #center znot at zero. (-.00001<z<.000001)\n"
   ]
  },
  {
   "cell_type": "code",
   "execution_count": null,
   "metadata": {
    "collapsed": true
   },
   "outputs": [],
   "source": [
    "#log probability function\n",
    "def lnprob (params, t, D):\n",
    "    lp = lnprior(params)\n",
    "    if not np.isfinite(lp):\n",
    "        return -np.inf\n",
    "    return lp + lnlike(params, t, D)"
   ]
  },
  {
   "cell_type": "code",
   "execution_count": null,
   "metadata": {
    "collapsed": true
   },
   "outputs": [],
   "source": [
    "ndim, nwalkers = 5,260\n",
    "pos = [result[\"x\"] + 10**(-4)*np.random.randn(ndim) for i in range(nwalkers)]"
   ]
  },
  {
   "cell_type": "code",
   "execution_count": 51,
   "metadata": {},
   "outputs": [
    {
     "ename": "error",
     "evalue": "Supplied function does not return a valid float.",
     "output_type": "error",
     "traceback": [
      "\u001b[0;31m---------------------------------------------------------------------------\u001b[0m",
      "\u001b[0;31merror\u001b[0m                                     Traceback (most recent call last)",
      "\u001b[0;32m<ipython-input-51-fab6999b8a85>\u001b[0m in \u001b[0;36m<module>\u001b[0;34m()\u001b[0m\n\u001b[0;32m----> 1\u001b[0;31m \u001b[0my01\u001b[0m \u001b[0;34m=\u001b[0m \u001b[0mextendintegralVar\u001b[0m\u001b[0;34m(\u001b[0m\u001b[0mt\u001b[0m\u001b[0;34m,\u001b[0m\u001b[0;36m1\u001b[0m\u001b[0;34m,\u001b[0m\u001b[0;36m1\u001b[0m\u001b[0;34m,\u001b[0m\u001b[0;36m1\u001b[0m\u001b[0;34m)\u001b[0m\u001b[0;34m\u001b[0m\u001b[0m\n\u001b[0m",
      "\u001b[0;32m<ipython-input-47-656d7ab757f1>\u001b[0m in \u001b[0;36mextendintegralVar\u001b[0;34m(var, z0, q0, p)\u001b[0m\n\u001b[1;32m     22\u001b[0m \u001b[0;34m\u001b[0m\u001b[0m\n\u001b[1;32m     23\u001b[0m \u001b[0;32mdef\u001b[0m \u001b[0mextendintegralVar\u001b[0m\u001b[0;34m(\u001b[0m\u001b[0mvar\u001b[0m\u001b[0;34m,\u001b[0m\u001b[0mz0\u001b[0m\u001b[0;34m,\u001b[0m\u001b[0mq0\u001b[0m\u001b[0;34m,\u001b[0m\u001b[0mp\u001b[0m\u001b[0;34m)\u001b[0m\u001b[0;34m:\u001b[0m\u001b[0;34m\u001b[0m\u001b[0m\n\u001b[0;32m---> 24\u001b[0;31m     \u001b[0my\u001b[0m \u001b[0;34m=\u001b[0m \u001b[0;34m(\u001b[0m\u001b[0;34m-\u001b[0m\u001b[0mintegraled\u001b[0m\u001b[0;34m(\u001b[0m\u001b[0mvar\u001b[0m\u001b[0;34m,\u001b[0m\u001b[0mz0\u001b[0m\u001b[0;34m,\u001b[0m\u001b[0mp\u001b[0m\u001b[0;34m,\u001b[0m\u001b[0mq0\u001b[0m\u001b[0;34m)\u001b[0m\u001b[0;34m)\u001b[0m\u001b[0;34m\u001b[0m\u001b[0m\n\u001b[0m\u001b[1;32m     25\u001b[0m     \u001b[0;32mreturn\u001b[0m \u001b[0my\u001b[0m\u001b[0;34m\u001b[0m\u001b[0m\n",
      "\u001b[0;32m<ipython-input-47-656d7ab757f1>\u001b[0m in \u001b[0;36mintegraled\u001b[0;34m(z, z0, p, q0)\u001b[0m\n\u001b[1;32m      4\u001b[0m \u001b[0;34m\u001b[0m\u001b[0m\n\u001b[1;32m      5\u001b[0m \u001b[0;32mdef\u001b[0m \u001b[0mintegraled\u001b[0m \u001b[0;34m(\u001b[0m\u001b[0mz\u001b[0m\u001b[0;34m,\u001b[0m\u001b[0mz0\u001b[0m\u001b[0;34m,\u001b[0m\u001b[0mp\u001b[0m\u001b[0;34m,\u001b[0m\u001b[0mq0\u001b[0m\u001b[0;34m)\u001b[0m\u001b[0;34m:\u001b[0m\u001b[0;34m\u001b[0m\u001b[0m\n\u001b[0;32m----> 6\u001b[0;31m     \u001b[0;32mreturn\u001b[0m \u001b[0mquad\u001b[0m\u001b[0;34m(\u001b[0m\u001b[0mintegrand\u001b[0m\u001b[0;34m,\u001b[0m \u001b[0;34m-\u001b[0m\u001b[0;36m50\u001b[0m\u001b[0;34m,\u001b[0m\u001b[0;36m50\u001b[0m\u001b[0;34m,\u001b[0m \u001b[0margs\u001b[0m \u001b[0;34m=\u001b[0m \u001b[0;34m(\u001b[0m\u001b[0mz\u001b[0m\u001b[0;34m,\u001b[0m\u001b[0mz0\u001b[0m\u001b[0;34m,\u001b[0m\u001b[0mp\u001b[0m\u001b[0;34m,\u001b[0m\u001b[0mq0\u001b[0m\u001b[0;34m)\u001b[0m\u001b[0;34m)\u001b[0m\u001b[0;34m[\u001b[0m\u001b[0;36m0\u001b[0m\u001b[0;34m]\u001b[0m\u001b[0;34m\u001b[0m\u001b[0m\n\u001b[0m\u001b[1;32m      7\u001b[0m \u001b[0;34m\u001b[0m\u001b[0m\n\u001b[1;32m      8\u001b[0m \u001b[0;32mdef\u001b[0m \u001b[0mextendintegral\u001b[0m\u001b[0;34m(\u001b[0m\u001b[0mqmin\u001b[0m\u001b[0;34m,\u001b[0m\u001b[0mqmax\u001b[0m\u001b[0;34m,\u001b[0m \u001b[0mz0\u001b[0m\u001b[0;34m,\u001b[0m \u001b[0mq0\u001b[0m\u001b[0;34m,\u001b[0m \u001b[0mp\u001b[0m\u001b[0;34m,\u001b[0m \u001b[0mdiv\u001b[0m\u001b[0;34m)\u001b[0m\u001b[0;34m:\u001b[0m\u001b[0;34m\u001b[0m\u001b[0m\n",
      "\u001b[0;32m/Users/Lab/anaconda3/lib/python3.5/site-packages/scipy/integrate/quadpack.py\u001b[0m in \u001b[0;36mquad\u001b[0;34m(func, a, b, args, full_output, epsabs, epsrel, limit, points, weight, wvar, wopts, maxp1, limlst)\u001b[0m\n\u001b[1;32m    313\u001b[0m     \u001b[0;32mif\u001b[0m \u001b[0;34m(\u001b[0m\u001b[0mweight\u001b[0m \u001b[0;32mis\u001b[0m \u001b[0;32mNone\u001b[0m\u001b[0;34m)\u001b[0m\u001b[0;34m:\u001b[0m\u001b[0;34m\u001b[0m\u001b[0m\n\u001b[1;32m    314\u001b[0m         retval = _quad(func, a, b, args, full_output, epsabs, epsrel, limit,\n\u001b[0;32m--> 315\u001b[0;31m                        points)\n\u001b[0m\u001b[1;32m    316\u001b[0m     \u001b[0;32melse\u001b[0m\u001b[0;34m:\u001b[0m\u001b[0;34m\u001b[0m\u001b[0m\n\u001b[1;32m    317\u001b[0m         retval = _quad_weight(func, a, b, args, full_output, epsabs, epsrel,\n",
      "\u001b[0;32m/Users/Lab/anaconda3/lib/python3.5/site-packages/scipy/integrate/quadpack.py\u001b[0m in \u001b[0;36m_quad\u001b[0;34m(func, a, b, args, full_output, epsabs, epsrel, limit, points)\u001b[0m\n\u001b[1;32m    378\u001b[0m     \u001b[0;32mif\u001b[0m \u001b[0mpoints\u001b[0m \u001b[0;32mis\u001b[0m \u001b[0;32mNone\u001b[0m\u001b[0;34m:\u001b[0m\u001b[0;34m\u001b[0m\u001b[0m\n\u001b[1;32m    379\u001b[0m         \u001b[0;32mif\u001b[0m \u001b[0minfbounds\u001b[0m \u001b[0;34m==\u001b[0m \u001b[0;36m0\u001b[0m\u001b[0;34m:\u001b[0m\u001b[0;34m\u001b[0m\u001b[0m\n\u001b[0;32m--> 380\u001b[0;31m             \u001b[0;32mreturn\u001b[0m \u001b[0m_quadpack\u001b[0m\u001b[0;34m.\u001b[0m\u001b[0m_qagse\u001b[0m\u001b[0;34m(\u001b[0m\u001b[0mfunc\u001b[0m\u001b[0;34m,\u001b[0m\u001b[0ma\u001b[0m\u001b[0;34m,\u001b[0m\u001b[0mb\u001b[0m\u001b[0;34m,\u001b[0m\u001b[0margs\u001b[0m\u001b[0;34m,\u001b[0m\u001b[0mfull_output\u001b[0m\u001b[0;34m,\u001b[0m\u001b[0mepsabs\u001b[0m\u001b[0;34m,\u001b[0m\u001b[0mepsrel\u001b[0m\u001b[0;34m,\u001b[0m\u001b[0mlimit\u001b[0m\u001b[0;34m)\u001b[0m\u001b[0;34m\u001b[0m\u001b[0m\n\u001b[0m\u001b[1;32m    381\u001b[0m         \u001b[0;32melse\u001b[0m\u001b[0;34m:\u001b[0m\u001b[0;34m\u001b[0m\u001b[0m\n\u001b[1;32m    382\u001b[0m             \u001b[0;32mreturn\u001b[0m \u001b[0m_quadpack\u001b[0m\u001b[0;34m.\u001b[0m\u001b[0m_qagie\u001b[0m\u001b[0;34m(\u001b[0m\u001b[0mfunc\u001b[0m\u001b[0;34m,\u001b[0m\u001b[0mbound\u001b[0m\u001b[0;34m,\u001b[0m\u001b[0minfbounds\u001b[0m\u001b[0;34m,\u001b[0m\u001b[0margs\u001b[0m\u001b[0;34m,\u001b[0m\u001b[0mfull_output\u001b[0m\u001b[0;34m,\u001b[0m\u001b[0mepsabs\u001b[0m\u001b[0;34m,\u001b[0m\u001b[0mepsrel\u001b[0m\u001b[0;34m,\u001b[0m\u001b[0mlimit\u001b[0m\u001b[0;34m)\u001b[0m\u001b[0;34m\u001b[0m\u001b[0m\n",
      "\u001b[0;31merror\u001b[0m: Supplied function does not return a valid float."
     ]
    }
   ],
   "source": [
    "y01 = extendintegralVar(t,1,1,1)"
   ]
  },
  {
   "cell_type": "code",
   "execution_count": null,
   "metadata": {},
   "outputs": [],
   "source": [
    "#FROM TC5\n",
    "z = t\n",
    "znot = 1\n",
    "p = 1\n",
    "q = 1\n",
    "y0=-np.cos(2*np.pi*q*(z-znot))*(np.exp(-((z-znot)**2)/(2*p**2)))/(np.sqrt(2*np.pi)*p)\n",
    "pl.plot(y0)\n",
    "#BE ABLE TO PLOT TC7 Y0"
   ]
  },
  {
   "cell_type": "code",
   "execution_count": null,
   "metadata": {
    "collapsed": true
   },
   "outputs": [],
   "source": []
  }
 ],
 "metadata": {
  "anaconda-cloud": {},
  "kernelspec": {
   "display_name": "Python [default]",
   "language": "python",
   "name": "python3"
  },
  "language_info": {
   "codemirror_mode": {
    "name": "ipython",
    "version": 3
   },
   "file_extension": ".py",
   "mimetype": "text/x-python",
   "name": "python",
   "nbconvert_exporter": "python",
   "pygments_lexer": "ipython3",
   "version": "3.5.3"
  }
 },
 "nbformat": 4,
 "nbformat_minor": 1
}
