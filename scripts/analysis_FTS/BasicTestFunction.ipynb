{
 "cells": [
  {
   "cell_type": "markdown",
   "metadata": {},
   "source": [
    "testing a test function. Mira"
   ]
  },
  {
   "cell_type": "code",
   "execution_count": 3,
   "metadata": {
    "collapsed": true
   },
   "outputs": [],
   "source": [
    "import numpy as np\n",
    "import matplotlib\n",
    "import matplotlib.pyplot as pl\n",
    "%matplotlib inline\n",
    "import pickle\n",
    "import seaborn as sns\n",
    "import sys\n",
    "import numpy as np\n",
    "import scipy.optimize as op\n",
    "from scipy.optimize import curve_fit\n",
    "\n",
    "sns.set_palette(\"PuBuGn_d\",15)\n",
    "sns.set_style(\"whitegrid\")\n",
    "import emcee\n"
   ]
  },
  {
   "cell_type": "code",
   "execution_count": 38,
   "metadata": {},
   "outputs": [
    {
     "data": {
      "image/png": "[encoded data removed]",
      "text/plain": [
       "<matplotlib.figure.Figure at 0x130fc4ad0>"
      ]
     },
     "metadata": {},
     "output_type": "display_data"
    }
   ],
   "source": [
    "def fun(x,b):\n",
    "    y = -b*x + (np.sqrt((b*x)**2 - 4*((x)**2 - 1)))/2\n",
    "    return y\n",
    "t = np.arange(-10,10,.02)\n",
    "pl.plot(t, fun(t,1.5))\n",
    "pl.plot(t,np.sqrt(1-(t**2)), '.r')\n",
    "pl.xlim(-3,3)\n",
    "pl.ylim(-3,3)\n",
    "pl.axis('equal')\n",
    "pl.show()"
   ]
  },
  {
   "cell_type": "code",
   "execution_count": null,
   "metadata": {
    "collapsed": true
   },
   "outputs": [],
   "source": []
  }
 ],
 "metadata": {
  "anaconda-cloud": {},
  "kernelspec": {
   "display_name": "Python 2",
   "language": "python",
   "name": "python2"
  },
  "language_info": {
   "codemirror_mode": {
    "name": "ipython",
    "version": 2
   },
   "file_extension": ".py",
   "mimetype": "text/x-python",
   "name": "python",
   "nbconvert_exporter": "python",
   "pygments_lexer": "ipython2",
   "version": "2.7.13"
  }
 },
 "nbformat": 4,
 "nbformat_minor": 1
}
