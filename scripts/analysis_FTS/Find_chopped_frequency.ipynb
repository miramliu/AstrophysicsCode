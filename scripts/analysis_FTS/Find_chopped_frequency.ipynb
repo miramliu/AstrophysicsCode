{
 "cells": [
  {
   "cell_type": "code",
   "execution_count": 2,
   "metadata": {
    "collapsed": true
   },
   "outputs": [],
   "source": [
    "import numpy as np\n",
    "import matplotlib\n",
    "import matplotlib.pyplot as pl\n",
    "%matplotlib inline\n",
    "import pickle\n",
    "import seaborn as sns\n",
    "import sys\n",
    "import numpy as np\n",
    "import scipy.optimize as op\n",
    "from scipy.signal import argrelmax\n",
    "from scipy.optimize import curve_fit\n",
    "sns.set_palette(\"PuBuGn_d\",15)\n",
    "sns.set_style(\"whitegrid\")\n",
    "import emcee"
   ]
  },
  {
   "cell_type": "code",
   "execution_count": 3,
   "metadata": {
    "collapsed": true
   },
   "outputs": [],
   "source": [
    "cfile = open('/Users/elerath/Downloads/software/data/raw_data/20170906_1320_FTS2_shimmed_septum_choppedref1.pkl', 'rb')\n",
    "d = pickle.load(cfile)\n",
    "cfile.close()"
   ]
  },
  {
   "cell_type": "code",
   "execution_count": 4,
   "metadata": {},
   "outputs": [
    {
     "name": "stdout",
     "output_type": "stream",
     "text": [
      "['wlf0R', 'wlf0F', 'oversample', 'ADC gain', 'scan time', 'iterations', 'scan start struct_time', 'speed', 'acceleration', 'max_d', 'max_nu', 'run', 'delay0F', 'dx', 'delay0R', 'sample freq', 'sig0R', 'scan0F', 'acc time', 'samples requested', 'sig0F', 'scan0R']\n"
     ]
    }
   ],
   "source": [
    "print d.keys()"
   ]
  },
  {
   "cell_type": "code",
   "execution_count": 5,
   "metadata": {},
   "outputs": [
    {
     "name": "stdout",
     "output_type": "stream",
     "text": [
      "0.03125\n",
      "50.0\n",
      "50.0\n",
      "64.0\n"
     ]
    }
   ],
   "source": [
    "print d['dx']\n",
    "print d['max_d']\n",
    "print d['scan time']\n",
    "print d['sample freq']"
   ]
  },
  {
   "cell_type": "code",
   "execution_count": 7,
   "metadata": {
    "collapsed": true
   },
   "outputs": [],
   "source": [
    "#find maxima in the signal\n",
    "maxima = argrelmax(d['sig0F'])\n",
    "#convert from tuple to list\n",
    "maxima = maxima[0]\n",
    "\n",
    "#to be entirely honest i'm not sure what difference this makes but just in case...\n",
    "sigf = list(d['sig0F'])\n",
    "\n",
    "x = [it * 0.03125 for it in maxima]\n",
    "max_sig = [sigf[i] for i in maxima]\n",
    "\n"
   ]
  },
  {
   "cell_type": "code",
   "execution_count": 59,
   "metadata": {},
   "outputs": [
    {
     "data": {
      "text/plain": [
       "[<matplotlib.lines.Line2D at 0x115b1b690>]"
      ]
     },
     "execution_count": 59,
     "metadata": {},
     "output_type": "execute_result"
    },
    {
     "data": {
      "image/png": "[encoded data removed]",
      "text/plain": [
       "<matplotlib.figure.Figure at 0x1158f3f90>"
      ]
     },
     "metadata": {},
     "output_type": "display_data"
    }
   ],
   "source": [
    "#plotting the data\n",
    "\n",
    "pl.plot(x, max_sig)"
   ]
  },
  {
   "cell_type": "code",
   "execution_count": 60,
   "metadata": {},
   "outputs": [
    {
     "data": {
      "text/plain": [
       "array([ -2.30694399e-05,   2.95998001e-03,   3.28335110e-01])"
      ]
     },
     "execution_count": 60,
     "metadata": {},
     "output_type": "execute_result"
    }
   ],
   "source": [
    "#fitting to a quadratic of form Ax^2 + Bx + C\n",
    "\n",
    "np.polyfit(x, max_sig, 2)"
   ]
  },
  {
   "cell_type": "code",
   "execution_count": null,
   "metadata": {
    "collapsed": true
   },
   "outputs": [],
   "source": []
  }
 ],
 "metadata": {
  "kernelspec": {
   "display_name": "Python 2",
   "language": "python",
   "name": "python2"
  },
  "language_info": {
   "codemirror_mode": {
    "name": "ipython",
    "version": 2
   },
   "file_extension": ".py",
   "mimetype": "text/x-python",
   "name": "python",
   "nbconvert_exporter": "python",
   "pygments_lexer": "ipython2",
   "version": "2.7.13"
  }
 },
 "nbformat": 4,
 "nbformat_minor": 2
}
