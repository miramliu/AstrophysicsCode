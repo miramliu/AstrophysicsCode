{
 "cells": [
  {
   "cell_type": "code",
   "execution_count": null,
   "metadata": {},
   "outputs": [],
   "source": [
    "%pylab\n",
    "#%matplotlib inline\n",
    "import pylab as pl\n",
    "from scipy.optimize import curve_fit\n",
    "from collections import deque\n",
    "import sys\n",
    "import pickle\n",
    "from numpy import where\n",
    "from scipy.interpolate import UnivariateSpline\n",
    "from scipy.signal import argrelextrema\n",
    "\n"
   ]
  },
  {
   "cell_type": "code",
   "execution_count": null,
   "metadata": {},
   "outputs": [],
   "source": [
    "def where_closest(value,array):\n",
    "  abs_diff = pl.array(abs(array-value))\n",
    "  wh=where(abs_diff == min(abs_diff))[0]\n",
    "  wh_closest = abs_diff[wh]\n",
    "  return wh_closest\n",
    "where_closest(5, pl.array([435,76,90324]))"
   ]
  },
  {
   "cell_type": "code",
   "execution_count": null,
   "metadata": {},
   "outputs": [],
   "source": [
    "def create_band(band, res, plt=False, high=0, conv=False):\n",
    "  '''\n",
    "  print, \"create_band, band, res, /bw, /plt, high=high, /conv\"\n",
    "  print, \"This program will create a top hat band convolved with a gaussain of sigma = res with freq data spaced from 0 to 1000 (default) GHz\"\n",
    "  print, \"band = bandpass region in GHz\"\n",
    "  print, \"res = freq. spacing in GHz\"\n",
    "  print, \"/plt plot bandpass\"\n",
    "  print, \"high=high upper GHz region\"\n",
    "  print, \"r = create_band([140, 160], 2.0, /bw, high=500.0)\"\n",
    "  return, 0\n",
    "  '''\n",
    "\n",
    "  npts = pl.ceil(4000.0)\n",
    "  if high : npts = pl.ceil(high*1.0/.25)\n",
    "  freq = pl.arange(npts)*.25 \n",
    "  response = pl.zeros(len(freq))\n",
    "\n",
    "  inb = pl.where((freq < band[1]) & (freq > band[0]))[0]\n",
    "  if band[0] == band[1] : inb = pl.where_closest(freq, band(0))[0]\n",
    "  if inb[0] == -1:\n",
    "    print \"Band not between 0-1000 GHZ\"\n",
    "    return 0\n",
    "\n",
    "  response[inb] = 1\n",
    "\n",
    "  #let's convolve the band with our resolution. \n",
    "  if conv:\n",
    "    xx = .25*pl.arange(6*res/.25+1)-3*res\n",
    "    con =pl.exp(-xx**2/(2*res**2))/pl.sqrt(2*pl.pi)/res\n",
    "    normalization=1./sum(abs(con))\n",
    "    response = pl.convolve(response, con,'same')*normalization\n",
    "  \n",
    "\n",
    "  if plt:\n",
    "    pl.figure()\n",
    "    pl.plot(freq, response,'D')\n",
    "    pl.xlabel('Freq(GHz)')\n",
    "    pl.ylabel('Reponse')\n",
    "    pl.xlim(band[0] - 3*res, band[1] + 3*res)\n",
    "\n",
    "\n",
    "  result = {'Freq': freq, 'resp': response}\n",
    "\n",
    "  return result"
   ]
  },
  {
   "cell_type": "code",
   "execution_count": 4,
   "metadata": {},
   "outputs": [],
   "source": [
    "def create_interf(freq,resp,band=[], plt=False,sav=False, res=1.0, two=False):\n",
    "  '''\n",
    "  print, \"create_interf, freq, resp, tc=tc, plt=plt,sav=sav, band=band, res=res, bw=bw, two=two\"\n",
    "  print, \"freq, resp - put in your own frequency and response data\"\n",
    "  print, \"/plt plots the band pass and interferrogram\"\n",
    "  print, \"/sav saves the interferrogram to a text file\"\n",
    "  print, \"band = band, res=res, /bw - use these to create freq/resp band with create_band\"\n",
    "  print, \"/two - put 2 interferrograms in a row\"\n",
    "  return, 0\n",
    "  '''\n",
    "\n",
    "#\n",
    "#  def where_closest(value,array):\n",
    "#    abs_diff = pl.array(abs(array-value))\n",
    "#    wh=pl.where(abs_diff == min(abs_diff))[0]\n",
    "#    wh_closest = abs_diff[wh]\n",
    "#    return wh_closest\n",
    "\n",
    "  if len(band) != 0:\n",
    "    r = create_band(band, res)\n",
    "    freq = r['Freq']\n",
    "    resp = r['resp']\n",
    "    if band[1] == band[0]:\n",
    "      resp = pl.zeros(len(freq))\n",
    "      k = where_closest(band[0], freq)\n",
    "      resp[k[0]] = 1.0\n",
    "\n",
    "#if freq(0) != 0 then return with warning!\n",
    "  if freq[0] != 0:\n",
    "    print 'Must go down to zero frequency'\n",
    "    return -1\n",
    "\n",
    "  #Let's be careful with these n's\n",
    "  #From DFanning\n",
    "  #Let N=8, N/2 = 4, then F_ns for 0,1,2,3,4, -3,-2,-1  NOTE: no -4!\n",
    "\n",
    "  n = pl.arange(len(freq)/2.+1)\n",
    "  x = 30*n/(max(freq)-min(freq)) #30 to go from GHz to icm\n",
    "\n",
    "\n",
    "  intf = pl.ifft(resp)\n",
    "  x2 = pl.concatenate((x, -(x[1:len(x)-2])[::-1]))    #Crap. should this be -2 or -1\n",
    "  if len(freq) % 2 == 1 : x2 = pl.concatenate((x, -(x[1:len(x)-1])[::-1])) \n",
    "\n",
    "  #plot, freq, resp\n",
    "  #oplot, freq, FFT(intf), color=1\n",
    "\n",
    "  if two:\n",
    "    x2 = pl.concatenate((x2, x2+2*max(x2)))\n",
    "    intf = pl.concatenate((intf, intf))\n",
    "\n",
    "  q = x2.argsort()\n",
    "  x2 = x2[q]\n",
    "  intf = (intf[q]).real\n",
    "  result ={'x': x2, 'intf':intf}\n",
    "\n",
    "  if plt:\n",
    "    if len(band) != 0 : rtemp = create_band(band, res, plt=True)\n",
    "    pl.plot(freq, resp)\n",
    "    pl.title('Band')\n",
    "    pl.figure()\n",
    "    pl.plot(x2, intf.real)\n",
    "    pl.xlabel('Optical Delay (cm)')\n",
    "    pl.ylabel('Response') \n",
    "    pl.title('Interferrogram')\n",
    "\n",
    "\n",
    "#if sav:\n",
    "#   openw, 1, sav\n",
    "#   x0 = result.x(0:n_elements(x2)-1)\n",
    "#   outp = [[x0], [real_part(result.intf)], [imaginary(result.intf)]]\n",
    "#   printf, 1, transpose(outp)\n",
    "#   close, 1\n",
    "\n",
    "  return result\n"
   ]
  },
  {
   "cell_type": "code",
   "execution_count": 5,
   "metadata": {
    "collapsed": true
   },
   "outputs": [],
   "source": [
    "result=create_interf(freq=np.linspace(0,500,1000), resp=np.linspace(0,500,1000) ,band=[50,100])"
   ]
  },
  {
   "cell_type": "code",
   "execution_count": 6,
   "metadata": {},
   "outputs": [
    {
     "name": "stdout",
     "output_type": "stream",
     "text": [
      "['x', 'intf']\n"
     ]
    }
   ],
   "source": [
    "print result.keys()"
   ]
  },
  {
   "cell_type": "code",
   "execution_count": null,
   "metadata": {},
   "outputs": [],
   "source": [
    "pl.plot(result['x'], result['intf'])"
   ]
  },
  {
   "cell_type": "code",
   "execution_count": 7,
   "metadata": {
    "collapsed": true
   },
   "outputs": [],
   "source": [
    "def find_intf(cts, intf, plt=False):\n",
    "  intf2 = intf/max(intf)\n",
    "  width = len(intf)\n",
    "  conv = pl.zeros(len(cts) - width)\n",
    "  #Put this in histogram form instead of for-loop form!\n",
    "  for i in range(0,len(cts)-width):\n",
    "    xx = cts[i:i+width] -(cts[i:i+width].mean())\n",
    "    conv[i] = (sum((intf2*xx)))\n",
    "  spacer = pl.zeros(pl.floor(width/2.0))\n",
    "  conv = pl.concatenate((spacer, conv))\n",
    "  output = {'conv': conv, 'index': pl.arange(len(conv)), 'shift': pl.floor(width/2.0)}\n",
    "  if plt:\n",
    "    pl.figure()\n",
    "    pl.plot(output['index'], output['conv'], 'D') \n",
    "    pl.title('Convolution vs. index')\n",
    "    pl.xlim(0, len(cts))\n",
    "    pl.xlabel('Index')\n",
    "    pl.figure()\n",
    "    pl.plot(range(len(cts)),cts)\n",
    "    pl.xlim(0, len (cts))\n",
    "    pl.title('Time stream')\n",
    "  return output\n"
   ]
  },
  {
   "cell_type": "code",
   "execution_count": 8,
   "metadata": {},
   "outputs": [
    {
     "ename": "TypeError",
     "evalue": "'numpy.float64' object cannot be interpreted as an index",
     "output_type": "error",
     "traceback": [
      "\u001b[0;31m---------------------------------------------------------------------------\u001b[0m",
      "\u001b[0;31mTypeError\u001b[0m                                 Traceback (most recent call last)",
      "\u001b[0;32m<ipython-input-8-e7d5a6204afd>\u001b[0m in \u001b[0;36m<module>\u001b[0;34m()\u001b[0m\n\u001b[0;32m----> 1\u001b[0;31m \u001b[0mfind_intf\u001b[0m\u001b[0;34m(\u001b[0m\u001b[0mnp\u001b[0m\u001b[0;34m.\u001b[0m\u001b[0mconcatenate\u001b[0m\u001b[0;34m(\u001b[0m\u001b[0;34m(\u001b[0m\u001b[0mresult\u001b[0m\u001b[0;34m[\u001b[0m\u001b[0;34m'intf'\u001b[0m\u001b[0;34m]\u001b[0m\u001b[0;34m,\u001b[0m \u001b[0mresult\u001b[0m\u001b[0;34m[\u001b[0m\u001b[0;34m'intf'\u001b[0m\u001b[0;34m]\u001b[0m\u001b[0;34m,\u001b[0m \u001b[0mresult\u001b[0m\u001b[0;34m[\u001b[0m\u001b[0;34m'intf'\u001b[0m\u001b[0;34m]\u001b[0m\u001b[0;34m)\u001b[0m\u001b[0;34m)\u001b[0m\u001b[0;34m,\u001b[0m \u001b[0mresult\u001b[0m\u001b[0;34m[\u001b[0m\u001b[0;34m'intf'\u001b[0m\u001b[0;34m]\u001b[0m\u001b[0;34m,\u001b[0m \u001b[0mplt\u001b[0m\u001b[0;34m=\u001b[0m\u001b[0mTrue\u001b[0m\u001b[0;34m)\u001b[0m\u001b[0;34m\u001b[0m\u001b[0m\n\u001b[0m",
      "\u001b[0;32m<ipython-input-7-873efc59822a>\u001b[0m in \u001b[0;36mfind_intf\u001b[0;34m(cts, intf, plt)\u001b[0m\n\u001b[1;32m      7\u001b[0m     \u001b[0mxx\u001b[0m \u001b[0;34m=\u001b[0m \u001b[0mcts\u001b[0m\u001b[0;34m[\u001b[0m\u001b[0mi\u001b[0m\u001b[0;34m:\u001b[0m\u001b[0mi\u001b[0m\u001b[0;34m+\u001b[0m\u001b[0mwidth\u001b[0m\u001b[0;34m]\u001b[0m \u001b[0;34m-\u001b[0m\u001b[0;34m(\u001b[0m\u001b[0mcts\u001b[0m\u001b[0;34m[\u001b[0m\u001b[0mi\u001b[0m\u001b[0;34m:\u001b[0m\u001b[0mi\u001b[0m\u001b[0;34m+\u001b[0m\u001b[0mwidth\u001b[0m\u001b[0;34m]\u001b[0m\u001b[0;34m.\u001b[0m\u001b[0mmean\u001b[0m\u001b[0;34m(\u001b[0m\u001b[0;34m)\u001b[0m\u001b[0;34m)\u001b[0m\u001b[0;34m\u001b[0m\u001b[0m\n\u001b[1;32m      8\u001b[0m     \u001b[0mconv\u001b[0m\u001b[0;34m[\u001b[0m\u001b[0mi\u001b[0m\u001b[0;34m]\u001b[0m \u001b[0;34m=\u001b[0m \u001b[0;34m(\u001b[0m\u001b[0msum\u001b[0m\u001b[0;34m(\u001b[0m\u001b[0;34m(\u001b[0m\u001b[0mintf2\u001b[0m\u001b[0;34m*\u001b[0m\u001b[0mxx\u001b[0m\u001b[0;34m)\u001b[0m\u001b[0;34m)\u001b[0m\u001b[0;34m)\u001b[0m\u001b[0;34m\u001b[0m\u001b[0m\n\u001b[0;32m----> 9\u001b[0;31m   \u001b[0mspacer\u001b[0m \u001b[0;34m=\u001b[0m \u001b[0mpl\u001b[0m\u001b[0;34m.\u001b[0m\u001b[0mzeros\u001b[0m\u001b[0;34m(\u001b[0m\u001b[0mpl\u001b[0m\u001b[0;34m.\u001b[0m\u001b[0mfloor\u001b[0m\u001b[0;34m(\u001b[0m\u001b[0mwidth\u001b[0m\u001b[0;34m/\u001b[0m\u001b[0;36m2.0\u001b[0m\u001b[0;34m)\u001b[0m\u001b[0;34m)\u001b[0m\u001b[0;34m\u001b[0m\u001b[0m\n\u001b[0m\u001b[1;32m     10\u001b[0m   \u001b[0mconv\u001b[0m \u001b[0;34m=\u001b[0m \u001b[0mpl\u001b[0m\u001b[0;34m.\u001b[0m\u001b[0mconcatenate\u001b[0m\u001b[0;34m(\u001b[0m\u001b[0;34m(\u001b[0m\u001b[0mspacer\u001b[0m\u001b[0;34m,\u001b[0m \u001b[0mconv\u001b[0m\u001b[0;34m)\u001b[0m\u001b[0;34m)\u001b[0m\u001b[0;34m\u001b[0m\u001b[0m\n\u001b[1;32m     11\u001b[0m   \u001b[0moutput\u001b[0m \u001b[0;34m=\u001b[0m \u001b[0;34m{\u001b[0m\u001b[0;34m'conv'\u001b[0m\u001b[0;34m:\u001b[0m \u001b[0mconv\u001b[0m\u001b[0;34m,\u001b[0m \u001b[0;34m'index'\u001b[0m\u001b[0;34m:\u001b[0m \u001b[0mpl\u001b[0m\u001b[0;34m.\u001b[0m\u001b[0marange\u001b[0m\u001b[0;34m(\u001b[0m\u001b[0mlen\u001b[0m\u001b[0;34m(\u001b[0m\u001b[0mconv\u001b[0m\u001b[0;34m)\u001b[0m\u001b[0;34m)\u001b[0m\u001b[0;34m,\u001b[0m \u001b[0;34m'shift'\u001b[0m\u001b[0;34m:\u001b[0m \u001b[0mpl\u001b[0m\u001b[0;34m.\u001b[0m\u001b[0mfloor\u001b[0m\u001b[0;34m(\u001b[0m\u001b[0mwidth\u001b[0m\u001b[0;34m/\u001b[0m\u001b[0;36m2.0\u001b[0m\u001b[0;34m)\u001b[0m\u001b[0;34m}\u001b[0m\u001b[0;34m\u001b[0m\u001b[0m\n",
      "\u001b[0;31mTypeError\u001b[0m: 'numpy.float64' object cannot be interpreted as an index"
     ]
    }
   ],
   "source": [
    "find_intf(np.concatenate((result['intf'], result['intf'], result['intf'])), result['intf'], plt=True)"
   ]
  },
  {
   "cell_type": "code",
   "execution_count": 9,
   "metadata": {
    "collapsed": true
   },
   "outputs": [],
   "source": [
    "\n",
    "def find_fts_peaks_max(conv, optv, rate, thres, length, adc_cts2, onepk=False, nscans=1e6):\n",
    "\n",
    "  number_intf = 2*nscans\n",
    "\n",
    "  maxpk = max(conv['conv'])\n",
    "  pos = pl.arange(len(conv['conv']))*optv/rate # rate is frequency of data taking\n",
    "  iid = pl.arange(len(conv['conv'])) \n",
    "  conv2 = conv['conv']\n",
    "  adc_cts = adc_cts2\n",
    "  xax = pl.arange(len(adc_cts))\n",
    "  space = .2     #in cm to look around conv. peak in the actual time stream data\n",
    "               #for the \"true\" white light fringe\n",
    "  gpk = 0\n",
    "\n",
    "  #First find the first max of the data\n",
    "  mm = pl.where(conv2 == max(conv2))[0]\n",
    "  index = iid[mm[0]]\n",
    "  #Look within \"space\" around this peak for the maximum of ADC cts\n",
    "  small_reg = pl.where((pos <= (pos[mm[0]] + space)) & (pos >= (pos[mm[0]] - space)))[0]\n",
    "  adc_pk = pl.where(adc_cts[small_reg] == max(adc_cts[small_reg]))[0]\n",
    "  index = iid[small_reg[adc_pk[0]]]\n",
    "  cindex = [iid[mm[0]]]\n",
    "\n",
    "  if onepk: #only looking for 1 peak, so return this first one\n",
    "    output = {'tpks': index, 'cpks': cindex}\n",
    "    return output\n",
    "\n",
    "  #we will looks for peaks with outliers in adc cts. Need to deal with the slope.\n",
    "  rt = pl.polyfit(xax, adc_cts,1)   #first try - removing a linear fix from the whole scan\n",
    "  adc_cts = adc_cts - rt[1] - rt[0]*xax\n",
    "  mm = [small_reg[adc_pk[0]]]\n",
    "  madc = adc_cts[mm[0]]\n",
    "\n",
    "  while gpk < 1 :    #putting loop in to try and protect against DC spikes, only positive spikes mess up the peak finder\n",
    "  #Next cut out in length around this pt\n",
    "    newr = pl.where((pos < (pos[mm[0]] - length)) | (pos > (pos[mm[0]] + length)))[0]\n",
    "    conv2 = conv2[newr]\n",
    "    pos = pos[newr]\n",
    "    iid = iid[newr]\n",
    "    adc_cts = adc_cts[newr]\n",
    "\n",
    "    #again find the peak in adc cts:\n",
    "    mm = pl.where(conv2 == max(conv2))[0]\n",
    "    small_reg = pl.where((pos <= (pos[mm[0]] + space)) & (pos >= (pos[mm[0]] - space)))[0]\n",
    "    adc_pk = pl.where(adc_cts[small_reg] == max(adc_cts[small_reg]))[0]\n",
    "    tadc_new = adc_cts[small_reg[adc_pk[0]]]\n",
    "\n",
    "#print, conv2(mm(0)), .75*conv.conv(cindex(0))\n",
    "    initial = .75*conv['conv'][cindex[0]]\n",
    "    testcase = conv2[mm[0]]\n",
    "    if testcase > initial:  #The first peak is Good!\n",
    "       gpk = 1.0\n",
    "       cindex = pl.concatenate((cindex, [iid[mm[0]]]))\n",
    "       index = pl.array([index, iid[small_reg[adc_pk[0]]]])\n",
    "       newr = pl.where((pos < (pos[mm[0]] - length)) | (pos > (pos[mm[0]] + length)))[0]\n",
    "\n",
    "       if len(newr) == 0:\n",
    "         #check that we are above our threshold cutoff\n",
    "         accept_pks = pl.where(conv['conv'][cindex] >= thres*conv['conv'][cindex[0]])[0]\n",
    "         output = {'tpks': index[accept_pks], 'cpks': cindex[accept_pks]}\n",
    "         return output\n",
    "       conv2 = conv2[newr]\n",
    "       pos = pos[newr]\n",
    "       iid = iid[newr]\n",
    "       adc_cts = adc_cts[newr]\n",
    "   \n",
    "    if testcase < initial: #It's Bad!\n",
    "      madc = tadc_new\n",
    "      maxpk = max(conv2)\n",
    "      cindex = iid[mm[0]]\n",
    "      index = iid[small_reg[adc_pk[0]]]\n",
    "\n",
    "\n",
    "  pk = max(conv2)\n",
    "\n",
    "  while ((pk >= (thres*maxpk)) & (len(index) < number_intf)) :\n",
    "    mm = pl.where(conv2 == max(conv2))[0]\n",
    "    cindex = pl.concatenate((cindex, [iid[mm[0]]]))\n",
    "    pk = conv2[mm[0]]\n",
    "    small_reg = pl.where((pos <= (pos[mm[0]] + space)) & (pos >= (pos[mm[0]] - space)))[0]\n",
    "    adc_pk = pl.where(adc_cts[small_reg] == max(adc_cts[small_reg]))[0]\n",
    "    mm = [small_reg[adc_pk[0]]]\n",
    "    index = pl.concatenate((index, [iid[small_reg[adc_pk[0]]]]))\n",
    "    newr = pl.where((pos < (pos[mm[0]] - length)) |  (pos > (pos[mm[0]] + length)))[0]\n",
    "    if len(newr) != 0:\n",
    "      conv2 = conv2[newr]\n",
    "      pos = pos[newr]\n",
    "      iid = iid[newr]\n",
    "      adc_cts = adc_cts[newr] \n",
    "    else: pk = 0   \n",
    "\n",
    "  pts = len(index)\n",
    "  #check that we are above our threshold cutoff\n",
    "  accept_pks = pl.where(conv['conv'][cindex] >= thres*conv['conv'][cindex[0]])[0]\n",
    "  output = {'tpks': index[accept_pks], 'cpks': cindex[accept_pks]}\n",
    "\n",
    "\n",
    "  return output\n"
   ]
  },
  {
   "cell_type": "code",
   "execution_count": 22,
   "metadata": {},
   "outputs": [],
   "source": [
    "file2=open( '../../data/raw_data/20160330_1835_90A5DHW_filter_chopped_13Hz.pkl' , 'rb')\n",
    "d2=pickle.load(file2)\n",
    "file2.close()\n",
    " \n",
    "file1=open( '../../data/raw_data/20160330_1849_90A5DHW_ref_chopped_13Hz.pkl' , 'rb')\n",
    "d1=pickle.load(file1)\n",
    "file1.close()"
   ]
  },
  {
   "cell_type": "code",
   "execution_count": 23,
   "metadata": {},
   "outputs": [
    {
     "name": "stdout",
     "output_type": "stream",
     "text": [
      "['wlf0R', 'wlf0F', 'sig2F', 'oversample', 'ADC gain', 'wlf2F', 'scan time', 'sig2R', 'iterations', 'wlf2R', 'scan start struct_time', 'speed', 'delay1R', 'acceleration', 'max_d', 'scan1F', 'sig1R', 'max_nu', 'scan1R', 'sig1F', 'delay1F', 'run', 'wlf1R', 'delay2F', 'delay0F', 'wlf1F', 'delay2R', 'dx', 'delay0R', 'sample freq', 'scan2R', 'sig0R', 'scan0F', 'acc time', 'scan2F', 'samples requested', 'sig0F', 'scan0R']\n",
      "1.0\n",
      "512.032770097\n",
      "25.0\n"
     ]
    }
   ],
   "source": [
    "print d1.keys()\n",
    "\n",
    "\n",
    "X1=d1['delay0F']\n",
    "Y1=d1['sig0F']\n",
    "#print X1\n",
    "print d1['speed']\n",
    "print d1['sample freq']\n",
    "print d1['max_d']\n",
    "X2=d2['delay0F']\n",
    "Y2=d2['sig0F']"
   ]
  },
  {
   "cell_type": "code",
   "execution_count": 24,
   "metadata": {},
   "outputs": [
    {
     "data": {
      "text/plain": [
       "[<matplotlib.lines.Line2D at 0x1152250d0>]"
      ]
     },
     "execution_count": 24,
     "metadata": {},
     "output_type": "execute_result"
    }
   ],
   "source": [
    "pl.plot(X2, Y2)"
   ]
  },
  {
   "cell_type": "code",
   "execution_count": 25,
   "metadata": {},
   "outputs": [
    {
     "data": {
      "text/plain": [
       "[<matplotlib.lines.Line2D at 0x1191ca310>]"
      ]
     },
     "execution_count": 25,
     "metadata": {},
     "output_type": "execute_result"
    }
   ],
   "source": [
    "#To do the cyclic shift, we need to find the center of the white light fringe,\n",
    "#And to do that, we firstly connect all the maxima and minima\n",
    "max2 = argrelextrema(Y2, np.greater)\n",
    "maxspline= UnivariateSpline(X2[max2], Y2[max2], s=0)\n",
    "min2 = argrelextrema(Y2, np.less)\n",
    "minspline= UnivariateSpline(X2[min2], Y2[min2],s=0)\n",
    "wlf= maxspline(X2)- minspline(X2)\n",
    "pl.plot(wlf)"
   ]
  },
  {
   "cell_type": "code",
   "execution_count": 14,
   "metadata": {},
   "outputs": [
    {
     "ename": "TypeError",
     "evalue": "'numpy.float64' object cannot be interpreted as an index",
     "output_type": "error",
     "traceback": [
      "\u001b[0;31m---------------------------------------------------------------------------\u001b[0m",
      "\u001b[0;31mTypeError\u001b[0m                                 Traceback (most recent call last)",
      "\u001b[0;32m<ipython-input-14-7a54bc944d91>\u001b[0m in \u001b[0;36m<module>\u001b[0;34m()\u001b[0m\n\u001b[1;32m     23\u001b[0m \u001b[0;31m#Okay, now we need to find the peaks:\u001b[0m\u001b[0;34m\u001b[0m\u001b[0;34m\u001b[0m\u001b[0m\n\u001b[1;32m     24\u001b[0m \u001b[0;34m\u001b[0m\u001b[0m\n\u001b[0;32m---> 25\u001b[0;31m \u001b[0mconv\u001b[0m \u001b[0;34m=\u001b[0m \u001b[0mfind_intf\u001b[0m\u001b[0;34m(\u001b[0m\u001b[0;34m-\u001b[0m\u001b[0mwlf\u001b[0m\u001b[0;34m,\u001b[0m \u001b[0mintf2\u001b[0m\u001b[0;34m,\u001b[0m \u001b[0mplt\u001b[0m\u001b[0;34m=\u001b[0m\u001b[0mFalse\u001b[0m\u001b[0;34m)\u001b[0m\u001b[0;34m\u001b[0m\u001b[0m\n\u001b[0m\u001b[1;32m     26\u001b[0m \u001b[0mconv\u001b[0m\u001b[0;34m=\u001b[0m\u001b[0mconv\u001b[0m\u001b[0;34m[\u001b[0m\u001b[0;34m'conv'\u001b[0m\u001b[0;34m]\u001b[0m\u001b[0;34m\u001b[0m\u001b[0m\n\u001b[1;32m     27\u001b[0m \u001b[0mmaxindex\u001b[0m\u001b[0;34m=\u001b[0m\u001b[0mnp\u001b[0m\u001b[0;34m.\u001b[0m\u001b[0mwhere\u001b[0m\u001b[0;34m(\u001b[0m\u001b[0mconv\u001b[0m\u001b[0;34m==\u001b[0m\u001b[0mmax\u001b[0m\u001b[0;34m(\u001b[0m\u001b[0mconv\u001b[0m\u001b[0;34m)\u001b[0m\u001b[0;34m)\u001b[0m\u001b[0;34m[\u001b[0m\u001b[0;36m0\u001b[0m\u001b[0;34m]\u001b[0m\u001b[0;34m\u001b[0m\u001b[0m\n",
      "\u001b[0;32m<ipython-input-7-873efc59822a>\u001b[0m in \u001b[0;36mfind_intf\u001b[0;34m(cts, intf, plt)\u001b[0m\n\u001b[1;32m      7\u001b[0m     \u001b[0mxx\u001b[0m \u001b[0;34m=\u001b[0m \u001b[0mcts\u001b[0m\u001b[0;34m[\u001b[0m\u001b[0mi\u001b[0m\u001b[0;34m:\u001b[0m\u001b[0mi\u001b[0m\u001b[0;34m+\u001b[0m\u001b[0mwidth\u001b[0m\u001b[0;34m]\u001b[0m \u001b[0;34m-\u001b[0m\u001b[0;34m(\u001b[0m\u001b[0mcts\u001b[0m\u001b[0;34m[\u001b[0m\u001b[0mi\u001b[0m\u001b[0;34m:\u001b[0m\u001b[0mi\u001b[0m\u001b[0;34m+\u001b[0m\u001b[0mwidth\u001b[0m\u001b[0;34m]\u001b[0m\u001b[0;34m.\u001b[0m\u001b[0mmean\u001b[0m\u001b[0;34m(\u001b[0m\u001b[0;34m)\u001b[0m\u001b[0;34m)\u001b[0m\u001b[0;34m\u001b[0m\u001b[0m\n\u001b[1;32m      8\u001b[0m     \u001b[0mconv\u001b[0m\u001b[0;34m[\u001b[0m\u001b[0mi\u001b[0m\u001b[0;34m]\u001b[0m \u001b[0;34m=\u001b[0m \u001b[0;34m(\u001b[0m\u001b[0msum\u001b[0m\u001b[0;34m(\u001b[0m\u001b[0;34m(\u001b[0m\u001b[0mintf2\u001b[0m\u001b[0;34m*\u001b[0m\u001b[0mxx\u001b[0m\u001b[0;34m)\u001b[0m\u001b[0;34m)\u001b[0m\u001b[0;34m)\u001b[0m\u001b[0;34m\u001b[0m\u001b[0m\n\u001b[0;32m----> 9\u001b[0;31m   \u001b[0mspacer\u001b[0m \u001b[0;34m=\u001b[0m \u001b[0mpl\u001b[0m\u001b[0;34m.\u001b[0m\u001b[0mzeros\u001b[0m\u001b[0;34m(\u001b[0m\u001b[0mpl\u001b[0m\u001b[0;34m.\u001b[0m\u001b[0mfloor\u001b[0m\u001b[0;34m(\u001b[0m\u001b[0mwidth\u001b[0m\u001b[0;34m/\u001b[0m\u001b[0;36m2.0\u001b[0m\u001b[0;34m)\u001b[0m\u001b[0;34m)\u001b[0m\u001b[0;34m\u001b[0m\u001b[0m\n\u001b[0m\u001b[1;32m     10\u001b[0m   \u001b[0mconv\u001b[0m \u001b[0;34m=\u001b[0m \u001b[0mpl\u001b[0m\u001b[0;34m.\u001b[0m\u001b[0mconcatenate\u001b[0m\u001b[0;34m(\u001b[0m\u001b[0;34m(\u001b[0m\u001b[0mspacer\u001b[0m\u001b[0;34m,\u001b[0m \u001b[0mconv\u001b[0m\u001b[0;34m)\u001b[0m\u001b[0;34m)\u001b[0m\u001b[0;34m\u001b[0m\u001b[0m\n\u001b[1;32m     11\u001b[0m   \u001b[0moutput\u001b[0m \u001b[0;34m=\u001b[0m \u001b[0;34m{\u001b[0m\u001b[0;34m'conv'\u001b[0m\u001b[0;34m:\u001b[0m \u001b[0mconv\u001b[0m\u001b[0;34m,\u001b[0m \u001b[0;34m'index'\u001b[0m\u001b[0;34m:\u001b[0m \u001b[0mpl\u001b[0m\u001b[0;34m.\u001b[0m\u001b[0marange\u001b[0m\u001b[0;34m(\u001b[0m\u001b[0mlen\u001b[0m\u001b[0;34m(\u001b[0m\u001b[0mconv\u001b[0m\u001b[0;34m)\u001b[0m\u001b[0;34m)\u001b[0m\u001b[0;34m,\u001b[0m \u001b[0;34m'shift'\u001b[0m\u001b[0;34m:\u001b[0m \u001b[0mpl\u001b[0m\u001b[0;34m.\u001b[0m\u001b[0mfloor\u001b[0m\u001b[0;34m(\u001b[0m\u001b[0mwidth\u001b[0m\u001b[0;34m/\u001b[0m\u001b[0;36m2.0\u001b[0m\u001b[0;34m)\u001b[0m\u001b[0;34m}\u001b[0m\u001b[0;34m\u001b[0m\u001b[0m\n",
      "\u001b[0;31mTypeError\u001b[0m: 'numpy.float64' object cannot be interpreted as an index"
     ]
    }
   ],
   "source": [
    "res = 1.0*30/(2*d1['max_d']/10)  #GHz spacing of points in the interferrogram, let's try to match resolution of the data\n",
    "intf = create_interf([],[],band=[50,600], res=res)\n",
    "##  if template:\n",
    "##    restore, template\n",
    "##    intf.x = tempx\n",
    "##    intf.intf = tempy\n",
    "#now need to get the right number of pts to match the data:\n",
    "\n",
    "intf['x']=intf['x']*10.0\n",
    "pt_space = d1['speed']/(1.0*d1['sample freq'])\n",
    "netscale = (intf['x'][1] - intf['x'][0])/pt_space\n",
    "xnew = pl.arange(pl.ceil(netscale*len(intf['x'])))*pt_space + min(intf['x'])\n",
    "#print len(xnew)\n",
    "intf2_func = UnivariateSpline(intf['x'],intf['intf'],s=0)\n",
    "intf2=intf2_func(xnew)\n",
    "regcut = 3    #tweak this around (?)\n",
    "\n",
    "q = pl.where(abs(xnew) < regcut)   #how far out in x to take the interferrogram, make this a function of frequency\n",
    "intf2 = intf2[q]\n",
    "intf2 = intf2.real\n",
    "\n",
    "#pl.plot( intf2)\n",
    "#Okay, now we need to find the peaks:\n",
    "\n",
    "conv = find_intf(-wlf, intf2, plt=False)\n",
    "conv=conv['conv']\n",
    "maxindex=np.where(conv==max(conv))[0]\n",
    "#maxindex2=np.where(-wlf==max(-wlf))[0]\n",
    "print maxindex\n",
    "cyclic_Y = np.concatenate((Y2[maxindex:maxindex+int(maxindex*0.8)], Y2[maxindex-int(maxindex*0.8):maxindex])) \n",
    "cyclic_X = X2[maxindex-int(maxindex*0.8): maxindex-int(maxindex*0.8)+len(cyclic_Y)]\n",
    "pl.plot(cyclic_X, cyclic_Y)\n",
    "#print maxindex2"
   ]
  },
  {
   "cell_type": "code",
   "execution_count": 15,
   "metadata": {},
   "outputs": [
    {
     "ename": "NameError",
     "evalue": "name 'cyclic_Y' is not defined",
     "output_type": "error",
     "traceback": [
      "\u001b[0;31m---------------------------------------------------------------------------\u001b[0m",
      "\u001b[0;31mNameError\u001b[0m                                 Traceback (most recent call last)",
      "\u001b[0;32m<ipython-input-15-568b1c6b3dac>\u001b[0m in \u001b[0;36m<module>\u001b[0;34m()\u001b[0m\n\u001b[1;32m      1\u001b[0m \u001b[0;31m#do the rfft\u001b[0m\u001b[0;34m\u001b[0m\u001b[0;34m\u001b[0m\u001b[0m\n\u001b[1;32m      2\u001b[0m \u001b[0;34m\u001b[0m\u001b[0m\n\u001b[0;32m----> 3\u001b[0;31m \u001b[0mFT\u001b[0m \u001b[0;34m=\u001b[0m \u001b[0mnp\u001b[0m\u001b[0;34m.\u001b[0m\u001b[0mfft\u001b[0m\u001b[0;34m.\u001b[0m\u001b[0mrfft\u001b[0m\u001b[0;34m(\u001b[0m\u001b[0mcyclic_Y\u001b[0m\u001b[0;34m)\u001b[0m\u001b[0;34m\u001b[0m\u001b[0m\n\u001b[0m\u001b[1;32m      4\u001b[0m \u001b[0mFT_real\u001b[0m\u001b[0;34m=\u001b[0m\u001b[0mnp\u001b[0m\u001b[0;34m.\u001b[0m\u001b[0mreal\u001b[0m\u001b[0;34m(\u001b[0m\u001b[0mFT\u001b[0m\u001b[0;34m)\u001b[0m\u001b[0;34m\u001b[0m\u001b[0m\n\u001b[1;32m      5\u001b[0m \u001b[0mFT_imag\u001b[0m\u001b[0;34m=\u001b[0m\u001b[0mnp\u001b[0m\u001b[0;34m.\u001b[0m\u001b[0mimag\u001b[0m\u001b[0;34m(\u001b[0m\u001b[0mFT\u001b[0m\u001b[0;34m)\u001b[0m\u001b[0;34m\u001b[0m\u001b[0m\n",
      "\u001b[0;31mNameError\u001b[0m: name 'cyclic_Y' is not defined"
     ]
    }
   ],
   "source": [
    "#do the rfft\n",
    "\n",
    "FT = np.fft.rfft(cyclic_Y)\n",
    "FT_real=np.real(FT)\n",
    "FT_imag=np.imag(FT)\n",
    "pl.plot(abs(FT))\n",
    "pl.plot(abs(FT))\n",
    "FT_mag=abs(FT)\n",
    "#plot(FT_mag)\n",
    "maxindex=np.where(FT_mag==max(FT_mag))[0]\n",
    "print maxindex\n",
    "cyclic_Y2 = np.concatenate((FT_mag[maxindex:maxindex+300], FT_mag[maxindex-300:maxindex])) \n",
    "#cyclic_X2 = X2[maxindex-300: maxindex-300+len(cyclic_Y2)]\n",
    "\n",
    "\n",
    "cyclic_Y2[300:]=0\n",
    "cyclic_Y2[0:20]=0\n",
    "pl.plot(cyclic_Y2)\n",
    "\n",
    "\n",
    "demodulated=np.fft.irfft(cyclic_Y2)\n",
    "x= np.linspace(min(X2), max(X2), len(demodulated))\n",
    "pl.plot(x, demodulated)\n"
   ]
  },
  {
   "cell_type": "code",
   "execution_count": 16,
   "metadata": {},
   "outputs": [
    {
     "ename": "NameError",
     "evalue": "name 'demodulated' is not defined",
     "output_type": "error",
     "traceback": [
      "\u001b[0;31m---------------------------------------------------------------------------\u001b[0m",
      "\u001b[0;31mNameError\u001b[0m                                 Traceback (most recent call last)",
      "\u001b[0;32m<ipython-input-16-1d6c6c4884cc>\u001b[0m in \u001b[0;36m<module>\u001b[0;34m()\u001b[0m\n\u001b[1;32m      1\u001b[0m \u001b[0;31m#cyclic shift\u001b[0m\u001b[0;34m\u001b[0m\u001b[0;34m\u001b[0m\u001b[0m\n\u001b[1;32m      2\u001b[0m \u001b[0;34m\u001b[0m\u001b[0m\n\u001b[0;32m----> 3\u001b[0;31m \u001b[0mcyclic_Y3\u001b[0m\u001b[0;34m=\u001b[0m \u001b[0mnp\u001b[0m\u001b[0;34m.\u001b[0m\u001b[0mconcatenate\u001b[0m\u001b[0;34m(\u001b[0m\u001b[0;34m(\u001b[0m\u001b[0mdemodulated\u001b[0m\u001b[0;34m[\u001b[0m\u001b[0mlen\u001b[0m\u001b[0;34m(\u001b[0m\u001b[0mdemodulated\u001b[0m\u001b[0;34m)\u001b[0m\u001b[0;34m/\u001b[0m\u001b[0;36m2\u001b[0m\u001b[0;34m:\u001b[0m\u001b[0;34m]\u001b[0m\u001b[0;34m,\u001b[0m \u001b[0mdemodulated\u001b[0m\u001b[0;34m[\u001b[0m\u001b[0;36m0\u001b[0m\u001b[0;34m:\u001b[0m\u001b[0mlen\u001b[0m\u001b[0;34m(\u001b[0m\u001b[0mdemodulated\u001b[0m\u001b[0;34m)\u001b[0m\u001b[0;34m/\u001b[0m\u001b[0;36m2\u001b[0m\u001b[0;34m]\u001b[0m\u001b[0;34m)\u001b[0m\u001b[0;34m)\u001b[0m\u001b[0;34m\u001b[0m\u001b[0m\n\u001b[0m\u001b[1;32m      4\u001b[0m \u001b[0mpl\u001b[0m\u001b[0;34m.\u001b[0m\u001b[0mplot\u001b[0m\u001b[0;34m(\u001b[0m\u001b[0mx\u001b[0m\u001b[0;34m,\u001b[0m\u001b[0mcyclic_Y3\u001b[0m\u001b[0;34m)\u001b[0m\u001b[0;34m\u001b[0m\u001b[0m\n",
      "\u001b[0;31mNameError\u001b[0m: name 'demodulated' is not defined"
     ]
    }
   ],
   "source": [
    "#cyclic shift\n",
    "\n",
    "cyclic_Y3= np.concatenate((demodulated[len(demodulated)/2:], demodulated[0:len(demodulated)/2]))\n",
    "pl.plot(x,cyclic_Y3)\n"
   ]
  },
  {
   "cell_type": "code",
   "execution_count": 17,
   "metadata": {},
   "outputs": [
    {
     "ename": "NameError",
     "evalue": "name 'cyclic_Y3' is not defined",
     "output_type": "error",
     "traceback": [
      "\u001b[0;31m---------------------------------------------------------------------------\u001b[0m",
      "\u001b[0;31mNameError\u001b[0m                                 Traceback (most recent call last)",
      "\u001b[0;32m<ipython-input-17-1e6bf57eb302>\u001b[0m in \u001b[0;36m<module>\u001b[0;34m()\u001b[0m\n\u001b[0;32m----> 1\u001b[0;31m \u001b[0mapodized\u001b[0m \u001b[0;34m=\u001b[0m \u001b[0mhanning\u001b[0m\u001b[0;34m(\u001b[0m\u001b[0mcyclic_Y3\u001b[0m\u001b[0;34m.\u001b[0m\u001b[0msize\u001b[0m\u001b[0;34m)\u001b[0m\u001b[0;34m*\u001b[0m\u001b[0mcyclic_Y3\u001b[0m\u001b[0;34m\u001b[0m\u001b[0m\n\u001b[0m\u001b[1;32m      2\u001b[0m \u001b[0mpl\u001b[0m\u001b[0;34m.\u001b[0m\u001b[0mplot\u001b[0m\u001b[0;34m(\u001b[0m\u001b[0mx\u001b[0m\u001b[0;34m,\u001b[0m\u001b[0mapodized\u001b[0m\u001b[0;34m)\u001b[0m\u001b[0;34m\u001b[0m\u001b[0m\n",
      "\u001b[0;31mNameError\u001b[0m: name 'cyclic_Y3' is not defined"
     ]
    }
   ],
   "source": [
    "apodized = hanning(cyclic_Y3.size)*cyclic_Y3\n",
    "pl.plot(x,apodized)"
   ]
  },
  {
   "cell_type": "code",
   "execution_count": null,
   "metadata": {
    "collapsed": true
   },
   "outputs": [],
   "source": []
  }
 ],
 "metadata": {
  "anaconda-cloud": {},
  "kernelspec": {
   "display_name": "Python 2",
   "language": "python",
   "name": "python2"
  },
  "language_info": {
   "codemirror_mode": {
    "name": "ipython",
    "version": 2
   },
   "file_extension": ".py",
   "mimetype": "text/x-python",
   "name": "python",
   "nbconvert_exporter": "python",
   "pygments_lexer": "ipython2",
   "version": "2.7.13"
  }
 },
 "nbformat": 4,
 "nbformat_minor": 1
}
