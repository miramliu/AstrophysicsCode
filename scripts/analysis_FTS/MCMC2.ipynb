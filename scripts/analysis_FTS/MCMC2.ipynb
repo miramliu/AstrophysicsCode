{
 "cells": [
  {
   "cell_type": "code",
   "execution_count": 1,
   "metadata": {
    "collapsed": true
   },
   "outputs": [],
   "source": [
    "#Testing with the MCMC given a model functions mira"
   ]
  },
  {
   "cell_type": "code",
   "execution_count": 3,
   "metadata": {},
   "outputs": [
    {
     "ename": "NameError",
     "evalue": "name 'sns' is not defined",
     "output_type": "error",
     "traceback": [
      "\u001b[0;31m---------------------------------------------------------------------------\u001b[0m",
      "\u001b[0;31mNameError\u001b[0m                                 Traceback (most recent call last)",
      "\u001b[0;32m<ipython-input-3-39ce9b0e418b>\u001b[0m in \u001b[0;36m<module>\u001b[0;34m()\u001b[0m\n\u001b[1;32m     10\u001b[0m \u001b[0;32mfrom\u001b[0m \u001b[0mscipy\u001b[0m\u001b[0;34m.\u001b[0m\u001b[0moptimize\u001b[0m \u001b[0;32mimport\u001b[0m \u001b[0mcurve_fit\u001b[0m\u001b[0;34m\u001b[0m\u001b[0m\n\u001b[1;32m     11\u001b[0m \u001b[0;34m\u001b[0m\u001b[0m\n\u001b[0;32m---> 12\u001b[0;31m \u001b[0msns\u001b[0m\u001b[0;34m.\u001b[0m\u001b[0mset_palette\u001b[0m\u001b[0;34m(\u001b[0m\u001b[0;34m\"PuBuGn_d\"\u001b[0m\u001b[0;34m,\u001b[0m\u001b[0;36m15\u001b[0m\u001b[0;34m)\u001b[0m\u001b[0;34m\u001b[0m\u001b[0m\n\u001b[0m\u001b[1;32m     13\u001b[0m \u001b[0msns\u001b[0m\u001b[0;34m.\u001b[0m\u001b[0mset_style\u001b[0m\u001b[0;34m(\u001b[0m\u001b[0;34m\"whitegrid\"\u001b[0m\u001b[0;34m)\u001b[0m\u001b[0;34m\u001b[0m\u001b[0m\n\u001b[1;32m     14\u001b[0m \u001b[0;32mimport\u001b[0m \u001b[0memcee\u001b[0m\u001b[0;34m\u001b[0m\u001b[0m\n",
      "\u001b[0;31mNameError\u001b[0m: name 'sns' is not defined"
     ]
    }
   ],
   "source": [
    "import numpy as np\n",
    "import matplotlib\n",
    "import matplotlib.pyplot as pl\n",
    "%matplotlib inline\n",
    "import pickle\n",
    "import seaborn as sns\n",
    "import sys\n",
    "import numpy as np\n",
    "import scipy.optimize as op\n",
    "from scipy.optimize import curve_fit\n",
    "\n",
    "sns.set_palette(\"PuBuGn_d\",15)\n",
    "sns.set_style(\"whitegrid\")\n",
    "import emcee"
   ]
  },
  {
   "cell_type": "code",
   "execution_count": null,
   "metadata": {},
   "outputs": [],
   "source": [
    "file=open( '../../data/raw_data/20160428_1313_W1204_ref.pkl' , 'rb')\n",
    "#   20160428_1313_W1204_ref.pkl\n",
    "d=pickle.load(file)\n",
    "file.close()\n",
    "\n",
    "i = 8\n",
    "Nsize = 2**i\n",
    "dt=(1/(d['sample freq'])) #period\n",
    "T1=dt*(Nsize) #full period\n",
    "v=(d['speed'])\n",
    "X = v*T1 #full distance\n",
    "dx = dt*v #smallest amount of distance travelled\n",
    "total_t = (d['scan time']) #how long it ran\n",
    "    \n",
    "total_s = (d['samples requested']) #number of samples \n",
    "startpt = ((total_s - Nsize)/2) #starting point\n",
    "\n",
    "\n",
    "endpt = startpt + Nsize #ending point\n",
    "\n",
    "\n",
    "df = 1/T1\n",
    "f = df*np.arange(Nsize/2)+df/2.0\n",
    "fFull = df*np.arange((Nsize/2) + 1)+df/2.0\n",
    "\n",
    "\n",
    "y = (d['sig0F']) \n",
    "D = y[startpt:endpt]\n",
    "D = np.flipud(D)\n",
    "\n",
    "a = d['delay0F']/v\n",
    "t = a[startpt:endpt]"
   ]
  },
  {
   "cell_type": "code",
   "execution_count": null,
   "metadata": {
    "collapsed": true
   },
   "outputs": [],
   "source": [
    "#model function convoluted with RC circuit and AC coupling function\n",
    "def psi1(znot,q,p,T):\n",
    "    Ns = 256\n",
    "    z = t\n",
    "    dz = z[2]-z[1]\n",
    "    f = np.linspace(0,0.5/dz, np.floor(Ns/2))\n",
    "    f_full = np.linspace(0,0.5/dz, np.floor(Ns/2) +1)\n",
    "    #original function\n",
    "    y0=-np.cos(2*np.pi*q*(z-znot))*(np.exp(-((z-znot)**2)/(2*p**2)))/(np.sqrt(2*np.pi)*p)\n",
    "    yf0=np.fft.rfft(y0)\n",
    "    K_det =(1/(1+(1j*2*np.pi*f_full*T))) #kernel from detector\n",
    "    K_cc =(2*np.pi*f_full*.559)/(1 + (1j*2*np.pi*.559)) #kernel from AC coupling\n",
    "    K_f = np.multiply(K_det,K_cc)\n",
    "    y1=np.fft.irfft(yf0*K_f*2*np.pi)\n",
    "    return t,y1\n",
    "#znot = 0.012, q = 8.57718120805, p = .04"
   ]
  },
  {
   "cell_type": "code",
   "execution_count": null,
   "metadata": {},
   "outputs": [],
   "source": [
    "t,D = psi1(-.03, 10, .05, .049) #expected values\n",
    "D = D*.0006"
   ]
  },
  {
   "cell_type": "code",
   "execution_count": null,
   "metadata": {},
   "outputs": [],
   "source": [
    "pl.plot(t,D)"
   ]
  },
  {
   "cell_type": "code",
   "execution_count": null,
   "metadata": {
    "collapsed": true
   },
   "outputs": [],
   "source": [
    "#likelihood function\n",
    "#why is it ln?\n",
    "def lnlike(params, t, D):\n",
    "    znot, q, p, T, a = params \n",
    "    t,Modelf = psi1(znot,q,p, T)\n",
    "    Dev = -.5*(np.dot((D-Modelf*a),D-Modelf*a))\n",
    "    Sig=0.0005  \n",
    "    return (Dev/Sig)-np.log(1/Sig) #sigma? if sigma is large it becomes shallower"
   ]
  },
  {
   "cell_type": "code",
   "execution_count": null,
   "metadata": {},
   "outputs": [],
   "source": [
    "nll = lambda *args: -lnlike(*args) \n",
    "result = op.minimize(nll, [-.03, 10, .05, .049, .0006], args=(t,D))\n",
    "znot1,q1,p1,T1,a1 = result[\"x\"]\n",
    "#print result [\"x\"]"
   ]
  },
  {
   "cell_type": "code",
   "execution_count": null,
   "metadata": {
    "collapsed": true
   },
   "outputs": [],
   "source": [
    "#prior function\n",
    "#again, why is it ln?\n",
    "def lnprior(params):\n",
    "    znot, q, p, T, a = params \n",
    "    if -.08 < znot < .08 and 1.0 < q < 15.0 and .01 < p < .1 and 0.0 < T < 1 and 0.0 < a < .1:\n",
    "        return 0.0\n",
    "    return -np.inf \n",
    "    "
   ]
  },
  {
   "cell_type": "code",
   "execution_count": null,
   "metadata": {
    "collapsed": true
   },
   "outputs": [],
   "source": [
    "#log probability function\n",
    "def lnprob (params, t, D):\n",
    "    lp = lnprior(params)\n",
    "    if not np.isfinite(lp):\n",
    "        return -np.inf\n",
    "    return lp + lnlike(params, t, D)"
   ]
  },
  {
   "cell_type": "code",
   "execution_count": null,
   "metadata": {
    "collapsed": true
   },
   "outputs": [],
   "source": [
    "ndim, nwalkers = 5,260\n",
    "pos = [result[\"x\"] + 10**(-4)*np.random.randn(ndim) for i in range(nwalkers)]"
   ]
  },
  {
   "cell_type": "code",
   "execution_count": null,
   "metadata": {
    "collapsed": true
   },
   "outputs": [],
   "source": [
    "sampler = emcee.EnsembleSampler(nwalkers,ndim,lnprob, args=(t,D))"
   ]
  },
  {
   "cell_type": "code",
   "execution_count": null,
   "metadata": {},
   "outputs": [],
   "source": [
    "sampler.run_mcmc(pos, 5000); #number of steps"
   ]
  },
  {
   "cell_type": "code",
   "execution_count": null,
   "metadata": {},
   "outputs": [],
   "source": [
    "walks=(sampler.chain)\n",
    "print(np.shape(walks))\n",
    "\n",
    "for nn in range(0,ndim):\n",
    "    pl.plot(walks[0,:,nn])\n",
    "    pl.plot(walks[1,:,nn])\n",
    "    pl.plot(walks[2,:,nn])\n",
    "    titles = ['znot','q','p','T','a']\n",
    "    pl.title(titles[nn])\n",
    "    pl.show() #sigma = .001"
   ]
  },
  {
   "cell_type": "code",
   "execution_count": null,
   "metadata": {},
   "outputs": [],
   "source": [
    "samples = sampler.chain[:,2500:,:].reshape([-1, ndim])\n",
    "#print(np.shape(samples))"
   ]
  },
  {
   "cell_type": "code",
   "execution_count": null,
   "metadata": {},
   "outputs": [],
   "source": [
    "import corner\n",
    "fig = corner.corner(samples, labels=[\"$znot$\", \"$q$\", \"$p$\", \"$T$\", \"$a$\"], \n",
    "                    truths=[-.03, 10, .05, .049, .0006])\n",
    "fig.savefig(\"MCMCattempt2.png\")"
   ]
  },
  {
   "cell_type": "code",
   "execution_count": null,
   "metadata": {},
   "outputs": [],
   "source": [
    "samples[:, 2] = np.exp(samples[:, 2])\n",
    "znot, q, p, T,a = map(lambda v: (v[1], v[2]-v[1], v[1]-v[0]),\n",
    "                             zip(*np.percentile(samples, [16, 50, 84],\n",
    "                                                axis=0)))"
   ]
  },
  {
   "cell_type": "code",
   "execution_count": null,
   "metadata": {},
   "outputs": [],
   "source": [
    "print 'znot: ', znot\n",
    "print 'q: ', q \n",
    "print 'p: ', p \n",
    "print 'T: ', T\n",
    "print 'a: ', a"
   ]
  },
  {
   "cell_type": "code",
   "execution_count": null,
   "metadata": {
    "collapsed": true
   },
   "outputs": [],
   "source": [
    "#t,D = psi1(-.03, 10, .05, .049) expected values\n",
    "#D = D*.0006, p is still off weirdly by about 1. (it's p +1... why?)"
   ]
  }
 ],
 "metadata": {
  "anaconda-cloud": {},
  "kernelspec": {
   "display_name": "Python [conda env:py3k]",
   "language": "python",
   "name": "conda-env-py3k-py"
  },
  "language_info": {
   "codemirror_mode": {
    "name": "ipython",
    "version": 3
   },
   "file_extension": ".py",
   "mimetype": "text/x-python",
   "name": "python",
   "nbconvert_exporter": "python",
   "pygments_lexer": "ipython3",
   "version": "3.5.2"
  }
 },
 "nbformat": 4,
 "nbformat_minor": 1
}
