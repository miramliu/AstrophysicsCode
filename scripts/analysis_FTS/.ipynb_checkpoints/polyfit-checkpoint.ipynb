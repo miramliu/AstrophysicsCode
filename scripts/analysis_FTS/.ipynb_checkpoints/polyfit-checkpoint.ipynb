{
 "cells": [
  {
   "cell_type": "code",
   "execution_count": null,
   "metadata": {
    "collapsed": true
   },
   "outputs": [],
   "source": [
    "x = [2, 4, 5, 7.1, 11, 14, 22.3, 35.5, 51,7, 61.3, 79.6, 96.5]\n",
    "y = [53.5, 60.7, 63.8, 60.3, 47.2, 43, 27.8, 13.8, 7.7, 4.3, 2.9, 2.1]"
   ]
  }
 ],
 "metadata": {
  "kernelspec": {
   "display_name": "Python 2",
   "language": "python",
   "name": "python2"
  },
  "language_info": {
   "codemirror_mode": {
    "name": "ipython",
    "version": 2
   },
   "file_extension": ".py",
   "mimetype": "text/x-python",
   "name": "python",
   "nbconvert_exporter": "python",
   "pygments_lexer": "ipython2",
   "version": "2.7.11"
  }
 },
 "nbformat": 4,
 "nbformat_minor": 0
}
