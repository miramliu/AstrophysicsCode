{
 "cells": [
  {
   "cell_type": "markdown",
   "metadata": {},
   "source": [
    "attempt 3 to do demodulation because other ones aren't running\n",
    "has been concluded that I hate how python changes. \n",
    "\n",
    "Mira\n",
    "\n",
    "Stuff added for CMB poster\n",
    "\n"
   ]
  },
  {
   "cell_type": "code",
   "execution_count": 1,
   "metadata": {},
   "outputs": [
    {
     "name": "stdout",
     "output_type": "stream",
     "text": [
      "Using matplotlib backend: MacOSX\n"
     ]
    }
   ],
   "source": [
    "import numpy as np\n",
    "import matplotlib\n",
    "import matplotlib.pyplot as pl\n",
    "#%matplotlib inline\n",
    "import pickle\n",
    "import sys\n",
    "import numpy as np\n",
    "import scipy.optimize as op\n",
    "from scipy.optimize import curve_fit\n",
    "%matplotlib auto"
   ]
  },
  {
   "cell_type": "code",
   "execution_count": 2,
   "metadata": {
    "collapsed": true
   },
   "outputs": [],
   "source": [
    "with open( '../../data/raw_data/20170615_1658_2mms_90DHW_chopped.pkl' , 'rb') as f:\n",
    "    d = pickle.load(f, encoding='latin1') "
   ]
  },
  {
   "cell_type": "markdown",
   "metadata": {
    "collapsed": true
   },
   "source": [
    "with open( '../../data/raw_data/20170615_1726_30mms_chopped_reference.pkl' , 'rb') as f:\n",
    "    d = pickle.load(f, encoding='latin1') "
   ]
  },
  {
   "cell_type": "code",
   "execution_count": 3,
   "metadata": {},
   "outputs": [
    {
     "name": "stdout",
     "output_type": "stream",
     "text": [
      "3199\n"
     ]
    }
   ],
   "source": [
    "matplotlib.rcParams.update({'font.size': 12})\n",
    "i =22\n",
    "Nsize = 2**i\n",
    "dt=(1/(d['sample freq'])) #period\n",
    "T1=dt*(Nsize) #full period\n",
    "v=(d['speed'])\n",
    "X = v*T1 #full distance\n",
    "dx = dt*v #smallest amount of distance travelled\n",
    "total_t = (d['scan time']) #how long it ran\n",
    "    \n",
    "total_s = (d['samples requested']) #number of samples \n",
    "startpt = ((total_s - Nsize)/2) #starting point\n",
    "\n",
    "\n",
    "endpt = startpt + Nsize #ending point\n",
    "startpt = int(startpt)\n",
    "endpt = int(endpt)\n",
    "\n",
    "df = 1/T1\n",
    "f = df*np.arange(Nsize/2)+df/2.0\n",
    "fFull = df*np.arange((Nsize/2) + 1)+df/2.0\n",
    "\n",
    "\n",
    "y = (d['sig0F'])\n",
    "D1 = y[startpt:endpt]\n",
    "\n",
    "#D = np.flipud(D)\n",
    "\n",
    "a = d['delay0F']/v# not divided by v\n",
    "t = a[startpt:endpt]\n",
    "\n",
    "#fig = pl.figure(1)\n",
    "#pl.plot(t,D1) #cut off\n",
    "#pl.plot(a,y)\n",
    "#pl.show()\n",
    "print(np.shape(D1)[0])"
   ]
  },
  {
   "cell_type": "code",
   "execution_count": 4,
   "metadata": {
    "collapsed": true
   },
   "outputs": [],
   "source": [
    "f, ax10 = pl.subplots(1,1)\n",
    "t1 = [x + .007 for x in t]\n",
    "ax10.plot(t1,D1*5, label ='Modulated\\nInterferogram', color = 'teal')\n",
    "ax10.set_xlabel('Delay (mm)')\n",
    "ax10.set_ylabel('Signal (Arb)')\n",
    "#ax10.legend()\n",
    "ax10.set_title('Chopped Interferogram')\n",
    "pl.show()"
   ]
  },
  {
   "cell_type": "code",
   "execution_count": 5,
   "metadata": {
    "collapsed": true
   },
   "outputs": [],
   "source": [
    "def maxX(x,y):\n",
    "    maxy = max(y)\n",
    "    maxx = x[y.argmax()]  # Find the x value corresponding to the maximum y value\n",
    "    return 300*maxx, maxy, y.argmax()"
   ]
  },
  {
   "cell_type": "code",
   "execution_count": 6,
   "metadata": {},
   "outputs": [
    {
     "name": "stdout",
     "output_type": "stream",
     "text": [
      "sample frequency is  64.0\n",
      "1.65939331055\n"
     ]
    }
   ],
   "source": [
    "D = np.hanning(int(np.shape(D1)[0]))*D1\n",
    "S = np.fft.rfft(D)\n",
    "S = S[0:-1]\n",
    "u = np.abs(S)\n",
    "dNu = 1/(Nsize*dx)\n",
    "Nu = dNu*np.arange(Nsize/2)\n",
    "\n",
    "i1 = 8\n",
    "Nsize1 = 2**i1\n",
    "startpt1 = (maxX(Nu,u)[2]- (Nsize1)/2)\n",
    "endpt1 = startpt1 + Nsize1 #ending point\n",
    "startpt1 = int(startpt1)\n",
    "endpt1 = int(endpt1)\n",
    "\n",
    "pl.plot(300*Nu[startpt1:endpt1], u[startpt1:endpt1], label = 'modulated spectrum')\n",
    "pl.title('Original modulated spectrum')\n",
    "#pl.xlim(0,2000)\n",
    "pl.xlabel('GHz')\n",
    "pl.ylabel('Arb')\n",
    "pl.axvline(x = maxX(Nu,u)[0], color = 'green', label = 'max')\n",
    "pl.legend()\n",
    "pl.show()\n",
    "fs = d['sample freq']\n",
    "print ('sample frequency is ', fs)\n",
    "x = maxX(Nu,u)[0]\n",
    "print (x)\n",
    "\n",
    "#pl.plot(300*Nu[startpt1:endpt1], u[startpt1:endpt1], label = 'modulated spectrum')\n",
    "#pl.title('Original modulated spectrum')\n",
    "#pl.xlim(2000,2400)\n",
    "#pl.xlabel('GHz?')\n",
    "#pl.ylabel('Arb')\n",
    "#pl.axvline(x = maxX(Nu,u)[0], color = 'green', label = 'max')\n",
    "\n",
    "#location of the maximum on the x axis"
   ]
  },
  {
   "cell_type": "code",
   "execution_count": 7,
   "metadata": {
    "collapsed": true
   },
   "outputs": [],
   "source": [
    "#and cut off (to be a power of 2)  \n",
    "# set peak at middle then shift it to zero \n",
    "# then use np.fft.shift to cyclically shift\n",
    "uNew1 = (np.fft.ifftshift(u[startpt1:endpt1]))\n",
    "pl.plot(300*Nu[startpt1:endpt1],uNew1, label = 'Cyclically Rotated Spectrum')\n",
    "pl.plot(300*Nu[startpt1:endpt1],np.hanning(Nsize1), label = 'Hanning Function')\n",
    "pl.xlabel('Ghz')\n",
    "pl.ylabel('Arb')\n",
    "pl.title('Demodulating')\n",
    "pl.legend()\n",
    "pl.show()\n",
    "\n",
    "#EXPLAINING LOWER PLOT"
   ]
  },
  {
   "cell_type": "code",
   "execution_count": 8,
   "metadata": {
    "collapsed": true
   },
   "outputs": [],
   "source": [
    "uNew = (np.fft.ifftshift(u[startpt1:endpt1]*np.hanning(Nsize1)))\n",
    "pl.plot(300*Nu[startpt1:endpt1],uNew*np.hanning(Nsize1), label = 'Resulting Spectrum')\n",
    "pl.title('cyclic shift')\n",
    "pl.xlabel('Ghz')\n",
    "pl.ylabel('Arb')\n",
    "pl.legend()\n",
    "pl.show()"
   ]
  },
  {
   "cell_type": "markdown",
   "metadata": {},
   "source": [
    "NuShift = 300*Nu-2175.0\n",
    "pl.plot(NuShift[startpt1:endpt1], u[startpt1:endpt1], label = 'shifted spectrum')\n",
    "pl.title('shifted modulated spectrum')\n",
    "pl.xlim(0,2000)\n",
    "pl.xlabel('GHz?')\n",
    "pl.ylabel('Arb')\n",
    "\n",
    "print (maxX(Nu,u)) #x,y and the \n"
   ]
  },
  {
   "cell_type": "code",
   "execution_count": 9,
   "metadata": {},
   "outputs": [
    {
     "name": "stderr",
     "output_type": "stream",
     "text": [
      "/Users/Lab/anaconda/envs/py3/lib/python3.6/site-packages/numpy/core/numeric.py:531: ComplexWarning: Casting complex values to real discards the imaginary part\n",
      "  return array(a, dtype, copy=False, order=order)\n"
     ]
    },
    {
     "data": {
      "text/plain": [
       "2943"
      ]
     },
     "execution_count": 9,
     "metadata": {},
     "output_type": "execute_result"
    }
   ],
   "source": [
    "dmod = np.fft.ifft(uNew*np.hanning(Nsize1))\n",
    "#print ((len(t)) - len(abs(np.fft.fftshift(dmod))))\n",
    "t2 = t[:-2943]\n",
    "#len(t2)\n",
    "pl.plot(t2,dmod)\n",
    "pl.title('Inverse Fourier Transformed')\n",
    "len(dmod)\n",
    "len(t) - len(dmod)"
   ]
  },
  {
   "cell_type": "markdown",
   "metadata": {},
   "source": [
    "uNew = u[464:] #the shifted spectrum\n",
    "dmod = np.fft.ifft(uNew)\n",
    "#print (len(dmod))\n",
    "#print (len(t))\n",
    "#print (len(t[:-1079]))\n",
    "t2 = t[:-1079]\n",
    "#pl.plot(t2,np.sin(t2*1.6 - .2)*.01 +.018 ) #guess of sin function that fits\n",
    "pl.plot(dmod)\n",
    "pl.title ('guessed values')\n",
    "pl.show()"
   ]
  },
  {
   "cell_type": "code",
   "execution_count": 10,
   "metadata": {
    "collapsed": true
   },
   "outputs": [],
   "source": [
    "def sine(x,f,A,thet,off):\n",
    "    return np.sin(x *f + thet)*A + off"
   ]
  },
  {
   "cell_type": "code",
   "execution_count": 11,
   "metadata": {},
   "outputs": [
    {
     "data": {
      "text/plain": [
       "256"
      ]
     },
     "execution_count": 11,
     "metadata": {},
     "output_type": "execute_result"
    }
   ],
   "source": [
    "len(abs(np.fft.fftshift(dmod)))"
   ]
  },
  {
   "cell_type": "code",
   "execution_count": 12,
   "metadata": {},
   "outputs": [
    {
     "name": "stderr",
     "output_type": "stream",
     "text": [
      "/Users/Lab/anaconda/envs/py3/lib/python3.6/site-packages/numpy/core/numeric.py:531: ComplexWarning: Casting complex values to real discards the imaginary part\n",
      "  return array(a, dtype, copy=False, order=order)\n"
     ]
    }
   ],
   "source": [
    "#np.sin(t2*1.6 - .2)*.01 +.018 #frequency, phase, amplitude, offset\n",
    "#p0 = [1.6, -.2, .01, .018]\n",
    "#popt, pcov = curve_fit(sine,t2,abs(np.fft.fftshift(dmod)), p0 = p0)\n",
    "t3 = ([x+28 for x in t2])\n",
    "pl.plot(t3,np.fft.fftshift(dmod), label = 'demodulated')\n",
    "#pl.plot(t2,sine(t2,*popt), color = 'green', label = 'fit')\n",
    "#pl.ylim(0,.5)\n",
    "pl.legend()\n",
    "pl.title('Demodulated Interferogram')\n",
    "pl.show() #minimum should be at 0\n",
    "#print (popt[3])"
   ]
  },
  {
   "cell_type": "code",
   "execution_count": 13,
   "metadata": {},
   "outputs": [
    {
     "name": "stdout",
     "output_type": "stream",
     "text": [
      "Using matplotlib backend: MacOSX\n"
     ]
    }
   ],
   "source": [
    "%matplotlib\n",
    "f, (ax1, ax2) = pl.subplots(1,2)\n",
    "ax1.plot(t,D1, label ='Modulated\\nInterferogram', color = 'teal', linewidth = .5)\n",
    "ax1.set_xlabel('Delay (mm)')\n",
    "ax1.set_ylabel('Sig (mV)')\n",
    "ax1.legend()\n",
    "ax1.set_title('Chopped Interferogram')\n",
    "ax2.plot(300*Nu[startpt1:endpt1], u[startpt1:endpt1], label = 'Modulated\\nSpectrum', color = 'teal')\n",
    "ax2.set_title('Spectrum')\n",
    "ax2.set_ylabel('Power (Arb)')\n",
    "ax2.legend()\n",
    "#ax2.set_xlim(2000,2400)\n",
    "ax2.set_xlabel('Frequency (GHz)')\n",
    "pl.tight_layout()\n",
    "pl.show()\n"
   ]
  },
  {
   "cell_type": "code",
   "execution_count": 14,
   "metadata": {
    "collapsed": true
   },
   "outputs": [],
   "source": [
    "f, ax9 = pl.subplots(1,1)\n",
    "ax9.plot(300*Nu[startpt1:endpt1], u[startpt1:endpt1], label = 'Spectrum Main Lobe', color = 'teal')\n",
    "ax9.set_title('Spectrum Peak')\n",
    "ax9.set_xlim(2000,2400)\n",
    "ax9.set_xlabel('Frequency (GHz)')\n",
    "ax9.set_ylabel('Power (Arb)')\n",
    "ax9.axvline(x = maxX(Nu,u)[0], linestyle = '--', color = 'lime', label = 'Max')\n",
    "ax9.legend()\n",
    "pl.tight_layout()\n",
    "pl.show()\n"
   ]
  },
  {
   "cell_type": "code",
   "execution_count": 15,
   "metadata": {
    "collapsed": true
   },
   "outputs": [],
   "source": [
    "f, (ax3,ax4) = pl.subplots(1,2)\n",
    "ax3.plot(uNew1, color = 'teal', label = 'Cyclically Shifted\\nSpectrum')\n",
    "ax3.plot(np.hanning(Nsize1), color = 'purple', label = 'Appropriate\\nHanning Function')\n",
    "ax3.set_title('Cyclically Shifted Spectrum (CSS)')\n",
    "ax3.set_ylim(0,4)\n",
    "ax3.legend()\n",
    "\n",
    "ax4.plot(uNew*np.hanning(Nsize1), label = 'Shifted', color = 'teal')\n",
    "ax4.set_title('Product of CSS and Hanning func (CSSH)')\n",
    "ax4.legend()\n",
    "pl.tight_layout()\n",
    "pl.show()"
   ]
  },
  {
   "cell_type": "code",
   "execution_count": 16,
   "metadata": {},
   "outputs": [
    {
     "name": "stderr",
     "output_type": "stream",
     "text": [
      "/Users/Lab/anaconda/envs/py3/lib/python3.6/site-packages/numpy/core/numeric.py:531: ComplexWarning: Casting complex values to real discards the imaginary part\n",
      "  return array(a, dtype, copy=False, order=order)\n"
     ]
    }
   ],
   "source": [
    "f, (ax5, ax6) = pl.subplots(1,2)\n",
    "ax5.plot(t2,dmod, color = 'teal')\n",
    "ax5.set_title('Inverse Fourier Transform of CSSH (IFT)')\n",
    "ax5.set_xlabel('Delay (mm)')\n",
    "ax6.plot(t3,np.fft.fftshift(dmod), color = 'teal')\n",
    "ax6.set_title('Cyclically Shifted IFT')\n",
    "ax6.set_xlabel('Delay(mm)')\n",
    "pl.tight_layout()\n",
    "pl.show()"
   ]
  },
  {
   "cell_type": "code",
   "execution_count": 17,
   "metadata": {},
   "outputs": [
    {
     "name": "stderr",
     "output_type": "stream",
     "text": [
      "/Users/Lab/anaconda/envs/py3/lib/python3.6/site-packages/numpy/core/numeric.py:531: ComplexWarning: Casting complex values to real discards the imaginary part\n",
      "  return array(a, dtype, copy=False, order=order)\n"
     ]
    }
   ],
   "source": [
    "f, (ax7, ax8) = pl.subplots(1,2)\n",
    "ax7.plot(t,D1, linewidth = .5, color = 'teal')\n",
    "ax7.set_title('Interferogram')\n",
    "ax7.set_xlabel('Delay (mm)')\n",
    "ax7.set_ylabel('Sig (mV)')\n",
    "t4 = [x - 5. for x in t3]\n",
    "ax8.plot(t4,np.fft.fftshift(dmod), color = 'teal')\n",
    "ax8.set_title('Interferogram')\n",
    "ax8.set_xlabel('Delay(mm)')\n",
    "ax8.set_ylabel('Sig (mV)')\n",
    "ax8.set_xlim(-1,1)\n",
    "pl.tight_layout()\n",
    "pl.show()"
   ]
  },
  {
   "cell_type": "markdown",
   "metadata": {},
   "source": [
    "#np.sin(t2*1.6 - .2)*.01 +.018 #frequency, phase, amplitude, offset\n",
    "p0 = [1.6, -.2, .01, .018]\n",
    "t3 = [x + 14 for x in t2]\n",
    "popt, pcov = curve_fit(sine,t2,abs(dmod), p0 = p0)\n",
    "pl.plot(t3,np.fft.fftshift(dmod)*np.hanning(256), label = 'demodulated')\n",
    "pl.ylim(0,.5)\n",
    "pl.legend()\n",
    "pl.title('Shifted Demodulated Spectrum')\n",
    "pl.show() #minimum should be at 0"
   ]
  },
  {
   "cell_type": "markdown",
   "metadata": {
    "collapsed": true
   },
   "source": [
    "f, ax9 = pl.subplots(1,1)\n",
    "ax9.plot(t,D1, linewidth = .5)\n",
    "ax9.set_xlim(10,10.2)\n",
    "pl.show()"
   ]
  },
  {
   "cell_type": "code",
   "execution_count": 18,
   "metadata": {
    "collapsed": true
   },
   "outputs": [],
   "source": [
    "f, (ax9, ax10) = pl.subplots(1,2)\n",
    "\n",
    "#plots for thesis presentation\n",
    "ax9.plot(300*Nu[startpt1:endpt1], u[startpt1:endpt1], label = 'modulated\\nspectrum')\n",
    "ax9.set_title('Original modulated spectrum')\n",
    "#pl.xlim(0,2000)\n",
    "ax9.set_xlabel('GHz')\n",
    "ax9.set_ylabel('Arb')\n",
    "ax9.axvline(x = maxX(Nu,u)[0], color = 'green', label = 'max')\n",
    "ax9.legend()\n",
    "\n",
    "ax10.plot(300*Nu[startpt1:endpt1],uNew1, label = 'Cyclically Rotated')\n",
    "ax10.plot(300*Nu[startpt1:endpt1],np.hanning(Nsize1), label = 'Hanning ')\n",
    "ax10.set_xlabel('Ghz')\n",
    "ax10.set_ylabel('Arb')\n",
    "ax10.set_title('Demodulating')\n",
    "ax10.legend()\n",
    "pl.show()"
   ]
  },
  {
   "cell_type": "code",
   "execution_count": 19,
   "metadata": {},
   "outputs": [
    {
     "name": "stderr",
     "output_type": "stream",
     "text": [
      "/Users/Lab/anaconda/envs/py3/lib/python3.6/site-packages/numpy/core/numeric.py:531: ComplexWarning: Casting complex values to real discards the imaginary part\n",
      "  return array(a, dtype, copy=False, order=order)\n"
     ]
    }
   ],
   "source": [
    "f, (ax11, ax12) = pl.subplots(1,2)\n",
    "ax11.plot(300*Nu[startpt1:endpt1],uNew*np.hanning(Nsize1), label = 'Resulting\\nSpectrum')\n",
    "ax11.set_title('cyclic shift')\n",
    "ax11.set_xlabel('Ghz')\n",
    "ax11.set_ylabel('Arb')\n",
    "ax11.legend()\n",
    "\n",
    "ax12.plot(t2,dmod, label = 'FT of Resulting\\nSpectrum')\n",
    "ax12.set_title('Inverse Fourier Transformed')\n",
    "ax12.set_xlabel('Delay (mm)')\n",
    "ax12.set_ylabel('Signal (Arb)')\n",
    "ax12.legend()\n",
    "pl.tight_layout()\n",
    "pl.show()"
   ]
  },
  {
   "cell_type": "code",
   "execution_count": null,
   "metadata": {
    "collapsed": true
   },
   "outputs": [],
   "source": []
  }
 ],
 "metadata": {
  "anaconda-cloud": {},
  "kernelspec": {
   "display_name": "Python 3",
   "language": "python",
   "name": "python3"
  },
  "language_info": {
   "codemirror_mode": {
    "name": "ipython",
    "version": 3
   },
   "file_extension": ".py",
   "mimetype": "text/x-python",
   "name": "python",
   "nbconvert_exporter": "python",
   "pygments_lexer": "ipython3",
   "version": "3.6.1"
  }
 },
 "nbformat": 4,
 "nbformat_minor": 1
}
