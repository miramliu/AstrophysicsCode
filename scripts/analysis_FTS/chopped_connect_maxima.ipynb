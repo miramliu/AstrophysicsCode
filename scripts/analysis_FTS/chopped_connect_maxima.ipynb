{
 "cells": [
  {
   "cell_type": "code",
<<<<<<< .mine
   "execution_count": 1,
=======
   "execution_count": 52,
>>>>>>> .r466
   "metadata": {
    "collapsed": false
   },
   "outputs": [
    {
     "name": "stdout",
     "output_type": "stream",
     "text": [
      "Using matplotlib backend: MacOSX\n",
      "Populating the interactive namespace from numpy and matplotlib\n"
     ]
    },
    {
     "ename": "UnicodeDecodeError",
     "evalue": "'ascii' codec can't decode byte 0x8d in position 2: ordinal not in range(128)",
     "output_type": "error",
     "traceback": [
      "\u001b[0;31m---------------------------------------------------------------------------\u001b[0m",
      "\u001b[0;31mUnicodeDecodeError\u001b[0m                        Traceback (most recent call last)",
      "\u001b[0;32m<ipython-input-1-0f6707678404>\u001b[0m in \u001b[0;36m<module>\u001b[0;34m()\u001b[0m\n\u001b[1;32m      9\u001b[0m \u001b[0;34m\u001b[0m\u001b[0m\n\u001b[1;32m     10\u001b[0m \u001b[0mfile1\u001b[0m\u001b[0;34m=\u001b[0m\u001b[0mopen\u001b[0m\u001b[0;34m(\u001b[0m \u001b[0;34m'../../data/raw_data/20160923_1617_20160923_largestaperture_2cms_chopperon.pkl'\u001b[0m \u001b[0;34m,\u001b[0m \u001b[0;34m'rb'\u001b[0m\u001b[0;34m)\u001b[0m\u001b[0;34m\u001b[0m\u001b[0m\n\u001b[0;32m---> 11\u001b[0;31m \u001b[0md1\u001b[0m\u001b[0;34m=\u001b[0m\u001b[0mpickle\u001b[0m\u001b[0;34m.\u001b[0m\u001b[0mload\u001b[0m\u001b[0;34m(\u001b[0m\u001b[0mfile1\u001b[0m\u001b[0;34m)\u001b[0m\u001b[0;34m\u001b[0m\u001b[0m\n\u001b[0m\u001b[1;32m     12\u001b[0m \u001b[0mfile1\u001b[0m\u001b[0;34m.\u001b[0m\u001b[0mclose\u001b[0m\u001b[0;34m(\u001b[0m\u001b[0;34m)\u001b[0m\u001b[0;34m\u001b[0m\u001b[0m\n\u001b[1;32m     13\u001b[0m \u001b[0;34m\u001b[0m\u001b[0m\n",
      "\u001b[0;31mUnicodeDecodeError\u001b[0m: 'ascii' codec can't decode byte 0x8d in position 2: ordinal not in range(128)"
     ]
    }
   ],
   "source": [
    "%pylab\n",
    "import matplotlib.pyplot as pl\n",
    "import pickle\n",
    "import numpy as np\n",
    "import sys\n",
    "from scipy.signal import argrelextrema\n",
    "from scipy import loadtxt, optimize\n",
    "#%matplotlib inline\n",
    "from scipy.optimize import curve_fit\n",
    "# %matplotlib qt\n",
    "\n",
    "file1=open( '../../data/raw_data/20160923_1617_20160923_largestaperture_2cms_chopperon.pkl' , 'rb')\n",
    "d1=pickle.load(file1)\n",
    "file1.close()\n",
    " \n",
    "file2=open( '../../data/raw_data/20160330_1849_90A5DHW_ref_chopped_13Hz.pkl' , 'rb')\n",
    "d2=pickle.load(file2)\n",
    "file2.close()\n",
    "\n",
    "#file3=open( '../../data/raw_data/AP025_chop.pkl' , 'rb')\n",
    "#d3=pickle.load(file3)\n",
    "#file3.close()"
   ]
  },
  {
   "cell_type": "code",
   "execution_count": 53,
   "metadata": {
    "collapsed": true
   },
   "outputs": [],
   "source": [
    "#Flat mirror new septum\n",
    "X1=d1['delay0F']\n",
    "Y1=d1['sig0F']\n",
    "\n",
    "X2=d2['delay0F']\n",
    "Y2=d2['sig0F']\n",
    "\n",
    "# X3=d3['delay0F']\n",
    "# Y3=d3['sig0F']"
   ]
  },
  {
   "cell_type": "code",
   "execution_count": 54,
   "metadata": {
    "collapsed": false
   },
   "outputs": [],
   "source": [
    "'Interferograms'\n",
    "\n",
    "# #fig1=figure()\n",
    "# pl.plot(X1,abs(Y1),label='line', color='k')\n",
    "\n",
    "# #pl.xlim(-30,30)\n",
    "# pl.title('Interferogram with Filter')\n",
    "# pl.ylabel('Signal')\n",
    "# pl.xlabel('Delay')\n",
    "# pl.legend(loc='lower right')\n",
    "# pl.show()\n",
    "\n",
    "fig2=figure()\n",
    "pl.plot(X1,Y1, color='k')\n",
    "\n",
    "#pl.xlim(-1,1)\n",
    "pl.title('Interferogram with Filter')\n",
    "pl.ylabel('Signal')\n",
    "pl.xlabel('Delay')\n",
    "#pl.xlim(-65,65)\n",
    "pl.legend(loc='lower right')\n",
    "#pl.show()\n",
    "\n",
    "# fig3=figure()\n",
    "# pl.plot(X3,Y3,label='line', color='k')\n",
    "\n",
    "# #pl.xlim(-5,5)\n",
    "# pl.title('Interferogram with Filter')\n",
    "# pl.ylabel('Signal')\n",
    "# pl.xlabel('Delay')\n",
    "# pl.legend(loc='lower right')\n",
    "# #pl.show()\n"
   ]
  },
  {
   "cell_type": "code",
   "execution_count": 40,
   "metadata": {
    "collapsed": false
   },
   "outputs": [
    {
     "data": {
      "text/plain": [
       "<matplotlib.legend.Legend at 0x32989588>"
      ]
     },
     "execution_count": 40,
     "metadata": {},
     "output_type": "execute_result"
    }
   ],
   "source": [
    "'Find and connect all local maxima and minima'\n",
    "\n",
    "maxm1 = argrelextrema(Y1, np.greater)\n",
    "min1 = argrelextrema(Y1, np.less)\n",
    "\n",
    "#fig3=figure()\n",
    "pl.plot(X1[maxm1],Y1[maxm1],label='line', color='k')\n",
    "\n",
    "pl.title('Interferogram with Maximas Connected')\n",
    "pl.ylabel('Signal')\n",
    "pl.xlabel('Delay')\n",
    "\n",
    "pl.legend(loc='lower right')\n",
    "\n"
   ]
  },
  {
   "cell_type": "code",
   "execution_count": 55,
   "metadata": {
    "collapsed": false
   },
   "outputs": [
    {
     "data": {
      "text/plain": [
       "(0.025, 0.055)"
      ]
     },
     "execution_count": 55,
     "metadata": {},
     "output_type": "execute_result"
    }
   ],
   "source": [
    "'ignore central part of the maxima, fit into a spline'\n",
    "xmax=np.array(X1[maxm1])\n",
    "ymax=np.array(Y1[maxm1])\n",
    "ind= np.concatenate([np.where(xmax<-3)[0], np.where(xmax>2)[0]])\n",
    "#fig4=figure()\n",
    "pl.plot(xmax[ind][1:], ymax[ind][1:],color='k')\n",
    "from scipy.interpolate import UnivariateSpline\n",
    "spl= UnivariateSpline(xmax[ind][5:], ymax[ind][5:], s=0.1)\n",
    "x=np.linspace(-57,63.,200)\n",
    "y=spl(x)\n",
    "pl.plot(x,y,color='r',label='envelope')\n",
    "pl.title('Fitting the Envelope')\n",
    "pl.ylabel('Signal')\n",
    "pl.xlabel('Delay')\n",
    "pl.legend(loc='lower right')\n",
    "pl.xlim(-60,65)\n",
    "pl.ylim(0.025,0.055)\n",
    "\n"
   ]
  },
  {
   "cell_type": "code",
   "execution_count": 42,
   "metadata": {
    "collapsed": false,
    "scrolled": false
   },
   "outputs": [
    {
     "name": "stdout",
     "output_type": "stream",
     "text": [
      "[  3.82613492e-02  -6.38274444e-06   5.45500820e-09  -1.00359687e+01]\n"
     ]
    },
    {
     "data": {
      "text/plain": [
       "(0.025, 0.055)"
      ]
     },
     "execution_count": 42,
     "metadata": {},
     "output_type": "execute_result"
    }
   ],
   "source": [
    "'Now try fitting into a cosine series'\n",
    "xmax=np.array(X1[maxm1])\n",
    "ymax=np.array(Y1[maxm1])\n",
    "ind= np.concatenate([np.where(xmax<-3)[0], np.where(xmax>13)[0]])\n",
    "#fig4=figure()\n",
    "pl.plot(xmax[ind][5:], ymax[ind][5:],color='k')\n",
    "\n",
    "\n",
    "'fit into cosine series to get the envelope'\n",
    "def func(x,a,b,c,d):\n",
    "    return a+b*(x-d)**2/2+c*(x-d)**4/24\n",
    "\n",
    "popt, pcov = curve_fit(func, xmax[:-10], ymax[:-10])\n",
    "\n",
    "pl.plot(xmax[:-10],func(xmax[:-10],*popt))\n",
    "print popt\n",
    "pl.title('Fitting the Envelope')\n",
    "pl.ylabel('Signal')\n",
    "pl.xlabel('Delay')\n",
    "pl.legend(loc='lower right')\n",
    "pl.xlim(-60,65)\n",
    "pl.ylim(0.025,0.055)\n",
    "\n",
    "\n",
    "\n",
    "\n"
   ]
  },
  {
   "cell_type": "code",
   "execution_count": 56,
   "metadata": {
    "collapsed": false
   },
   "outputs": [
    {
     "data": {
      "text/plain": [
       "numpy.ndarray"
      ]
     },
     "execution_count": 56,
     "metadata": {},
     "output_type": "execute_result"
    }
   ],
   "source": [
    "'Plot interferogram without the envelope'\n",
    "env =  func(xmax[:-10],3.81196628e-02,-6.71397101e-06,6.51981844e-09,-9.91733886e+00)\n",
    "pl.plot(xmax[:-10], ymax[:-10]/env,color='k')\n",
    "pl.title('No Envelope')\n",
    "pl.ylabel('Signal')\n",
    "pl.xlabel('Delay')\n",
    "pl.legend(loc='lower right')\n",
    "type (env)"
   ]
  },
  {
   "cell_type": "code",
   "execution_count": 20,
   "metadata": {
    "collapsed": false
   },
   "outputs": [
    {
     "ename": "ValueError",
     "evalue": "operands could not be broadcast together with shapes (3957,) (95,) ",
     "output_type": "error",
     "traceback": [
      "\u001b[0;31m---------------------------------------------------------------------------\u001b[0m",
      "\u001b[0;31mValueError\u001b[0m                                Traceback (most recent call last)",
      "\u001b[0;32m<ipython-input-20-6d23d028b9c1>\u001b[0m in \u001b[0;36m<module>\u001b[0;34m()\u001b[0m\n\u001b[1;32m      2\u001b[0m \u001b[1;33m\u001b[0m\u001b[0m\n\u001b[1;32m      3\u001b[0m \u001b[0mfig5\u001b[0m\u001b[1;33m=\u001b[0m\u001b[0mfigure\u001b[0m\u001b[1;33m(\u001b[0m\u001b[1;33m)\u001b[0m\u001b[1;33m\u001b[0m\u001b[0m\n\u001b[0;32m----> 4\u001b[0;31m \u001b[0mpl\u001b[0m\u001b[1;33m.\u001b[0m\u001b[0mplot\u001b[0m\u001b[1;33m(\u001b[0m\u001b[0mX1\u001b[0m\u001b[1;33m,\u001b[0m\u001b[0mY1\u001b[0m\u001b[1;33m/\u001b[0m\u001b[0menv\u001b[0m\u001b[1;33m,\u001b[0m\u001b[0mlabel\u001b[0m\u001b[1;33m=\u001b[0m\u001b[1;34m'line'\u001b[0m\u001b[1;33m,\u001b[0m \u001b[0mcolor\u001b[0m\u001b[1;33m=\u001b[0m\u001b[1;34m'k'\u001b[0m\u001b[1;33m)\u001b[0m\u001b[1;33m\u001b[0m\u001b[0m\n\u001b[0m\u001b[1;32m      5\u001b[0m \u001b[1;33m\u001b[0m\u001b[0m\n\u001b[1;32m      6\u001b[0m \u001b[1;31m#pl.xlim(-1,1)\u001b[0m\u001b[1;33m\u001b[0m\u001b[1;33m\u001b[0m\u001b[0m\n",
      "\u001b[0;31mValueError\u001b[0m: operands could not be broadcast together with shapes (3957,) (95,) "
     ]
    }
   ],
   "source": [
    "'Plot Chopped interferogram without Envelope, does not work with cosine fit'\n",
    "\n",
    "fig5=figure()\n",
    "pl.plot(X1,Y1/env,label='line', color='k')\n",
    "\n",
    "#pl.xlim(-1,1)\n",
    "pl.title('Interferogram no Envelope')\n",
    "pl.ylabel('Signal')\n",
    "pl.xlabel('Delay')\n",
    "pl.xlim(-65,65)\n",
    "pl.legend(loc='lower right')\n",
    "#pl.show()"
   ]
  },
  {
   "cell_type": "code",
   "execution_count": 57,
   "metadata": {
    "collapsed": false
   },
   "outputs": [],
   "source": [
    "'Plot chopped interferogram without envelope, works with spline'\n",
    "pl.plot(X1,Y1/spl(X1),label='line', color='k')\n",
    "\n",
    "#pl.xlim(-1,1)\n",
    "pl.title('Interferogram no Envelope')\n",
    "pl.ylabel('Signal')\n",
    "pl.xlabel('Delay')\n",
    "#pl.xlim(-65,65)\n",
    "pl.legend(loc='lower right')\n",
    "pl.show()"
   ]
  },
  {
   "cell_type": "code",
   "execution_count": 47,
   "metadata": {
    "collapsed": false
   },
   "outputs": [
    {
     "data": {
      "text/plain": [
       "numpy.ndarray"
      ]
     },
     "execution_count": 47,
     "metadata": {},
     "output_type": "execute_result"
    }
   ],
   "source": [
    "# int = X1[maxm1]+X1[min1]\n",
    "# print int\n",
    "# type(int)\n",
    "pl.plot(X1[min1],Y1[min1],label='line', color='k')\n",
    "pl.plot(X1[maxm1],Y1[maxm1],label='line', color='k')\n",
    "z = Y1[maxm1]\n",
    "type(z)\n",
    "# t = X1[min1]\n",
    "\n",
    "# w = maxm1 + min1\n",
    "\n",
    "#pl.plot(X1[w],Y1[w], color='k')"
   ]
  },
  {
   "cell_type": "code",
   "execution_count": 58,
   "metadata": {
    "collapsed": false
   },
   "outputs": [],
   "source": [
    "from scipy.interpolate import interp1d\n",
    "import pylab as pl\n",
    "xmax=np.array(X1[maxm1])\n",
    "ymax=np.array(Y1[maxm1])\n",
    "xmin=np.array(X1[min1])\n",
    "ymin= np.array(Y1[min1])\n",
    "maxfunc=interp1d(xmax, ymax)\n",
    "minfunc=interp1d(xmin, ymin)\n",
    "x=np.linspace(max(min(xmax),min(xmin)), min(max(xmax), max(xmin)), 2*len(xmax))\n",
    "ydiff= maxfunc(x)-minfunc(x)\n",
    "ydiff_divided= ydiff/spl(x)\n",
    "#pl.plot(ydiff)\n",
    "pl.plot(ydiff_divided, color='k')\n",
    "#pl.xlim(0,1400)\n",
    "#pl.ylim(0,2.6)\n",
    "pl.ylabel('Signal')\n",
    "pl.xlabel('Delay')\n",
    "#pl.xlim(-65,65)\n",
    "pl.legend(loc='lower right')\n",
    "#pl.plot(xmax+xmin,ymax+ymin,label='line', color='k')"
   ]
  },
  {
   "cell_type": "code",
   "execution_count": 49,
   "metadata": {
    "collapsed": false
   },
   "outputs": [
    {
     "name": "stdout",
     "output_type": "stream",
     "text": [
      "-0.0509040835136\n"
     ]
    }
   ],
   "source": [
    "'Find Contrast'\n",
    "I_inf = np.average(ydiff_divided)\n",
    "I_zero = np.amin(ydiff_divided)\n",
    "\n",
    "#Using Shoemaker's Formula\n",
    "contrast = 2*(1-I_inf/I_zero)\n",
    "print contrast #BUT THIS IS FOR A SYMMETRIC OUTPUT!!!"
   ]
  },
  {
   "cell_type": "code",
   "execution_count": 50,
   "metadata": {
    "collapsed": false
   },
   "outputs": [
    {
     "name": "stdout",
     "output_type": "stream",
     "text": [
      "-0.104467067183\n"
     ]
    }
   ],
   "source": [
    "'Contrast with New Formula'\n",
    "contr=2*(1-I_inf/(2*I_zero-I_inf))\n",
    "print contr"
   ]
  },
  {
   "cell_type": "code",
   "execution_count": 59,
   "metadata": {
    "collapsed": false
   },
   "outputs": [
    {
     "name": "stdout",
     "output_type": "stream",
     "text": [
      "0.0248203140862\n"
     ]
    }
   ],
   "source": [
    "con = (-I_zero+I_inf)/I_inf\n",
    "print con"
   ]
  },
  {
   "cell_type": "code",
   "execution_count": null,
   "metadata": {
    "collapsed": true
   },
   "outputs": [],
   "source": []
  }
 ],
 "metadata": {
  "anaconda-cloud": {},
  "kernelspec": {
   "display_name": "Python [conda root]",
   "language": "python",
   "name": "conda-root-py"
  },
  "language_info": {
   "codemirror_mode": {
    "name": "ipython",
    "version": 3
   },
   "file_extension": ".py",
   "mimetype": "text/x-python",
   "name": "python",
   "nbconvert_exporter": "python",
   "pygments_lexer": "ipython3",
   "version": "3.5.3"
  }
 },
 "nbformat": 4,
 "nbformat_minor": 1
}
