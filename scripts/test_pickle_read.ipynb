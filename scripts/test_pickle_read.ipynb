{
 "cells": [
  {
   "cell_type": "markdown",
   "metadata": {},
   "source": [
    "###Binary command trial###"
   ]
  },
  {
   "cell_type": "code",
   "execution_count": 1,
   "metadata": {
    "collapsed": false
   },
   "outputs": [
    {
     "name": "stdout",
     "output_type": "stream",
     "text": [
      "Using matplotlib backend: Qt4Agg\n",
      "Populating the interactive namespace from numpy and matplotlib\n"
     ]
    }
   ],
   "source": [
    "%pylab\n",
    "import serial, sys, time, glob, struct\n",
    "string=\" \"\n",
    "\n",
    "def send(device, command, data=0):\n",
    "   # send a packet using the specified device number, command number, and data\n",
    "   # The data argument is optional and defaults to zero\n",
    "   packet = struct.pack('BBi', device, command, data)\n",
    "   ser.write(packet)\n",
    "\n",
    "def receive():\n",
    "   # return 6 bytes from the receive buffer\n",
    "   # there must be 6 bytes to receive (no error checking)\n",
    "   r = [0,0,0,0,0,0]\n",
    "   for i in range (6):\n",
    "       r[i] = ord(ser.read(1))\n",
    "   return r\n"
   ]
  },
  {
   "cell_type": "code",
   "execution_count": 2,
   "metadata": {
    "collapsed": false
   },
   "outputs": [
    {
     "data": {
      "text/plain": [
       "'\\x01\\x00\\x00\\x00\\x00\\x00\\x00\\x00'"
      ]
     },
     "execution_count": 2,
     "metadata": {},
     "output_type": "execute_result"
    }
   ],
   "source": [
    "device=1\n",
    "command=0\n",
    "data=0\n",
    "p=struct.pack('BBi',device,command,data)\n",
    "p"
   ]
  },
  {
   "cell_type": "code",
   "execution_count": 3,
   "metadata": {
    "collapsed": false
   },
   "outputs": [
    {
     "name": "stdout",
     "output_type": "stream",
     "text": [
      "Opening /dev/cu.usbmodem1411\n"
     ]
    }
   ],
   "source": [
    "# open serial port\n",
    "# replace \"/dev/ttyUSB0\" with \"COM1\", \"COM2\", etc in Windows\n",
    "try:\n",
    "   ser = serial.Serial(\"/dev/cu.usbmodem1411\", 115200, 8, 'N', 1, timeout=5)   \n",
    "except:\n",
    "   print(\"Error opening com port. Quitting.\")\n",
    "   sys.exit(0)\n",
    "print(\"Opening \" + ser.portstr)"
   ]
  },
  {
   "cell_type": "code",
   "execution_count": 4,
   "metadata": {
    "collapsed": false
   },
   "outputs": [
    {
     "data": {
      "text/plain": [
       "Serial<id=0x114368690, open=True>(port='/dev/cu.usbmodem1411', baudrate=115200, bytesize=8, parity='N', stopbits=1, timeout=5, xonxoff=False, rtscts=False, dsrdtr=False)"
      ]
     },
     "execution_count": 4,
     "metadata": {},
     "output_type": "execute_result"
    }
   ],
   "source": [
    "ser"
   ]
  },
  {
   "cell_type": "code",
   "execution_count": 23,
   "metadata": {
    "collapsed": false
   },
   "outputs": [
    {
     "name": "stdout",
     "output_type": "stream",
     "text": [
      "Sending instruction. Device: 1, Command: 124, Data: 115200\n",
      "Receiving reply [1, 255, 124, 0, 0, 0]\n",
      "Device number: 1\n",
      "Command number: 255\n",
      "Supply voltage: 12.4V\n"
     ]
    }
   ],
   "source": [
    "device = 1\n",
    "command = 124\n",
    "data = 115200\n",
    "print('Sending instruction. Device: %i, Command: %i, Data: %i' % (device, command, data))\n",
    "send(device, command, data)\n",
    "time.sleep(1) # wait for 1 second\n",
    "try:\n",
    "   reply = receive()\n",
    "   # Reply data is calculated from all reply bytes\n",
    "   replyData = (256.0**3.0*reply[5]) + (256.0**2.0*reply[4]) + (256.0*reply[3]) + (reply[2])\n",
    "   if reply[5] > 127:\n",
    "      replyData -= 256.0**4\n",
    "   \n",
    "   print(\"Receiving reply \" + str(reply))\n",
    "   print(\"Device number: \" + str(reply[0]))\n",
    "   print(\"Command number: \" +  str(reply[1]))\n",
    "   print(\"Supply voltage: \" + str(replyData/10) + \"V\") # Supply voltage must be divided by ten\n",
    "except:\n",
    "   print(\"No reply was received.\")"
   ]
  },
  {
   "cell_type": "code",
   "execution_count": null,
   "metadata": {
    "collapsed": true
   },
   "outputs": [],
   "source": []
  },
  {
   "cell_type": "code",
   "execution_count": 25,
   "metadata": {
    "collapsed": false
   },
   "outputs": [],
   "source": [
    "ser.close()"
   ]
  },
  {
   "cell_type": "code",
   "execution_count": null,
   "metadata": {
    "collapsed": true
   },
   "outputs": [],
   "source": []
  }
 ],
 "metadata": {
  "kernelspec": {
   "display_name": "Python 2",
   "language": "python",
   "name": "python2"
  },
  "language_info": {
   "codemirror_mode": {
    "name": "ipython",
    "version": 2
   },
   "file_extension": ".py",
   "mimetype": "text/x-python",
   "name": "python",
   "nbconvert_exporter": "python",
   "pygments_lexer": "ipython2",
   "version": "2.7.6"
  }
 },
 "nbformat": 4,
 "nbformat_minor": 0
}
